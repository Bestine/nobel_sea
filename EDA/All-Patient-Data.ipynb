{
 "cells": [
  {
   "cell_type": "markdown",
   "id": "92a77f22",
   "metadata": {},
   "source": [
    "**Load the required libraries and data set**"
   ]
  },
  {
   "cell_type": "code",
   "execution_count": 1,
   "id": "72748aee",
   "metadata": {},
   "outputs": [],
   "source": [
    "# Load libraries \n",
    "import pandas as pd \n",
    "import numpy as np\n",
    "from matplotlib import pyplot as plt \n",
    "import seaborn as sns "
   ]
  },
  {
   "cell_type": "code",
   "execution_count": 2,
   "id": "a567c609",
   "metadata": {},
   "outputs": [],
   "source": [
    "# Load the data \n",
    "df = pd.read_csv(\"../data/All patients data.csv\")"
   ]
  },
  {
   "cell_type": "markdown",
   "id": "ddc7c856",
   "metadata": {},
   "source": [
    "## Data Assessment "
   ]
  },
  {
   "cell_type": "code",
   "execution_count": 3,
   "id": "73cf2e2a",
   "metadata": {},
   "outputs": [
    {
     "data": {
      "text/html": [
       "<div>\n",
       "<style scoped>\n",
       "    .dataframe tbody tr th:only-of-type {\n",
       "        vertical-align: middle;\n",
       "    }\n",
       "\n",
       "    .dataframe tbody tr th {\n",
       "        vertical-align: top;\n",
       "    }\n",
       "\n",
       "    .dataframe thead th {\n",
       "        text-align: right;\n",
       "    }\n",
       "</style>\n",
       "<table border=\"1\" class=\"dataframe\">\n",
       "  <thead>\n",
       "    <tr style=\"text-align: right;\">\n",
       "      <th></th>\n",
       "      <th>Contact Id</th>\n",
       "      <th>Business Name</th>\n",
       "      <th>Company Name</th>\n",
       "      <th>Phone</th>\n",
       "      <th>Email</th>\n",
       "      <th>Assigned</th>\n",
       "      <th>Leads Source</th>\n",
       "      <th>Inquiry Stage Time Stamp</th>\n",
       "      <th>Pre-Intake Consult Booked (Unconfirmed) Time Stamp</th>\n",
       "      <th>Pre-Intake Consult Confirmed Time Stamp</th>\n",
       "      <th>...</th>\n",
       "      <th>How did they hear about us (Add Details)</th>\n",
       "      <th>If you heard of us from your Psychiatrist / Therapist / Provider, what is their name?</th>\n",
       "      <th>Lost Reason / Objection</th>\n",
       "      <th>Lost Reason / Objection (Add Details)</th>\n",
       "      <th>Existing Patient Churn Reason</th>\n",
       "      <th>Churn Reason (Add Details)</th>\n",
       "      <th>Contact Type</th>\n",
       "      <th>Chart number</th>\n",
       "      <th>Additional Emails</th>\n",
       "      <th>Additional Phones</th>\n",
       "    </tr>\n",
       "  </thead>\n",
       "  <tbody>\n",
       "    <tr>\n",
       "      <th>0</th>\n",
       "      <td>9nGs958IFdLhtgqgr5LR</td>\n",
       "      <td>NaN</td>\n",
       "      <td>NaN</td>\n",
       "      <td>17328009923</td>\n",
       "      <td>NaN</td>\n",
       "      <td>NaN</td>\n",
       "      <td>Organic</td>\n",
       "      <td>NaN</td>\n",
       "      <td>NaN</td>\n",
       "      <td>NaN</td>\n",
       "      <td>...</td>\n",
       "      <td>NaN</td>\n",
       "      <td>NaN</td>\n",
       "      <td>NaN</td>\n",
       "      <td>NaN</td>\n",
       "      <td>NaN</td>\n",
       "      <td>NaN</td>\n",
       "      <td>Patient</td>\n",
       "      <td>NaN</td>\n",
       "      <td>NaN</td>\n",
       "      <td>NaN</td>\n",
       "    </tr>\n",
       "    <tr>\n",
       "      <th>1</th>\n",
       "      <td>9flgLrcriMeskadSH4Fc</td>\n",
       "      <td>NaN</td>\n",
       "      <td>NaN</td>\n",
       "      <td>NaN</td>\n",
       "      <td>srlpatent@gmail.com</td>\n",
       "      <td>Sohaila A</td>\n",
       "      <td>Organic</td>\n",
       "      <td>NaN</td>\n",
       "      <td>NaN</td>\n",
       "      <td>NaN</td>\n",
       "      <td>...</td>\n",
       "      <td>NaN</td>\n",
       "      <td>NaN</td>\n",
       "      <td>NaN</td>\n",
       "      <td>NaN</td>\n",
       "      <td>NaN</td>\n",
       "      <td>NaN</td>\n",
       "      <td>Patient</td>\n",
       "      <td>NaN</td>\n",
       "      <td>NaN</td>\n",
       "      <td>NaN</td>\n",
       "    </tr>\n",
       "    <tr>\n",
       "      <th>2</th>\n",
       "      <td>7uNBbl1FNjUG0FMEIJ5G</td>\n",
       "      <td>NaN</td>\n",
       "      <td>NaN</td>\n",
       "      <td>17814797572</td>\n",
       "      <td>NaN</td>\n",
       "      <td>Sohaila A</td>\n",
       "      <td>Organic</td>\n",
       "      <td>Nov 21st, 2024</td>\n",
       "      <td>Nov 21st, 2024</td>\n",
       "      <td>Nov 21st, 2024</td>\n",
       "      <td>...</td>\n",
       "      <td>NaN</td>\n",
       "      <td>Peter Tomaiolo</td>\n",
       "      <td>NaN</td>\n",
       "      <td>NaN</td>\n",
       "      <td>NaN</td>\n",
       "      <td>NaN</td>\n",
       "      <td>Patient</td>\n",
       "      <td>NaN</td>\n",
       "      <td>NaN</td>\n",
       "      <td>NaN</td>\n",
       "    </tr>\n",
       "    <tr>\n",
       "      <th>3</th>\n",
       "      <td>cjZSxqEmsuTTpKm98Zri</td>\n",
       "      <td>NaN</td>\n",
       "      <td>NaN</td>\n",
       "      <td>14133219570</td>\n",
       "      <td>houle81505@gmail.com</td>\n",
       "      <td>Sohaila A</td>\n",
       "      <td>Organic</td>\n",
       "      <td>Nov 21st, 2024</td>\n",
       "      <td>NaN</td>\n",
       "      <td>NaN</td>\n",
       "      <td>...</td>\n",
       "      <td>NaN</td>\n",
       "      <td>NaN</td>\n",
       "      <td>NaN</td>\n",
       "      <td>NaN</td>\n",
       "      <td>NaN</td>\n",
       "      <td>NaN</td>\n",
       "      <td>Patient</td>\n",
       "      <td>NaN</td>\n",
       "      <td>NaN</td>\n",
       "      <td>NaN</td>\n",
       "    </tr>\n",
       "    <tr>\n",
       "      <th>4</th>\n",
       "      <td>W0Ybs0fNG5fWPKGZZiws</td>\n",
       "      <td>NaN</td>\n",
       "      <td>NaN</td>\n",
       "      <td>14135887511</td>\n",
       "      <td>NaN</td>\n",
       "      <td>Sohaila A</td>\n",
       "      <td>Organic</td>\n",
       "      <td>NaN</td>\n",
       "      <td>NaN</td>\n",
       "      <td>NaN</td>\n",
       "      <td>...</td>\n",
       "      <td>NaN</td>\n",
       "      <td>NaN</td>\n",
       "      <td>NaN</td>\n",
       "      <td>NaN</td>\n",
       "      <td>NaN</td>\n",
       "      <td>NaN</td>\n",
       "      <td>Patient</td>\n",
       "      <td>NaN</td>\n",
       "      <td>NaN</td>\n",
       "      <td>NaN</td>\n",
       "    </tr>\n",
       "  </tbody>\n",
       "</table>\n",
       "<p>5 rows × 33 columns</p>\n",
       "</div>"
      ],
      "text/plain": [
       "             Contact Id Business Name Company Name        Phone  \\\n",
       "0  9nGs958IFdLhtgqgr5LR           NaN          NaN  17328009923   \n",
       "1  9flgLrcriMeskadSH4Fc           NaN          NaN          NaN   \n",
       "2  7uNBbl1FNjUG0FMEIJ5G           NaN          NaN  17814797572   \n",
       "3  cjZSxqEmsuTTpKm98Zri           NaN          NaN  14133219570   \n",
       "4  W0Ybs0fNG5fWPKGZZiws           NaN          NaN  14135887511   \n",
       "\n",
       "                  Email   Assigned Leads Source Inquiry Stage Time Stamp  \\\n",
       "0                   NaN        NaN      Organic                      NaN   \n",
       "1   srlpatent@gmail.com  Sohaila A      Organic                      NaN   \n",
       "2                   NaN  Sohaila A      Organic           Nov 21st, 2024   \n",
       "3  houle81505@gmail.com  Sohaila A      Organic           Nov 21st, 2024   \n",
       "4                   NaN  Sohaila A      Organic                      NaN   \n",
       "\n",
       "  Pre-Intake Consult Booked (Unconfirmed) Time Stamp  \\\n",
       "0                                                NaN   \n",
       "1                                                NaN   \n",
       "2                                     Nov 21st, 2024   \n",
       "3                                                NaN   \n",
       "4                                                NaN   \n",
       "\n",
       "  Pre-Intake Consult Confirmed Time Stamp  ...  \\\n",
       "0                                     NaN  ...   \n",
       "1                                     NaN  ...   \n",
       "2                          Nov 21st, 2024  ...   \n",
       "3                                     NaN  ...   \n",
       "4                                     NaN  ...   \n",
       "\n",
       "  How did they hear about us (Add Details)  \\\n",
       "0                                      NaN   \n",
       "1                                      NaN   \n",
       "2                                      NaN   \n",
       "3                                      NaN   \n",
       "4                                      NaN   \n",
       "\n",
       "  If you heard of us from your Psychiatrist / Therapist / Provider, what is their name?  \\\n",
       "0                                                NaN                                      \n",
       "1                                                NaN                                      \n",
       "2                                     Peter Tomaiolo                                      \n",
       "3                                                NaN                                      \n",
       "4                                                NaN                                      \n",
       "\n",
       "  Lost Reason / Objection Lost Reason / Objection (Add Details)  \\\n",
       "0                     NaN                                   NaN   \n",
       "1                     NaN                                   NaN   \n",
       "2                     NaN                                   NaN   \n",
       "3                     NaN                                   NaN   \n",
       "4                     NaN                                   NaN   \n",
       "\n",
       "  Existing Patient Churn Reason Churn Reason (Add Details) Contact Type  \\\n",
       "0                           NaN                        NaN      Patient   \n",
       "1                           NaN                        NaN      Patient   \n",
       "2                           NaN                        NaN      Patient   \n",
       "3                           NaN                        NaN      Patient   \n",
       "4                           NaN                        NaN      Patient   \n",
       "\n",
       "  Chart number Additional Emails Additional Phones  \n",
       "0          NaN               NaN               NaN  \n",
       "1          NaN               NaN               NaN  \n",
       "2          NaN               NaN               NaN  \n",
       "3          NaN               NaN               NaN  \n",
       "4          NaN               NaN               NaN  \n",
       "\n",
       "[5 rows x 33 columns]"
      ]
     },
     "execution_count": 3,
     "metadata": {},
     "output_type": "execute_result"
    }
   ],
   "source": [
    "df.head()"
   ]
  },
  {
   "cell_type": "code",
   "execution_count": 4,
   "id": "2b703ca1",
   "metadata": {},
   "outputs": [
    {
     "name": "stdout",
     "output_type": "stream",
     "text": [
      "<class 'pandas.core.frame.DataFrame'>\n",
      "RangeIndex: 11314 entries, 0 to 11313\n",
      "Data columns (total 33 columns):\n",
      " #   Column                                                                                 Non-Null Count  Dtype  \n",
      "---  ------                                                                                 --------------  -----  \n",
      " 0   Contact Id                                                                             11314 non-null  object \n",
      " 1   Business Name                                                                          13 non-null     object \n",
      " 2   Company Name                                                                           1 non-null      object \n",
      " 3   Phone                                                                                  9779 non-null   object \n",
      " 4   Email                                                                                  8700 non-null   object \n",
      " 5   Assigned                                                                               11274 non-null  object \n",
      " 6   Leads Source                                                                           11314 non-null  object \n",
      " 7   Inquiry Stage Time Stamp                                                               10577 non-null  object \n",
      " 8   Pre-Intake Consult Booked (Unconfirmed) Time Stamp                                     2536 non-null   object \n",
      " 9   Pre-Intake Consult Confirmed Time Stamp                                                181 non-null    object \n",
      " 10  Pre-Intake Consult Cancelled Stage Time Stamp                                          881 non-null    object \n",
      " 11  Pre-Intake Consult No Show Stage Time Stamp                                            142 non-null    object \n",
      " 12  Pre-Intake Consult Complete Time Stamp                                                 1673 non-null   object \n",
      " 13  Intake Booked Time Stamp                                                               1418 non-null   object \n",
      " 14  Intake Complete Time Stamp                                                             578 non-null    object \n",
      " 15  1st Treatment Booked Time Stamp                                                        342 non-null    object \n",
      " 16  Completed 1st Treatment Time Stamp                                                     311 non-null    object \n",
      " 17  First Date Opportunity Created                                                         6486 non-null   object \n",
      " 18  Churn Date Timestamp                                                                   54 non-null     object \n",
      " 19  Pre-Intake Consult Coordinator                                                         1928 non-null   object \n",
      " 20  Location                                                                               9076 non-null   object \n",
      " 21  Comments                                                                               3411 non-null   object \n",
      " 22  How Did You First Hear About Us?                                                       5970 non-null   object \n",
      " 23  How did they hear about us (Add Details)                                               747 non-null    object \n",
      " 24  If you heard of us from your Psychiatrist / Therapist / Provider, what is their name?  118 non-null    object \n",
      " 25  Lost Reason / Objection                                                                1049 non-null   object \n",
      " 26  Lost Reason / Objection (Add Details)                                                  776 non-null    object \n",
      " 27  Existing Patient Churn Reason                                                          52 non-null     object \n",
      " 28  Churn Reason (Add Details)                                                             30 non-null     object \n",
      " 29  Contact Type                                                                           11314 non-null  object \n",
      " 30  Chart number                                                                           2646 non-null   float64\n",
      " 31  Additional Emails                                                                      150 non-null    object \n",
      " 32  Additional Phones                                                                      55 non-null     object \n",
      "dtypes: float64(1), object(32)\n",
      "memory usage: 2.8+ MB\n"
     ]
    }
   ],
   "source": [
    "df.info()"
   ]
  },
  {
   "cell_type": "code",
   "execution_count": 5,
   "id": "b58402e1",
   "metadata": {},
   "outputs": [
    {
     "data": {
      "text/plain": [
       "Assigned\n",
       "Sohaila A            5709\n",
       "Catherine Laplant    2295\n",
       "Chara Cummings       1779\n",
       "Adriana Moreno       1182\n",
       "Kahlila Muller        137\n",
       "Divanni Nova           69\n",
       "Brendan O'Connor       68\n",
       "Chrystin Comeau        20\n",
       "Anny Giraldo           10\n",
       "Herb Muhuri             2\n",
       "Kelly Mounts            2\n",
       "Kaitlin O'Donnell       1\n",
       "Name: count, dtype: int64"
      ]
     },
     "execution_count": 5,
     "metadata": {},
     "output_type": "execute_result"
    }
   ],
   "source": [
    "df[\"Assigned\"].value_counts()"
   ]
  },
  {
   "cell_type": "code",
   "execution_count": 6,
   "id": "29240800",
   "metadata": {},
   "outputs": [
    {
     "data": {
      "text/plain": [
       "Leads Source\n",
       "Organic        9186\n",
       "Paid Search    1228\n",
       "Paid Social     900\n",
       "Name: count, dtype: int64"
      ]
     },
     "execution_count": 6,
     "metadata": {},
     "output_type": "execute_result"
    }
   ],
   "source": [
    "df[\"Leads Source\"].value_counts()"
   ]
  },
  {
   "cell_type": "code",
   "execution_count": 7,
   "id": "13b38ae9",
   "metadata": {},
   "outputs": [
    {
     "data": {
      "text/plain": [
       "Location\n",
       "Cambridge    6053\n",
       "Amherst      1944\n",
       "Beverly       813\n",
       "cambridge     195\n",
       "beverly        38\n",
       "amherst        33\n",
       "Name: count, dtype: int64"
      ]
     },
     "execution_count": 7,
     "metadata": {},
     "output_type": "execute_result"
    }
   ],
   "source": [
    "df[\"Location\"].value_counts()"
   ]
  },
  {
   "cell_type": "code",
   "execution_count": 8,
   "id": "b9942994",
   "metadata": {},
   "outputs": [
    {
     "data": {
      "text/plain": [
       "Contact Type\n",
       "Patient                  11313\n",
       "Patient,Family Member        1\n",
       "Name: count, dtype: int64"
      ]
     },
     "execution_count": 8,
     "metadata": {},
     "output_type": "execute_result"
    }
   ],
   "source": [
    "df[\"Contact Type\"].value_counts()"
   ]
  },
  {
   "cell_type": "code",
   "execution_count": 9,
   "id": "3dd7d28b",
   "metadata": {},
   "outputs": [
    {
     "data": {
      "text/plain": [
       "8668"
      ]
     },
     "execution_count": 9,
     "metadata": {},
     "output_type": "execute_result"
    }
   ],
   "source": [
    "df[\"Chart number\"].isna().sum()"
   ]
  },
  {
   "cell_type": "markdown",
   "id": "b18da9f8",
   "metadata": {},
   "source": [
    "The analysis was aborted mid-way due to: \n",
    "\n",
    "- Many null values in the data set. (Missing values)\n",
    "- Some variables like the \"Contact\" has one value that dominated the entire data set. \n",
    "- Chart number did not cover every patient therefore it was not enough to reference it with the appointments data.\n",
    "\n",
    "Here is what was to be analyzed if the data was complete;\n",
    "\n",
    "- How lead source affected drop in MH infusions. Is more campaign needed to bring in more patient? \n",
    "- Is there need for SEO to bring in more customers.\n",
    "- Did a particular care team member led to churning of more patient? (This can be investigated internally if such an issue is found)"
   ]
  }
 ],
 "metadata": {
  "kernelspec": {
   "display_name": "Python 3 (ipykernel)",
   "language": "python",
   "name": "python3"
  },
  "language_info": {
   "codemirror_mode": {
    "name": "ipython",
    "version": 3
   },
   "file_extension": ".py",
   "mimetype": "text/x-python",
   "name": "python",
   "nbconvert_exporter": "python",
   "pygments_lexer": "ipython3",
   "version": "3.11.5"
  }
 },
 "nbformat": 4,
 "nbformat_minor": 5
}
