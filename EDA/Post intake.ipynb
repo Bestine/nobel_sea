{
 "cells": [
  {
   "cell_type": "markdown",
   "id": "54665615",
   "metadata": {},
   "source": [
    "**Load the required libraries and data**"
   ]
  },
  {
   "cell_type": "code",
   "execution_count": 1,
   "id": "bcb1b476",
   "metadata": {},
   "outputs": [],
   "source": [
    "# Libraries\n",
    "import pandas as pd \n",
    "import numpy as np\n",
    "from matplotlib import pyplot as plt \n",
    "import seaborn as sns "
   ]
  },
  {
   "cell_type": "code",
   "execution_count": 2,
   "id": "8bd73617",
   "metadata": {},
   "outputs": [
    {
     "name": "stderr",
     "output_type": "stream",
     "text": [
      "/tmp/ipykernel_121724/1929627687.py:2: DtypeWarning: Columns (0,3,14) have mixed types. Specify dtype option on import or set low_memory=False.\n",
      "  appointment_df = pd.read_csv(\"../data/Appointments List.csv\",\n"
     ]
    }
   ],
   "source": [
    "# Data  \n",
    "appointment_df = pd.read_csv(\"../data/Appointments List.csv\", \n",
    "                             encoding='UTF-16', delimiter=\"\\t\")"
   ]
  },
  {
   "cell_type": "markdown",
   "id": "7a4b1dc1",
   "metadata": {},
   "source": [
    "# Explanatory Data Analysis\n",
    "## Data Preparation"
   ]
  },
  {
   "cell_type": "code",
   "execution_count": 3,
   "id": "815a2dc3",
   "metadata": {},
   "outputs": [
    {
     "data": {
      "text/html": [
       "<div>\n",
       "<style scoped>\n",
       "    .dataframe tbody tr th:only-of-type {\n",
       "        vertical-align: middle;\n",
       "    }\n",
       "\n",
       "    .dataframe tbody tr th {\n",
       "        vertical-align: top;\n",
       "    }\n",
       "\n",
       "    .dataframe thead th {\n",
       "        text-align: right;\n",
       "    }\n",
       "</style>\n",
       "<table border=\"1\" class=\"dataframe\">\n",
       "  <thead>\n",
       "    <tr style=\"text-align: right;\">\n",
       "      <th></th>\n",
       "      <th>Appointment UID</th>\n",
       "      <th>Appt Status Description</th>\n",
       "      <th>Date Of Service</th>\n",
       "      <th>Chartnumber</th>\n",
       "      <th>NurseName</th>\n",
       "      <th>FirstTreatmentApptInd</th>\n",
       "      <th>Appt Type Group</th>\n",
       "      <th>Appt Type</th>\n",
       "      <th>Created By</th>\n",
       "      <th>Provider</th>\n",
       "      <th>Facility City</th>\n",
       "      <th>Room</th>\n",
       "      <th>Column Heading</th>\n",
       "      <th>#</th>\n",
       "      <th>Count of tblAppointments</th>\n",
       "      <th>Patient FID</th>\n",
       "    </tr>\n",
       "  </thead>\n",
       "  <tbody>\n",
       "    <tr>\n",
       "      <th>0</th>\n",
       "      <td>Grand Total</td>\n",
       "      <td>Total</td>\n",
       "      <td>Total</td>\n",
       "      <td>Total</td>\n",
       "      <td>Total</td>\n",
       "      <td>Total</td>\n",
       "      <td>Total</td>\n",
       "      <td>Total</td>\n",
       "      <td>Total</td>\n",
       "      <td>Total</td>\n",
       "      <td>Total</td>\n",
       "      <td>Total</td>\n",
       "      <td>Total</td>\n",
       "      <td>Total</td>\n",
       "      <td>55,975</td>\n",
       "      <td>*</td>\n",
       "    </tr>\n",
       "    <tr>\n",
       "      <th>1</th>\n",
       "      <td>1</td>\n",
       "      <td>Made</td>\n",
       "      <td>01/01/00</td>\n",
       "      <td>NaN</td>\n",
       "      <td>NaN</td>\n",
       "      <td>N</td>\n",
       "      <td>Default</td>\n",
       "      <td>NaN</td>\n",
       "      <td>system</td>\n",
       "      <td>,</td>\n",
       "      <td>NaN</td>\n",
       "      <td>Other</td>\n",
       "      <td>NaN</td>\n",
       "      <td>1</td>\n",
       "      <td>1</td>\n",
       "      <td>1</td>\n",
       "    </tr>\n",
       "    <tr>\n",
       "      <th>2</th>\n",
       "      <td>109</td>\n",
       "      <td>Seen</td>\n",
       "      <td>01/22/18</td>\n",
       "      <td>1</td>\n",
       "      <td>NaN</td>\n",
       "      <td>N</td>\n",
       "      <td>Intake</td>\n",
       "      <td>TMS INTAKE DR. BRENNER</td>\n",
       "      <td>EMILY</td>\n",
       "      <td>BRENNER,DANIEL A</td>\n",
       "      <td>CAMBRIDGE</td>\n",
       "      <td>Other</td>\n",
       "      <td>DR. BRENNER</td>\n",
       "      <td>2</td>\n",
       "      <td>1</td>\n",
       "      <td>5,283</td>\n",
       "    </tr>\n",
       "    <tr>\n",
       "      <th>3</th>\n",
       "      <td>239</td>\n",
       "      <td>Seen</td>\n",
       "      <td>01/22/18</td>\n",
       "      <td>2</td>\n",
       "      <td>NaN</td>\n",
       "      <td>N</td>\n",
       "      <td>MH Infusion</td>\n",
       "      <td>KETAMINE MH -INFUSION ONLY</td>\n",
       "      <td>EMILY</td>\n",
       "      <td>BRENNER,DANIEL A</td>\n",
       "      <td>CAMBRIDGE</td>\n",
       "      <td>Other</td>\n",
       "      <td>2C</td>\n",
       "      <td>3</td>\n",
       "      <td>1</td>\n",
       "      <td>5,286</td>\n",
       "    </tr>\n",
       "    <tr>\n",
       "      <th>4</th>\n",
       "      <td>240</td>\n",
       "      <td>Made</td>\n",
       "      <td>01/22/18</td>\n",
       "      <td>9</td>\n",
       "      <td>NaN</td>\n",
       "      <td>N</td>\n",
       "      <td>Intake</td>\n",
       "      <td>TMS INTAKE DR. BRENNER</td>\n",
       "      <td>EMILY</td>\n",
       "      <td>BRENNER,DANIEL A</td>\n",
       "      <td>CAMBRIDGE</td>\n",
       "      <td>Other</td>\n",
       "      <td>DR. BRENNER</td>\n",
       "      <td>4</td>\n",
       "      <td>1</td>\n",
       "      <td>5,351</td>\n",
       "    </tr>\n",
       "  </tbody>\n",
       "</table>\n",
       "</div>"
      ],
      "text/plain": [
       "  Appointment UID Appt Status Description Date Of Service Chartnumber  \\\n",
       "0     Grand Total                   Total           Total       Total   \n",
       "1               1                    Made        01/01/00         NaN   \n",
       "2             109                    Seen        01/22/18           1   \n",
       "3             239                    Seen        01/22/18           2   \n",
       "4             240                    Made        01/22/18           9   \n",
       "\n",
       "  NurseName FirstTreatmentApptInd Appt Type Group                   Appt Type  \\\n",
       "0     Total                 Total           Total                       Total   \n",
       "1       NaN                     N         Default                         NaN   \n",
       "2       NaN                     N          Intake      TMS INTAKE DR. BRENNER   \n",
       "3       NaN                     N     MH Infusion  KETAMINE MH -INFUSION ONLY   \n",
       "4       NaN                     N          Intake      TMS INTAKE DR. BRENNER   \n",
       "\n",
       "  Created By          Provider Facility City   Room Column Heading      #  \\\n",
       "0      Total             Total         Total  Total          Total  Total   \n",
       "1     system                 ,           NaN  Other            NaN      1   \n",
       "2      EMILY  BRENNER,DANIEL A     CAMBRIDGE  Other    DR. BRENNER      2   \n",
       "3      EMILY  BRENNER,DANIEL A     CAMBRIDGE  Other             2C      3   \n",
       "4      EMILY  BRENNER,DANIEL A     CAMBRIDGE  Other    DR. BRENNER      4   \n",
       "\n",
       "  Count of tblAppointments Patient FID  \n",
       "0                   55,975           *  \n",
       "1                        1           1  \n",
       "2                        1       5,283  \n",
       "3                        1       5,286  \n",
       "4                        1       5,351  "
      ]
     },
     "execution_count": 3,
     "metadata": {},
     "output_type": "execute_result"
    }
   ],
   "source": [
    "appointment_df.head()"
   ]
  },
  {
   "cell_type": "code",
   "execution_count": 4,
   "id": "c5dc5fd1",
   "metadata": {},
   "outputs": [
    {
     "name": "stdout",
     "output_type": "stream",
     "text": [
      "<class 'pandas.core.frame.DataFrame'>\n",
      "RangeIndex: 55976 entries, 0 to 55975\n",
      "Data columns (total 16 columns):\n",
      " #   Column                    Non-Null Count  Dtype \n",
      "---  ------                    --------------  ----- \n",
      " 0   Appointment UID           55976 non-null  object\n",
      " 1   Appt Status Description   55976 non-null  object\n",
      " 2   Date Of Service           37250 non-null  object\n",
      " 3   Chartnumber               55975 non-null  object\n",
      " 4   NurseName                 19321 non-null  object\n",
      " 5   FirstTreatmentApptInd     54678 non-null  object\n",
      " 6   Appt Type Group           54678 non-null  object\n",
      " 7   Appt Type                 54677 non-null  object\n",
      " 8   Created By                55976 non-null  object\n",
      " 9   Provider                  55976 non-null  object\n",
      " 10  Facility City             51738 non-null  object\n",
      " 11  Room                      55976 non-null  object\n",
      " 12  Column Heading            54697 non-null  object\n",
      " 13  #                         55976 non-null  object\n",
      " 14  Count of tblAppointments  55976 non-null  object\n",
      " 15  Patient FID               55976 non-null  object\n",
      "dtypes: object(16)\n",
      "memory usage: 6.8+ MB\n"
     ]
    }
   ],
   "source": [
    "appointment_df.info()"
   ]
  },
  {
   "cell_type": "code",
   "execution_count": 5,
   "id": "f8bb7120",
   "metadata": {},
   "outputs": [],
   "source": [
    "# Drop the first two rows \n",
    "appointment_df.drop(index=[0, 1], inplace=True)"
   ]
  },
  {
   "cell_type": "code",
   "execution_count": 6,
   "id": "8e33735b",
   "metadata": {},
   "outputs": [
    {
     "name": "stderr",
     "output_type": "stream",
     "text": [
      "/tmp/ipykernel_121724/2432676088.py:2: UserWarning: Could not infer format, so each element will be parsed individually, falling back to `dateutil`. To ensure parsing is consistent and as-expected, please specify a format.\n",
      "  appointment_df[\"Date\"] = pd.to_datetime(appointment_df[\"Date Of Service\"], errors=\"coerce\")\n"
     ]
    }
   ],
   "source": [
    "appointment_df[\"Chartnumber\"] = pd.to_numeric(appointment_df[\"Chartnumber\"], errors=\"coerce\")\n",
    "appointment_df[\"Date\"] = pd.to_datetime(appointment_df[\"Date Of Service\"], errors=\"coerce\")"
   ]
  },
  {
   "cell_type": "code",
   "execution_count": 7,
   "id": "76bdae78",
   "metadata": {},
   "outputs": [],
   "source": [
    "# Replace \"Made\" with \"Seen\"\n",
    "appointment_df[\"Appt Status Description\"].replace(to_replace=\"Made\", value=\"Seen\", inplace=True)"
   ]
  },
  {
   "cell_type": "code",
   "execution_count": 8,
   "id": "9c3b6b2e",
   "metadata": {},
   "outputs": [
    {
     "data": {
      "text/plain": [
       "4237"
      ]
     },
     "execution_count": 8,
     "metadata": {},
     "output_type": "execute_result"
    }
   ],
   "source": [
    "appointment_df[\"Facility City\"].isna().sum()"
   ]
  },
  {
   "cell_type": "code",
   "execution_count": 9,
   "id": "98c79bd4",
   "metadata": {},
   "outputs": [
    {
     "name": "stderr",
     "output_type": "stream",
     "text": [
      "/tmp/ipykernel_121724/1807988571.py:1: FutureWarning: DataFrame.backfill/Series.backfill is deprecated. Use DataFrame.bfill/Series.bfill instead\n",
      "  appointment_df[\"Facility City\"] = appointment_df[\"Facility City\"].ffill().backfill()\n"
     ]
    }
   ],
   "source": [
    "appointment_df[\"Facility City\"] = appointment_df[\"Facility City\"].ffill().backfill()"
   ]
  },
  {
   "cell_type": "code",
   "execution_count": 10,
   "id": "cfa9868d",
   "metadata": {},
   "outputs": [
    {
     "data": {
      "text/plain": [
       "0"
      ]
     },
     "execution_count": 10,
     "metadata": {},
     "output_type": "execute_result"
    }
   ],
   "source": [
    "# Confirm if there are still null values\n",
    "appointment_df[\"Facility City\"].isna().sum()"
   ]
  },
  {
   "cell_type": "code",
   "execution_count": 11,
   "id": "f818c596",
   "metadata": {},
   "outputs": [],
   "source": [
    "# Select the successfull appointments(visits)\n",
    "seen_df = appointment_df[appointment_df[\"Appt Status Description\"]==\"Seen\"]\n",
    "\n",
    "# subset the data set \n",
    "subset_columns = [\"Date\", \"Chartnumber\", \"Appt Type Group\", \"Facility City\"]\n",
    "seen_df = seen_df[subset_columns]\n",
    "\n",
    "# Drop any record with null values \n",
    "seen_df.dropna(how=\"any\", inplace=True)"
   ]
  },
  {
   "cell_type": "code",
   "execution_count": 12,
   "id": "3abae711",
   "metadata": {
    "scrolled": true
   },
   "outputs": [
    {
     "data": {
      "text/plain": [
       "0.8556767158434894"
      ]
     },
     "execution_count": 12,
     "metadata": {},
     "output_type": "execute_result"
    }
   ],
   "source": [
    "# Calculate the percentage of patients who start with intake \n",
    "count = 0\n",
    "chart_numbers = seen_df[\"Chartnumber\"].unique()\n",
    "\n",
    "for chart_no in chart_numbers:\n",
    "    # Filter the data set \n",
    "    df_by_chart_no = seen_df[seen_df[\"Chartnumber\"]==chart_no].sort_values(by=\"Date\")\n",
    "    df_by_chart_no.reset_index(drop=True, inplace=True)\n",
    "    \n",
    "    if df_by_chart_no[\"Appt Type Group\"][0]==\"Intake\":\n",
    "        count+=1\n",
    "    else:\n",
    "        pass\n",
    "    \n",
    "# Patients enrolled with an intake    \n",
    "count/seen_df[\"Chartnumber\"].nunique()"
   ]
  },
  {
   "cell_type": "markdown",
   "id": "11391e77",
   "metadata": {},
   "source": [
    "approximately 86% of the patients enrolled with an intake instead of treatment or follow up"
   ]
  },
  {
   "cell_type": "markdown",
   "id": "64961e68",
   "metadata": {},
   "source": [
    "Features/Variables to include in the post intake dataset \n",
    "\n",
    "* Chart number \n",
    "* First Service after enrollment\n",
    "* First Service after intake\n",
    "* Days after intake\n",
    "* Days between MH Infusion and Intake \n",
    "* Number of visits\n",
    "* Number of MH infusions\n",
    "\n",
    "* Number of MH infusions outside cambridge \n",
    "* Number of visits outside cambridge"
   ]
  },
  {
   "cell_type": "code",
   "execution_count": 13,
   "id": "5b6ea296",
   "metadata": {
    "scrolled": true
   },
   "outputs": [
    {
     "name": "stdout",
     "output_type": "stream",
     "text": [
      "118\n",
      "Intake index 1\n",
      "['MH Infusion', 'Intake', 'MH Infusion', 'MH Infusion', 'Follow-Up', 'MH Infusion', 'MH Infusion']\n",
      "        Date  Chartnumber Appt Type Group Facility City\n",
      "0 2018-01-26          118     MH Infusion     CAMBRIDGE\n",
      "1 2018-01-26          118          Intake     CAMBRIDGE\n",
      "2 2018-02-05          118     MH Infusion     CAMBRIDGE\n",
      "3 2018-02-15          118     MH Infusion     CAMBRIDGE\n",
      "4 2020-04-21          118       Follow-Up     CAMBRIDGE\n",
      "5 2020-05-08          118     MH Infusion     CAMBRIDGE\n",
      "6 2020-06-09          118     MH Infusion     CAMBRIDGE\n",
      "24\n",
      "Intake index 13\n",
      "['TMS', 'TMS', 'TMS', 'TMS', 'TMS', 'TMS', 'TMS', 'TMS', 'TMS', 'TMS', 'TMS', 'TMS', 'TMS', 'Intake', 'TMS', 'MH Infusion', 'TMS', 'TMS', 'TMS', 'MH Infusion', 'MH Infusion', 'TMS', 'TMS', 'MH Infusion', 'MH Infusion', 'TMS', 'TMS', 'MH Infusion', 'TMS', 'TMS', 'TMS', 'TMS', 'TMS', 'TMS', 'TMS', 'TMS', 'TMS', 'TMS', 'TMS', 'TMS', 'TMS', 'TMS', 'TMS', 'TMS', 'TMS', 'TMS', 'TMS', 'TMS', 'TMS', 'TMS', 'TMS', 'TMS', 'TMS', 'TMS', 'TMS', 'TMS', 'Follow-Up', 'MH Infusion', 'MH Infusion', 'MH Infusion', 'MH Infusion', 'MH Infusion', 'MH Infusion', 'Follow-Up', 'Follow-Up', 'TMS', 'TMS', 'TMS', 'TMS', 'TMS', 'TMS', 'Follow-Up', 'MH Infusion', 'MH Infusion']\n",
      "         Date  Chartnumber Appt Type Group Facility City\n",
      "0  2018-01-29           24             TMS     CAMBRIDGE\n",
      "1  2018-01-30           24             TMS     CAMBRIDGE\n",
      "2  2018-01-31           24             TMS     CAMBRIDGE\n",
      "3  2018-02-01           24             TMS     CAMBRIDGE\n",
      "4  2018-02-02           24             TMS     CAMBRIDGE\n",
      "..        ...          ...             ...           ...\n",
      "69 2021-12-08           24             TMS     CAMBRIDGE\n",
      "70 2021-12-09           24             TMS     CAMBRIDGE\n",
      "71 2023-12-20           24       Follow-Up     CAMBRIDGE\n",
      "72 2024-01-08           24     MH Infusion     CAMBRIDGE\n",
      "73 2024-01-16           24     MH Infusion     CAMBRIDGE\n",
      "\n",
      "[74 rows x 4 columns]\n",
      "52\n",
      "Intake index 57\n",
      "['MH Infusion', 'MH Infusion', 'MH Infusion', 'MH Infusion', 'MH Infusion', 'MH Infusion', 'MH Infusion', 'MH Infusion', 'MH Infusion', 'MH Infusion', 'Follow-Up', 'MH Infusion', 'MH Infusion', 'MH Infusion', 'MH Infusion', 'MH Infusion', 'MH Infusion', 'MH Infusion', 'MH Infusion', 'TMS', 'TMS', 'TMS', 'TMS', 'TMS', 'TMS', 'TMS', 'TMS', 'TMS', 'TMS', 'TMS', 'TMS', 'TMS', 'TMS', 'TMS', 'TMS', 'TMS', 'TMS', 'TMS', 'TMS', 'TMS', 'TMS', 'TMS', 'TMS', 'TMS', 'TMS', 'TMS', 'Follow-Up', 'TMS', 'TMS', 'TMS', 'TMS', 'TMS', 'TMS', 'TMS', 'TMS', 'TMS', 'TMS', 'Intake', 'MH Infusion', 'Misc.', 'Misc.', 'Misc.', 'Misc.', 'Misc.', 'Misc.', 'Misc.', 'Misc.', 'Misc.', 'Follow-Up', 'TMS', 'TMS', 'TMS', 'TMS', 'TMS', 'TMS', 'TMS', 'TMS', 'TMS', 'TMS', 'TMS', 'TMS', 'TMS', 'TMS', 'TMS', 'TMS', 'TMS', 'TMS', 'TMS', 'TMS', 'TMS', 'TMS', 'TMS', 'TMS', 'TMS', 'TMS', 'TMS', 'TMS', 'TMS', 'TMS', 'TMS', 'Follow-Up', 'TMS', 'TMS', 'TMS', 'TMS', 'TMS', 'TMS', 'TMS', 'TMS', 'TMS', 'TMS', 'TMS', 'TMS', 'TMS', 'TMS', 'TMS', 'TMS', 'TMS', 'TMS', 'TMS', 'TMS', 'TMS', 'TMS', 'TMS', 'Follow-Up', 'TMS', 'TMS', 'TMS', 'TMS', 'TMS', 'TMS', 'TMS', 'TMS', 'TMS', 'TMS', 'TMS', 'TMS', 'TMS', 'TMS', 'TMS', 'TMS', 'TMS', 'TMS']\n",
      "          Date  Chartnumber Appt Type Group Facility City\n",
      "0   2018-02-06           52     MH Infusion     CAMBRIDGE\n",
      "1   2018-02-09           52     MH Infusion     CAMBRIDGE\n",
      "2   2018-03-28           52     MH Infusion     CAMBRIDGE\n",
      "3   2018-04-03           52     MH Infusion     CAMBRIDGE\n",
      "4   2018-04-11           52     MH Infusion     CAMBRIDGE\n",
      "..         ...          ...             ...           ...\n",
      "138 2020-10-27           52             TMS     CAMBRIDGE\n",
      "139 2020-11-02           52             TMS     CAMBRIDGE\n",
      "140 2020-11-10           52             TMS     CAMBRIDGE\n",
      "141 2020-11-17           52             TMS     CAMBRIDGE\n",
      "142 2020-11-24           52             TMS     CAMBRIDGE\n",
      "\n",
      "[143 rows x 4 columns]\n",
      "157\n",
      "Intake index 63\n",
      "['TMS', 'TMS', 'TMS', 'TMS', 'TMS', 'TMS', 'TMS', 'TMS', 'TMS', 'TMS', 'TMS', 'TMS', 'TMS', 'TMS', 'TMS', 'TMS', 'TMS', 'TMS', 'TMS', 'TMS', 'TMS', 'TMS', 'TMS', 'TMS', 'TMS', 'TMS', 'TMS', 'TMS', 'TMS', 'TMS', 'TMS', 'TMS', 'TMS', 'TMS', 'TMS', 'TMS', 'TMS', 'TMS', 'TMS', 'TMS', 'TMS', 'TMS', 'TMS', 'TMS', 'TMS', 'TMS', 'TMS', 'TMS', 'TMS', 'TMS', 'TMS', 'TMS', 'TMS', 'TMS', 'TMS', 'TMS', 'TMS', 'TMS', 'TMS', 'TMS', 'TMS', 'TMS', 'TMS', 'Intake', 'MH Infusion', 'MH Infusion', 'MH Infusion', 'MH Infusion', 'MH Infusion', 'MH Infusion', 'Follow-Up', 'MH Infusion', 'MH Infusion', 'MH Infusion', 'Follow-Up', 'MH Infusion', 'MH Infusion', 'MH Infusion', 'MH Infusion', 'MH Infusion', 'MH Infusion', 'MH Infusion']\n",
      "         Date  Chartnumber Appt Type Group Facility City\n",
      "0  2018-04-12          157             TMS     CAMBRIDGE\n",
      "1  2018-04-13          157             TMS     CAMBRIDGE\n",
      "2  2018-04-17          157             TMS     CAMBRIDGE\n",
      "3  2018-04-18          157             TMS     CAMBRIDGE\n",
      "4  2018-04-19          157             TMS     CAMBRIDGE\n",
      "..        ...          ...             ...           ...\n",
      "77 2020-09-02          157     MH Infusion     CAMBRIDGE\n",
      "78 2020-09-09          157     MH Infusion     CAMBRIDGE\n",
      "79 2020-09-15          157     MH Infusion     CAMBRIDGE\n",
      "80 2020-09-30          157     MH Infusion     CAMBRIDGE\n",
      "81 2020-10-07          157     MH Infusion     CAMBRIDGE\n",
      "\n",
      "[82 rows x 4 columns]\n",
      "231\n",
      "Intake index 8\n",
      "['TMS', 'TMS', 'TMS', 'TMS', 'MH Infusion', 'TMS', 'MH Infusion', 'TMS', 'Intake', 'TMS', 'MH Infusion', 'TMS', 'TMS', 'MH Infusion', 'MH Infusion', 'MH Infusion', 'TMS', 'TMS', 'MH Infusion', 'MH Infusion', 'TMS', 'MH Infusion', 'TMS', 'TMS', 'MH Infusion', 'TMS', 'TMS', 'MH Infusion', 'TMS', 'TMS', 'TMS', 'TMS', 'TMS', 'TMS', 'TMS', 'TMS', 'TMS', 'TMS', 'TMS', 'TMS', 'TMS', 'MH Infusion', 'MH Infusion', 'Follow-Up', 'MH Infusion', 'MH Infusion', 'MH Infusion', 'MH Infusion', 'MH Infusion', 'MH Infusion', 'MH Infusion', 'MH Infusion', 'MH Infusion', 'MH Infusion', 'Follow-Up', 'MH Infusion', 'MH Infusion', 'MH Infusion', 'MH Infusion', 'MH Infusion']\n",
      "         Date  Chartnumber Appt Type Group Facility City\n",
      "0  2018-07-30          231             TMS     CAMBRIDGE\n",
      "1  2018-07-31          231             TMS     CAMBRIDGE\n",
      "2  2018-08-01          231             TMS     CAMBRIDGE\n",
      "3  2018-08-02          231             TMS     CAMBRIDGE\n",
      "4  2018-08-03          231     MH Infusion     CAMBRIDGE\n",
      "5  2018-08-06          231             TMS     CAMBRIDGE\n",
      "6  2018-08-07          231     MH Infusion     CAMBRIDGE\n",
      "7  2018-08-07          231             TMS     CAMBRIDGE\n",
      "8  2018-08-08          231          Intake     CAMBRIDGE\n",
      "9  2018-08-08          231             TMS     CAMBRIDGE\n",
      "10 2018-08-09          231     MH Infusion     CAMBRIDGE\n",
      "11 2018-08-09          231             TMS     CAMBRIDGE\n",
      "12 2018-08-10          231             TMS     CAMBRIDGE\n",
      "13 2018-08-21          231     MH Infusion     CAMBRIDGE\n",
      "14 2018-08-23          231     MH Infusion     CAMBRIDGE\n",
      "15 2018-08-31          231     MH Infusion     CAMBRIDGE\n",
      "16 2018-10-12          231             TMS     CAMBRIDGE\n",
      "17 2018-10-15          231             TMS     CAMBRIDGE\n",
      "18 2018-10-15          231     MH Infusion     CAMBRIDGE\n",
      "19 2018-10-17          231     MH Infusion     CAMBRIDGE\n",
      "20 2018-10-18          231             TMS     CAMBRIDGE\n",
      "21 2018-10-18          231     MH Infusion     CAMBRIDGE\n",
      "22 2018-10-19          231             TMS     CAMBRIDGE\n",
      "23 2018-10-22          231             TMS     CAMBRIDGE\n",
      "24 2018-10-22          231     MH Infusion     CAMBRIDGE\n",
      "25 2018-10-23          231             TMS     CAMBRIDGE\n",
      "26 2018-10-24          231             TMS     CAMBRIDGE\n",
      "27 2018-10-24          231     MH Infusion     CAMBRIDGE\n",
      "28 2018-10-25          231             TMS     CAMBRIDGE\n",
      "29 2018-10-29          231             TMS     CAMBRIDGE\n",
      "30 2018-10-31          231             TMS     CAMBRIDGE\n",
      "31 2018-11-01          231             TMS     CAMBRIDGE\n",
      "32 2018-11-02          231             TMS     CAMBRIDGE\n",
      "33 2018-11-06          231             TMS     CAMBRIDGE\n",
      "34 2018-11-07          231             TMS     CAMBRIDGE\n",
      "35 2018-11-08          231             TMS     CAMBRIDGE\n",
      "36 2018-11-09          231             TMS     CAMBRIDGE\n",
      "37 2018-11-13          231             TMS     CAMBRIDGE\n",
      "38 2018-11-14          231             TMS     CAMBRIDGE\n",
      "39 2018-11-16          231             TMS     CAMBRIDGE\n",
      "40 2018-11-26          231             TMS     CAMBRIDGE\n",
      "41 2020-09-15          231     MH Infusion     CAMBRIDGE\n",
      "42 2020-09-18          231     MH Infusion     CAMBRIDGE\n",
      "43 2020-12-23          231       Follow-Up     CAMBRIDGE\n",
      "44 2021-01-08          231     MH Infusion     CAMBRIDGE\n",
      "45 2021-01-14          231     MH Infusion     CAMBRIDGE\n",
      "46 2021-05-24          231     MH Infusion     CAMBRIDGE\n",
      "47 2021-06-01          231     MH Infusion     CAMBRIDGE\n",
      "48 2021-06-03          231     MH Infusion     CAMBRIDGE\n",
      "49 2021-06-04          231     MH Infusion     CAMBRIDGE\n",
      "50 2023-01-19          231     MH Infusion     CAMBRIDGE\n",
      "51 2023-01-24          231     MH Infusion     CAMBRIDGE\n",
      "52 2023-01-25          231     MH Infusion     CAMBRIDGE\n",
      "53 2023-01-26          231     MH Infusion     CAMBRIDGE\n",
      "54 2023-01-26          231       Follow-Up     CAMBRIDGE\n",
      "55 2023-01-30          231     MH Infusion     CAMBRIDGE\n",
      "56 2023-02-01          231     MH Infusion     CAMBRIDGE\n",
      "57 2023-02-03          231     MH Infusion     CAMBRIDGE\n",
      "58 2023-02-06          231     MH Infusion     CAMBRIDGE\n",
      "59 2023-02-08          231     MH Infusion     CAMBRIDGE\n",
      "276\n",
      "Intake index 3\n",
      "['Follow-Up', 'MH Infusion', 'MH Infusion', 'Intake']\n",
      "        Date  Chartnumber Appt Type Group Facility City\n",
      "0 2018-10-15          276       Follow-Up     CAMBRIDGE\n",
      "1 2023-07-21          276     MH Infusion       AMHERST\n",
      "2 2023-07-21          276     MH Infusion     CAMBRIDGE\n",
      "3 2024-07-03          276          Intake     CAMBRIDGE\n"
     ]
    },
    {
     "ename": "IndexError",
     "evalue": "list index out of range",
     "output_type": "error",
     "traceback": [
      "\u001b[0;31m---------------------------------------------------------------------------\u001b[0m",
      "\u001b[0;31mIndexError\u001b[0m                                Traceback (most recent call last)",
      "Cell \u001b[0;32mIn[13], line 77\u001b[0m\n\u001b[1;32m     75\u001b[0m     \u001b[38;5;66;03m# Get the required values\u001b[39;00m\n\u001b[1;32m     76\u001b[0m     \u001b[38;5;28mprint\u001b[39m(df_by_chart_no)\n\u001b[0;32m---> 77\u001b[0m     first_service_after_intake\u001b[38;5;241m.\u001b[39mappend(df_by_chart_no[\u001b[38;5;124m\"\u001b[39m\u001b[38;5;124mAppt Type Group\u001b[39m\u001b[38;5;124m\"\u001b[39m]\u001b[38;5;241m.\u001b[39mtolist()[intake_index \u001b[38;5;241m+\u001b[39m \u001b[38;5;241m1\u001b[39m])\n\u001b[1;32m     79\u001b[0m \u001b[38;5;28;01melse\u001b[39;00m:          \n\u001b[1;32m     81\u001b[0m     first_service_after_intake\u001b[38;5;241m.\u001b[39mappend(np\u001b[38;5;241m.\u001b[39mnan)\n",
      "\u001b[0;31mIndexError\u001b[0m: list index out of range"
     ]
    }
   ],
   "source": [
    "first_service_after_enrollment = []\n",
    "first_service_after_intake = []\n",
    "days_after_intake = []\n",
    "days_btn_mhinfusion_intake = []\n",
    "visit_count = []\n",
    "mhInfusion_count = []\n",
    "\n",
    "# Additional Modifications\n",
    "infusion_count_outside_cambridge = []\n",
    "visit_count_outside_cambridge = []\n",
    "intake_facility_city = [] # not yet implemented\n",
    "\n",
    "\n",
    "\n",
    "for chart_no in chart_numbers:\n",
    "    # Filter the data set by chart number\n",
    "    df_by_chart_no = seen_df[seen_df[\"Chartnumber\"]==chart_no].sort_values(by=\"Date\")\n",
    "    df_by_chart_no.reset_index(drop=True, inplace=True)\n",
    "    \n",
    "    # Get the required data \n",
    "    first_service_after_enrollment.append(df_by_chart_no[\"Appt Type Group\"][0])\n",
    "    visit_count.append(df_by_chart_no.shape[0])\n",
    "    mhInfusion_count.append(df_by_chart_no[\"Appt Type Group\"].to_list().count('MH Infusion'))\n",
    "    \n",
    "    # Get the additional data \n",
    "    ## Filter out Cambridge visits from the data\n",
    "    outside_cambridge_df = df_by_chart_no[df_by_chart_no[\"Facility City\"]!=\"CAMBRIDGE\"]\n",
    "    visit_count_outside_cambridge.append(outside_cambridge_df.shape[0])\n",
    "    \n",
    "    ## Count the number of infusions outside cambridge\n",
    "    infusion_count_outside_cambridge.append(outside_cambridge_df[\"Appt Type Group\"].tolist().count('MH Infusion'))\n",
    "    \n",
    "    if df_by_chart_no[\"Appt Type Group\"].tolist()[0] == \"Intake\":\n",
    "        # Check if there exists multiple services\n",
    "        if df_by_chart_no.shape[0] > 1:\n",
    "            first_service_after_intake.append(df_by_chart_no[\"Appt Type Group\"][1])\n",
    "\n",
    "            # Calculate days after intake\n",
    "            days_1 = (df_by_chart_no[\"Date\"][1] - df_by_chart_no[\"Date\"][0]).days\n",
    "            days_after_intake.append(days_1)\n",
    "\n",
    "            # Calculate days between intake and MH infusion\n",
    "            try:\n",
    "                mhInfusion_index = df_by_chart_no[\"Appt Type Group\"].tolist().index('MH Infusion')\n",
    "                days_2 = (df_by_chart_no[\"Date\"][mhInfusion_index] - df_by_chart_no[\"Date\"][0]).days\n",
    "                days_btn_mhinfusion_intake.append(days_2)\n",
    "            except ValueError: \n",
    "                days_btn_mhinfusion_intake.append(np.nan)        \n",
    "            \n",
    "        else:\n",
    "            first_service_after_intake.append(np.nan)\n",
    "            days_after_intake.append(np.nan)\n",
    "            days_btn_mhinfusion_intake.append(np.nan)\n",
    "    \n",
    "#     # The below line checks if there is another service before intake\n",
    "#     elif \"Intake\" in df_by_chart_no[\"Appt Type Group\"].tolist():\n",
    "#         print(chart_no)\n",
    "#         # Note the intake index\n",
    "#         intake_index = df_by_chart_no[\"Appt Type Group\"].tolist().index(\"Intake\")\n",
    "#         print(intake_index)\n",
    "        \n",
    "#         # Get the required values \n",
    "#         print(df_by_chart_no[\"Appt Type Group\"].tolist()[intake_index + 1])\n",
    "#         first_service_after_intake.append(df_by_chart_no[\"Appt Type Group\"].tolist()[intake_index + 1])\n",
    "        \n",
    "    else: \n",
    "        if \"Intake\" in df_by_chart_no[\"Appt Type Group\"].tolist():\n",
    "            print(chart_no)\n",
    "            \n",
    "            # Note the intake index\n",
    "            intake_index = df_by_chart_no[\"Appt Type Group\"].tolist().index(\"Intake\")\n",
    "            print(\"Intake index\", intake_index)\n",
    "            print(df_by_chart_no[\"Appt Type Group\"].tolist())\n",
    "            \n",
    "            # Get the required values\n",
    "            print(df_by_chart_no)\n",
    "            first_service_after_intake.append(df_by_chart_no[\"Appt Type Group\"].tolist()[intake_index + 1])\n",
    "            \n",
    "        else:          \n",
    "        \n",
    "            first_service_after_intake.append(np.nan)\n",
    "            days_after_intake.append(np.nan)\n",
    "            days_btn_mhinfusion_intake.append(np.nan)"
   ]
  },
  {
   "cell_type": "code",
   "execution_count": null,
   "id": "2c159b88",
   "metadata": {},
   "outputs": [],
   "source": [
    "stop here"
   ]
  },
  {
   "cell_type": "code",
   "execution_count": null,
   "id": "af7a6966",
   "metadata": {},
   "outputs": [],
   "source": [
    "seen_df[(seen_df[\"Facility City\"]!=\"CAMBRIDGE\")&(seen_df[\"Chartnumber\"]==1909)]"
   ]
  },
  {
   "cell_type": "code",
   "execution_count": 19,
   "id": "5853a8d4",
   "metadata": {},
   "outputs": [
    {
     "data": {
      "text/html": [
       "<div>\n",
       "<style scoped>\n",
       "    .dataframe tbody tr th:only-of-type {\n",
       "        vertical-align: middle;\n",
       "    }\n",
       "\n",
       "    .dataframe tbody tr th {\n",
       "        vertical-align: top;\n",
       "    }\n",
       "\n",
       "    .dataframe thead th {\n",
       "        text-align: right;\n",
       "    }\n",
       "</style>\n",
       "<table border=\"1\" class=\"dataframe\">\n",
       "  <thead>\n",
       "    <tr style=\"text-align: right;\">\n",
       "      <th></th>\n",
       "      <th>Date</th>\n",
       "      <th>Chartnumber</th>\n",
       "      <th>Appt Type Group</th>\n",
       "      <th>Facility City</th>\n",
       "    </tr>\n",
       "  </thead>\n",
       "  <tbody>\n",
       "    <tr>\n",
       "      <th>3899</th>\n",
       "      <td>2018-10-15</td>\n",
       "      <td>276</td>\n",
       "      <td>Follow-Up</td>\n",
       "      <td>CAMBRIDGE</td>\n",
       "    </tr>\n",
       "    <tr>\n",
       "      <th>40170</th>\n",
       "      <td>2024-07-03</td>\n",
       "      <td>276</td>\n",
       "      <td>Intake</td>\n",
       "      <td>CAMBRIDGE</td>\n",
       "    </tr>\n",
       "    <tr>\n",
       "      <th>40449</th>\n",
       "      <td>2023-07-21</td>\n",
       "      <td>276</td>\n",
       "      <td>MH Infusion</td>\n",
       "      <td>AMHERST</td>\n",
       "    </tr>\n",
       "    <tr>\n",
       "      <th>40558</th>\n",
       "      <td>2023-07-21</td>\n",
       "      <td>276</td>\n",
       "      <td>MH Infusion</td>\n",
       "      <td>CAMBRIDGE</td>\n",
       "    </tr>\n",
       "  </tbody>\n",
       "</table>\n",
       "</div>"
      ],
      "text/plain": [
       "            Date  Chartnumber Appt Type Group Facility City\n",
       "3899  2018-10-15          276       Follow-Up     CAMBRIDGE\n",
       "40170 2024-07-03          276          Intake     CAMBRIDGE\n",
       "40449 2023-07-21          276     MH Infusion       AMHERST\n",
       "40558 2023-07-21          276     MH Infusion     CAMBRIDGE"
      ]
     },
     "execution_count": 19,
     "metadata": {},
     "output_type": "execute_result"
    }
   ],
   "source": [
    "seen_df[seen_df[\"Chartnumber\"]==276]"
   ]
  },
  {
   "cell_type": "code",
   "execution_count": 18,
   "id": "04e10e99",
   "metadata": {},
   "outputs": [
    {
     "data": {
      "text/html": [
       "<div>\n",
       "<style scoped>\n",
       "    .dataframe tbody tr th:only-of-type {\n",
       "        vertical-align: middle;\n",
       "    }\n",
       "\n",
       "    .dataframe tbody tr th {\n",
       "        vertical-align: top;\n",
       "    }\n",
       "\n",
       "    .dataframe thead th {\n",
       "        text-align: right;\n",
       "    }\n",
       "</style>\n",
       "<table border=\"1\" class=\"dataframe\">\n",
       "  <thead>\n",
       "    <tr style=\"text-align: right;\">\n",
       "      <th></th>\n",
       "      <th>Date</th>\n",
       "      <th>Chartnumber</th>\n",
       "      <th>Appt Type Group</th>\n",
       "      <th>Facility City</th>\n",
       "    </tr>\n",
       "  </thead>\n",
       "  <tbody>\n",
       "    <tr>\n",
       "      <th>0</th>\n",
       "      <td>2018-10-15</td>\n",
       "      <td>276</td>\n",
       "      <td>Follow-Up</td>\n",
       "      <td>CAMBRIDGE</td>\n",
       "    </tr>\n",
       "    <tr>\n",
       "      <th>1</th>\n",
       "      <td>2023-07-21</td>\n",
       "      <td>276</td>\n",
       "      <td>MH Infusion</td>\n",
       "      <td>AMHERST</td>\n",
       "    </tr>\n",
       "    <tr>\n",
       "      <th>2</th>\n",
       "      <td>2023-07-21</td>\n",
       "      <td>276</td>\n",
       "      <td>MH Infusion</td>\n",
       "      <td>CAMBRIDGE</td>\n",
       "    </tr>\n",
       "    <tr>\n",
       "      <th>3</th>\n",
       "      <td>2024-07-03</td>\n",
       "      <td>276</td>\n",
       "      <td>Intake</td>\n",
       "      <td>CAMBRIDGE</td>\n",
       "    </tr>\n",
       "  </tbody>\n",
       "</table>\n",
       "</div>"
      ],
      "text/plain": [
       "        Date  Chartnumber Appt Type Group Facility City\n",
       "0 2018-10-15          276       Follow-Up     CAMBRIDGE\n",
       "1 2023-07-21          276     MH Infusion       AMHERST\n",
       "2 2023-07-21          276     MH Infusion     CAMBRIDGE\n",
       "3 2024-07-03          276          Intake     CAMBRIDGE"
      ]
     },
     "execution_count": 18,
     "metadata": {},
     "output_type": "execute_result"
    }
   ],
   "source": [
    "d1 = seen_df[seen_df[\"Chartnumber\"]==276].sort_values(by=\"Date\", ascending=True)\n",
    "d1.reset_index(drop=True, inplace=True)\n",
    "d1"
   ]
  },
  {
   "cell_type": "code",
   "execution_count": null,
   "id": "209f4a81",
   "metadata": {},
   "outputs": [],
   "source": [
    "seen_df[seen_df[\"Chartnumber\"]==276].reset_index()[\"Appt Type Group\"].tolist()"
   ]
  },
  {
   "cell_type": "code",
   "execution_count": null,
   "id": "7d26f2dd",
   "metadata": {},
   "outputs": [],
   "source": [
    "stop here "
   ]
  },
  {
   "cell_type": "code",
   "execution_count": null,
   "id": "03b3e168",
   "metadata": {},
   "outputs": [],
   "source": [
    "# Create a dataframe  \n",
    "post_intake_df = pd.DataFrame({\n",
    "    \"Chartnumber\" : chart_numbers,\n",
    "    \"Visit Count\":visit_count,\n",
    "    \"First Service After Enrollment\" : first_service_after_enrollment,\n",
    "    \"First Service After Intake\":first_service_after_intake,\n",
    "    \"Days After Intake\":days_after_intake,\n",
    "    \"Days between MH Infusion and Intake\": days_btn_mhinfusion_intake,\n",
    "    \"Number of MH infusions\": mhInfusion_count,\n",
    "    \"Number of MH infusions outside Cambridge\":infusion_count_outside_cambridge,\n",
    "    \"Number of Visits outside Cambridge\":visit_count_outside_cambridge\n",
    "})"
   ]
  },
  {
   "cell_type": "code",
   "execution_count": null,
   "id": "d6985593",
   "metadata": {},
   "outputs": [],
   "source": [
    "post_intake_df"
   ]
  },
  {
   "cell_type": "code",
   "execution_count": null,
   "id": "4e0174d9",
   "metadata": {},
   "outputs": [],
   "source": [
    "stop here"
   ]
  },
  {
   "cell_type": "code",
   "execution_count": null,
   "id": "438a04fc",
   "metadata": {},
   "outputs": [],
   "source": []
  },
  {
   "cell_type": "code",
   "execution_count": null,
   "id": "5af32ab9",
   "metadata": {},
   "outputs": [],
   "source": [
    "seen_df[seen_df[\"Chartnumber\"]==10][\"Appt Type Group\"].tolist().index('MH Infusion')"
   ]
  },
  {
   "cell_type": "code",
   "execution_count": null,
   "id": "9535210c",
   "metadata": {},
   "outputs": [],
   "source": [
    "appointment_df[appointment_df[\"Facility City\"]!=\"CAMBRIDGE\"]"
   ]
  },
  {
   "cell_type": "code",
   "execution_count": null,
   "id": "a7dda380",
   "metadata": {},
   "outputs": [],
   "source": [
    "appointment_df[appointment_df[\"Chartnumber\"]==2194]"
   ]
  },
  {
   "cell_type": "markdown",
   "id": "7b0e8b33",
   "metadata": {},
   "source": [
    "## Data Analysis and Visualization"
   ]
  },
  {
   "cell_type": "code",
   "execution_count": null,
   "id": "b1e64476",
   "metadata": {},
   "outputs": [],
   "source": []
  },
  {
   "cell_type": "code",
   "execution_count": null,
   "id": "1f55956f",
   "metadata": {},
   "outputs": [],
   "source": []
  },
  {
   "cell_type": "markdown",
   "id": "8adf2c70",
   "metadata": {},
   "source": [
    "# Conclusion"
   ]
  },
  {
   "cell_type": "markdown",
   "id": "e62fa46b",
   "metadata": {},
   "source": [
    "**Challenges**\n",
    "\n",
    "- Not all patients in the records started with an intake. Some had no intakes in the appointment records. Also, theere are some patients that had other services before intake for instance chart#s 24 and 118\n",
    "- It is cumbersome to focus this analysis on cambridge since some patients visited cambridge and other facilities for instance chart# 2194. - Fix this by counting the number of visits and infusions outside the Cambridge facility.\n",
    "-"
   ]
  },
  {
   "cell_type": "code",
   "execution_count": null,
   "id": "b5a9a39b",
   "metadata": {},
   "outputs": [],
   "source": []
  }
 ],
 "metadata": {
  "kernelspec": {
   "display_name": "Python 3 (ipykernel)",
   "language": "python",
   "name": "python3"
  },
  "language_info": {
   "codemirror_mode": {
    "name": "ipython",
    "version": 3
   },
   "file_extension": ".py",
   "mimetype": "text/x-python",
   "name": "python",
   "nbconvert_exporter": "python",
   "pygments_lexer": "ipython3",
   "version": "3.11.5"
  }
 },
 "nbformat": 4,
 "nbformat_minor": 5
}
