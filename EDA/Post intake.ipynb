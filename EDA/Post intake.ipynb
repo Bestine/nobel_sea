{
 "cells": [
  {
   "cell_type": "markdown",
   "id": "54665615",
   "metadata": {},
   "source": [
    "**Load the required libraries and data**"
   ]
  },
  {
   "cell_type": "code",
   "execution_count": 1,
   "id": "bcb1b476",
   "metadata": {},
   "outputs": [],
   "source": [
    "# Libraries\n",
    "import pandas as pd \n",
    "import numpy as np\n",
    "from matplotlib import pyplot as plt \n",
    "import seaborn as sns "
   ]
  },
  {
   "cell_type": "code",
   "execution_count": 2,
   "id": "8bd73617",
   "metadata": {},
   "outputs": [
    {
     "name": "stderr",
     "output_type": "stream",
     "text": [
      "/tmp/ipykernel_110243/1929627687.py:2: DtypeWarning: Columns (0,3,14) have mixed types. Specify dtype option on import or set low_memory=False.\n",
      "  appointment_df = pd.read_csv(\"../data/Appointments List.csv\",\n"
     ]
    }
   ],
   "source": [
    "# Data  \n",
    "appointment_df = pd.read_csv(\"../data/Appointments List.csv\", \n",
    "                             encoding='UTF-16', delimiter=\"\\t\")"
   ]
  },
  {
   "cell_type": "markdown",
   "id": "7a4b1dc1",
   "metadata": {},
   "source": [
    "# Explanatory Data Analysis\n",
    "## Data Preparation"
   ]
  },
  {
   "cell_type": "code",
   "execution_count": 3,
   "id": "815a2dc3",
   "metadata": {},
   "outputs": [
    {
     "data": {
      "text/html": [
       "<div>\n",
       "<style scoped>\n",
       "    .dataframe tbody tr th:only-of-type {\n",
       "        vertical-align: middle;\n",
       "    }\n",
       "\n",
       "    .dataframe tbody tr th {\n",
       "        vertical-align: top;\n",
       "    }\n",
       "\n",
       "    .dataframe thead th {\n",
       "        text-align: right;\n",
       "    }\n",
       "</style>\n",
       "<table border=\"1\" class=\"dataframe\">\n",
       "  <thead>\n",
       "    <tr style=\"text-align: right;\">\n",
       "      <th></th>\n",
       "      <th>Appointment UID</th>\n",
       "      <th>Appt Status Description</th>\n",
       "      <th>Date Of Service</th>\n",
       "      <th>Chartnumber</th>\n",
       "      <th>NurseName</th>\n",
       "      <th>FirstTreatmentApptInd</th>\n",
       "      <th>Appt Type Group</th>\n",
       "      <th>Appt Type</th>\n",
       "      <th>Created By</th>\n",
       "      <th>Provider</th>\n",
       "      <th>Facility City</th>\n",
       "      <th>Room</th>\n",
       "      <th>Column Heading</th>\n",
       "      <th>#</th>\n",
       "      <th>Count of tblAppointments</th>\n",
       "      <th>Patient FID</th>\n",
       "    </tr>\n",
       "  </thead>\n",
       "  <tbody>\n",
       "    <tr>\n",
       "      <th>0</th>\n",
       "      <td>Grand Total</td>\n",
       "      <td>Total</td>\n",
       "      <td>Total</td>\n",
       "      <td>Total</td>\n",
       "      <td>Total</td>\n",
       "      <td>Total</td>\n",
       "      <td>Total</td>\n",
       "      <td>Total</td>\n",
       "      <td>Total</td>\n",
       "      <td>Total</td>\n",
       "      <td>Total</td>\n",
       "      <td>Total</td>\n",
       "      <td>Total</td>\n",
       "      <td>Total</td>\n",
       "      <td>55,975</td>\n",
       "      <td>*</td>\n",
       "    </tr>\n",
       "    <tr>\n",
       "      <th>1</th>\n",
       "      <td>1</td>\n",
       "      <td>Made</td>\n",
       "      <td>01/01/00</td>\n",
       "      <td>NaN</td>\n",
       "      <td>NaN</td>\n",
       "      <td>N</td>\n",
       "      <td>Default</td>\n",
       "      <td>NaN</td>\n",
       "      <td>system</td>\n",
       "      <td>,</td>\n",
       "      <td>NaN</td>\n",
       "      <td>Other</td>\n",
       "      <td>NaN</td>\n",
       "      <td>1</td>\n",
       "      <td>1</td>\n",
       "      <td>1</td>\n",
       "    </tr>\n",
       "    <tr>\n",
       "      <th>2</th>\n",
       "      <td>109</td>\n",
       "      <td>Seen</td>\n",
       "      <td>01/22/18</td>\n",
       "      <td>1</td>\n",
       "      <td>NaN</td>\n",
       "      <td>N</td>\n",
       "      <td>Intake</td>\n",
       "      <td>TMS INTAKE DR. BRENNER</td>\n",
       "      <td>EMILY</td>\n",
       "      <td>BRENNER,DANIEL A</td>\n",
       "      <td>CAMBRIDGE</td>\n",
       "      <td>Other</td>\n",
       "      <td>DR. BRENNER</td>\n",
       "      <td>2</td>\n",
       "      <td>1</td>\n",
       "      <td>5,283</td>\n",
       "    </tr>\n",
       "    <tr>\n",
       "      <th>3</th>\n",
       "      <td>239</td>\n",
       "      <td>Seen</td>\n",
       "      <td>01/22/18</td>\n",
       "      <td>2</td>\n",
       "      <td>NaN</td>\n",
       "      <td>N</td>\n",
       "      <td>MH Infusion</td>\n",
       "      <td>KETAMINE MH -INFUSION ONLY</td>\n",
       "      <td>EMILY</td>\n",
       "      <td>BRENNER,DANIEL A</td>\n",
       "      <td>CAMBRIDGE</td>\n",
       "      <td>Other</td>\n",
       "      <td>2C</td>\n",
       "      <td>3</td>\n",
       "      <td>1</td>\n",
       "      <td>5,286</td>\n",
       "    </tr>\n",
       "    <tr>\n",
       "      <th>4</th>\n",
       "      <td>240</td>\n",
       "      <td>Made</td>\n",
       "      <td>01/22/18</td>\n",
       "      <td>9</td>\n",
       "      <td>NaN</td>\n",
       "      <td>N</td>\n",
       "      <td>Intake</td>\n",
       "      <td>TMS INTAKE DR. BRENNER</td>\n",
       "      <td>EMILY</td>\n",
       "      <td>BRENNER,DANIEL A</td>\n",
       "      <td>CAMBRIDGE</td>\n",
       "      <td>Other</td>\n",
       "      <td>DR. BRENNER</td>\n",
       "      <td>4</td>\n",
       "      <td>1</td>\n",
       "      <td>5,351</td>\n",
       "    </tr>\n",
       "  </tbody>\n",
       "</table>\n",
       "</div>"
      ],
      "text/plain": [
       "  Appointment UID Appt Status Description Date Of Service Chartnumber  \\\n",
       "0     Grand Total                   Total           Total       Total   \n",
       "1               1                    Made        01/01/00         NaN   \n",
       "2             109                    Seen        01/22/18           1   \n",
       "3             239                    Seen        01/22/18           2   \n",
       "4             240                    Made        01/22/18           9   \n",
       "\n",
       "  NurseName FirstTreatmentApptInd Appt Type Group                   Appt Type  \\\n",
       "0     Total                 Total           Total                       Total   \n",
       "1       NaN                     N         Default                         NaN   \n",
       "2       NaN                     N          Intake      TMS INTAKE DR. BRENNER   \n",
       "3       NaN                     N     MH Infusion  KETAMINE MH -INFUSION ONLY   \n",
       "4       NaN                     N          Intake      TMS INTAKE DR. BRENNER   \n",
       "\n",
       "  Created By          Provider Facility City   Room Column Heading      #  \\\n",
       "0      Total             Total         Total  Total          Total  Total   \n",
       "1     system                 ,           NaN  Other            NaN      1   \n",
       "2      EMILY  BRENNER,DANIEL A     CAMBRIDGE  Other    DR. BRENNER      2   \n",
       "3      EMILY  BRENNER,DANIEL A     CAMBRIDGE  Other             2C      3   \n",
       "4      EMILY  BRENNER,DANIEL A     CAMBRIDGE  Other    DR. BRENNER      4   \n",
       "\n",
       "  Count of tblAppointments Patient FID  \n",
       "0                   55,975           *  \n",
       "1                        1           1  \n",
       "2                        1       5,283  \n",
       "3                        1       5,286  \n",
       "4                        1       5,351  "
      ]
     },
     "execution_count": 3,
     "metadata": {},
     "output_type": "execute_result"
    }
   ],
   "source": [
    "appointment_df.head()"
   ]
  },
  {
   "cell_type": "code",
   "execution_count": 4,
   "id": "c5dc5fd1",
   "metadata": {},
   "outputs": [
    {
     "name": "stdout",
     "output_type": "stream",
     "text": [
      "<class 'pandas.core.frame.DataFrame'>\n",
      "RangeIndex: 55976 entries, 0 to 55975\n",
      "Data columns (total 16 columns):\n",
      " #   Column                    Non-Null Count  Dtype \n",
      "---  ------                    --------------  ----- \n",
      " 0   Appointment UID           55976 non-null  object\n",
      " 1   Appt Status Description   55976 non-null  object\n",
      " 2   Date Of Service           37250 non-null  object\n",
      " 3   Chartnumber               55975 non-null  object\n",
      " 4   NurseName                 19321 non-null  object\n",
      " 5   FirstTreatmentApptInd     54678 non-null  object\n",
      " 6   Appt Type Group           54678 non-null  object\n",
      " 7   Appt Type                 54677 non-null  object\n",
      " 8   Created By                55976 non-null  object\n",
      " 9   Provider                  55976 non-null  object\n",
      " 10  Facility City             51738 non-null  object\n",
      " 11  Room                      55976 non-null  object\n",
      " 12  Column Heading            54697 non-null  object\n",
      " 13  #                         55976 non-null  object\n",
      " 14  Count of tblAppointments  55976 non-null  object\n",
      " 15  Patient FID               55976 non-null  object\n",
      "dtypes: object(16)\n",
      "memory usage: 6.8+ MB\n"
     ]
    }
   ],
   "source": [
    "appointment_df.info()"
   ]
  },
  {
   "cell_type": "code",
   "execution_count": 5,
   "id": "f8bb7120",
   "metadata": {},
   "outputs": [],
   "source": [
    "# Drop the first two rows \n",
    "appointment_df.drop(index=[0, 1], inplace=True)"
   ]
  },
  {
   "cell_type": "code",
   "execution_count": 6,
   "id": "8e33735b",
   "metadata": {},
   "outputs": [
    {
     "name": "stderr",
     "output_type": "stream",
     "text": [
      "/tmp/ipykernel_110243/2432676088.py:2: UserWarning: Could not infer format, so each element will be parsed individually, falling back to `dateutil`. To ensure parsing is consistent and as-expected, please specify a format.\n",
      "  appointment_df[\"Date\"] = pd.to_datetime(appointment_df[\"Date Of Service\"], errors=\"coerce\")\n"
     ]
    }
   ],
   "source": [
    "appointment_df[\"Chartnumber\"] = pd.to_numeric(appointment_df[\"Chartnumber\"], errors=\"coerce\")\n",
    "appointment_df[\"Date\"] = pd.to_datetime(appointment_df[\"Date Of Service\"], errors=\"coerce\")"
   ]
  },
  {
   "cell_type": "code",
   "execution_count": 7,
   "id": "76bdae78",
   "metadata": {},
   "outputs": [],
   "source": [
    "# Replace \"Made\" with \"Seen\"\n",
    "appointment_df[\"Appt Status Description\"].replace(to_replace=\"Made\", value=\"Seen\", inplace=True)"
   ]
  },
  {
   "cell_type": "code",
   "execution_count": 8,
   "id": "f818c596",
   "metadata": {},
   "outputs": [],
   "source": [
    "# Select the successfull appointments(visits)\n",
    "seen_df = appointment_df[appointment_df[\"Appt Status Description\"]==\"Seen\"]\n",
    "\n",
    "# subset the data set \n",
    "subset_columns = [\"Date\", \"Chartnumber\", \"Appt Type Group\"]\n",
    "seen_df = seen_df[subset_columns]\n",
    "\n",
    "# Drop any record with null values \n",
    "seen_df.dropna(how=\"any\", inplace=True)"
   ]
  },
  {
   "cell_type": "code",
   "execution_count": 9,
   "id": "3abae711",
   "metadata": {
    "scrolled": true
   },
   "outputs": [
    {
     "data": {
      "text/plain": [
       "0.8556767158434894"
      ]
     },
     "execution_count": 9,
     "metadata": {},
     "output_type": "execute_result"
    }
   ],
   "source": [
    "# Calculate the percentage of patients who start with intake \n",
    "count = 0\n",
    "chart_numbers = seen_df[\"Chartnumber\"].unique()\n",
    "\n",
    "for chart_no in chart_numbers:\n",
    "    # Filter the data set \n",
    "    df_by_chart_no = seen_df[seen_df[\"Chartnumber\"]==chart_no].sort_values(by=\"Date\")\n",
    "    df_by_chart_no.reset_index(drop=True, inplace=True)\n",
    "    \n",
    "    if df_by_chart_no[\"Appt Type Group\"][0]==\"Intake\":\n",
    "        count+=1\n",
    "    else:\n",
    "        pass\n",
    "    \n",
    "# Patients enrolled with an intake    \n",
    "count/seen_df[\"Chartnumber\"].nunique()"
   ]
  },
  {
   "cell_type": "markdown",
   "id": "11391e77",
   "metadata": {},
   "source": [
    "approximately 86% of the patients enrolled with an intake instead of treatment or follow up"
   ]
  },
  {
   "cell_type": "markdown",
   "id": "64961e68",
   "metadata": {},
   "source": [
    "Features/Variables to include in the post intake dataset \n",
    "\n",
    "* Chart number \n",
    "* First Service after enrollment\n",
    "* First Service after intake\n",
    "* Days after intake\n",
    "* Days between MH Infusion and Intake \n",
    "* Number of visits\n",
    "* Number of MH infusions"
   ]
  },
  {
   "cell_type": "code",
   "execution_count": 10,
   "id": "5b6ea296",
   "metadata": {},
   "outputs": [],
   "source": [
    "first_service_after_enrollment = []\n",
    "first_service_after_intake = []\n",
    "days_after_intake = []\n",
    "days_btn_mhinfusion_intake = []\n",
    "visit_count = []\n",
    "mhInfusion_count = []\n",
    "\n",
    "\n",
    "for chart_no in chart_numbers:\n",
    "    # Filter the data set by chart number\n",
    "    df_by_chart_no = seen_df[seen_df[\"Chartnumber\"]==chart_no].sort_values(by=\"Date\")\n",
    "    df_by_chart_no.reset_index(drop=True, inplace=True)\n",
    "    \n",
    "    # Get the required data \n",
    "    first_service_after_enrollment.append(df_by_chart_no[\"Appt Type Group\"][0])\n",
    "    visit_count.append(df_by_chart_no.shape[0])\n",
    "    mhInfusion_count.append(df_by_chart_no[\"Appt Type Group\"].to_list().count('MH Infusion'))\n",
    "    \n",
    "    if df_by_chart_no[\"Appt Type Group\"][0] == \"Intake\":\n",
    "        # Check if there exists multiple services\n",
    "        if df_by_chart_no.shape[0] > 1:\n",
    "            first_service_after_intake.append(df_by_chart_no[\"Appt Type Group\"][1])\n",
    "\n",
    "            # Calculate days after intake\n",
    "            days_1 = (df_by_chart_no[\"Date\"][1] - df_by_chart_no[\"Date\"][0]).days\n",
    "            days_after_intake.append(days_1)\n",
    "\n",
    "            # Calculate days between intake and MH infusion\n",
    "            try:\n",
    "                mhInfusion_index = df_by_chart_no[\"Appt Type Group\"].tolist().index('MH Infusion')\n",
    "                days_2 = (df_by_chart_no[\"Date\"][mhInfusion_index] - df_by_chart_no[\"Date\"][0]).days\n",
    "                days_btn_mhinfusion_intake.append(days_2)\n",
    "            except ValueError: \n",
    "                days_btn_mhinfusion_intake.append(np.nan)\n",
    "            \n",
    "        else:\n",
    "            first_service_after_intake.append(np.nan)\n",
    "            days_after_intake.append(np.nan)\n",
    "            days_btn_mhinfusion_intake.append(np.nan)\n",
    "        \n",
    "    else: \n",
    "        first_service_after_intake.append(np.nan)\n",
    "        days_after_intake.append(np.nan)\n",
    "        days_btn_mhinfusion_intake.append(np.nan)"
   ]
  },
  {
   "cell_type": "code",
   "execution_count": 11,
   "id": "03b3e168",
   "metadata": {},
   "outputs": [],
   "source": [
    "# Create a dataframe  \n",
    "post_intake_df = pd.DataFrame({\n",
    "    \"Chartnumber\" : chart_numbers,\n",
    "    \"First Service After Enrollment\" : first_service_after_enrollment,\n",
    "    \"First Service After Intake\":first_service_after_intake,\n",
    "    \"Days After Intake\":days_after_intake,\n",
    "    \"Days between MH Infusion and Intake\": days_btn_mhinfusion_intake,\n",
    "    \"Number of MH infusions\": mhInfusion_count\n",
    "})"
   ]
  },
  {
   "cell_type": "code",
   "execution_count": 13,
   "id": "d6985593",
   "metadata": {},
   "outputs": [
    {
     "data": {
      "text/html": [
       "<div>\n",
       "<style scoped>\n",
       "    .dataframe tbody tr th:only-of-type {\n",
       "        vertical-align: middle;\n",
       "    }\n",
       "\n",
       "    .dataframe tbody tr th {\n",
       "        vertical-align: top;\n",
       "    }\n",
       "\n",
       "    .dataframe thead th {\n",
       "        text-align: right;\n",
       "    }\n",
       "</style>\n",
       "<table border=\"1\" class=\"dataframe\">\n",
       "  <thead>\n",
       "    <tr style=\"text-align: right;\">\n",
       "      <th></th>\n",
       "      <th>Chartnumber</th>\n",
       "      <th>First Service After Enrollment</th>\n",
       "      <th>First Service After Intake</th>\n",
       "      <th>Days After Intake</th>\n",
       "      <th>Days between MH Infusion and Intake</th>\n",
       "      <th>Number of MH infusions</th>\n",
       "    </tr>\n",
       "  </thead>\n",
       "  <tbody>\n",
       "    <tr>\n",
       "      <th>0</th>\n",
       "      <td>1</td>\n",
       "      <td>Intake</td>\n",
       "      <td>TMS</td>\n",
       "      <td>14.0</td>\n",
       "      <td>NaN</td>\n",
       "      <td>0</td>\n",
       "    </tr>\n",
       "    <tr>\n",
       "      <th>1</th>\n",
       "      <td>2</td>\n",
       "      <td>MH Infusion</td>\n",
       "      <td>NaN</td>\n",
       "      <td>NaN</td>\n",
       "      <td>NaN</td>\n",
       "      <td>8</td>\n",
       "    </tr>\n",
       "    <tr>\n",
       "      <th>2</th>\n",
       "      <td>9</td>\n",
       "      <td>Intake</td>\n",
       "      <td>TMS</td>\n",
       "      <td>9.0</td>\n",
       "      <td>66.0</td>\n",
       "      <td>30</td>\n",
       "    </tr>\n",
       "    <tr>\n",
       "      <th>3</th>\n",
       "      <td>6</td>\n",
       "      <td>Intake</td>\n",
       "      <td>MH Infusion</td>\n",
       "      <td>0.0</td>\n",
       "      <td>0.0</td>\n",
       "      <td>13</td>\n",
       "    </tr>\n",
       "    <tr>\n",
       "      <th>4</th>\n",
       "      <td>12</td>\n",
       "      <td>Intake</td>\n",
       "      <td>NaN</td>\n",
       "      <td>NaN</td>\n",
       "      <td>NaN</td>\n",
       "      <td>0</td>\n",
       "    </tr>\n",
       "    <tr>\n",
       "      <th>...</th>\n",
       "      <td>...</td>\n",
       "      <td>...</td>\n",
       "      <td>...</td>\n",
       "      <td>...</td>\n",
       "      <td>...</td>\n",
       "      <td>...</td>\n",
       "    </tr>\n",
       "    <tr>\n",
       "      <th>1554</th>\n",
       "      <td>2647</td>\n",
       "      <td>MH Infusion</td>\n",
       "      <td>NaN</td>\n",
       "      <td>NaN</td>\n",
       "      <td>NaN</td>\n",
       "      <td>5</td>\n",
       "    </tr>\n",
       "    <tr>\n",
       "      <th>1555</th>\n",
       "      <td>2661</td>\n",
       "      <td>KAP Infusion</td>\n",
       "      <td>NaN</td>\n",
       "      <td>NaN</td>\n",
       "      <td>NaN</td>\n",
       "      <td>2</td>\n",
       "    </tr>\n",
       "    <tr>\n",
       "      <th>1556</th>\n",
       "      <td>2669</td>\n",
       "      <td>Intake</td>\n",
       "      <td>NaN</td>\n",
       "      <td>NaN</td>\n",
       "      <td>NaN</td>\n",
       "      <td>0</td>\n",
       "    </tr>\n",
       "    <tr>\n",
       "      <th>1557</th>\n",
       "      <td>2674</td>\n",
       "      <td>Intake</td>\n",
       "      <td>NaN</td>\n",
       "      <td>NaN</td>\n",
       "      <td>NaN</td>\n",
       "      <td>0</td>\n",
       "    </tr>\n",
       "    <tr>\n",
       "      <th>1558</th>\n",
       "      <td>2594</td>\n",
       "      <td>Follow-Up</td>\n",
       "      <td>NaN</td>\n",
       "      <td>NaN</td>\n",
       "      <td>NaN</td>\n",
       "      <td>0</td>\n",
       "    </tr>\n",
       "  </tbody>\n",
       "</table>\n",
       "<p>1559 rows × 6 columns</p>\n",
       "</div>"
      ],
      "text/plain": [
       "      Chartnumber First Service After Enrollment First Service After Intake  \\\n",
       "0               1                         Intake                        TMS   \n",
       "1               2                    MH Infusion                        NaN   \n",
       "2               9                         Intake                        TMS   \n",
       "3               6                         Intake                MH Infusion   \n",
       "4              12                         Intake                        NaN   \n",
       "...           ...                            ...                        ...   \n",
       "1554         2647                    MH Infusion                        NaN   \n",
       "1555         2661                   KAP Infusion                        NaN   \n",
       "1556         2669                         Intake                        NaN   \n",
       "1557         2674                         Intake                        NaN   \n",
       "1558         2594                      Follow-Up                        NaN   \n",
       "\n",
       "      Days After Intake  Days between MH Infusion and Intake  \\\n",
       "0                  14.0                                  NaN   \n",
       "1                   NaN                                  NaN   \n",
       "2                   9.0                                 66.0   \n",
       "3                   0.0                                  0.0   \n",
       "4                   NaN                                  NaN   \n",
       "...                 ...                                  ...   \n",
       "1554                NaN                                  NaN   \n",
       "1555                NaN                                  NaN   \n",
       "1556                NaN                                  NaN   \n",
       "1557                NaN                                  NaN   \n",
       "1558                NaN                                  NaN   \n",
       "\n",
       "      Number of MH infusions  \n",
       "0                          0  \n",
       "1                          8  \n",
       "2                         30  \n",
       "3                         13  \n",
       "4                          0  \n",
       "...                      ...  \n",
       "1554                       5  \n",
       "1555                       2  \n",
       "1556                       0  \n",
       "1557                       0  \n",
       "1558                       0  \n",
       "\n",
       "[1559 rows x 6 columns]"
      ]
     },
     "execution_count": 13,
     "metadata": {},
     "output_type": "execute_result"
    }
   ],
   "source": [
    "post_intake_df"
   ]
  },
  {
   "cell_type": "code",
   "execution_count": 12,
   "id": "4e0174d9",
   "metadata": {},
   "outputs": [
    {
     "ename": "SyntaxError",
     "evalue": "invalid syntax (4067800170.py, line 1)",
     "output_type": "error",
     "traceback": [
      "\u001b[0;36m  Cell \u001b[0;32mIn[12], line 1\u001b[0;36m\u001b[0m\n\u001b[0;31m    stop here\u001b[0m\n\u001b[0m         ^\u001b[0m\n\u001b[0;31mSyntaxError\u001b[0m\u001b[0;31m:\u001b[0m invalid syntax\n"
     ]
    }
   ],
   "source": [
    "stop here"
   ]
  },
  {
   "cell_type": "code",
   "execution_count": null,
   "id": "438a04fc",
   "metadata": {},
   "outputs": [],
   "source": []
  },
  {
   "cell_type": "code",
   "execution_count": null,
   "id": "5af32ab9",
   "metadata": {},
   "outputs": [],
   "source": [
    "seen_df[seen_df[\"Chartnumber\"]==10][\"Appt Type Group\"].tolist().index('MH Infusion')"
   ]
  },
  {
   "cell_type": "markdown",
   "id": "7b0e8b33",
   "metadata": {},
   "source": [
    "## Data Analysis and Visualization"
   ]
  },
  {
   "cell_type": "code",
   "execution_count": null,
   "id": "b1e64476",
   "metadata": {},
   "outputs": [],
   "source": []
  },
  {
   "cell_type": "code",
   "execution_count": null,
   "id": "1f55956f",
   "metadata": {},
   "outputs": [],
   "source": []
  },
  {
   "cell_type": "markdown",
   "id": "8adf2c70",
   "metadata": {},
   "source": [
    "# Conclusion"
   ]
  },
  {
   "cell_type": "markdown",
   "id": "e62fa46b",
   "metadata": {},
   "source": [
    "**Challenges**\n",
    "\n",
    "- Not all patients in the records started with an intake \n",
    "- "
   ]
  },
  {
   "cell_type": "code",
   "execution_count": null,
   "id": "43d1e14f",
   "metadata": {},
   "outputs": [],
   "source": []
  }
 ],
 "metadata": {
  "kernelspec": {
   "display_name": "Python 3 (ipykernel)",
   "language": "python",
   "name": "python3"
  },
  "language_info": {
   "codemirror_mode": {
    "name": "ipython",
    "version": 3
   },
   "file_extension": ".py",
   "mimetype": "text/x-python",
   "name": "python",
   "nbconvert_exporter": "python",
   "pygments_lexer": "ipython3",
   "version": "3.11.5"
  }
 },
 "nbformat": 4,
 "nbformat_minor": 5
}
