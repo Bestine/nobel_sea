{
 "cells": [
  {
   "cell_type": "markdown",
   "id": "54665615",
   "metadata": {},
   "source": [
    "**Load the required libraries and data**"
   ]
  },
  {
   "cell_type": "code",
   "execution_count": 1,
   "id": "bcb1b476",
   "metadata": {},
   "outputs": [],
   "source": [
    "# Libraries\n",
    "import pandas as pd \n",
    "import numpy as np\n",
    "from matplotlib import pyplot as plt \n",
    "import seaborn as sns "
   ]
  },
  {
   "cell_type": "code",
   "execution_count": 2,
   "id": "8bd73617",
   "metadata": {},
   "outputs": [
    {
     "name": "stderr",
     "output_type": "stream",
     "text": [
      "/tmp/ipykernel_83566/4214281181.py:2: DtypeWarning: Columns (0,3,14) have mixed types. Specify dtype option on import or set low_memory=False.\n",
      "  appointment_df = pd.read_csv(\"../data/Appointments List.csv\",\n"
     ]
    }
   ],
   "source": [
    "# Data  \n",
    "appointment_df = pd.read_csv(\"../data/Appointments List.csv\", \n",
    "                             encoding='UTF-16', delimiter=\"\\t\")\n",
    "plp_df = pd.read_csv(\"../data/PLP Patient Lifetime Profile.csv\",\n",
    "                     encoding='UTF-16', delimiter=\"\\t\")"
   ]
  },
  {
   "cell_type": "markdown",
   "id": "7a4b1dc1",
   "metadata": {},
   "source": [
    "# Explanatory Data Analysis\n",
    "## Data Preparation"
   ]
  },
  {
   "cell_type": "code",
   "execution_count": 3,
   "id": "425dc303",
   "metadata": {},
   "outputs": [
    {
     "data": {
      "text/html": [
       "<div>\n",
       "<style scoped>\n",
       "    .dataframe tbody tr th:only-of-type {\n",
       "        vertical-align: middle;\n",
       "    }\n",
       "\n",
       "    .dataframe tbody tr th {\n",
       "        vertical-align: top;\n",
       "    }\n",
       "\n",
       "    .dataframe thead th {\n",
       "        text-align: right;\n",
       "    }\n",
       "</style>\n",
       "<table border=\"1\" class=\"dataframe\">\n",
       "  <thead>\n",
       "    <tr style=\"text-align: right;\">\n",
       "      <th></th>\n",
       "      <th>Patient FID</th>\n",
       "      <th>ChartNumber</th>\n",
       "      <th>ZipCode (tmtPLPPatientLifeTimeProfile)</th>\n",
       "      <th>CreatedDate</th>\n",
       "      <th>First Date Of Service</th>\n",
       "      <th>Last Date Of Service</th>\n",
       "      <th>Last Primary Appt Type Group</th>\n",
       "      <th>Last Facility City</th>\n",
       "      <th>Days Since Last DoS dim</th>\n",
       "      <th>Next Scheduled Appt Date</th>\n",
       "      <th>...</th>\n",
       "      <th>Total Insurance Payments</th>\n",
       "      <th>Total Patient Payments</th>\n",
       "      <th>Total Writeoff Amount</th>\n",
       "      <th>Charge Code Count</th>\n",
       "      <th>Diagnosis Code Count</th>\n",
       "      <th>Vists / Months Span</th>\n",
       "      <th>OutstandingAR</th>\n",
       "      <th>Count of tmtPLPPatientLifeTimeProfile</th>\n",
       "      <th>SeenProvidersCount</th>\n",
       "      <th>PatientsWithVisit%</th>\n",
       "    </tr>\n",
       "  </thead>\n",
       "  <tbody>\n",
       "    <tr>\n",
       "      <th>0</th>\n",
       "      <td>Grand Total</td>\n",
       "      <td>Total</td>\n",
       "      <td>Total</td>\n",
       "      <td>Total</td>\n",
       "      <td>Total</td>\n",
       "      <td>Total</td>\n",
       "      <td>Total</td>\n",
       "      <td>Total</td>\n",
       "      <td>Total</td>\n",
       "      <td>Total</td>\n",
       "      <td>...</td>\n",
       "      <td>$1,240,855.95</td>\n",
       "      <td>$14,861,653.28</td>\n",
       "      <td>$995,613.48</td>\n",
       "      <td>8,024</td>\n",
       "      <td>3,473</td>\n",
       "      <td>6,599.64</td>\n",
       "      <td>$1,388,296.81</td>\n",
       "      <td>1,602</td>\n",
       "      <td>0</td>\n",
       "      <td>99.94%</td>\n",
       "    </tr>\n",
       "    <tr>\n",
       "      <th>1</th>\n",
       "      <td>5283</td>\n",
       "      <td>1</td>\n",
       "      <td>02139</td>\n",
       "      <td>01/22/18</td>\n",
       "      <td>01/22/18</td>\n",
       "      <td>05/29/18</td>\n",
       "      <td>TMS</td>\n",
       "      <td>CAMBRIDGE</td>\n",
       "      <td>2366</td>\n",
       "      <td>NaN</td>\n",
       "      <td>...</td>\n",
       "      <td>$6,147.36</td>\n",
       "      <td>$3,464.68</td>\n",
       "      <td>$6,187.96</td>\n",
       "      <td>4</td>\n",
       "      <td>1</td>\n",
       "      <td>12.75</td>\n",
       "      <td>$6,147.36</td>\n",
       "      <td>1</td>\n",
       "      <td>0</td>\n",
       "      <td>100.00%</td>\n",
       "    </tr>\n",
       "    <tr>\n",
       "      <th>2</th>\n",
       "      <td>5286</td>\n",
       "      <td>2</td>\n",
       "      <td>02118</td>\n",
       "      <td>01/23/18</td>\n",
       "      <td>01/16/18</td>\n",
       "      <td>06/27/18</td>\n",
       "      <td>MH Infusion</td>\n",
       "      <td>CAMBRIDGE</td>\n",
       "      <td>2337</td>\n",
       "      <td>NaN</td>\n",
       "      <td>...</td>\n",
       "      <td>NaN</td>\n",
       "      <td>$4,450.00</td>\n",
       "      <td>NaN</td>\n",
       "      <td>2</td>\n",
       "      <td>1</td>\n",
       "      <td>2.60</td>\n",
       "      <td>$0.00</td>\n",
       "      <td>1</td>\n",
       "      <td>0</td>\n",
       "      <td>100.00%</td>\n",
       "    </tr>\n",
       "    <tr>\n",
       "      <th>3</th>\n",
       "      <td>5287</td>\n",
       "      <td>3</td>\n",
       "      <td>02474</td>\n",
       "      <td>01/23/18</td>\n",
       "      <td>01/29/18</td>\n",
       "      <td>02/13/18</td>\n",
       "      <td>MH Infusion</td>\n",
       "      <td>CAMBRIDGE</td>\n",
       "      <td>2471</td>\n",
       "      <td>NaN</td>\n",
       "      <td>...</td>\n",
       "      <td>NaN</td>\n",
       "      <td>$3,400.00</td>\n",
       "      <td>NaN</td>\n",
       "      <td>2</td>\n",
       "      <td>1</td>\n",
       "      <td>7.00</td>\n",
       "      <td>$0.00</td>\n",
       "      <td>1</td>\n",
       "      <td>0</td>\n",
       "      <td>100.00%</td>\n",
       "    </tr>\n",
       "    <tr>\n",
       "      <th>4</th>\n",
       "      <td>5347</td>\n",
       "      <td>5</td>\n",
       "      <td>02127</td>\n",
       "      <td>01/23/18</td>\n",
       "      <td>01/25/18</td>\n",
       "      <td>03/27/18</td>\n",
       "      <td>MH Infusion</td>\n",
       "      <td>CAMBRIDGE</td>\n",
       "      <td>2429</td>\n",
       "      <td>NaN</td>\n",
       "      <td>...</td>\n",
       "      <td>NaN</td>\n",
       "      <td>$3,900.00</td>\n",
       "      <td>NaN</td>\n",
       "      <td>2</td>\n",
       "      <td>1</td>\n",
       "      <td>4.50</td>\n",
       "      <td>$0.00</td>\n",
       "      <td>1</td>\n",
       "      <td>0</td>\n",
       "      <td>100.00%</td>\n",
       "    </tr>\n",
       "  </tbody>\n",
       "</table>\n",
       "<p>5 rows × 29 columns</p>\n",
       "</div>"
      ],
      "text/plain": [
       "   Patient FID ChartNumber ZipCode (tmtPLPPatientLifeTimeProfile) CreatedDate  \\\n",
       "0  Grand Total       Total                                  Total       Total   \n",
       "1         5283           1                                  02139    01/22/18   \n",
       "2         5286           2                                  02118    01/23/18   \n",
       "3         5287           3                                  02474    01/23/18   \n",
       "4         5347           5                                  02127    01/23/18   \n",
       "\n",
       "  First Date Of Service Last Date Of Service Last Primary Appt Type Group  \\\n",
       "0                 Total                Total                        Total   \n",
       "1              01/22/18             05/29/18                          TMS   \n",
       "2              01/16/18             06/27/18                  MH Infusion   \n",
       "3              01/29/18             02/13/18                  MH Infusion   \n",
       "4              01/25/18             03/27/18                  MH Infusion   \n",
       "\n",
       "  Last Facility City Days Since Last DoS dim Next Scheduled Appt Date  ...  \\\n",
       "0              Total                   Total                    Total  ...   \n",
       "1          CAMBRIDGE                    2366                      NaN  ...   \n",
       "2          CAMBRIDGE                    2337                      NaN  ...   \n",
       "3          CAMBRIDGE                    2471                      NaN  ...   \n",
       "4          CAMBRIDGE                    2429                      NaN  ...   \n",
       "\n",
       "  Total Insurance Payments Total Patient Payments Total Writeoff Amount  \\\n",
       "0            $1,240,855.95         $14,861,653.28           $995,613.48   \n",
       "1                $6,147.36              $3,464.68             $6,187.96   \n",
       "2                      NaN              $4,450.00                   NaN   \n",
       "3                      NaN              $3,400.00                   NaN   \n",
       "4                      NaN              $3,900.00                   NaN   \n",
       "\n",
       "  Charge Code Count Diagnosis Code Count Vists / Months Span  OutstandingAR  \\\n",
       "0             8,024                3,473            6,599.64  $1,388,296.81   \n",
       "1                 4                    1               12.75      $6,147.36   \n",
       "2                 2                    1                2.60          $0.00   \n",
       "3                 2                    1                7.00          $0.00   \n",
       "4                 2                    1                4.50          $0.00   \n",
       "\n",
       "  Count of tmtPLPPatientLifeTimeProfile SeenProvidersCount PatientsWithVisit%  \n",
       "0                                 1,602                  0             99.94%  \n",
       "1                                     1                  0            100.00%  \n",
       "2                                     1                  0            100.00%  \n",
       "3                                     1                  0            100.00%  \n",
       "4                                     1                  0            100.00%  \n",
       "\n",
       "[5 rows x 29 columns]"
      ]
     },
     "execution_count": 3,
     "metadata": {},
     "output_type": "execute_result"
    }
   ],
   "source": [
    "plp_df.head()"
   ]
  },
  {
   "cell_type": "code",
   "execution_count": 4,
   "id": "5df1ff1e",
   "metadata": {},
   "outputs": [],
   "source": [
    "# Drop the first row\n",
    "plp_df.drop(index=0, inplace=True)\n",
    "plp_df.reset_index(drop=True, inplace=True)"
   ]
  },
  {
   "cell_type": "code",
   "execution_count": 5,
   "id": "1a088983",
   "metadata": {},
   "outputs": [],
   "source": [
    "plp_df[\"ChartNumber\"] = pd.to_numeric(plp_df[\"ChartNumber\"], errors=\"coerce\")"
   ]
  },
  {
   "cell_type": "code",
   "execution_count": 6,
   "id": "815a2dc3",
   "metadata": {},
   "outputs": [
    {
     "data": {
      "text/html": [
       "<div>\n",
       "<style scoped>\n",
       "    .dataframe tbody tr th:only-of-type {\n",
       "        vertical-align: middle;\n",
       "    }\n",
       "\n",
       "    .dataframe tbody tr th {\n",
       "        vertical-align: top;\n",
       "    }\n",
       "\n",
       "    .dataframe thead th {\n",
       "        text-align: right;\n",
       "    }\n",
       "</style>\n",
       "<table border=\"1\" class=\"dataframe\">\n",
       "  <thead>\n",
       "    <tr style=\"text-align: right;\">\n",
       "      <th></th>\n",
       "      <th>Appointment UID</th>\n",
       "      <th>Appt Status Description</th>\n",
       "      <th>Date Of Service</th>\n",
       "      <th>Chartnumber</th>\n",
       "      <th>NurseName</th>\n",
       "      <th>FirstTreatmentApptInd</th>\n",
       "      <th>Appt Type Group</th>\n",
       "      <th>Appt Type</th>\n",
       "      <th>Created By</th>\n",
       "      <th>Provider</th>\n",
       "      <th>Facility City</th>\n",
       "      <th>Room</th>\n",
       "      <th>Column Heading</th>\n",
       "      <th>#</th>\n",
       "      <th>Count of tblAppointments</th>\n",
       "      <th>Patient FID</th>\n",
       "    </tr>\n",
       "  </thead>\n",
       "  <tbody>\n",
       "    <tr>\n",
       "      <th>0</th>\n",
       "      <td>Grand Total</td>\n",
       "      <td>Total</td>\n",
       "      <td>Total</td>\n",
       "      <td>Total</td>\n",
       "      <td>Total</td>\n",
       "      <td>Total</td>\n",
       "      <td>Total</td>\n",
       "      <td>Total</td>\n",
       "      <td>Total</td>\n",
       "      <td>Total</td>\n",
       "      <td>Total</td>\n",
       "      <td>Total</td>\n",
       "      <td>Total</td>\n",
       "      <td>Total</td>\n",
       "      <td>55,975</td>\n",
       "      <td>*</td>\n",
       "    </tr>\n",
       "    <tr>\n",
       "      <th>1</th>\n",
       "      <td>1</td>\n",
       "      <td>Made</td>\n",
       "      <td>01/01/00</td>\n",
       "      <td>NaN</td>\n",
       "      <td>NaN</td>\n",
       "      <td>N</td>\n",
       "      <td>Default</td>\n",
       "      <td>NaN</td>\n",
       "      <td>system</td>\n",
       "      <td>,</td>\n",
       "      <td>NaN</td>\n",
       "      <td>Other</td>\n",
       "      <td>NaN</td>\n",
       "      <td>1</td>\n",
       "      <td>1</td>\n",
       "      <td>1</td>\n",
       "    </tr>\n",
       "    <tr>\n",
       "      <th>2</th>\n",
       "      <td>109</td>\n",
       "      <td>Seen</td>\n",
       "      <td>01/22/18</td>\n",
       "      <td>1</td>\n",
       "      <td>NaN</td>\n",
       "      <td>N</td>\n",
       "      <td>Intake</td>\n",
       "      <td>TMS INTAKE DR. BRENNER</td>\n",
       "      <td>EMILY</td>\n",
       "      <td>BRENNER,DANIEL A</td>\n",
       "      <td>CAMBRIDGE</td>\n",
       "      <td>Other</td>\n",
       "      <td>DR. BRENNER</td>\n",
       "      <td>2</td>\n",
       "      <td>1</td>\n",
       "      <td>5,283</td>\n",
       "    </tr>\n",
       "    <tr>\n",
       "      <th>3</th>\n",
       "      <td>239</td>\n",
       "      <td>Seen</td>\n",
       "      <td>01/22/18</td>\n",
       "      <td>2</td>\n",
       "      <td>NaN</td>\n",
       "      <td>N</td>\n",
       "      <td>MH Infusion</td>\n",
       "      <td>KETAMINE MH -INFUSION ONLY</td>\n",
       "      <td>EMILY</td>\n",
       "      <td>BRENNER,DANIEL A</td>\n",
       "      <td>CAMBRIDGE</td>\n",
       "      <td>Other</td>\n",
       "      <td>2C</td>\n",
       "      <td>3</td>\n",
       "      <td>1</td>\n",
       "      <td>5,286</td>\n",
       "    </tr>\n",
       "    <tr>\n",
       "      <th>4</th>\n",
       "      <td>240</td>\n",
       "      <td>Made</td>\n",
       "      <td>01/22/18</td>\n",
       "      <td>9</td>\n",
       "      <td>NaN</td>\n",
       "      <td>N</td>\n",
       "      <td>Intake</td>\n",
       "      <td>TMS INTAKE DR. BRENNER</td>\n",
       "      <td>EMILY</td>\n",
       "      <td>BRENNER,DANIEL A</td>\n",
       "      <td>CAMBRIDGE</td>\n",
       "      <td>Other</td>\n",
       "      <td>DR. BRENNER</td>\n",
       "      <td>4</td>\n",
       "      <td>1</td>\n",
       "      <td>5,351</td>\n",
       "    </tr>\n",
       "  </tbody>\n",
       "</table>\n",
       "</div>"
      ],
      "text/plain": [
       "  Appointment UID Appt Status Description Date Of Service Chartnumber  \\\n",
       "0     Grand Total                   Total           Total       Total   \n",
       "1               1                    Made        01/01/00         NaN   \n",
       "2             109                    Seen        01/22/18           1   \n",
       "3             239                    Seen        01/22/18           2   \n",
       "4             240                    Made        01/22/18           9   \n",
       "\n",
       "  NurseName FirstTreatmentApptInd Appt Type Group                   Appt Type  \\\n",
       "0     Total                 Total           Total                       Total   \n",
       "1       NaN                     N         Default                         NaN   \n",
       "2       NaN                     N          Intake      TMS INTAKE DR. BRENNER   \n",
       "3       NaN                     N     MH Infusion  KETAMINE MH -INFUSION ONLY   \n",
       "4       NaN                     N          Intake      TMS INTAKE DR. BRENNER   \n",
       "\n",
       "  Created By          Provider Facility City   Room Column Heading      #  \\\n",
       "0      Total             Total         Total  Total          Total  Total   \n",
       "1     system                 ,           NaN  Other            NaN      1   \n",
       "2      EMILY  BRENNER,DANIEL A     CAMBRIDGE  Other    DR. BRENNER      2   \n",
       "3      EMILY  BRENNER,DANIEL A     CAMBRIDGE  Other             2C      3   \n",
       "4      EMILY  BRENNER,DANIEL A     CAMBRIDGE  Other    DR. BRENNER      4   \n",
       "\n",
       "  Count of tblAppointments Patient FID  \n",
       "0                   55,975           *  \n",
       "1                        1           1  \n",
       "2                        1       5,283  \n",
       "3                        1       5,286  \n",
       "4                        1       5,351  "
      ]
     },
     "execution_count": 6,
     "metadata": {},
     "output_type": "execute_result"
    }
   ],
   "source": [
    "appointment_df.head()"
   ]
  },
  {
   "cell_type": "code",
   "execution_count": 7,
   "id": "c5dc5fd1",
   "metadata": {},
   "outputs": [
    {
     "name": "stdout",
     "output_type": "stream",
     "text": [
      "<class 'pandas.core.frame.DataFrame'>\n",
      "RangeIndex: 55976 entries, 0 to 55975\n",
      "Data columns (total 16 columns):\n",
      " #   Column                    Non-Null Count  Dtype \n",
      "---  ------                    --------------  ----- \n",
      " 0   Appointment UID           55976 non-null  object\n",
      " 1   Appt Status Description   55976 non-null  object\n",
      " 2   Date Of Service           37250 non-null  object\n",
      " 3   Chartnumber               55975 non-null  object\n",
      " 4   NurseName                 19321 non-null  object\n",
      " 5   FirstTreatmentApptInd     54678 non-null  object\n",
      " 6   Appt Type Group           54678 non-null  object\n",
      " 7   Appt Type                 54677 non-null  object\n",
      " 8   Created By                55976 non-null  object\n",
      " 9   Provider                  55976 non-null  object\n",
      " 10  Facility City             51738 non-null  object\n",
      " 11  Room                      55976 non-null  object\n",
      " 12  Column Heading            54697 non-null  object\n",
      " 13  #                         55976 non-null  object\n",
      " 14  Count of tblAppointments  55976 non-null  object\n",
      " 15  Patient FID               55976 non-null  object\n",
      "dtypes: object(16)\n",
      "memory usage: 6.8+ MB\n"
     ]
    }
   ],
   "source": [
    "appointment_df.info()"
   ]
  },
  {
   "cell_type": "code",
   "execution_count": 8,
   "id": "f8bb7120",
   "metadata": {},
   "outputs": [],
   "source": [
    "# Drop the first two rows \n",
    "appointment_df.drop(index=[0, 1], inplace=True)"
   ]
  },
  {
   "cell_type": "code",
   "execution_count": 9,
   "id": "8e33735b",
   "metadata": {},
   "outputs": [
    {
     "name": "stderr",
     "output_type": "stream",
     "text": [
      "/tmp/ipykernel_83566/2432676088.py:2: UserWarning: Could not infer format, so each element will be parsed individually, falling back to `dateutil`. To ensure parsing is consistent and as-expected, please specify a format.\n",
      "  appointment_df[\"Date\"] = pd.to_datetime(appointment_df[\"Date Of Service\"], errors=\"coerce\")\n"
     ]
    }
   ],
   "source": [
    "appointment_df[\"Chartnumber\"] = pd.to_numeric(appointment_df[\"Chartnumber\"], errors=\"coerce\")\n",
    "appointment_df[\"Date\"] = pd.to_datetime(appointment_df[\"Date Of Service\"], errors=\"coerce\")"
   ]
  },
  {
   "cell_type": "code",
   "execution_count": 10,
   "id": "76bdae78",
   "metadata": {},
   "outputs": [],
   "source": [
    "# Replace \"Made\" with \"Seen\"\n",
    "appointment_df[\"Appt Status Description\"].replace(to_replace=\"Made\", value=\"Seen\", inplace=True)"
   ]
  },
  {
   "cell_type": "code",
   "execution_count": 11,
   "id": "9c3b6b2e",
   "metadata": {},
   "outputs": [
    {
     "data": {
      "text/plain": [
       "4237"
      ]
     },
     "execution_count": 11,
     "metadata": {},
     "output_type": "execute_result"
    }
   ],
   "source": [
    "appointment_df[\"Facility City\"].isna().sum()"
   ]
  },
  {
   "cell_type": "code",
   "execution_count": 12,
   "id": "98c79bd4",
   "metadata": {},
   "outputs": [
    {
     "name": "stderr",
     "output_type": "stream",
     "text": [
      "/tmp/ipykernel_83566/1807988571.py:1: FutureWarning: DataFrame.backfill/Series.backfill is deprecated. Use DataFrame.bfill/Series.bfill instead\n",
      "  appointment_df[\"Facility City\"] = appointment_df[\"Facility City\"].ffill().backfill()\n"
     ]
    }
   ],
   "source": [
    "appointment_df[\"Facility City\"] = appointment_df[\"Facility City\"].ffill().backfill()"
   ]
  },
  {
   "cell_type": "code",
   "execution_count": 13,
   "id": "cfa9868d",
   "metadata": {},
   "outputs": [
    {
     "data": {
      "text/plain": [
       "0"
      ]
     },
     "execution_count": 13,
     "metadata": {},
     "output_type": "execute_result"
    }
   ],
   "source": [
    "# Confirm if there are still null values\n",
    "appointment_df[\"Facility City\"].isna().sum()"
   ]
  },
  {
   "cell_type": "code",
   "execution_count": 14,
   "id": "f818c596",
   "metadata": {},
   "outputs": [],
   "source": [
    "# Select the successfull appointments(visits)\n",
    "seen_df = appointment_df[appointment_df[\"Appt Status Description\"]==\"Seen\"]\n",
    "\n",
    "# subset the data set \n",
    "subset_columns = [\"Date\", \"Chartnumber\", \"Appt Type Group\", \"Facility City\"]\n",
    "seen_df = seen_df[subset_columns]\n",
    "\n",
    "# Drop any record with null values \n",
    "seen_df.dropna(how=\"any\", inplace=True)"
   ]
  },
  {
   "cell_type": "code",
   "execution_count": 15,
   "id": "3abae711",
   "metadata": {
    "scrolled": true
   },
   "outputs": [
    {
     "data": {
      "text/plain": [
       "0.8556767158434894"
      ]
     },
     "execution_count": 15,
     "metadata": {},
     "output_type": "execute_result"
    }
   ],
   "source": [
    "# Calculate the percentage of patients who start with intake \n",
    "count = 0\n",
    "chart_numbers = seen_df[\"Chartnumber\"].unique()\n",
    "\n",
    "for chart_no in chart_numbers:\n",
    "    # Filter the data set \n",
    "    df_by_chart_no = seen_df[seen_df[\"Chartnumber\"]==chart_no].sort_values(by=\"Date\")\n",
    "    df_by_chart_no.reset_index(drop=True, inplace=True)\n",
    "    \n",
    "    if df_by_chart_no[\"Appt Type Group\"][0]==\"Intake\":\n",
    "        count+=1\n",
    "    else:\n",
    "        pass\n",
    "    \n",
    "# Patients enrolled with an intake    \n",
    "count/seen_df[\"Chartnumber\"].nunique()"
   ]
  },
  {
   "cell_type": "markdown",
   "id": "11391e77",
   "metadata": {},
   "source": [
    "approximately 86% of the patients enrolled with an intake instead of treatment or follow up"
   ]
  },
  {
   "cell_type": "markdown",
   "id": "64961e68",
   "metadata": {},
   "source": [
    "Features/Variables to include in the post intake dataset \n",
    "\n",
    "* Chart number \n",
    "* First Service after enrollment\n",
    "* First Service after intake\n",
    "* Days after intake\n",
    "* Days between MH Infusion and Intake \n",
    "* Number of visits\n",
    "* Number of MH infusions\n",
    "\n",
    "* Number of MH infusions outside cambridge \n",
    "* Number of visits outside cambridge"
   ]
  },
  {
   "cell_type": "code",
   "execution_count": 16,
   "id": "5b6ea296",
   "metadata": {
    "scrolled": true
   },
   "outputs": [],
   "source": [
    "first_service_after_enrollment = []\n",
    "first_service_after_intake = []\n",
    "days_after_intake = []\n",
    "days_btn_mhinfusion_intake = []\n",
    "visit_count = []\n",
    "mhInfusion_count = []\n",
    "\n",
    "# Additional Modifications\n",
    "infusion_count_outside_cambridge = []\n",
    "visit_count_outside_cambridge = []\n",
    "intake_facility_city = []\n",
    "\n",
    "\n",
    "\n",
    "for chart_no in chart_numbers:\n",
    "    # Filter the data set by chart number\n",
    "    df_by_chart_no = seen_df[seen_df[\"Chartnumber\"]==chart_no].sort_values(by=\"Date\")\n",
    "    df_by_chart_no.reset_index(drop=True, inplace=True)\n",
    "    \n",
    "    # Get the required data \n",
    "    first_service_after_enrollment.append(df_by_chart_no[\"Appt Type Group\"][0])\n",
    "    visit_count.append(df_by_chart_no.shape[0])\n",
    "    mhInfusion_count.append(df_by_chart_no[\"Appt Type Group\"].to_list().count('MH Infusion'))\n",
    "    \n",
    "    # Get the additional data \n",
    "    ## Filter out Cambridge visits from the data\n",
    "    outside_cambridge_df = df_by_chart_no[df_by_chart_no[\"Facility City\"]!=\"CAMBRIDGE\"]\n",
    "    visit_count_outside_cambridge.append(outside_cambridge_df.shape[0])\n",
    "    \n",
    "    ## Count the number of infusions outside cambridge\n",
    "    infusion_count_outside_cambridge.append(outside_cambridge_df[\"Appt Type Group\"].tolist().count('MH Infusion'))\n",
    "    \n",
    "    if df_by_chart_no[\"Appt Type Group\"].tolist()[0] == \"Intake\":\n",
    "        # Check if there exists multiple services\n",
    "        if df_by_chart_no.shape[0] > 1:\n",
    "            first_service_after_intake.append(df_by_chart_no[\"Appt Type Group\"][1])\n",
    "\n",
    "            # Calculate days after intake\n",
    "            days_1 = (df_by_chart_no[\"Date\"][1] - df_by_chart_no[\"Date\"][0]).days\n",
    "            days_after_intake.append(days_1)\n",
    "            \n",
    "            # Get the intake facility city \n",
    "            intake_facility_city.append(df_by_chart_no[\"Facility City\"][0])\n",
    "\n",
    "            # Calculate days between intake and MH infusion\n",
    "            try:\n",
    "                mhInfusion_index = df_by_chart_no[\"Appt Type Group\"].tolist().index('MH Infusion')\n",
    "                days_2 = (df_by_chart_no[\"Date\"][mhInfusion_index] - df_by_chart_no[\"Date\"][0]).days\n",
    "                days_btn_mhinfusion_intake.append(days_2)\n",
    "            except ValueError: \n",
    "                days_btn_mhinfusion_intake.append(np.nan)        \n",
    "        \n",
    "        # The service only includes intake\n",
    "        else:\n",
    "            \n",
    "            intake_facility_city.append(df_by_chart_no[\"Facility City\"][0])\n",
    "            \n",
    "            first_service_after_intake.append(np.nan)\n",
    "            days_after_intake.append(np.nan)\n",
    "            days_btn_mhinfusion_intake.append(np.nan)\n",
    "        \n",
    "    else: \n",
    "        # Intake exists  \n",
    "        if \"Intake\" in df_by_chart_no[\"Appt Type Group\"].tolist():\n",
    "            # Note the intake index\n",
    "            intake_index = df_by_chart_no[\"Appt Type Group\"].tolist().index(\"Intake\")\n",
    "                \n",
    "            try:\n",
    "                first_service_after_intake.append(df_by_chart_no[\"Appt Type Group\"].tolist()[intake_index + 1])\n",
    "                \n",
    "                # Get the intake facility city\n",
    "                intake_facility_city.append(df_by_chart_no[\"Facility City\"][intake_index])\n",
    "    \n",
    "                # Calculate days after intake\n",
    "                days_1 = (df_by_chart_no[\"Date\"][intake_index + 1] - df_by_chart_no[\"Date\"][intake_index]).days\n",
    "                days_after_intake.append(days_1)\n",
    "                \n",
    "                # Calculate days between intake and MH infusion\n",
    "                try:\n",
    "                    mhInfusion_index = df_by_chart_no[\"Appt Type Group\"].tolist().index('MH Infusion')\n",
    "                    days_2 = (df_by_chart_no[\"Date\"][mhInfusion_index] - df_by_chart_no[\"Date\"][0]).days\n",
    "                    days_btn_mhinfusion_intake.append(days_2)\n",
    "                except ValueError: \n",
    "                    days_btn_mhinfusion_intake.append(np.nan) \n",
    "                    \n",
    "            # if intake is the last service just insert a null value\n",
    "            except IndexError:\n",
    "                # Get the intake facility city\n",
    "                intake_facility_city.append(df_by_chart_no[\"Facility City\"][intake_index])\n",
    "                \n",
    "                first_service_after_intake.append(np.nan)\n",
    "                days_after_intake.append(np.nan)\n",
    "                days_btn_mhinfusion_intake.append(np.nan)\n",
    "            \n",
    "        else: \n",
    "            # Get the intake facility city\n",
    "            intake_facility_city.append(np.nan)\n",
    "        \n",
    "            first_service_after_intake.append(np.nan)\n",
    "            days_after_intake.append(np.nan)\n",
    "            days_btn_mhinfusion_intake.append(np.nan)"
   ]
  },
  {
   "cell_type": "code",
   "execution_count": 17,
   "id": "38e9df57",
   "metadata": {},
   "outputs": [],
   "source": [
    "# Create the dataframe \n",
    "post_intake_df = pd.DataFrame({\n",
    "    \"Chartnumber\":chart_numbers,\n",
    "    \"First post-enrollment service\": first_service_after_enrollment,\n",
    "    \"First post-intake service\": first_service_after_intake,\n",
    "    \"Post-intake days\": days_after_intake,\n",
    "    \"Days btn MHinfusion and Intake\": days_btn_mhinfusion_intake,\n",
    "    \"Visits\": visit_count,\n",
    "    \"MH infusions\": mhInfusion_count, \n",
    "    \"infusions outside Cambridge\":infusion_count_outside_cambridge,\n",
    "    \"Visits outside Cambridge\": visit_count_outside_cambridge,\n",
    "    \"Intake Facility City\": intake_facility_city\n",
    "})"
   ]
  },
  {
   "cell_type": "code",
   "execution_count": 18,
   "id": "88bb1a12",
   "metadata": {},
   "outputs": [
    {
     "data": {
      "text/html": [
       "<div>\n",
       "<style scoped>\n",
       "    .dataframe tbody tr th:only-of-type {\n",
       "        vertical-align: middle;\n",
       "    }\n",
       "\n",
       "    .dataframe tbody tr th {\n",
       "        vertical-align: top;\n",
       "    }\n",
       "\n",
       "    .dataframe thead th {\n",
       "        text-align: right;\n",
       "    }\n",
       "</style>\n",
       "<table border=\"1\" class=\"dataframe\">\n",
       "  <thead>\n",
       "    <tr style=\"text-align: right;\">\n",
       "      <th></th>\n",
       "      <th>Chartnumber</th>\n",
       "      <th>First post-enrollment service</th>\n",
       "      <th>First post-intake service</th>\n",
       "      <th>Post-intake days</th>\n",
       "      <th>Days btn MHinfusion and Intake</th>\n",
       "      <th>Visits</th>\n",
       "      <th>MH infusions</th>\n",
       "      <th>infusions outside Cambridge</th>\n",
       "      <th>Visits outside Cambridge</th>\n",
       "      <th>Intake Facility City</th>\n",
       "    </tr>\n",
       "  </thead>\n",
       "  <tbody>\n",
       "    <tr>\n",
       "      <th>0</th>\n",
       "      <td>1</td>\n",
       "      <td>Intake</td>\n",
       "      <td>TMS</td>\n",
       "      <td>14.0</td>\n",
       "      <td>NaN</td>\n",
       "      <td>49</td>\n",
       "      <td>0</td>\n",
       "      <td>0</td>\n",
       "      <td>0</td>\n",
       "      <td>CAMBRIDGE</td>\n",
       "    </tr>\n",
       "    <tr>\n",
       "      <th>1</th>\n",
       "      <td>2</td>\n",
       "      <td>MH Infusion</td>\n",
       "      <td>NaN</td>\n",
       "      <td>NaN</td>\n",
       "      <td>NaN</td>\n",
       "      <td>8</td>\n",
       "      <td>8</td>\n",
       "      <td>0</td>\n",
       "      <td>0</td>\n",
       "      <td>NaN</td>\n",
       "    </tr>\n",
       "    <tr>\n",
       "      <th>2</th>\n",
       "      <td>9</td>\n",
       "      <td>Intake</td>\n",
       "      <td>TMS</td>\n",
       "      <td>9.0</td>\n",
       "      <td>66.0</td>\n",
       "      <td>68</td>\n",
       "      <td>30</td>\n",
       "      <td>0</td>\n",
       "      <td>0</td>\n",
       "      <td>CAMBRIDGE</td>\n",
       "    </tr>\n",
       "    <tr>\n",
       "      <th>3</th>\n",
       "      <td>6</td>\n",
       "      <td>Intake</td>\n",
       "      <td>MH Infusion</td>\n",
       "      <td>0.0</td>\n",
       "      <td>0.0</td>\n",
       "      <td>16</td>\n",
       "      <td>13</td>\n",
       "      <td>0</td>\n",
       "      <td>0</td>\n",
       "      <td>CAMBRIDGE</td>\n",
       "    </tr>\n",
       "    <tr>\n",
       "      <th>4</th>\n",
       "      <td>12</td>\n",
       "      <td>Intake</td>\n",
       "      <td>NaN</td>\n",
       "      <td>NaN</td>\n",
       "      <td>NaN</td>\n",
       "      <td>1</td>\n",
       "      <td>0</td>\n",
       "      <td>0</td>\n",
       "      <td>0</td>\n",
       "      <td>CAMBRIDGE</td>\n",
       "    </tr>\n",
       "  </tbody>\n",
       "</table>\n",
       "</div>"
      ],
      "text/plain": [
       "   Chartnumber First post-enrollment service First post-intake service  \\\n",
       "0            1                        Intake                       TMS   \n",
       "1            2                   MH Infusion                       NaN   \n",
       "2            9                        Intake                       TMS   \n",
       "3            6                        Intake               MH Infusion   \n",
       "4           12                        Intake                       NaN   \n",
       "\n",
       "   Post-intake days  Days btn MHinfusion and Intake  Visits  MH infusions  \\\n",
       "0              14.0                             NaN      49             0   \n",
       "1               NaN                             NaN       8             8   \n",
       "2               9.0                            66.0      68            30   \n",
       "3               0.0                             0.0      16            13   \n",
       "4               NaN                             NaN       1             0   \n",
       "\n",
       "   infusions outside Cambridge  Visits outside Cambridge Intake Facility City  \n",
       "0                            0                         0            CAMBRIDGE  \n",
       "1                            0                         0                  NaN  \n",
       "2                            0                         0            CAMBRIDGE  \n",
       "3                            0                         0            CAMBRIDGE  \n",
       "4                            0                         0            CAMBRIDGE  "
      ]
     },
     "execution_count": 18,
     "metadata": {},
     "output_type": "execute_result"
    }
   ],
   "source": [
    "post_intake_df.head()"
   ]
  },
  {
   "cell_type": "code",
   "execution_count": 19,
   "id": "a12454d3",
   "metadata": {},
   "outputs": [
    {
     "name": "stdout",
     "output_type": "stream",
     "text": [
      "<class 'pandas.core.frame.DataFrame'>\n",
      "RangeIndex: 1559 entries, 0 to 1558\n",
      "Data columns (total 10 columns):\n",
      " #   Column                          Non-Null Count  Dtype  \n",
      "---  ------                          --------------  -----  \n",
      " 0   Chartnumber                     1559 non-null   int64  \n",
      " 1   First post-enrollment service   1559 non-null   object \n",
      " 2   First post-intake service       1137 non-null   object \n",
      " 3   Post-intake days                1137 non-null   float64\n",
      " 4   Days btn MHinfusion and Intake  945 non-null    float64\n",
      " 5   Visits                          1559 non-null   int64  \n",
      " 6   MH infusions                    1559 non-null   int64  \n",
      " 7   infusions outside Cambridge     1559 non-null   int64  \n",
      " 8   Visits outside Cambridge        1559 non-null   int64  \n",
      " 9   Intake Facility City            1343 non-null   object \n",
      "dtypes: float64(2), int64(5), object(3)\n",
      "memory usage: 121.9+ KB\n"
     ]
    }
   ],
   "source": [
    "post_intake_df.info()"
   ]
  },
  {
   "cell_type": "markdown",
   "id": "e5af0d03",
   "metadata": {},
   "source": [
    "## Patient Segmentation \n",
    "Will segment the patients into four segments from the PLP data set; \n",
    "\n",
    "- before mid-2023 patients \n",
    "- late 2023 patients \n",
    "- 2024 patients \n",
    "- all-time patients "
   ]
  },
  {
   "cell_type": "code",
   "execution_count": 20,
   "id": "2da522d6",
   "metadata": {},
   "outputs": [],
   "source": [
    "def segment_patients(first_day, last_day): \n",
    "    \"\"\"\n",
    "    Docstring \n",
    "    This function will segment patients into different four segments \n",
    "        - `before mid-2023` category \n",
    "        - `late 2023` category\n",
    "        - `2024` category\n",
    "        - `all-time` category\n",
    "        \n",
    "    This based on their first and last date. \n",
    "    \"\"\"\n",
    "    mid_2023 = pd.to_datetime(\"2023-07-01\")\n",
    "    start_2024 = pd.to_datetime(\"2024-01-01\")\n",
    "    \n",
    "    first_day = pd.to_datetime(first_day, errors=\"coerce\")\n",
    "    last_day = pd.to_datetime(last_day, errors=\"coerce\")\n",
    "    \n",
    "    segment = \"Unknown\"\n",
    "    \n",
    "    try:\n",
    "        if last_day < mid_2023:\n",
    "            segment = \"before mid-2023\"\n",
    "        elif first_day >= mid_2023 and last_day < start_2024:\n",
    "            segment = \"late 2023\"\n",
    "        elif first_day >= start_2024:\n",
    "            segment = \"2024\"\n",
    "        elif first_day < mid_2023 and last_day >= mid_2023:\n",
    "            segment = \"all-time\"\n",
    "    \n",
    "    except UnboundLocalError:\n",
    "        print(i)\n",
    "        \n",
    "    return segment\n",
    "    "
   ]
  },
  {
   "cell_type": "code",
   "execution_count": 21,
   "id": "c47959f4",
   "metadata": {
    "scrolled": true
   },
   "outputs": [
    {
     "data": {
      "text/html": [
       "<div>\n",
       "<style scoped>\n",
       "    .dataframe tbody tr th:only-of-type {\n",
       "        vertical-align: middle;\n",
       "    }\n",
       "\n",
       "    .dataframe tbody tr th {\n",
       "        vertical-align: top;\n",
       "    }\n",
       "\n",
       "    .dataframe thead th {\n",
       "        text-align: right;\n",
       "    }\n",
       "</style>\n",
       "<table border=\"1\" class=\"dataframe\">\n",
       "  <thead>\n",
       "    <tr style=\"text-align: right;\">\n",
       "      <th></th>\n",
       "      <th>ChartNumber</th>\n",
       "      <th>Patient category</th>\n",
       "    </tr>\n",
       "  </thead>\n",
       "  <tbody>\n",
       "    <tr>\n",
       "      <th>0</th>\n",
       "      <td>1</td>\n",
       "      <td>before mid-2023</td>\n",
       "    </tr>\n",
       "    <tr>\n",
       "      <th>1</th>\n",
       "      <td>2</td>\n",
       "      <td>before mid-2023</td>\n",
       "    </tr>\n",
       "    <tr>\n",
       "      <th>2</th>\n",
       "      <td>3</td>\n",
       "      <td>before mid-2023</td>\n",
       "    </tr>\n",
       "    <tr>\n",
       "      <th>3</th>\n",
       "      <td>5</td>\n",
       "      <td>before mid-2023</td>\n",
       "    </tr>\n",
       "    <tr>\n",
       "      <th>4</th>\n",
       "      <td>6</td>\n",
       "      <td>before mid-2023</td>\n",
       "    </tr>\n",
       "  </tbody>\n",
       "</table>\n",
       "</div>"
      ],
      "text/plain": [
       "   ChartNumber Patient category\n",
       "0            1  before mid-2023\n",
       "1            2  before mid-2023\n",
       "2            3  before mid-2023\n",
       "3            5  before mid-2023\n",
       "4            6  before mid-2023"
      ]
     },
     "execution_count": 21,
     "metadata": {},
     "output_type": "execute_result"
    }
   ],
   "source": [
    "patients_category = []\n",
    "\n",
    "for i in range(len(plp_df)):\n",
    "    category = segment_patients(plp_df['First Date Of Service'][i], plp_df['Last Date Of Service'][i])\n",
    "    patients_category.append(category)\n",
    "    \n",
    "# Add the category as a column to the PLP data set\n",
    "plp_df[\"Patient category\"] = patients_category\n",
    "\n",
    "# Select the required variables \n",
    "plp_df = plp_df[[\"ChartNumber\", \"Patient category\"]]\n",
    "\n",
    "# Review the operation\n",
    "plp_df.head()"
   ]
  },
  {
   "cell_type": "code",
   "execution_count": 22,
   "id": "21fe686e",
   "metadata": {},
   "outputs": [
    {
     "name": "stderr",
     "output_type": "stream",
     "text": [
      "/tmp/ipykernel_83566/3137524295.py:6: FutureWarning: DataFrame.backfill/Series.backfill is deprecated. Use DataFrame.bfill/Series.bfill instead\n",
      "  df[\"Intake Facility City\"] = df[\"Intake Facility City\"].ffill().backfill()\n"
     ]
    },
    {
     "data": {
      "text/html": [
       "<div>\n",
       "<style scoped>\n",
       "    .dataframe tbody tr th:only-of-type {\n",
       "        vertical-align: middle;\n",
       "    }\n",
       "\n",
       "    .dataframe tbody tr th {\n",
       "        vertical-align: top;\n",
       "    }\n",
       "\n",
       "    .dataframe thead th {\n",
       "        text-align: right;\n",
       "    }\n",
       "</style>\n",
       "<table border=\"1\" class=\"dataframe\">\n",
       "  <thead>\n",
       "    <tr style=\"text-align: right;\">\n",
       "      <th></th>\n",
       "      <th>Chartnumber</th>\n",
       "      <th>First post-enrollment service</th>\n",
       "      <th>First post-intake service</th>\n",
       "      <th>Post-intake days</th>\n",
       "      <th>Days btn MHinfusion and Intake</th>\n",
       "      <th>Visits</th>\n",
       "      <th>MH infusions</th>\n",
       "      <th>infusions outside Cambridge</th>\n",
       "      <th>Visits outside Cambridge</th>\n",
       "      <th>Intake Facility City</th>\n",
       "      <th>Patient category</th>\n",
       "    </tr>\n",
       "  </thead>\n",
       "  <tbody>\n",
       "    <tr>\n",
       "      <th>0</th>\n",
       "      <td>1</td>\n",
       "      <td>Intake</td>\n",
       "      <td>TMS</td>\n",
       "      <td>14.0</td>\n",
       "      <td>NaN</td>\n",
       "      <td>49</td>\n",
       "      <td>0</td>\n",
       "      <td>0</td>\n",
       "      <td>0</td>\n",
       "      <td>CAMBRIDGE</td>\n",
       "      <td>before mid-2023</td>\n",
       "    </tr>\n",
       "    <tr>\n",
       "      <th>1</th>\n",
       "      <td>2</td>\n",
       "      <td>MH Infusion</td>\n",
       "      <td>NaN</td>\n",
       "      <td>NaN</td>\n",
       "      <td>NaN</td>\n",
       "      <td>8</td>\n",
       "      <td>8</td>\n",
       "      <td>0</td>\n",
       "      <td>0</td>\n",
       "      <td>CAMBRIDGE</td>\n",
       "      <td>before mid-2023</td>\n",
       "    </tr>\n",
       "    <tr>\n",
       "      <th>2</th>\n",
       "      <td>9</td>\n",
       "      <td>Intake</td>\n",
       "      <td>TMS</td>\n",
       "      <td>9.0</td>\n",
       "      <td>66.0</td>\n",
       "      <td>68</td>\n",
       "      <td>30</td>\n",
       "      <td>0</td>\n",
       "      <td>0</td>\n",
       "      <td>CAMBRIDGE</td>\n",
       "      <td>before mid-2023</td>\n",
       "    </tr>\n",
       "    <tr>\n",
       "      <th>3</th>\n",
       "      <td>6</td>\n",
       "      <td>Intake</td>\n",
       "      <td>MH Infusion</td>\n",
       "      <td>0.0</td>\n",
       "      <td>0.0</td>\n",
       "      <td>16</td>\n",
       "      <td>13</td>\n",
       "      <td>0</td>\n",
       "      <td>0</td>\n",
       "      <td>CAMBRIDGE</td>\n",
       "      <td>before mid-2023</td>\n",
       "    </tr>\n",
       "    <tr>\n",
       "      <th>4</th>\n",
       "      <td>12</td>\n",
       "      <td>Intake</td>\n",
       "      <td>NaN</td>\n",
       "      <td>NaN</td>\n",
       "      <td>NaN</td>\n",
       "      <td>1</td>\n",
       "      <td>0</td>\n",
       "      <td>0</td>\n",
       "      <td>0</td>\n",
       "      <td>CAMBRIDGE</td>\n",
       "      <td>before mid-2023</td>\n",
       "    </tr>\n",
       "  </tbody>\n",
       "</table>\n",
       "</div>"
      ],
      "text/plain": [
       "   Chartnumber First post-enrollment service First post-intake service  \\\n",
       "0            1                        Intake                       TMS   \n",
       "1            2                   MH Infusion                       NaN   \n",
       "2            9                        Intake                       TMS   \n",
       "3            6                        Intake               MH Infusion   \n",
       "4           12                        Intake                       NaN   \n",
       "\n",
       "   Post-intake days  Days btn MHinfusion and Intake  Visits  MH infusions  \\\n",
       "0              14.0                             NaN      49             0   \n",
       "1               NaN                             NaN       8             8   \n",
       "2               9.0                            66.0      68            30   \n",
       "3               0.0                             0.0      16            13   \n",
       "4               NaN                             NaN       1             0   \n",
       "\n",
       "   infusions outside Cambridge  Visits outside Cambridge Intake Facility City  \\\n",
       "0                            0                         0            CAMBRIDGE   \n",
       "1                            0                         0            CAMBRIDGE   \n",
       "2                            0                         0            CAMBRIDGE   \n",
       "3                            0                         0            CAMBRIDGE   \n",
       "4                            0                         0            CAMBRIDGE   \n",
       "\n",
       "  Patient category  \n",
       "0  before mid-2023  \n",
       "1  before mid-2023  \n",
       "2  before mid-2023  \n",
       "3  before mid-2023  \n",
       "4  before mid-2023  "
      ]
     },
     "execution_count": 22,
     "metadata": {},
     "output_type": "execute_result"
    }
   ],
   "source": [
    "# Merge with the post_intake data set \n",
    "df = post_intake_df.merge(plp_df, left_on = \"Chartnumber\", right_on=\"ChartNumber\")\n",
    "df.drop(\"ChartNumber\", axis=1, inplace=True)\n",
    "\n",
    "# Fill null spaces in the city\n",
    "df[\"Intake Facility City\"] = df[\"Intake Facility City\"].ffill().backfill()\n",
    "\n",
    "## Set intake facility city to others if not cambridge \n",
    "df[\"Intake Facility City\"] = df[\"Intake Facility City\"].apply(lambda x: x if x == 'CAMBRIDGE' else 'OTHER')\n",
    "\n",
    "df.head()"
   ]
  },
  {
   "cell_type": "markdown",
   "id": "7b0e8b33",
   "metadata": {},
   "source": [
    "## Data Analysis and Visualization"
   ]
  },
  {
   "cell_type": "markdown",
   "id": "578de3ed",
   "metadata": {},
   "source": [
    "Ideas to be analyzed.\n",
    "\n",
    "* Rate of MH infusions compared to visit(infusions/visits) according to category - are people considering other forms of treatment? \n",
    "* Post intake days and days between MHinfusion and Intake per category(analyzed together) - delays for other services vs infusions delays\n",
    "* Are people considering other facilities other than Cambridge? Are they specifically for MH infusions? \n",
    "    \n",
    "    * Visits outside cambridge and infusions outside cambridge \n",
    "    * What facility cities do intakes occur per each patient category\n",
    "    \n",
    "* More to come ..."
   ]
  },
  {
   "cell_type": "markdown",
   "id": "052c6c23",
   "metadata": {},
   "source": [
    "**Are people consider other forms of treatment?**"
   ]
  },
  {
   "cell_type": "code",
   "execution_count": 23,
   "id": "2eea3cbe",
   "metadata": {},
   "outputs": [],
   "source": [
    "df[\"MH_Infusions_Per_Visit\"] = df[\"MH infusions\"]/df[\"Visits\"]"
   ]
  },
  {
   "cell_type": "code",
   "execution_count": 24,
   "id": "29412dc8",
   "metadata": {},
   "outputs": [
    {
     "data": {
      "text/html": [
       "<div>\n",
       "<style scoped>\n",
       "    .dataframe tbody tr th:only-of-type {\n",
       "        vertical-align: middle;\n",
       "    }\n",
       "\n",
       "    .dataframe tbody tr th {\n",
       "        vertical-align: top;\n",
       "    }\n",
       "\n",
       "    .dataframe thead th {\n",
       "        text-align: right;\n",
       "    }\n",
       "</style>\n",
       "<table border=\"1\" class=\"dataframe\">\n",
       "  <thead>\n",
       "    <tr style=\"text-align: right;\">\n",
       "      <th></th>\n",
       "      <th>MH_Infusions_Per_Visit</th>\n",
       "    </tr>\n",
       "    <tr>\n",
       "      <th>Patient category</th>\n",
       "      <th></th>\n",
       "    </tr>\n",
       "  </thead>\n",
       "  <tbody>\n",
       "    <tr>\n",
       "      <th>2024</th>\n",
       "      <td>0.534335</td>\n",
       "    </tr>\n",
       "    <tr>\n",
       "      <th>Unknown</th>\n",
       "      <td>0.514272</td>\n",
       "    </tr>\n",
       "    <tr>\n",
       "      <th>all-time</th>\n",
       "      <td>0.611187</td>\n",
       "    </tr>\n",
       "    <tr>\n",
       "      <th>before mid-2023</th>\n",
       "      <td>0.479138</td>\n",
       "    </tr>\n",
       "    <tr>\n",
       "      <th>late 2023</th>\n",
       "      <td>0.366647</td>\n",
       "    </tr>\n",
       "  </tbody>\n",
       "</table>\n",
       "</div>"
      ],
      "text/plain": [
       "                  MH_Infusions_Per_Visit\n",
       "Patient category                        \n",
       "2024                            0.534335\n",
       "Unknown                         0.514272\n",
       "all-time                        0.611187\n",
       "before mid-2023                 0.479138\n",
       "late 2023                       0.366647"
      ]
     },
     "execution_count": 24,
     "metadata": {},
     "output_type": "execute_result"
    }
   ],
   "source": [
    "df[[\"MH_Infusions_Per_Visit\", \"Patient category\"]].groupby(\"Patient category\").mean()"
   ]
  },
  {
   "cell_type": "markdown",
   "id": "8e65c29c",
   "metadata": {},
   "source": [
    "- got nothing worth impressive here "
   ]
  },
  {
   "cell_type": "markdown",
   "id": "0add40ec",
   "metadata": {},
   "source": [
    "**Delays for other services vs infusions delays**"
   ]
  },
  {
   "cell_type": "markdown",
   "id": "05e72072",
   "metadata": {},
   "source": [
    "- These two cannot be compared coz infusion will be generally later than all services. We will focus on the segments "
   ]
  },
  {
   "cell_type": "code",
   "execution_count": 25,
   "id": "b38ac589",
   "metadata": {},
   "outputs": [
    {
     "data": {
      "text/plain": [
       "<Axes: xlabel='Patient category', ylabel='Days btn MHinfusion and Intake'>"
      ]
     },
     "execution_count": 25,
     "metadata": {},
     "output_type": "execute_result"
    },
    {
     "data": {
      "image/png": "[encoded data removed]",
      "text/plain": [
       "<Figure size 640x480 with 1 Axes>"
      ]
     },
     "metadata": {},
     "output_type": "display_data"
    }
   ],
   "source": [
    "select_vars = [\"Post-intake days\", \"Days btn MHinfusion and Intake\", \"Patient category\"]\n",
    "\n",
    "select_df = df[select_vars]\n",
    "\n",
    "# Plot the dataset \n",
    "## Post Intake days \n",
    "# sns.boxplot(x=\"Patient category\", y=\"Post-intake days\", data=df)\n",
    "\n",
    "## Days between MH infusion and intake \n",
    "sns.boxplot(x=\"Patient category\", y=\"Days btn MHinfusion and Intake\", data=df)\n"
   ]
  },
  {
   "cell_type": "markdown",
   "id": "ad48b4f8",
   "metadata": {},
   "source": [
    "We will;\n",
    "\n",
    "- select the required columns\n",
    "- remove the outliers and plot boxplot to show how it compares "
   ]
  },
  {
   "cell_type": "code",
   "execution_count": 26,
   "id": "3e2d24e0",
   "metadata": {},
   "outputs": [],
   "source": [
    "def remove_outliers(df, variable):\n",
    "    \"\"\"\n",
    "    Docstring\n",
    "    This function will remove the outliers from the variable in the data set\n",
    "    - Uses the IQR method \n",
    "    \"\"\"\n",
    "    # Calculate Q1, Q3, and IQR\n",
    "    Q1 = df[variable].quantile(0.25)  # 25th percentile\n",
    "    Q3 = df[variable].quantile(0.75)  # 75th percentile\n",
    "    IQR = Q3 - Q1\n",
    "\n",
    "    # Define lower and upper bounds\n",
    "    lower_bound = Q1 - 1.5 * IQR\n",
    "    upper_bound = Q3 + 1.5 * IQR\n",
    "\n",
    "    # Filter data to remove outliers\n",
    "    df_no_outliers = df[(df[variable] >= lower_bound) & (df[variable] <= upper_bound)]\n",
    "\n",
    "    return df_no_outliers"
   ]
  },
  {
   "cell_type": "code",
   "execution_count": 27,
   "id": "b3c02508",
   "metadata": {},
   "outputs": [
    {
     "data": {
      "text/plain": [
       "<Axes: xlabel='Patient category', ylabel='Post-intake days'>"
      ]
     },
     "execution_count": 27,
     "metadata": {},
     "output_type": "execute_result"
    },
    {
     "data": {
      "image/png": "[encoded data removed]",
      "text/plain": [
       "<Figure size 640x480 with 1 Axes>"
      ]
     },
     "metadata": {},
     "output_type": "display_data"
    }
   ],
   "source": [
    "# Post intake days \n",
    "## Select the required columns \n",
    "selected_columns = [\"Patient category\", \"Post-intake days\"]\n",
    "select_df = df[selected_columns]\n",
    "\n",
    "## Remove outliers\n",
    "select_df = remove_outliers(select_df, \"Post-intake days\")\n",
    "\n",
    "## Plotting \n",
    "sns.boxplot(x=\"Patient category\", y=\"Post-intake days\", data=select_df)"
   ]
  },
  {
   "cell_type": "markdown",
   "id": "27c312b9",
   "metadata": {},
   "source": [
    "- Late 2023 and 2024 patients had services closer to intake than other categories though it was minimal"
   ]
  },
  {
   "cell_type": "code",
   "execution_count": 28,
   "id": "6b072c80",
   "metadata": {},
   "outputs": [
    {
     "data": {
      "text/plain": [
       "<Axes: xlabel='Patient category', ylabel='Days btn MHinfusion and Intake'>"
      ]
     },
     "execution_count": 28,
     "metadata": {},
     "output_type": "execute_result"
    },
    {
     "data": {
      "image/png": "[encoded data removed]",
      "text/plain": [
       "<Figure size 640x480 with 1 Axes>"
      ]
     },
     "metadata": {},
     "output_type": "display_data"
    }
   ],
   "source": [
    "# Days between MH infusion and intake \n",
    "## Select the required columns \n",
    "selected_columns = [\"Patient category\", \"Days btn MHinfusion and Intake\"]\n",
    "select_df = df[selected_columns]\n",
    "\n",
    "## Remove outliers\n",
    "select_df = remove_outliers(select_df, \"Days btn MHinfusion and Intake\")\n",
    "\n",
    "## Plotting \n",
    "sns.boxplot(x=\"Patient category\", y=\"Days btn MHinfusion and Intake\", data=select_df)"
   ]
  },
  {
   "cell_type": "markdown",
   "id": "9013b6c1",
   "metadata": {},
   "source": [
    "- No notable difference here"
   ]
  },
  {
   "cell_type": "code",
   "execution_count": null,
   "id": "15f0eb46",
   "metadata": {},
   "outputs": [],
   "source": []
  },
  {
   "cell_type": "markdown",
   "id": "0c06ec05",
   "metadata": {},
   "source": [
    "What are the delays between Cambridge and other facilities? - Also an important point to check on."
   ]
  },
  {
   "cell_type": "code",
   "execution_count": 32,
   "id": "face5113",
   "metadata": {},
   "outputs": [
    {
     "data": {
      "text/plain": [
       "<Axes: xlabel='Patient category', ylabel='Post-intake days'>"
      ]
     },
     "execution_count": 32,
     "metadata": {},
     "output_type": "execute_result"
    },
    {
     "data": {
      "image/png": "[encoded data removed]",
      "text/plain": [
       "<Figure size 640x480 with 1 Axes>"
      ]
     },
     "metadata": {},
     "output_type": "display_data"
    }
   ],
   "source": [
    "# Prepare the data \n",
    "## Select the required variables \n",
    "select_vars = [\"Post-intake days\", \"Intake Facility City\", \"Patient category\"]\n",
    "select_df = df[select_vars]\n",
    "\n",
    "## Remove outliers\n",
    "select_df = remove_outliers(select_df, \"Post-intake days\")\n",
    "\n",
    "# Plotting \n",
    "sns.boxplot(x=\"Patient category\", y=\"Post-intake days\", \n",
    "            hue = \"Intake Facility City\",\n",
    "            data=select_df)"
   ]
  },
  {
   "cell_type": "code",
   "execution_count": 33,
   "id": "a23afa45",
   "metadata": {},
   "outputs": [
    {
     "data": {
      "text/plain": [
       "<Axes: xlabel='Patient category', ylabel='Days btn MHinfusion and Intake'>"
      ]
     },
     "execution_count": 33,
     "metadata": {},
     "output_type": "execute_result"
    },
    {
     "data": {
      "image/png": "[encoded data removed]",
      "text/plain": [
       "<Figure size 640x480 with 1 Axes>"
      ]
     },
     "metadata": {},
     "output_type": "display_data"
    }
   ],
   "source": [
    "# Prepare the data \n",
    "## Select the required variables \n",
    "select_vars = [\"Days btn MHinfusion and Intake\", \"Intake Facility City\", \"Patient category\"]\n",
    "select_df = df[select_vars]\n",
    "\n",
    "## Remove outliers\n",
    "select_df = remove_outliers(select_df, \"Days btn MHinfusion and Intake\")\n",
    "\n",
    "# Plotting \n",
    "sns.boxplot(x=\"Patient category\", y=\"Days btn MHinfusion and Intake\", \n",
    "            hue = \"Intake Facility City\",\n",
    "            data=select_df)"
   ]
  },
  {
   "cell_type": "code",
   "execution_count": null,
   "id": "09c673d7",
   "metadata": {},
   "outputs": [],
   "source": []
  },
  {
   "cell_type": "markdown",
   "id": "e42c743b",
   "metadata": {},
   "source": [
    "* **Are people considering other facilities other than Cambridge? Are they specifically for MH infusions?**\n",
    "    \n",
    "    * **Visits outside cambridge and infusions outside cambridge** \n",
    "    * **What facility cities do intakes occur per each patient category**"
   ]
  },
  {
   "cell_type": "code",
   "execution_count": null,
   "id": "2b9cc4a8",
   "metadata": {},
   "outputs": [],
   "source": []
  },
  {
   "cell_type": "code",
   "execution_count": null,
   "id": "3b98c710",
   "metadata": {},
   "outputs": [],
   "source": []
  },
  {
   "cell_type": "markdown",
   "id": "8adf2c70",
   "metadata": {},
   "source": [
    "# Conclusion"
   ]
  },
  {
   "cell_type": "markdown",
   "id": "e62fa46b",
   "metadata": {},
   "source": [
    "**Challenges**\n",
    "\n",
    "- Not all patients in the records started with an intake. Some had no intakes in the appointment records. Also, theere are some patients that had other services before intake for instance chart#s 24 and 118\n",
    "- It is cumbersome to focus this analysis on cambridge since some patients visited cambridge and other facilities for instance chart# 2194. - Fix this by counting the number of visits and infusions outside the Cambridge facility.\n",
    "-"
   ]
  },
  {
   "cell_type": "markdown",
   "id": "80ac0208",
   "metadata": {},
   "source": [
    "**Open Questions**\n",
    "\n",
    "- Do you have an alternative to MH infusion that patients can prefer. I want to know this so that I can see how it compares with MH infusions over time. And from your end also find if there is a notable difference.... \n",
    "- "
   ]
  },
  {
   "cell_type": "code",
   "execution_count": null,
   "id": "03054c35",
   "metadata": {},
   "outputs": [],
   "source": []
  }
 ],
 "metadata": {
  "kernelspec": {
   "display_name": "Python 3 (ipykernel)",
   "language": "python",
   "name": "python3"
  },
  "language_info": {
   "codemirror_mode": {
    "name": "ipython",
    "version": 3
   },
   "file_extension": ".py",
   "mimetype": "text/x-python",
   "name": "python",
   "nbconvert_exporter": "python",
   "pygments_lexer": "ipython3",
   "version": "3.11.5"
  }
 },
 "nbformat": 4,
 "nbformat_minor": 5
}
