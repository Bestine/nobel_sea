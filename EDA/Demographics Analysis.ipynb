{
 "cells": [
  {
   "cell_type": "markdown",
   "id": "bf0edd0d",
   "metadata": {},
   "source": [
    "**Load the required libraries and data**"
   ]
  },
  {
   "cell_type": "code",
   "execution_count": 1,
   "id": "411da295",
   "metadata": {},
   "outputs": [],
   "source": [
    "# Libraries \n",
    "import pandas as pd \n",
    "import numpy as np\n",
    "from matplotlib import pyplot as plt \n",
    "import seaborn as sns"
   ]
  },
  {
   "cell_type": "code",
   "execution_count": 2,
   "id": "f9a78557",
   "metadata": {},
   "outputs": [],
   "source": [
    "# Data  \n",
    "demographics = pd.read_csv(\"../data/Demographic Data.csv\", \n",
    "                             encoding='UTF-16', delimiter=\"\\t\")"
   ]
  },
  {
   "cell_type": "markdown",
   "id": "2daaa275",
   "metadata": {},
   "source": [
    "# EXPLANATORY DATA ANALYSIS \n",
    "## Data Assessment"
   ]
  },
  {
   "cell_type": "code",
   "execution_count": 3,
   "id": "70d9465d",
   "metadata": {},
   "outputs": [
    {
     "data": {
      "text/html": [
       "<div>\n",
       "<style scoped>\n",
       "    .dataframe tbody tr th:only-of-type {\n",
       "        vertical-align: middle;\n",
       "    }\n",
       "\n",
       "    .dataframe tbody tr th {\n",
       "        vertical-align: top;\n",
       "    }\n",
       "\n",
       "    .dataframe thead th {\n",
       "        text-align: right;\n",
       "    }\n",
       "</style>\n",
       "<table border=\"1\" class=\"dataframe\">\n",
       "  <thead>\n",
       "    <tr style=\"text-align: right;\">\n",
       "      <th></th>\n",
       "      <th>Chart#</th>\n",
       "      <th>Ethnicity</th>\n",
       "      <th>Race</th>\n",
       "      <th>Gender</th>\n",
       "      <th>Address</th>\n",
       "      <th>City</th>\n",
       "      <th>State</th>\n",
       "      <th>Zipcode</th>\n",
       "      <th>Intake Education Degree</th>\n",
       "      <th>Intake Employment Current Employer</th>\n",
       "      <th>...</th>\n",
       "      <th>Intake Employment Retired</th>\n",
       "      <th>Intake Employment Student</th>\n",
       "      <th>Intake Employment Unemployed</th>\n",
       "      <th>Intake Employment Working</th>\n",
       "      <th>Intake Family Divorced</th>\n",
       "      <th>Intake Family Married</th>\n",
       "      <th>Intake Family Partnered</th>\n",
       "      <th>Intake Family Single</th>\n",
       "      <th>Intake Family Widowed</th>\n",
       "      <th>Unnamed: 21</th>\n",
       "    </tr>\n",
       "  </thead>\n",
       "  <tbody>\n",
       "    <tr>\n",
       "      <th>0</th>\n",
       "      <td>NaN</td>\n",
       "      <td></td>\n",
       "      <td></td>\n",
       "      <td>NaN</td>\n",
       "      <td>NaN</td>\n",
       "      <td>NaN</td>\n",
       "      <td>NaN</td>\n",
       "      <td>NaN</td>\n",
       "      <td></td>\n",
       "      <td></td>\n",
       "      <td>...</td>\n",
       "      <td></td>\n",
       "      <td></td>\n",
       "      <td></td>\n",
       "      <td></td>\n",
       "      <td></td>\n",
       "      <td></td>\n",
       "      <td></td>\n",
       "      <td></td>\n",
       "      <td></td>\n",
       "      <td>NaN</td>\n",
       "    </tr>\n",
       "    <tr>\n",
       "      <th>1</th>\n",
       "      <td>1.0</td>\n",
       "      <td></td>\n",
       "      <td></td>\n",
       "      <td>F</td>\n",
       "      <td>253 NORFOLK STREET</td>\n",
       "      <td>CAMBRIDGE</td>\n",
       "      <td>MA</td>\n",
       "      <td>02139</td>\n",
       "      <td></td>\n",
       "      <td></td>\n",
       "      <td>...</td>\n",
       "      <td></td>\n",
       "      <td></td>\n",
       "      <td></td>\n",
       "      <td></td>\n",
       "      <td></td>\n",
       "      <td></td>\n",
       "      <td></td>\n",
       "      <td></td>\n",
       "      <td></td>\n",
       "      <td>NaN</td>\n",
       "    </tr>\n",
       "    <tr>\n",
       "      <th>2</th>\n",
       "      <td>2.0</td>\n",
       "      <td></td>\n",
       "      <td></td>\n",
       "      <td>F</td>\n",
       "      <td>48 UNION PARK</td>\n",
       "      <td>BOSTON</td>\n",
       "      <td>MA</td>\n",
       "      <td>02118</td>\n",
       "      <td></td>\n",
       "      <td></td>\n",
       "      <td>...</td>\n",
       "      <td></td>\n",
       "      <td></td>\n",
       "      <td></td>\n",
       "      <td></td>\n",
       "      <td></td>\n",
       "      <td></td>\n",
       "      <td></td>\n",
       "      <td></td>\n",
       "      <td></td>\n",
       "      <td>NaN</td>\n",
       "    </tr>\n",
       "    <tr>\n",
       "      <th>3</th>\n",
       "      <td>3.0</td>\n",
       "      <td></td>\n",
       "      <td></td>\n",
       "      <td>M</td>\n",
       "      <td>164 PALMER STREET</td>\n",
       "      <td>ARLINGTON</td>\n",
       "      <td>MA</td>\n",
       "      <td>02474</td>\n",
       "      <td></td>\n",
       "      <td></td>\n",
       "      <td>...</td>\n",
       "      <td></td>\n",
       "      <td></td>\n",
       "      <td></td>\n",
       "      <td></td>\n",
       "      <td></td>\n",
       "      <td></td>\n",
       "      <td></td>\n",
       "      <td></td>\n",
       "      <td></td>\n",
       "      <td>NaN</td>\n",
       "    </tr>\n",
       "    <tr>\n",
       "      <th>4</th>\n",
       "      <td>4.0</td>\n",
       "      <td></td>\n",
       "      <td></td>\n",
       "      <td>F</td>\n",
       "      <td>110 HARTWELL ROAD</td>\n",
       "      <td>BEDFORD</td>\n",
       "      <td>MA</td>\n",
       "      <td>01730</td>\n",
       "      <td></td>\n",
       "      <td></td>\n",
       "      <td>...</td>\n",
       "      <td></td>\n",
       "      <td></td>\n",
       "      <td></td>\n",
       "      <td></td>\n",
       "      <td></td>\n",
       "      <td></td>\n",
       "      <td></td>\n",
       "      <td></td>\n",
       "      <td></td>\n",
       "      <td>NaN</td>\n",
       "    </tr>\n",
       "  </tbody>\n",
       "</table>\n",
       "<p>5 rows × 22 columns</p>\n",
       "</div>"
      ],
      "text/plain": [
       "   Chart# Ethnicity Race Gender             Address       City State Zipcode  \\\n",
       "0     NaN                   NaN                 NaN        NaN   NaN     NaN   \n",
       "1     1.0                     F  253 NORFOLK STREET  CAMBRIDGE    MA   02139   \n",
       "2     2.0                     F       48 UNION PARK     BOSTON    MA   02118   \n",
       "3     3.0                     M   164 PALMER STREET  ARLINGTON    MA   02474   \n",
       "4     4.0                     F   110 HARTWELL ROAD    BEDFORD    MA   01730   \n",
       "\n",
       "  Intake Education Degree Intake Employment Current Employer  ...  \\\n",
       "0                                                             ...   \n",
       "1                                                             ...   \n",
       "2                                                             ...   \n",
       "3                                                             ...   \n",
       "4                                                             ...   \n",
       "\n",
       "  Intake Employment Retired Intake Employment Student  \\\n",
       "0                                                       \n",
       "1                                                       \n",
       "2                                                       \n",
       "3                                                       \n",
       "4                                                       \n",
       "\n",
       "  Intake Employment Unemployed Intake Employment Working  \\\n",
       "0                                                          \n",
       "1                                                          \n",
       "2                                                          \n",
       "3                                                          \n",
       "4                                                          \n",
       "\n",
       "  Intake Family Divorced Intake Family Married Intake Family Partnered  \\\n",
       "0                                                                        \n",
       "1                                                                        \n",
       "2                                                                        \n",
       "3                                                                        \n",
       "4                                                                        \n",
       "\n",
       "  Intake Family Single Intake Family Widowed Unnamed: 21  \n",
       "0                                                    NaN  \n",
       "1                                                    NaN  \n",
       "2                                                    NaN  \n",
       "3                                                    NaN  \n",
       "4                                                    NaN  \n",
       "\n",
       "[5 rows x 22 columns]"
      ]
     },
     "execution_count": 3,
     "metadata": {},
     "output_type": "execute_result"
    }
   ],
   "source": [
    "demographics.head()"
   ]
  },
  {
   "cell_type": "code",
   "execution_count": 4,
   "id": "bdd6afed",
   "metadata": {},
   "outputs": [
    {
     "name": "stdout",
     "output_type": "stream",
     "text": [
      "<class 'pandas.core.frame.DataFrame'>\n",
      "RangeIndex: 2686 entries, 0 to 2685\n",
      "Data columns (total 22 columns):\n",
      " #   Column                              Non-Null Count  Dtype  \n",
      "---  ------                              --------------  -----  \n",
      " 0   Chart#                              2685 non-null   float64\n",
      " 1   Ethnicity                           2686 non-null   object \n",
      " 2   Race                                2686 non-null   object \n",
      " 3   Gender                              2685 non-null   object \n",
      " 4   Address                             2666 non-null   object \n",
      " 5   City                                2663 non-null   object \n",
      " 6   State                               2661 non-null   object \n",
      " 7   Zipcode                             2665 non-null   object \n",
      " 8   Intake Education Degree             2684 non-null   object \n",
      " 9   Intake Employment Current Employer  2580 non-null   object \n",
      " 10  Intake Employment Disabled          2412 non-null   object \n",
      " 11  Intake Employment Occupation        2632 non-null   object \n",
      " 12  Intake Employment Retired           2430 non-null   object \n",
      " 13  Intake Employment Student           2457 non-null   object \n",
      " 14  Intake Employment Unemployed        2438 non-null   object \n",
      " 15  Intake Employment Working           2565 non-null   object \n",
      " 16  Intake Family Divorced              2412 non-null   object \n",
      " 17  Intake Family Married               2507 non-null   object \n",
      " 18  Intake Family Partnered             2425 non-null   object \n",
      " 19  Intake Family Single                2526 non-null   object \n",
      " 20  Intake Family Widowed               2402 non-null   object \n",
      " 21  Unnamed: 21                         0 non-null      float64\n",
      "dtypes: float64(2), object(20)\n",
      "memory usage: 461.8+ KB\n"
     ]
    }
   ],
   "source": [
    "demographics.info()"
   ]
  },
  {
   "cell_type": "code",
   "execution_count": 5,
   "id": "3777e2f5",
   "metadata": {},
   "outputs": [
    {
     "data": {
      "text/plain": [
       "array([' ', 'Not Hispanic or Latino', 'Hispanic or Latino',\n",
       "       'Declined to Specify', 'Unknown'], dtype=object)"
      ]
     },
     "execution_count": 5,
     "metadata": {},
     "output_type": "execute_result"
    }
   ],
   "source": [
    "demographics[\"Ethnicity\"].unique()"
   ]
  },
  {
   "cell_type": "code",
   "execution_count": 9,
   "id": "d69aac4a",
   "metadata": {},
   "outputs": [
    {
     "data": {
      "text/plain": [
       "2685"
      ]
     },
     "execution_count": 9,
     "metadata": {},
     "output_type": "execute_result"
    }
   ],
   "source": [
    "demographics[\"Chart#\"].nunique()"
   ]
  },
  {
   "cell_type": "markdown",
   "id": "3f6c83dd",
   "metadata": {},
   "source": [
    "## Data Wrangling "
   ]
  },
  {
   "cell_type": "code",
   "execution_count": null,
   "id": "f96b4ac5",
   "metadata": {},
   "outputs": [],
   "source": []
  },
  {
   "cell_type": "markdown",
   "id": "82f1d39d",
   "metadata": {},
   "source": [
    "## Data Analysis and Visualization"
   ]
  },
  {
   "cell_type": "code",
   "execution_count": 6,
   "id": "49b4a47f",
   "metadata": {},
   "outputs": [
    {
     "data": {
      "text/plain": [
       "Ethnicity\n",
       "                          2636\n",
       "Not Hispanic or Latino      41\n",
       "Hispanic or Latino           4\n",
       "Declined to Specify          4\n",
       "Unknown                      1\n",
       "Name: count, dtype: int64"
      ]
     },
     "execution_count": 6,
     "metadata": {},
     "output_type": "execute_result"
    }
   ],
   "source": [
    "demographics[\"Ethnicity\"].value_counts()"
   ]
  },
  {
   "cell_type": "code",
   "execution_count": 7,
   "id": "c16634b2",
   "metadata": {},
   "outputs": [
    {
     "data": {
      "text/plain": [
       "Race\n",
       "                                             1585\n",
       "White                                         842\n",
       "Declined to Specify                           131\n",
       "Asian                                          36\n",
       "Black or African American                      11\n",
       "Other Race                                      9\n",
       "Chinese                                         7\n",
       "Asian Indian                                    6\n",
       "European                                        5\n",
       "Irish                                           5\n",
       "Korean                                          5\n",
       "Scottish                                        5\n",
       "Middle Eastern or North African                 4\n",
       "German                                          3\n",
       "Taiwanese                                       3\n",
       "Italian                                         3\n",
       "Native Hawaiian or Other Pacific Islander       2\n",
       "Polish                                          2\n",
       "American Indian or Alaska Native                2\n",
       "Armenian                                        2\n",
       "Japanese                                        2\n",
       "Afghanistani                                    1\n",
       "Dominican                                       1\n",
       "Cherokee                                        1\n",
       "Spanish American Indian                         1\n",
       "Mexican American Indian                         1\n",
       "Thai                                            1\n",
       "English                                         1\n",
       "Unknown                                         1\n",
       "Iranian                                         1\n",
       "Egyptian                                        1\n",
       "Canadian and Latin American Indian              1\n",
       "Alatna                                          1\n",
       "Colville                                        1\n",
       "Okinawan                                        1\n",
       "French                                          1\n",
       "Lebanese                                        1\n",
       "Name: count, dtype: int64"
      ]
     },
     "execution_count": 7,
     "metadata": {},
     "output_type": "execute_result"
    }
   ],
   "source": [
    "demographics[\"Race\"].value_counts()"
   ]
  },
  {
   "cell_type": "code",
   "execution_count": null,
   "id": "7924df84",
   "metadata": {},
   "outputs": [],
   "source": []
  }
 ],
 "metadata": {
  "kernelspec": {
   "display_name": "Python 3 (ipykernel)",
   "language": "python",
   "name": "python3"
  },
  "language_info": {
   "codemirror_mode": {
    "name": "ipython",
    "version": 3
   },
   "file_extension": ".py",
   "mimetype": "text/x-python",
   "name": "python",
   "nbconvert_exporter": "python",
   "pygments_lexer": "ipython3",
   "version": "3.11.5"
  }
 },
 "nbformat": 4,
 "nbformat_minor": 5
}
