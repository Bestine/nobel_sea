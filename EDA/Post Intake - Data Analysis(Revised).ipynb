{
 "cells": [
  {
   "cell_type": "markdown",
   "id": "6ff4de42",
   "metadata": {},
   "source": [
    "**Load the required libraries and datasets**"
   ]
  },
  {
   "cell_type": "code",
   "execution_count": null,
   "id": "3162f06e",
   "metadata": {},
   "outputs": [],
   "source": []
  }
 ],
 "metadata": {
  "kernelspec": {
   "display_name": "Python 3 (ipykernel)",
   "language": "python",
   "name": "python3"
  },
  "language_info": {
   "codemirror_mode": {
    "name": "ipython",
    "version": 3
   },
   "file_extension": ".py",
   "mimetype": "text/x-python",
   "name": "python",
   "nbconvert_exporter": "python",
   "pygments_lexer": "ipython3",
   "version": "3.11.5"
  }
 },
 "nbformat": 4,
 "nbformat_minor": 5
}
