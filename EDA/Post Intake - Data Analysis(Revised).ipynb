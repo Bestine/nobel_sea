{
 "cells": [
  {
   "cell_type": "markdown",
   "id": "6ff4de42",
   "metadata": {},
   "source": [
    "**Load the required libraries and datasets**"
   ]
  },
  {
   "cell_type": "code",
   "execution_count": 1,
   "id": "3162f06e",
   "metadata": {},
   "outputs": [],
   "source": [
    "# Libraries\n",
    "import pandas as pd \n",
    "import numpy as np\n",
    "from matplotlib import pyplot as plt \n",
    "import seaborn as sns \n",
    "from sklearn.utils import shuffle"
   ]
  },
  {
   "cell_type": "code",
   "execution_count": 2,
   "id": "d2cfe618",
   "metadata": {},
   "outputs": [
    {
     "data": {
      "text/html": [
       "<div>\n",
       "<style scoped>\n",
       "    .dataframe tbody tr th:only-of-type {\n",
       "        vertical-align: middle;\n",
       "    }\n",
       "\n",
       "    .dataframe tbody tr th {\n",
       "        vertical-align: top;\n",
       "    }\n",
       "\n",
       "    .dataframe thead th {\n",
       "        text-align: right;\n",
       "    }\n",
       "</style>\n",
       "<table border=\"1\" class=\"dataframe\">\n",
       "  <thead>\n",
       "    <tr style=\"text-align: right;\">\n",
       "      <th></th>\n",
       "      <th>Chartnumber</th>\n",
       "      <th>First post-enrollment service</th>\n",
       "      <th>First post-intake service</th>\n",
       "      <th>Post-intake days</th>\n",
       "      <th>Days btn MHinfusion and Intake</th>\n",
       "      <th>Visits</th>\n",
       "      <th>MH infusions</th>\n",
       "      <th>infusions outside Cambridge</th>\n",
       "      <th>Visits outside Cambridge</th>\n",
       "      <th>Intake Facility City</th>\n",
       "      <th>Patient category</th>\n",
       "    </tr>\n",
       "  </thead>\n",
       "  <tbody>\n",
       "    <tr>\n",
       "      <th>0</th>\n",
       "      <td>1</td>\n",
       "      <td>Intake</td>\n",
       "      <td>TMS</td>\n",
       "      <td>14.0</td>\n",
       "      <td>NaN</td>\n",
       "      <td>49</td>\n",
       "      <td>0</td>\n",
       "      <td>0</td>\n",
       "      <td>0</td>\n",
       "      <td>CAMBRIDGE</td>\n",
       "      <td>before mid-2023</td>\n",
       "    </tr>\n",
       "    <tr>\n",
       "      <th>1</th>\n",
       "      <td>2</td>\n",
       "      <td>MH Infusion</td>\n",
       "      <td>NaN</td>\n",
       "      <td>NaN</td>\n",
       "      <td>NaN</td>\n",
       "      <td>8</td>\n",
       "      <td>8</td>\n",
       "      <td>0</td>\n",
       "      <td>0</td>\n",
       "      <td>CAMBRIDGE</td>\n",
       "      <td>before mid-2023</td>\n",
       "    </tr>\n",
       "    <tr>\n",
       "      <th>2</th>\n",
       "      <td>9</td>\n",
       "      <td>Intake</td>\n",
       "      <td>TMS</td>\n",
       "      <td>9.0</td>\n",
       "      <td>66.0</td>\n",
       "      <td>68</td>\n",
       "      <td>30</td>\n",
       "      <td>0</td>\n",
       "      <td>0</td>\n",
       "      <td>CAMBRIDGE</td>\n",
       "      <td>before mid-2023</td>\n",
       "    </tr>\n",
       "    <tr>\n",
       "      <th>3</th>\n",
       "      <td>6</td>\n",
       "      <td>Intake</td>\n",
       "      <td>MH Infusion</td>\n",
       "      <td>0.0</td>\n",
       "      <td>0.0</td>\n",
       "      <td>16</td>\n",
       "      <td>13</td>\n",
       "      <td>0</td>\n",
       "      <td>0</td>\n",
       "      <td>CAMBRIDGE</td>\n",
       "      <td>before mid-2023</td>\n",
       "    </tr>\n",
       "    <tr>\n",
       "      <th>4</th>\n",
       "      <td>12</td>\n",
       "      <td>Intake</td>\n",
       "      <td>NaN</td>\n",
       "      <td>NaN</td>\n",
       "      <td>NaN</td>\n",
       "      <td>1</td>\n",
       "      <td>0</td>\n",
       "      <td>0</td>\n",
       "      <td>0</td>\n",
       "      <td>CAMBRIDGE</td>\n",
       "      <td>before mid-2023</td>\n",
       "    </tr>\n",
       "  </tbody>\n",
       "</table>\n",
       "</div>"
      ],
      "text/plain": [
       "   Chartnumber First post-enrollment service First post-intake service  \\\n",
       "0            1                        Intake                       TMS   \n",
       "1            2                   MH Infusion                       NaN   \n",
       "2            9                        Intake                       TMS   \n",
       "3            6                        Intake               MH Infusion   \n",
       "4           12                        Intake                       NaN   \n",
       "\n",
       "   Post-intake days  Days btn MHinfusion and Intake  Visits  MH infusions  \\\n",
       "0              14.0                             NaN      49             0   \n",
       "1               NaN                             NaN       8             8   \n",
       "2               9.0                            66.0      68            30   \n",
       "3               0.0                             0.0      16            13   \n",
       "4               NaN                             NaN       1             0   \n",
       "\n",
       "   infusions outside Cambridge  Visits outside Cambridge Intake Facility City  \\\n",
       "0                            0                         0            CAMBRIDGE   \n",
       "1                            0                         0            CAMBRIDGE   \n",
       "2                            0                         0            CAMBRIDGE   \n",
       "3                            0                         0            CAMBRIDGE   \n",
       "4                            0                         0            CAMBRIDGE   \n",
       "\n",
       "  Patient category  \n",
       "0  before mid-2023  \n",
       "1  before mid-2023  \n",
       "2  before mid-2023  \n",
       "3  before mid-2023  \n",
       "4  before mid-2023  "
      ]
     },
     "execution_count": 2,
     "metadata": {},
     "output_type": "execute_result"
    }
   ],
   "source": [
    "# Data\n",
    "## Successfull appointment data \n",
    "seen_df = pd.read_csv(\"../data/exports/successfull-appointments.csv\")\n",
    "\n",
    "## Post intake data \n",
    "df = pd.read_csv(\"../data/exports/post-intake.csv\")\n",
    "df.head()"
   ]
  },
  {
   "cell_type": "code",
   "execution_count": 3,
   "id": "04ffa96d",
   "metadata": {},
   "outputs": [],
   "source": [
    "# Convert appointment date to datetime \n",
    "seen_df[\"Date\"] = pd.to_datetime(seen_df[\"Date\"])\n",
    "\n",
    "# Order the dataset by date \n",
    "seen_df = seen_df.sort_values(by=\"Date\", ascending=True)\n",
    "seen_df.reset_index(drop=True, inplace=True)"
   ]
  },
  {
   "cell_type": "markdown",
   "id": "acf72c64",
   "metadata": {},
   "source": [
    "# Data Analysis"
   ]
  },
  {
   "cell_type": "code",
   "execution_count": 4,
   "id": "e69051c2",
   "metadata": {},
   "outputs": [],
   "source": [
    "def remove_outliers(df, variable):\n",
    "    \"\"\"\n",
    "    Docstring\n",
    "    This function will remove the outliers from the variable in the data set\n",
    "    before boxplot\n",
    "    - Uses the IQR method \n",
    "    \"\"\"\n",
    "    # Calculate Q1, Q3, and IQR\n",
    "    Q1 = df[variable].quantile(0.25)  # 25th percentile\n",
    "    Q3 = df[variable].quantile(0.75)  # 75th percentile\n",
    "    IQR = Q3 - Q1\n",
    "\n",
    "    # Define lower and upper bounds\n",
    "    lower_bound = Q1 - 1.5 * IQR\n",
    "    upper_bound = Q3 + 1.5 * IQR\n",
    "\n",
    "    # Filter data to remove outliers\n",
    "    df_no_outliers = df[(df[variable] >= lower_bound) & (df[variable] <= upper_bound)]\n",
    "\n",
    "    return df_no_outliers"
   ]
  },
  {
   "cell_type": "markdown",
   "id": "9607b04a",
   "metadata": {},
   "source": [
    "Here are the data analysis Ideas\n",
    "\n",
    "- How the long did it take the patients to receive their first service after intake? This will be compared among the categories, also between Cambridge facilities and other facilities. **Visualization type** boxplots(spread) and bar charts(summary comparison).\n",
    "- Repeat the above for days between the first MH infusion and intake. \n",
    "- How many days did it take to get the succeeding service? Are there any delays that are connected with MH infusion drop? (Delays increasing or reducing rapidly since mid of 2023). \n",
    "- Are patients preferring other facilities outside Cambridge after their intake?\n",
    "- Are there enough campaigns and conversions? This will be determine by the number of intakes over time. \n",
    "- How many MH infusions do patients take? Compare by their segments and facility city"
   ]
  },
  {
   "cell_type": "markdown",
   "id": "344dcc0a",
   "metadata": {},
   "source": [
    "**How the long did it take the patients to receive their first service after intake? This will be compared among the categories, also between Cambridge facilities and other facilities. Visualization type boxplots(spread) and bar charts(summary comparison).**"
   ]
  },
  {
   "cell_type": "code",
   "execution_count": 5,
   "id": "6e097582",
   "metadata": {},
   "outputs": [
    {
     "data": {
      "text/plain": [
       "Text(0.5, 1.0, 'Delay of First Service after Intake(Spread & Distribution)')"
      ]
     },
     "execution_count": 5,
     "metadata": {},
     "output_type": "execute_result"
    },
    {
     "data": {
      "image/png": "[encoded data removed]",
      "text/plain": [
       "<Figure size 1200x700 with 1 Axes>"
      ]
     },
     "metadata": {},
     "output_type": "display_data"
    }
   ],
   "source": [
    "# Post-intake Service Delays\n",
    "## Select the required columns \n",
    "selected_columns = [\"Patient category\", \"Post-intake days\", \"Intake Facility City\"]\n",
    "select_df = df[selected_columns]\n",
    "\n",
    "## Remove outliers\n",
    "select_df = remove_outliers(select_df, \"Post-intake days\")\n",
    "\n",
    "## Plotting \n",
    "plt.figure(figsize=(12, 7))\n",
    "sns.boxplot(x=\"Patient category\", y=\"Post-intake days\", \n",
    "            hue=\"Intake Facility City\", data=select_df)\n",
    "plt.title(\"Delay of First Service after Intake(Spread & Distribution)\", fontsize=20)"
   ]
  },
  {
   "cell_type": "code",
   "execution_count": 6,
   "id": "98fb82b6",
   "metadata": {},
   "outputs": [
    {
     "data": {
      "text/plain": [
       "Text(0.5, 1.0, 'Delay of First Service after intake(Summary Comparison)')"
      ]
     },
     "execution_count": 6,
     "metadata": {},
     "output_type": "execute_result"
    },
    {
     "data": {
      "image/png": "[encoded data removed]",
      "text/plain": [
       "<Figure size 1200x700 with 1 Axes>"
      ]
     },
     "metadata": {},
     "output_type": "display_data"
    }
   ],
   "source": [
    "# Now with a bar plot \n",
    "plt.figure(figsize=(12, 7))\n",
    "sns.barplot(x=\"Patient category\", y=\"Post-intake days\", \n",
    "            hue=\"Intake Facility City\", data=select_df)\n",
    "plt.title(\"Delay of First Service after intake(Summary Comparison)\", fontsize=20)"
   ]
  },
  {
   "cell_type": "markdown",
   "id": "e70e738b",
   "metadata": {},
   "source": [
    "We understand from the first time series analysis, MH infusions started dropping in mid 2023 the situation worsened in 2024. Therefore the findings, insights and recommendations are based on this content\n",
    "\n",
    "**Results**\n",
    "\n",
    "- Patients in the late 2023 category had the least post-intake service delays. This might have been attributed due to the short timeframe - patients who existed there for only six months. \n",
    "- The 2024 category had a higher delay periods than the before mid-2023 patients(Outside Cambridge). Keep in mind that the patients from the former category had barely received the services for a year while the later category received services for more than 5 years.\n",
    "- \"All time\" patients in all facilities had delayed most before receiving their first service after intake. \n",
    "\n",
    "\n",
    "<span style=\"color: orange;\">**Insight**</span>: Patients need to be given more time after intake before receiving their first service. This may be as a result of \n",
    "\n",
    "* insufficient funds that make the patients shy away from the services. This might be improved by discussion from within. Like how you can provide discounts, offers and coupons. \n",
    "* Patients who receive their first service quickly might not have enough time to build trust with the hospital or fully understand the value of MH infusions.\n",
    "* Those who take longer before the first service may have a stronger commitment to the treatment plan, possibly due to pre-existing relationships or extended education on the importance of the therapy. \n",
    "* Patients who take longer to get their first service may have more severe or complex conditions, requiring ongoing attention and more MH infusions.\n",
    "* Patients with delayed first services might have proactively worked around scheduling constraints, showing a higher level of personal initiative to stay engaged. This is mainly for the all-time patients who have built a rapport with the hospital/facility.\n",
    "* Patients receiving prompt first services may not experience sufficient follow-up or reminders to continue care.(**This is an idea that I will investigate later**- number of follow-ups over time)\n",
    "\n",
    "<span style=\"color: orange;\">**Recomendations**</span> \n",
    "\n",
    "- Will provide recommendations later "
   ]
  },
  {
   "cell_type": "markdown",
   "id": "6f9979ed",
   "metadata": {},
   "source": [
    "**Repeat the above for days between the first MH infusion and intake.**\n",
    "\n",
    "Since we have analyzed the time(in days) it took for the patients to receive their first service after intake, now lets focus on MH infusion. The number of days between intake and the first MH infusion will be analyzed as above. "
   ]
  },
  {
   "cell_type": "code",
   "execution_count": 7,
   "id": "4b00b022",
   "metadata": {},
   "outputs": [
    {
     "data": {
      "text/plain": [
       "Text(0.5, 1.0, 'MH Infusion Delays after intake(Spread and Distribution)')"
      ]
     },
     "execution_count": 7,
     "metadata": {},
     "output_type": "execute_result"
    },
    {
     "data": {
      "image/png": "[encoded data removed]",
      "text/plain": [
       "<Figure size 1200x700 with 1 Axes>"
      ]
     },
     "metadata": {},
     "output_type": "display_data"
    }
   ],
   "source": [
    "# Post-intake MH infusion Delays\n",
    "## Select the required columns \n",
    "selected_columns = [\"Patient category\", \"Days btn MHinfusion and Intake\", \"Intake Facility City\"]\n",
    "select_df = df[selected_columns]\n",
    "\n",
    "## Remove outliers\n",
    "select_df = remove_outliers(select_df, \"Days btn MHinfusion and Intake\")\n",
    "\n",
    "## Plotting \n",
    "plt.figure(figsize=(12, 7))\n",
    "sns.boxplot(x=\"Patient category\", y=\"Days btn MHinfusion and Intake\", \n",
    "            hue=\"Intake Facility City\", data=select_df)\n",
    "plt.title(\"MH Infusion Delays after intake(Spread and Distribution)\", \n",
    "         fontsize=20)"
   ]
  },
  {
   "cell_type": "code",
   "execution_count": null,
   "id": "e58bf5a6",
   "metadata": {},
   "outputs": [],
   "source": [
    "plt.figure(figsize=(12, 7))\n",
    "sns.barplot(x=\"Patient category\", y=\"Days btn MHinfusion and Intake\", \n",
    "            hue=\"Intake Facility City\", data=select_df,\n",
    "           estimator=\"mean\")\n",
    "plt.title(\"MH Infusion Delays after intake(Summary Comparison)\")"
   ]
  },
  {
   "cell_type": "markdown",
   "id": "804d3312",
   "metadata": {},
   "source": [
    "- Patients that had intake from Cambridge had to wait relatively longer to get their first MH infusion after intake compared to facilities in other cities\n",
    "- Patients who joined in 2024 waited longer to have their first MH infusion than all time patients and the ones before mid 2023. \n",
    "- Patients in late 2023 waited the least. It is practically imposible for them to have longer waiting period since they are the segments that had their first and last service in a span of 6 months (From beginning of July to the end-year).\n",
    "\n",
    "In Overall, the number of days for patients to get their first MH infusion is almost the same in comparison to their number of days to receive the first service(any). Lets just crosscheck if most of the services the patients received after intake consisted of MH infusion"
   ]
  },
  {
   "cell_type": "code",
   "execution_count": null,
   "id": "ec244919",
   "metadata": {},
   "outputs": [],
   "source": [
    "explode = [0.1,0.15,0.15,0.15,0.15,0.15,0.15,0,0.15, 0]"
   ]
  },
  {
   "cell_type": "code",
   "execution_count": null,
   "id": "ed565ff5",
   "metadata": {},
   "outputs": [],
   "source": [
    "# Shuffle for a cleaner look \n",
    "services_series = shuffle(df[\"First post-intake service\"].value_counts(), random_state=201)\n",
    "\n",
    "# Plot the charts \n",
    "services_series.plot(kind=\"pie\", explode=explode,\n",
    "                     autopct='%1.1f%%',figsize=(10, 10))"
   ]
  },
  {
   "cell_type": "code",
   "execution_count": null,
   "id": "a9befad3",
   "metadata": {},
   "outputs": [],
   "source": [
    "# stop here\n",
    "# df[\"First post-intake service\"].value_counts().plot(kind=\"pie\", explode=explode,\n",
    "#                                                     autopct='%1.1f%%',figsize=(10, 10))"
   ]
  },
  {
   "cell_type": "markdown",
   "id": "9f78c15e",
   "metadata": {},
   "source": [
    "The chart above explains why the data of first post-intake service and MH infusions are the same. MH infusion comprises of approximately 74% of the total services after intake"
   ]
  },
  {
   "cell_type": "markdown",
   "id": "35c463d0",
   "metadata": {},
   "source": [
    "**How many days did it take to get the succeeding service? Are there any delays that are connected with MH infusion drop? (Delays increasing or reducing rapidly since mid of 2023).**"
   ]
  },
  {
   "cell_type": "markdown",
   "id": "238023bd",
   "metadata": {},
   "source": [
    "The columns \"days since last visit\" and \"days since last MH infusion are to be added\" to the appointment(successfull) data set"
   ]
  },
  {
   "cell_type": "code",
   "execution_count": null,
   "id": "46882be6",
   "metadata": {},
   "outputs": [],
   "source": [
    "# Minor data preparation\n",
    "## Days since last visit\n",
    "days_since_last_visit = []\n",
    "delay_for_MHinfusion = []\n",
    "\n",
    "for index_number in seen_df.index:\n",
    "    # Note the chart number and the current date\n",
    "    current_date = seen_df.iloc[index_number][\"Date\"]\n",
    "    chart_number = seen_df.iloc[index_number][\"Chartnumber\"]\n",
    "    service_type = seen_df.iloc[index_number][\"Appt Type Group\"] \n",
    "\n",
    "    if index_number == 0: # No past records \n",
    "        days_since_last_visit.append(np.nan) # add a null point \n",
    "        delay_for_MHinfusion.append(np.nan)\n",
    "\n",
    "    else: # Posibility of past records for the patient \n",
    "        # select all the records before it\n",
    "        records_before = seen_df.iloc[0:index_number] # add null point \n",
    "        \n",
    "        # Select the records before specifically for the patient \n",
    "        patients_records_before = records_before[records_before[\"Chartnumber\"]==chart_number]\\\n",
    "        .reset_index(drop=True)\n",
    "        \n",
    "        # if no records at all \n",
    "        if patients_records_before.shape[0]==0:\n",
    "            days_since_last_visit.append(np.nan)\n",
    "            delay_for_MHinfusion.append(np.nan)\n",
    "\n",
    "        else: # past records exists\n",
    "            \n",
    "            # Select the last_record\n",
    "            last_record = patients_records_before.to_records()[-1]\n",
    "            # Note the last date \n",
    "            last_date = pd.Timestamp(last_record[1])\n",
    "\n",
    "            delay_days = (current_date - last_date).days\n",
    "            days_since_last_visit.append(delay_days) # Add the delay days\n",
    "            \n",
    "            # Check for MH infusion delays \n",
    "            if service_type == 'MH Infusion':\n",
    "                delay_for_MHinfusion.append(delay_days)\n",
    "            else:\n",
    "                delay_for_MHinfusion.append(np.nan)\n",
    "            \n",
    "            "
   ]
  },
  {
   "cell_type": "code",
   "execution_count": null,
   "id": "b4e0689c",
   "metadata": {},
   "outputs": [],
   "source": [
    "# add to the dataframe\n",
    "seen_df[\"Days since last visit\"] = days_since_last_visit\n",
    "seen_df[\"Delay for MH infusion\"] = delay_for_MHinfusion"
   ]
  },
  {
   "cell_type": "code",
   "execution_count": null,
   "id": "ef584713",
   "metadata": {},
   "outputs": [],
   "source": [
    "# Data Preparation \n",
    "## Specicifically for MH infusion\n",
    "MHinfusion_delays_df = seen_df[[\"Date\", \"Delay for MH infusion\"]].groupby(\"Date\").mean()\n",
    "MHinfusion_delays_df.dropna(how=\"any\", inplace=True) # Drop null records"
   ]
  },
  {
   "cell_type": "code",
   "execution_count": null,
   "id": "88a38ece",
   "metadata": {},
   "outputs": [],
   "source": [
    "# Create subplots  \n",
    "fig, axes = plt.subplots(nrows=3, ncols=1,\n",
    "                        figsize=(10, 12), sharex=True)\n",
    "\n",
    "# 7-day Moving average plot \n",
    "MHinfusion_delays_df[\"7_day_MA\"] = MHinfusion_delays_df[\"Delay for MH infusion\"].rolling(window=7).mean()\n",
    "## Plotting\n",
    "axes[0].plot(MHinfusion_delays_df.index, MHinfusion_delays_df[\"Delay for MH infusion\"],\n",
    "        label = \"Daily Count\", color=\"lightblue\")\n",
    "axes[0].plot(MHinfusion_delays_df.index, MHinfusion_delays_df[\"7_day_MA\"],\n",
    "        label = \"7-day Moving average\", color=\"blue\")\n",
    "axes[0].set_ylabel(\"Delay(days)\")\n",
    "\n",
    "axes[0].set_title(\"7-day Moving Averages\")\n",
    "axes[0].legend()\n",
    "axes[0].set_ylim(0, 50)\n",
    "\n",
    "# 30-day Moving average plot \n",
    "MHinfusion_delays_df[\"30_day_MA\"] = MHinfusion_delays_df[\"Delay for MH infusion\"].rolling(window=30).mean()\n",
    "## Plotting\n",
    "axes[1].plot(MHinfusion_delays_df.index, MHinfusion_delays_df[\"Delay for MH infusion\"],\n",
    "        label = \"Daily Count\", color=\"lightblue\")\n",
    "axes[1].plot(MHinfusion_delays_df.index, MHinfusion_delays_df[\"30_day_MA\"],\n",
    "        label = \"30-day Moving average\", color=\"blue\")\n",
    "axes[1].set_ylabel(\"Delay(days)\")\n",
    "\n",
    "axes[1].set_title(\"30-day Moving Averages\")\n",
    "axes[1].legend()\n",
    "axes[1].set_ylim(0, 50)\n",
    "\n",
    "# 90-day Moving average plot \n",
    "MHinfusion_delays_df[\"90_day_MA\"] = MHinfusion_delays_df[\"Delay for MH infusion\"].rolling(window=90).mean()\n",
    "## Plotting\n",
    "axes[2].plot(MHinfusion_delays_df.index, MHinfusion_delays_df[\"Delay for MH infusion\"],\n",
    "        label = \"Daily Count\", color=\"lightblue\")\n",
    "axes[2].plot(MHinfusion_delays_df.index, MHinfusion_delays_df[\"90_day_MA\"],\n",
    "        label = \"90-day Moving average\", color=\"blue\")\n",
    "axes[2].set_ylabel(\"Delay(days)\")\n",
    "\n",
    "axes[2].set_title(\"90-day Moving Averages\")\n",
    "axes[2].legend()\n",
    "axes[2].set_ylim(0, 50)\n",
    "\n",
    "plt.suptitle(\"Overall MH infusions delays\", fontsize=20)\n",
    "\n",
    "plt.xlabel(\"Date\")\n",
    "plt.tight_layout()\n",
    "plt.show()"
   ]
  },
  {
   "cell_type": "markdown",
   "id": "16a55829",
   "metadata": {},
   "source": [
    "There was a gradual increase in delays between MH infusions. The situation became more clear in the beginning of 2024. MH infusions were delayed below 10 days in the beginning (2017-2018) and it increased to approximately 30 days on average in 2024. Before we dig into insights and provide recommendations, we should ask, \"Did this happen in Cambridge alone or the situation went across all facilities? **What if we compared Cambridge and other facilities?**"
   ]
  },
  {
   "cell_type": "markdown",
   "id": "d140aac4",
   "metadata": {},
   "source": [
    "*Compare Cambridge vs. Other Cities*"
   ]
  },
  {
   "cell_type": "code",
   "execution_count": null,
   "id": "223d3aaa",
   "metadata": {},
   "outputs": [],
   "source": [
    "# Prepare the data\n",
    "## Cambridge facilities \n",
    "cambridge_mhinfusion_delays = seen_df[seen_df[\"Facility City\"]==\"CAMBRIDGE\"][[\"Date\", \"Delay for MH infusion\"]]\n",
    "cambridge_mhinfusion_delays = cambridge_mhinfusion_delays.groupby(\"Date\").mean()\n",
    "\n",
    "### Clean the data\n",
    "cambridge_mhinfusion_delays.dropna(how=\"any\", inplace=True)\n",
    "\n",
    "## Other city facilities \n",
    "other_mhinfusion_delays = seen_df[seen_df[\"Facility City\"]!=\"CAMBRIDGE\"][[\"Date\", \"Delay for MH infusion\"]]\n",
    "other_mhinfusion_delays = other_mhinfusion_delays.groupby(\"Date\").mean()\n",
    "\n",
    "### Clean the data \n",
    "other_mhinfusion_delays.dropna(how=\"any\", inplace=True)"
   ]
  },
  {
   "cell_type": "code",
   "execution_count": null,
   "id": "ec3c8255",
   "metadata": {},
   "outputs": [],
   "source": [
    "# Create subplots  \n",
    "fig, axes = plt.subplots(nrows=3, ncols=1,\n",
    "                        figsize=(10, 12), sharex=True)\n",
    "\n",
    "# 7-day Moving average plot \n",
    "cambridge_mhinfusion_delays[\"7_day_MA\"] = cambridge_mhinfusion_delays[\"Delay for MH infusion\"].rolling(window=7).mean()\n",
    "## Plotting\n",
    "axes[0].plot(cambridge_mhinfusion_delays.index, cambridge_mhinfusion_delays[\"Delay for MH infusion\"],\n",
    "        label = \"Daily Count\", color=\"lightblue\")\n",
    "axes[0].plot(cambridge_mhinfusion_delays.index, cambridge_mhinfusion_delays[\"7_day_MA\"],\n",
    "        label = \"7-day Moving average\", color=\"blue\")\n",
    "axes[0].set_ylabel(\"Delay(days)\")\n",
    "\n",
    "axes[0].set_title(\"7-day Moving Averages\")\n",
    "axes[0].legend()\n",
    "axes[0].set_ylim(0, 50)\n",
    "\n",
    "# 30-day Moving average plot \n",
    "cambridge_mhinfusion_delays[\"30_day_MA\"] = cambridge_mhinfusion_delays[\"Delay for MH infusion\"].rolling(window=30).mean()\n",
    "## Plotting\n",
    "axes[1].plot(cambridge_mhinfusion_delays.index, cambridge_mhinfusion_delays[\"Delay for MH infusion\"],\n",
    "        label = \"Daily Count\", color=\"lightblue\")\n",
    "axes[1].plot(cambridge_mhinfusion_delays.index, cambridge_mhinfusion_delays[\"30_day_MA\"],\n",
    "        label = \"30-day Moving average\", color=\"blue\")\n",
    "axes[1].set_ylabel(\"Delay(days)\")\n",
    "\n",
    "axes[1].set_title(\"30-day Moving Averages\")\n",
    "axes[1].legend()\n",
    "axes[1].set_ylim(0, 50)\n",
    "\n",
    "# 90-day Moving average plot \n",
    "cambridge_mhinfusion_delays[\"90_day_MA\"] = cambridge_mhinfusion_delays[\"Delay for MH infusion\"].rolling(window=90).mean()\n",
    "## Plotting\n",
    "axes[2].plot(cambridge_mhinfusion_delays.index, cambridge_mhinfusion_delays[\"Delay for MH infusion\"],\n",
    "        label = \"Daily Count\", color=\"lightblue\")\n",
    "axes[2].plot(cambridge_mhinfusion_delays.index, cambridge_mhinfusion_delays[\"90_day_MA\"],\n",
    "        label = \"90-day Moving average\", color=\"blue\")\n",
    "axes[2].set_ylabel(\"Delay(days)\")\n",
    "\n",
    "axes[2].set_title(\"90-day Moving Averages\")\n",
    "axes[2].legend()\n",
    "axes[2].set_ylim(0, 50)\n",
    "\n",
    "plt.suptitle(\"MH infusions delays in Cambridge facilities\", fontsize=20)\n",
    "\n",
    "plt.xlabel(\"Date\")\n",
    "plt.tight_layout()\n",
    "plt.show()"
   ]
  },
  {
   "cell_type": "markdown",
   "id": "5a253de2",
   "metadata": {},
   "source": [
    "In the beginning of 2024 there is a sharp notable increase in successive MH infusion delays. The was flat(constant) with seasonal oscillations but in 2024 it started increasing in Cambridge. Lets check the performance in other facilities. "
   ]
  },
  {
   "cell_type": "code",
   "execution_count": null,
   "id": "c3d8b3ec",
   "metadata": {},
   "outputs": [],
   "source": [
    "# Create subplots  \n",
    "fig, axes = plt.subplots(nrows=3, ncols=1,\n",
    "                        figsize=(10, 12), sharex=True)\n",
    "\n",
    "# 7-day Moving average plot \n",
    "other_mhinfusion_delays[\"7_day_MA\"] = other_mhinfusion_delays[\"Delay for MH infusion\"].rolling(window=7).mean()\n",
    "## Plotting\n",
    "axes[0].plot(other_mhinfusion_delays.index, other_mhinfusion_delays[\"Delay for MH infusion\"],\n",
    "        label = \"Daily Count\", color=\"lightblue\")\n",
    "axes[0].plot(other_mhinfusion_delays.index, other_mhinfusion_delays[\"7_day_MA\"],\n",
    "        label = \"7-day Moving average\", color=\"blue\")\n",
    "axes[0].set_ylabel(\"Delay(days)\")\n",
    "\n",
    "axes[0].set_title(\"7-day Moving Averages\")\n",
    "axes[0].legend()\n",
    "axes[0].set_ylim(0, 50)\n",
    "\n",
    "# 30-day Moving average plot \n",
    "other_mhinfusion_delays[\"30_day_MA\"] = other_mhinfusion_delays[\"Delay for MH infusion\"].rolling(window=30).mean()\n",
    "## Plotting\n",
    "axes[1].plot(other_mhinfusion_delays.index, other_mhinfusion_delays[\"Delay for MH infusion\"],\n",
    "        label = \"Daily Count\", color=\"lightblue\")\n",
    "axes[1].plot(other_mhinfusion_delays.index, other_mhinfusion_delays[\"30_day_MA\"],\n",
    "        label = \"30-day Moving average\", color=\"blue\")\n",
    "axes[1].set_ylabel(\"Delay(days)\")\n",
    "\n",
    "axes[1].set_title(\"30-day Moving Averages\")\n",
    "axes[1].legend()\n",
    "axes[1].set_ylim(0, 50)\n",
    "\n",
    "# 90-day Moving average plot \n",
    "other_mhinfusion_delays[\"90_day_MA\"] = other_mhinfusion_delays[\"Delay for MH infusion\"].rolling(window=90).mean()\n",
    "## Plotting\n",
    "axes[2].plot(other_mhinfusion_delays.index, other_mhinfusion_delays[\"Delay for MH infusion\"],\n",
    "        label = \"Daily Count\", color=\"lightblue\")\n",
    "axes[2].plot(other_mhinfusion_delays.index, other_mhinfusion_delays[\"90_day_MA\"],\n",
    "        label = \"90-day Moving average\", color=\"blue\")\n",
    "axes[2].set_ylabel(\"Delay(days)\")\n",
    "\n",
    "axes[2].set_title(\"90-day Moving Averages\")\n",
    "axes[2].legend()\n",
    "axes[2].set_ylim(0, 50)\n",
    "\n",
    "plt.suptitle(\"MH infusions delays in Other facilities\", fontsize=20)\n",
    "\n",
    "plt.xlabel(\"Date\")\n",
    "plt.tight_layout()\n",
    "plt.show()"
   ]
  },
  {
   "cell_type": "markdown",
   "id": "e675bea3",
   "metadata": {},
   "source": [
    "There is a flat trend before 2024 and the situation becomes unstable at the onset of 2024 with very high delays and low delays (as beginning)"
   ]
  },
  {
   "cell_type": "markdown",
   "id": "9bf4e8d8",
   "metadata": {},
   "source": [
    "Lets not now focus on MH infusions alone. We will check how the situation goes across all the services offered. Are the delays increasing or decreasing between all successive services? "
   ]
  },
  {
   "cell_type": "code",
   "execution_count": null,
   "id": "35610176",
   "metadata": {},
   "outputs": [],
   "source": [
    "# Prepare data \n",
    "## Days since last visit exclusive data \n",
    "last_visit_df = seen_df[[\"Date\", \"Days since last visit\"]].groupby(\"Date\").mean()\n",
    "last_visit_df.dropna(how=\"any\", inplace=True) # Drop null records"
   ]
  },
  {
   "cell_type": "code",
   "execution_count": null,
   "id": "4521075a",
   "metadata": {},
   "outputs": [],
   "source": [
    "# Plot a line for days since last visit\n",
    "# Create subplots  \n",
    "fig, axes = plt.subplots(nrows=3, ncols=1,\n",
    "                        figsize=(10, 12), sharex=True)\n",
    "\n",
    "# 7-day Moving average plot \n",
    "last_visit_df[\"7_day_MA\"] = last_visit_df[\"Days since last visit\"].rolling(window=7).mean()\n",
    "## Plotting\n",
    "axes[0].plot(last_visit_df.index, last_visit_df[\"Days since last visit\"],\n",
    "        label = \"Daily Count\", color=\"lightblue\")\n",
    "axes[0].plot(last_visit_df.index, last_visit_df[\"7_day_MA\"],\n",
    "        label = \"7-day Moving average\", color=\"blue\")\n",
    "axes[0].set_ylabel(\"Delay(days)\")\n",
    "\n",
    "axes[0].set_title(\"7-day Moving Averages\")\n",
    "axes[0].legend()\n",
    "axes[0].set_ylim(0, 50)\n",
    "\n",
    "# 30-day Moving average plot \n",
    "last_visit_df[\"30_day_MA\"] = last_visit_df[\"Days since last visit\"].rolling(window=30).mean()\n",
    "## Plotting\n",
    "axes[1].plot(last_visit_df.index, last_visit_df[\"Days since last visit\"],\n",
    "        label = \"Daily Count\", color=\"lightblue\")\n",
    "axes[1].plot(last_visit_df.index, last_visit_df[\"30_day_MA\"],\n",
    "        label = \"30-day Moving average\", color=\"blue\")\n",
    "axes[1].set_ylabel(\"Delay(days)\")\n",
    "\n",
    "axes[1].set_title(\"30-day Moving Averages\")\n",
    "axes[1].legend()\n",
    "axes[1].set_ylim(0, 50)\n",
    "\n",
    "# 90-day Moving average plot \n",
    "last_visit_df[\"90_day_MA\"] = last_visit_df[\"Days since last visit\"].rolling(window=90).mean()\n",
    "## Plotting\n",
    "axes[2].plot(last_visit_df.index, last_visit_df[\"Days since last visit\"],\n",
    "        label = \"Daily Count\", color=\"lightblue\")\n",
    "axes[2].plot(last_visit_df.index, last_visit_df[\"90_day_MA\"],\n",
    "        label = \"90-day Moving average\", color=\"blue\")\n",
    "axes[2].set_ylabel(\"Delay(days)\")\n",
    "axes[2].set_title(\"90-day Moving Averages\")\n",
    "axes[2].legend()\n",
    "axes[2].set_ylim(0, 50)\n",
    "\n",
    "plt.suptitle(\"Days since last visit\", fontsize=20)\n",
    "\n",
    "plt.xlabel(\"Date\")\n",
    "plt.tight_layout()\n",
    "plt.show()"
   ]
  },
  {
   "cell_type": "markdown",
   "id": "bb4a1b60",
   "metadata": {},
   "source": [
    "From the line chart above there is a flat trend with a gradual increase  in delays over time. Unlike the MH infusions, the situation here is stable. \n",
    "\n",
    "- Cause --> increase in people who need services has affected scheduling of appointments. Therefore is increase in the overall delay thereby reduction of MH infusions over time. \n",
    "\n",
    "**Questions to ask**\n",
    "Following this analysis of delay days since intake and successive services(especially between MHinfusion and other services). We need to get this points clear. \n",
    "\n",
    "* Are the increasing costs(results from previous analysis) driving away patients? \n",
    "* Are there no enough expertise to work on MH infusions. \n",
    "* Are there any follow-ups for patients to check on their progress? (**to be investigated**)\n",
    "* Are there any ethical standards breached. \n",
    "* Did the patients understand the importance of Infusions \n",
    "* Are there any negative side effects after the services(due to inexpertise) that make the patients consider fewer infusions. \n",
    "* Has the MH infusions become more effective that the patients need less and less to be effective? (which is positive)"
   ]
  },
  {
   "cell_type": "markdown",
   "id": "84f92ecb",
   "metadata": {},
   "source": [
    "**Are patients preferring other facilities outside Cambridge after their intake?**"
   ]
  },
  {
   "cell_type": "markdown",
   "id": "7e117234",
   "metadata": {},
   "source": [
    "Lets focus on those who had their intake in Cambridge"
   ]
  },
  {
   "cell_type": "code",
   "execution_count": null,
   "id": "e2175ce8",
   "metadata": {},
   "outputs": [],
   "source": [
    "cambridge_df = df[df[\"Intake Facility City\"]==\"CAMBRIDGE\"]\n",
    "# required columns \n",
    "select_columns = [\"Patient category\", \"infusions outside Cambridge\", \"Visits outside Cambridge\"]\n",
    "\n",
    "# plot the data \n",
    "cambridge_df[select_columns].groupby(\"Patient category\").mean().plot(kind=\"bar\", \n",
    "                                                                     figsize=(12, 7), rot=45)\n",
    "plt.title(\"Services outside Cambridge for Cambridge intakes\")\n",
    "plt.ylabel(\"Average services\")\n",
    "plt.show()"
   ]
  },
  {
   "cell_type": "markdown",
   "id": "da1253b8",
   "metadata": {},
   "source": [
    "It is evident from the bar chart that there is a general increase in number of patients who received services outside Cambridge after mid 2023. 2024 patients(Cambridge intakes) took the lead(an average of atleast 1 MH infusion) while late 2023 patients took the lead in number of overall services(an average of aproximately 2 services). Lets find how it differs with the non Cambridge intakes.  "
   ]
  },
  {
   "cell_type": "code",
   "execution_count": null,
   "id": "8db5194c",
   "metadata": {},
   "outputs": [],
   "source": [
    "other_df = df[df[\"Intake Facility City\"]!=\"CAMBRIDGE\"]\n",
    "\n",
    "# plot the data \n",
    "other_df[select_columns].groupby(\"Patient category\").mean().plot(kind=\"bar\",\n",
    "                                                                 figsize=(12, 7), rot=45)\n",
    "plt.title(\"Services outside Cambridge for non Cambridge intakes\")\n",
    "plt.ylabel(\"Average Services\")"
   ]
  },
  {
   "cell_type": "markdown",
   "id": "8fdb411b",
   "metadata": {},
   "source": [
    "For those patients who enrolled in the facilities outside Cambridge had an increasing number of MH infusion and services in general in their facilities. \"All-time\" patients took the lead followed by late 2023, 2024 patients wile before mid-2023 was the least. The patients after 2023 took at least 3 MH infusions on average outside Cambridge. "
   ]
  },
  {
   "cell_type": "markdown",
   "id": "358fa957",
   "metadata": {},
   "source": [
    "**Are there enough campaigns and conversions? This will be determine by the number of intakes over time.**"
   ]
  },
  {
   "cell_type": "code",
   "execution_count": null,
   "id": "fcb61fa2",
   "metadata": {},
   "outputs": [],
   "source": [
    "# - Filter the data intakes \n",
    "cambridge_intakes_df = seen_df[(seen_df[\"Appt Type Group\"]==\"Intake\")&(seen_df[\"Facility City\"]==\"CAMBRIDGE\")]\n",
    "\n",
    "# - Calculate the daily count of intakes \n",
    "cambridge_intakes_df = cambridge_intakes_df[[\"Date\", \"Appt Type Group\"]].groupby(\"Date\").count()\n",
    "\n",
    "# - Plot it on a line chart \n",
    "cambridge_intakes_df.plot(figsize=(12, 7))"
   ]
  },
  {
   "cell_type": "code",
   "execution_count": null,
   "id": "11fa2ceb",
   "metadata": {},
   "outputs": [],
   "source": [
    "# Plot a line for number of intakes per day\n",
    "# Create subplots  \n",
    "fig, axes = plt.subplots(nrows=3, ncols=1,\n",
    "                        figsize=(10, 12), sharex=True)\n",
    "\n",
    "# 7-day Moving average plot \n",
    "cambridge_intakes_df[\"7_day_MA\"] = cambridge_intakes_df[\"Appt Type Group\"].rolling(window=7).mean()\n",
    "## Plotting\n",
    "axes[0].plot(cambridge_intakes_df.index, cambridge_intakes_df[\"Appt Type Group\"],\n",
    "        label = \"Daily Count\", color=\"lightblue\")\n",
    "axes[0].plot(cambridge_intakes_df.index, cambridge_intakes_df[\"7_day_MA\"],\n",
    "        label = \"7-day Moving average\", color=\"blue\")\n",
    "axes[0].set_ylabel(\"Count\")\n",
    "\n",
    "axes[0].set_title(\"7-day Moving Averages\")\n",
    "axes[0].legend()\n",
    "# axes[0].set_ylim(0, 50)\n",
    "\n",
    "# 30-day Moving average plot \n",
    "cambridge_intakes_df[\"30_day_MA\"] = cambridge_intakes_df[\"Appt Type Group\"].rolling(window=30).mean()\n",
    "## Plotting\n",
    "axes[1].plot(cambridge_intakes_df.index, cambridge_intakes_df[\"Appt Type Group\"],\n",
    "        label = \"Daily Count\", color=\"lightblue\")\n",
    "axes[1].plot(cambridge_intakes_df.index, cambridge_intakes_df[\"30_day_MA\"],\n",
    "        label = \"30-day Moving average\", color=\"blue\")\n",
    "axes[1].set_ylabel(\"Count\")\n",
    "\n",
    "axes[1].set_title(\"30-day Moving Averages\")\n",
    "axes[1].legend()\n",
    "# axes[1].set_ylim(0, 50)\n",
    "\n",
    "# 90-day Moving average plot \n",
    "cambridge_intakes_df[\"90_day_MA\"] = cambridge_intakes_df[\"Appt Type Group\"].rolling(window=90).mean()\n",
    "## Plotting\n",
    "axes[2].plot(cambridge_intakes_df.index, cambridge_intakes_df[\"Appt Type Group\"],\n",
    "        label = \"Daily Count\", color=\"lightblue\")\n",
    "axes[2].plot(cambridge_intakes_df.index, cambridge_intakes_df[\"90_day_MA\"],\n",
    "        label = \"90-day Moving average\", color=\"blue\")\n",
    "\n",
    "axes[2].set_title(\"90-day Moving Averages\")\n",
    "axes[2].legend()\n",
    "# axes[2].set_ylim(0, 50)\n",
    "\n",
    "plt.suptitle(\"Daily Intakes in Cambridge\", fontsize=20)\n",
    "\n",
    "plt.xlabel(\"Date\")\n",
    "plt.tight_layout()\n",
    "plt.show()"
   ]
  },
  {
   "cell_type": "markdown",
   "id": "e756cb91",
   "metadata": {},
   "source": [
    "There is a gradual increase in number of intakes in the Cambridge facilities daily but starts dropping after mid-2023. This should be fixed by increased campaigns and awareness on mental health to the public. *Lets check how non cambridge facilities performed*"
   ]
  },
  {
   "cell_type": "code",
   "execution_count": null,
   "id": "9ff306e8",
   "metadata": {},
   "outputs": [],
   "source": [
    "# - Filter the data intakes \n",
    "non_cambridge_intakes_df = seen_df[(seen_df[\"Appt Type Group\"]==\"Intake\")&(seen_df[\"Facility City\"]!=\"CAMBRIDGE\")]\n",
    "\n",
    "# - Calculate the daily count of intakes \n",
    "non_cambridge_intakes_df = non_cambridge_intakes_df[[\"Date\", \"Appt Type Group\"]].groupby(\"Date\").count()\n",
    "\n",
    "# # - Plot it on a line chart \n",
    "# non_cambridge_intakes_df.plot(figsize=(12, 7))"
   ]
  },
  {
   "cell_type": "code",
   "execution_count": null,
   "id": "b269a8ff",
   "metadata": {},
   "outputs": [],
   "source": [
    "# Plot a line for number of intakes per day\n",
    "# Create subplots  \n",
    "fig, axes = plt.subplots(nrows=3, ncols=1,\n",
    "                        figsize=(10, 12), sharex=True)\n",
    "\n",
    "# 7-day Moving average plot \n",
    "non_cambridge_intakes_df[\"7_day_MA\"] = non_cambridge_intakes_df[\"Appt Type Group\"].rolling(window=7).mean()\n",
    "## Plotting\n",
    "axes[0].plot(non_cambridge_intakes_df.index, non_cambridge_intakes_df[\"Appt Type Group\"],\n",
    "        label = \"Daily Count\", color=\"lightblue\")\n",
    "axes[0].plot(non_cambridge_intakes_df.index, non_cambridge_intakes_df[\"7_day_MA\"],\n",
    "        label = \"7-day Moving average\", color=\"blue\")\n",
    "axes[0].set_ylabel(\"Count\")\n",
    "\n",
    "axes[0].set_title(\"7-day Moving Averages\")\n",
    "axes[0].legend()\n",
    "# axes[0].set_ylim(0, 50)\n",
    "\n",
    "# 30-day Moving average plot \n",
    "non_cambridge_intakes_df[\"30_day_MA\"] = non_cambridge_intakes_df[\"Appt Type Group\"].rolling(window=30).mean()\n",
    "## Plotting\n",
    "axes[1].plot(non_cambridge_intakes_df.index, non_cambridge_intakes_df[\"Appt Type Group\"],\n",
    "        label = \"Daily Count\", color=\"lightblue\")\n",
    "axes[1].plot(non_cambridge_intakes_df.index, non_cambridge_intakes_df[\"30_day_MA\"],\n",
    "        label = \"30-day Moving average\", color=\"blue\")\n",
    "axes[1].set_ylabel(\"Count\")\n",
    "\n",
    "axes[1].set_title(\"30-day Moving Averages\")\n",
    "axes[1].legend()\n",
    "# axes[1].set_ylim(0, 50)\n",
    "\n",
    "# 90-day Moving average plot \n",
    "non_cambridge_intakes_df[\"90_day_MA\"] = non_cambridge_intakes_df[\"Appt Type Group\"].rolling(window=90).mean()\n",
    "## Plotting\n",
    "axes[2].plot(non_cambridge_intakes_df.index, non_cambridge_intakes_df[\"Appt Type Group\"],\n",
    "        label = \"Daily Count\", color=\"lightblue\")\n",
    "axes[2].plot(non_cambridge_intakes_df.index, non_cambridge_intakes_df[\"90_day_MA\"],\n",
    "        label = \"90-day Moving average\", color=\"blue\")\n",
    "\n",
    "axes[2].set_title(\"90-day Moving Averages\")\n",
    "axes[2].legend()\n",
    "# axes[2].set_ylim(0, 50)\n",
    "\n",
    "plt.suptitle(\"Daily Intakes outside Cambridge\", fontsize=20)\n",
    "\n",
    "plt.xlabel(\"Date\")\n",
    "plt.tight_layout()\n",
    "plt.show()"
   ]
  },
  {
   "cell_type": "markdown",
   "id": "9bba5138",
   "metadata": {},
   "source": [
    "The trend of intakes in non-cambridge facilities in flat and unclear. It some times drops to zero and oscillates between zero and one. May be the facilities are used to refer patients due to other reasons like transport(distance), Flooding lack of enough experts to treat the patients in Cambridge, etc. \n",
    "\n",
    "**Questions to ask**\n",
    "\n",
    "- Is there any change on campaigns(how patients heard about you)\n",
    "- Is there any SEO on the website to get more recognition? If there is, is it effective?(like geo-targeted) Targeting the right audience? \n",
    "- Do you have referral programs - There should be Pirate metrics (AARRR) analysis on both the website and the cambridge facilities. \n",
    "- Did the consultation/admission fee introduced or increased? \n",
    "- Do patients in United States started to prefer insurance payments due to the rising costs in Health Services but this facility has restrictions on the use of insurance? \n",
    "\n",
    "*More ideas will emerge as we progress with the analysis*"
   ]
  },
  {
   "cell_type": "markdown",
   "id": "9ae6c360",
   "metadata": {},
   "source": [
    "**Work on follow-ups** over time"
   ]
  },
  {
   "cell_type": "code",
   "execution_count": null,
   "id": "e5a32019",
   "metadata": {},
   "outputs": [],
   "source": [
    "# - Filter the data follow ups \n",
    "cambridge_followups_df = seen_df[(seen_df[\"Appt Type Group\"]==\"Follow-Up\")&(seen_df[\"Facility City\"]==\"CAMBRIDGE\")]\n",
    "\n",
    "# - Calculate the daily count of follow ups \n",
    "cambridge_followups_df = cambridge_followups_df[[\"Date\", \"Appt Type Group\"]].groupby(\"Date\").count()\n",
    "\n",
    "# # - Plot it on a line chart \n",
    "# cambridge_followups_df.plot(figsize=(12, 7))"
   ]
  },
  {
   "cell_type": "code",
   "execution_count": null,
   "id": "4684d783",
   "metadata": {},
   "outputs": [],
   "source": [
    "# Plot a line for number of intakes per day\n",
    "# Create subplots  \n",
    "fig, axes = plt.subplots(nrows=3, ncols=1,\n",
    "                        figsize=(10, 12), sharex=True)\n",
    "\n",
    "# 7-day Moving average plot \n",
    "cambridge_followups_df[\"7_day_MA\"] = cambridge_followups_df[\"Appt Type Group\"].rolling(window=7).mean()\n",
    "## Plotting\n",
    "axes[0].plot(cambridge_followups_df.index, cambridge_followups_df[\"Appt Type Group\"],\n",
    "        label = \"Daily Count\", color=\"lightblue\")\n",
    "axes[0].plot(cambridge_followups_df.index, cambridge_followups_df[\"7_day_MA\"],\n",
    "        label = \"7-day Moving average\", color=\"blue\")\n",
    "axes[0].set_ylabel(\"Count\")\n",
    "\n",
    "axes[0].set_title(\"7-day Moving Averages\")\n",
    "axes[0].legend()\n",
    "# axes[0].set_ylim(0, 50)\n",
    "\n",
    "# 30-day Moving average plot \n",
    "cambridge_followups_df[\"30_day_MA\"] = cambridge_followups_df[\"Appt Type Group\"].rolling(window=30).mean()\n",
    "## Plotting\n",
    "axes[1].plot(cambridge_followups_df.index, cambridge_followups_df[\"Appt Type Group\"],\n",
    "        label = \"Daily Count\", color=\"lightblue\")\n",
    "axes[1].plot(cambridge_followups_df.index, cambridge_followups_df[\"30_day_MA\"],\n",
    "        label = \"30-day Moving average\", color=\"blue\")\n",
    "axes[1].set_ylabel(\"Count\")\n",
    "\n",
    "axes[1].set_title(\"30-day Moving Averages\")\n",
    "axes[1].legend()\n",
    "# axes[1].set_ylim(0, 50)\n",
    "\n",
    "# 90-day Moving average plot \n",
    "cambridge_followups_df[\"90_day_MA\"] = cambridge_followups_df[\"Appt Type Group\"].rolling(window=90).mean()\n",
    "## Plotting\n",
    "axes[2].plot(cambridge_followups_df.index, cambridge_followups_df[\"Appt Type Group\"],\n",
    "        label = \"Daily Count\", color=\"lightblue\")\n",
    "axes[2].plot(cambridge_followups_df.index, cambridge_followups_df[\"90_day_MA\"],\n",
    "        label = \"90-day Moving average\", color=\"blue\")\n",
    "\n",
    "axes[2].set_title(\"90-day Moving Averages\")\n",
    "axes[2].legend()\n",
    "# axes[2].set_ylim(0, 50)\n",
    "\n",
    "plt.suptitle(\"Daily Follow Ups in Cambridge\", fontsize=20)\n",
    "\n",
    "plt.xlabel(\"Date\")\n",
    "plt.tight_layout()\n",
    "plt.show()"
   ]
  },
  {
   "cell_type": "code",
   "execution_count": null,
   "id": "5b3ef059",
   "metadata": {},
   "outputs": [],
   "source": []
  },
  {
   "cell_type": "code",
   "execution_count": null,
   "id": "d08a6d55",
   "metadata": {},
   "outputs": [],
   "source": [
    "# - Filter the data intakes \n",
    "non_cambridge_followups_df = seen_df[(seen_df[\"Appt Type Group\"]==\"Follow-Up\")&(seen_df[\"Facility City\"]!=\"CAMBRIDGE\")]\n",
    "\n",
    "# - Calculate the daily count of intakes \n",
    "non_cambridge_followups_df = non_cambridge_followups_df[[\"Date\", \"Appt Type Group\"]].groupby(\"Date\").count()\n",
    "\n",
    "# # - Plot it on a line chart \n",
    "# non_cambridge_intakes_df.plot(figsize=(12, 7))"
   ]
  },
  {
   "cell_type": "code",
   "execution_count": null,
   "id": "2b4d933f",
   "metadata": {},
   "outputs": [],
   "source": []
  },
  {
   "cell_type": "code",
   "execution_count": null,
   "id": "f5da6812",
   "metadata": {},
   "outputs": [],
   "source": [
    "# Plot a line for number of intakes per day\n",
    "# Create subplots  \n",
    "fig, axes = plt.subplots(nrows=3, ncols=1,\n",
    "                        figsize=(10, 12), sharex=True)\n",
    "\n",
    "# 7-day Moving average plot \n",
    "non_cambridge_followups_df[\"7_day_MA\"] = non_cambridge_followups_df[\"Appt Type Group\"].rolling(window=7).mean()\n",
    "## Plotting\n",
    "axes[0].plot(non_cambridge_followups_df.index, non_cambridge_followups_df[\"Appt Type Group\"],\n",
    "        label = \"Daily Count\", color=\"lightblue\")\n",
    "axes[0].plot(non_cambridge_followups_df.index, non_cambridge_followups_df[\"7_day_MA\"],\n",
    "        label = \"7-day Moving average\", color=\"blue\")\n",
    "axes[0].set_ylabel(\"Count\")\n",
    "\n",
    "axes[0].set_title(\"7-day Moving Averages\")\n",
    "axes[0].legend()\n",
    "# axes[0].set_ylim(0, 50)\n",
    "\n",
    "# 30-day Moving average plot \n",
    "non_cambridge_followups_df[\"30_day_MA\"] = non_cambridge_followups_df[\"Appt Type Group\"].rolling(window=30).mean()\n",
    "## Plotting\n",
    "axes[1].plot(non_cambridge_followups_df.index, non_cambridge_followups_df[\"Appt Type Group\"],\n",
    "        label = \"Daily Count\", color=\"lightblue\")\n",
    "axes[1].plot(non_cambridge_followups_df.index, non_cambridge_followups_df[\"30_day_MA\"],\n",
    "        label = \"30-day Moving average\", color=\"blue\")\n",
    "axes[1].set_ylabel(\"Count\")\n",
    "\n",
    "axes[1].set_title(\"30-day Moving Averages\")\n",
    "axes[1].legend()\n",
    "# axes[1].set_ylim(0, 50)\n",
    "\n",
    "# 90-day Moving average plot \n",
    "non_cambridge_followups_df[\"90_day_MA\"] = non_cambridge_followups_df[\"Appt Type Group\"].rolling(window=90).mean()\n",
    "## Plotting\n",
    "axes[2].plot(non_cambridge_followups_df.index, non_cambridge_followups_df[\"Appt Type Group\"],\n",
    "        label = \"Daily Count\", color=\"lightblue\")\n",
    "axes[2].plot(non_cambridge_followups_df.index, non_cambridge_followups_df[\"90_day_MA\"],\n",
    "        label = \"90-day Moving average\", color=\"blue\")\n",
    "\n",
    "axes[2].set_title(\"90-day Moving Averages\")\n",
    "axes[2].legend()\n",
    "# axes[2].set_ylim(0, 50)\n",
    "\n",
    "plt.suptitle(\"Daily Follow ups Outside Cambridge\", fontsize=20)\n",
    "\n",
    "plt.xlabel(\"Date\")\n",
    "plt.tight_layout()\n",
    "plt.show()"
   ]
  },
  {
   "cell_type": "markdown",
   "id": "97c20336",
   "metadata": {},
   "source": [
    "**Results**\n",
    "\n",
    "There is a gradual decline in follow-ups and situation escalates in mid-2024. \n",
    "\n",
    "**Questions to ask**\n",
    "\n",
    "- Is the staff loosing morale on follow-ups due to negative/no response? \n",
    "-"
   ]
  },
  {
   "cell_type": "markdown",
   "id": "d652cfec",
   "metadata": {},
   "source": [
    "**Drill down into specific factors**"
   ]
  },
  {
   "cell_type": "markdown",
   "id": "b9f2e830",
   "metadata": {},
   "source": [
    "1. Patients with very few visits and high delays. What patterns emerge?"
   ]
  },
  {
   "cell_type": "code",
   "execution_count": null,
   "id": "0a77efaa",
   "metadata": {},
   "outputs": [],
   "source": [
    "# below 5 visits\n",
    "df[\"Visits\"].describe()"
   ]
  },
  {
   "cell_type": "code",
   "execution_count": null,
   "id": "791e5330",
   "metadata": {},
   "outputs": [],
   "source": [
    "# Extreme - post intake = over one month(30days)\n",
    "df[\"Post-intake days\"].describe()"
   ]
  },
  {
   "cell_type": "code",
   "execution_count": null,
   "id": "4ce09cb8",
   "metadata": {},
   "outputs": [],
   "source": [
    "df[(df[\"Post-intake days\"]>30)&(df[\"Visits\"]<5)]"
   ]
  },
  {
   "cell_type": "markdown",
   "id": "9b0de6af",
   "metadata": {},
   "source": [
    "There is a great performance here like it consists of MH Infusions and follow ups. Most of is in Cambridge. Nothing negative to point out"
   ]
  }
 ],
 "metadata": {
  "kernelspec": {
   "display_name": "Python 3 (ipykernel)",
   "language": "python",
   "name": "python3"
  },
  "language_info": {
   "codemirror_mode": {
    "name": "ipython",
    "version": 3
   },
   "file_extension": ".py",
   "mimetype": "text/x-python",
   "name": "python",
   "nbconvert_exporter": "python",
   "pygments_lexer": "ipython3",
   "version": "3.11.5"
  }
 },
 "nbformat": 4,
 "nbformat_minor": 5
}
