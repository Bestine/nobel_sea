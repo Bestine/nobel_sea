{
 "cells": [
  {
   "cell_type": "markdown",
   "id": "91ae47f5",
   "metadata": {},
   "source": [
    "**Load the required libraries** "
   ]
  },
  {
   "cell_type": "code",
   "execution_count": 1,
   "id": "bce37c77",
   "metadata": {},
   "outputs": [],
   "source": [
    "import pandas as pd \n",
    "import numpy as np\n",
    "from matplotlib import pyplot as plt \n",
    "import seaborn as sns \n",
    "import warnings\n",
    "\n",
    "warnings.filterwarnings(\"ignore\")"
   ]
  },
  {
   "cell_type": "code",
   "execution_count": 2,
   "id": "78aa4915",
   "metadata": {},
   "outputs": [],
   "source": [
    "# Load the required data\n",
    "appointment_df = pd.read_csv(\"../data/Appointments List.csv\", \n",
    "                             encoding='UTF-16', delimiter=\"\\t\")"
   ]
  },
  {
   "cell_type": "markdown",
   "id": "ef52e2a6",
   "metadata": {},
   "source": [
    "# Explanatory Data Analysis \n",
    "## Data Assessment "
   ]
  },
  {
   "cell_type": "code",
   "execution_count": 3,
   "id": "40ed6ef5",
   "metadata": {},
   "outputs": [
    {
     "data": {
      "text/html": [
       "<div>\n",
       "<style scoped>\n",
       "    .dataframe tbody tr th:only-of-type {\n",
       "        vertical-align: middle;\n",
       "    }\n",
       "\n",
       "    .dataframe tbody tr th {\n",
       "        vertical-align: top;\n",
       "    }\n",
       "\n",
       "    .dataframe thead th {\n",
       "        text-align: right;\n",
       "    }\n",
       "</style>\n",
       "<table border=\"1\" class=\"dataframe\">\n",
       "  <thead>\n",
       "    <tr style=\"text-align: right;\">\n",
       "      <th></th>\n",
       "      <th>Appointment UID</th>\n",
       "      <th>Appt Status Description</th>\n",
       "      <th>Date Of Service</th>\n",
       "      <th>Chartnumber</th>\n",
       "      <th>NurseName</th>\n",
       "      <th>FirstTreatmentApptInd</th>\n",
       "      <th>Appt Type Group</th>\n",
       "      <th>Appt Type</th>\n",
       "      <th>Created By</th>\n",
       "      <th>Provider</th>\n",
       "      <th>Facility City</th>\n",
       "      <th>Room</th>\n",
       "      <th>Column Heading</th>\n",
       "      <th>#</th>\n",
       "      <th>Count of tblAppointments</th>\n",
       "      <th>Patient FID</th>\n",
       "    </tr>\n",
       "  </thead>\n",
       "  <tbody>\n",
       "    <tr>\n",
       "      <th>0</th>\n",
       "      <td>Grand Total</td>\n",
       "      <td>Total</td>\n",
       "      <td>Total</td>\n",
       "      <td>Total</td>\n",
       "      <td>Total</td>\n",
       "      <td>Total</td>\n",
       "      <td>Total</td>\n",
       "      <td>Total</td>\n",
       "      <td>Total</td>\n",
       "      <td>Total</td>\n",
       "      <td>Total</td>\n",
       "      <td>Total</td>\n",
       "      <td>Total</td>\n",
       "      <td>Total</td>\n",
       "      <td>55,975</td>\n",
       "      <td>*</td>\n",
       "    </tr>\n",
       "    <tr>\n",
       "      <th>1</th>\n",
       "      <td>1</td>\n",
       "      <td>Made</td>\n",
       "      <td>01/01/00</td>\n",
       "      <td>NaN</td>\n",
       "      <td>NaN</td>\n",
       "      <td>N</td>\n",
       "      <td>Default</td>\n",
       "      <td>NaN</td>\n",
       "      <td>system</td>\n",
       "      <td>,</td>\n",
       "      <td>NaN</td>\n",
       "      <td>Other</td>\n",
       "      <td>NaN</td>\n",
       "      <td>1</td>\n",
       "      <td>1</td>\n",
       "      <td>1</td>\n",
       "    </tr>\n",
       "    <tr>\n",
       "      <th>2</th>\n",
       "      <td>109</td>\n",
       "      <td>Seen</td>\n",
       "      <td>01/22/18</td>\n",
       "      <td>1</td>\n",
       "      <td>NaN</td>\n",
       "      <td>N</td>\n",
       "      <td>Intake</td>\n",
       "      <td>TMS INTAKE DR. BRENNER</td>\n",
       "      <td>EMILY</td>\n",
       "      <td>BRENNER,DANIEL A</td>\n",
       "      <td>CAMBRIDGE</td>\n",
       "      <td>Other</td>\n",
       "      <td>DR. BRENNER</td>\n",
       "      <td>2</td>\n",
       "      <td>1</td>\n",
       "      <td>5,283</td>\n",
       "    </tr>\n",
       "    <tr>\n",
       "      <th>3</th>\n",
       "      <td>239</td>\n",
       "      <td>Seen</td>\n",
       "      <td>01/22/18</td>\n",
       "      <td>2</td>\n",
       "      <td>NaN</td>\n",
       "      <td>N</td>\n",
       "      <td>MH Infusion</td>\n",
       "      <td>KETAMINE MH -INFUSION ONLY</td>\n",
       "      <td>EMILY</td>\n",
       "      <td>BRENNER,DANIEL A</td>\n",
       "      <td>CAMBRIDGE</td>\n",
       "      <td>Other</td>\n",
       "      <td>2C</td>\n",
       "      <td>3</td>\n",
       "      <td>1</td>\n",
       "      <td>5,286</td>\n",
       "    </tr>\n",
       "    <tr>\n",
       "      <th>4</th>\n",
       "      <td>240</td>\n",
       "      <td>Made</td>\n",
       "      <td>01/22/18</td>\n",
       "      <td>9</td>\n",
       "      <td>NaN</td>\n",
       "      <td>N</td>\n",
       "      <td>Intake</td>\n",
       "      <td>TMS INTAKE DR. BRENNER</td>\n",
       "      <td>EMILY</td>\n",
       "      <td>BRENNER,DANIEL A</td>\n",
       "      <td>CAMBRIDGE</td>\n",
       "      <td>Other</td>\n",
       "      <td>DR. BRENNER</td>\n",
       "      <td>4</td>\n",
       "      <td>1</td>\n",
       "      <td>5,351</td>\n",
       "    </tr>\n",
       "  </tbody>\n",
       "</table>\n",
       "</div>"
      ],
      "text/plain": [
       "  Appointment UID Appt Status Description Date Of Service Chartnumber  \\\n",
       "0     Grand Total                   Total           Total       Total   \n",
       "1               1                    Made        01/01/00         NaN   \n",
       "2             109                    Seen        01/22/18           1   \n",
       "3             239                    Seen        01/22/18           2   \n",
       "4             240                    Made        01/22/18           9   \n",
       "\n",
       "  NurseName FirstTreatmentApptInd Appt Type Group                   Appt Type  \\\n",
       "0     Total                 Total           Total                       Total   \n",
       "1       NaN                     N         Default                         NaN   \n",
       "2       NaN                     N          Intake      TMS INTAKE DR. BRENNER   \n",
       "3       NaN                     N     MH Infusion  KETAMINE MH -INFUSION ONLY   \n",
       "4       NaN                     N          Intake      TMS INTAKE DR. BRENNER   \n",
       "\n",
       "  Created By          Provider Facility City   Room Column Heading      #  \\\n",
       "0      Total             Total         Total  Total          Total  Total   \n",
       "1     system                 ,           NaN  Other            NaN      1   \n",
       "2      EMILY  BRENNER,DANIEL A     CAMBRIDGE  Other    DR. BRENNER      2   \n",
       "3      EMILY  BRENNER,DANIEL A     CAMBRIDGE  Other             2C      3   \n",
       "4      EMILY  BRENNER,DANIEL A     CAMBRIDGE  Other    DR. BRENNER      4   \n",
       "\n",
       "  Count of tblAppointments Patient FID  \n",
       "0                   55,975           *  \n",
       "1                        1           1  \n",
       "2                        1       5,283  \n",
       "3                        1       5,286  \n",
       "4                        1       5,351  "
      ]
     },
     "execution_count": 3,
     "metadata": {},
     "output_type": "execute_result"
    }
   ],
   "source": [
    "# first few rows \n",
    "appointment_df.head()"
   ]
  },
  {
   "cell_type": "code",
   "execution_count": 4,
   "id": "c13d4dd8",
   "metadata": {},
   "outputs": [
    {
     "name": "stdout",
     "output_type": "stream",
     "text": [
      "<class 'pandas.core.frame.DataFrame'>\n",
      "RangeIndex: 55976 entries, 0 to 55975\n",
      "Data columns (total 16 columns):\n",
      " #   Column                    Non-Null Count  Dtype \n",
      "---  ------                    --------------  ----- \n",
      " 0   Appointment UID           55976 non-null  object\n",
      " 1   Appt Status Description   55976 non-null  object\n",
      " 2   Date Of Service           37250 non-null  object\n",
      " 3   Chartnumber               55975 non-null  object\n",
      " 4   NurseName                 19321 non-null  object\n",
      " 5   FirstTreatmentApptInd     54678 non-null  object\n",
      " 6   Appt Type Group           54678 non-null  object\n",
      " 7   Appt Type                 54677 non-null  object\n",
      " 8   Created By                55976 non-null  object\n",
      " 9   Provider                  55976 non-null  object\n",
      " 10  Facility City             51738 non-null  object\n",
      " 11  Room                      55976 non-null  object\n",
      " 12  Column Heading            54697 non-null  object\n",
      " 13  #                         55976 non-null  object\n",
      " 14  Count of tblAppointments  55976 non-null  object\n",
      " 15  Patient FID               55976 non-null  object\n",
      "dtypes: object(16)\n",
      "memory usage: 6.8+ MB\n"
     ]
    }
   ],
   "source": [
    "# Data info summary \n",
    "appointment_df.info()"
   ]
  },
  {
   "cell_type": "code",
   "execution_count": 5,
   "id": "b3e460e0",
   "metadata": {},
   "outputs": [
    {
     "data": {
      "text/plain": [
       "0"
      ]
     },
     "execution_count": 5,
     "metadata": {},
     "output_type": "execute_result"
    }
   ],
   "source": [
    "# Duplicated? \n",
    "appointment_df.duplicated().sum()"
   ]
  },
  {
   "cell_type": "code",
   "execution_count": 6,
   "id": "49e8f73e",
   "metadata": {
    "scrolled": true
   },
   "outputs": [
    {
     "data": {
      "text/plain": [
       "array(['Total', nan, 'DANIEL THOMPSON', 'EDWARD ALMEIDA',\n",
       "       'OLGA PAVLEYEVA', 'DANA COLLEY', 'Daniel Thompson',\n",
       "       'Kelsey Paydos', 'Katherine Marcinkus', 'Doreen Rynne, RN',\n",
       "       'Erin Reilly, RN', 'Mona Itani, MD', \"Kaitlin O'Donnell\",\n",
       "       'Stephanie Hogan', 'Odessa Holt', 'Melissa Martin', 'Sarah Slote',\n",
       "       'Sara Glick', 'Holly Randall', 'Jake Keenan', 'Olivia Hendy',\n",
       "       'Kimberly Dowdie'], dtype=object)"
      ]
     },
     "execution_count": 6,
     "metadata": {},
     "output_type": "execute_result"
    }
   ],
   "source": [
    "# Who are the nurses?\n",
    "appointment_df[\"NurseName\"].unique()"
   ]
  },
  {
   "cell_type": "code",
   "execution_count": 7,
   "id": "ade87aea",
   "metadata": {},
   "outputs": [
    {
     "data": {
      "text/plain": [
       "array(['Total', 'Made', 'Seen', 'Deleted', 'Cancelled', 'No Show',\n",
       "       'Other', 'Arrived', 'Moved'], dtype=object)"
      ]
     },
     "execution_count": 7,
     "metadata": {},
     "output_type": "execute_result"
    }
   ],
   "source": [
    "# What types of appointments? \n",
    "appointment_df[\"Appt Status Description\"].unique()"
   ]
  },
  {
   "cell_type": "markdown",
   "id": "cc8fe467",
   "metadata": {},
   "source": [
    "## Data Wrangling "
   ]
  },
  {
   "cell_type": "code",
   "execution_count": 8,
   "id": "4545dd7c",
   "metadata": {},
   "outputs": [
    {
     "data": {
      "text/html": [
       "<div>\n",
       "<style scoped>\n",
       "    .dataframe tbody tr th:only-of-type {\n",
       "        vertical-align: middle;\n",
       "    }\n",
       "\n",
       "    .dataframe tbody tr th {\n",
       "        vertical-align: top;\n",
       "    }\n",
       "\n",
       "    .dataframe thead th {\n",
       "        text-align: right;\n",
       "    }\n",
       "</style>\n",
       "<table border=\"1\" class=\"dataframe\">\n",
       "  <thead>\n",
       "    <tr style=\"text-align: right;\">\n",
       "      <th></th>\n",
       "      <th>Appointment UID</th>\n",
       "      <th>Appt Status Description</th>\n",
       "      <th>Date Of Service</th>\n",
       "      <th>Chartnumber</th>\n",
       "      <th>NurseName</th>\n",
       "      <th>FirstTreatmentApptInd</th>\n",
       "      <th>Appt Type Group</th>\n",
       "      <th>Appt Type</th>\n",
       "      <th>Created By</th>\n",
       "      <th>Provider</th>\n",
       "      <th>Facility City</th>\n",
       "      <th>Room</th>\n",
       "      <th>Column Heading</th>\n",
       "      <th>#</th>\n",
       "      <th>Count of tblAppointments</th>\n",
       "      <th>Patient FID</th>\n",
       "    </tr>\n",
       "  </thead>\n",
       "  <tbody>\n",
       "    <tr>\n",
       "      <th>0</th>\n",
       "      <td>1</td>\n",
       "      <td>Made</td>\n",
       "      <td>01/01/00</td>\n",
       "      <td>NaN</td>\n",
       "      <td>NaN</td>\n",
       "      <td>N</td>\n",
       "      <td>Default</td>\n",
       "      <td>NaN</td>\n",
       "      <td>system</td>\n",
       "      <td>,</td>\n",
       "      <td>NaN</td>\n",
       "      <td>Other</td>\n",
       "      <td>NaN</td>\n",
       "      <td>1</td>\n",
       "      <td>1</td>\n",
       "      <td>1</td>\n",
       "    </tr>\n",
       "    <tr>\n",
       "      <th>1</th>\n",
       "      <td>109</td>\n",
       "      <td>Seen</td>\n",
       "      <td>01/22/18</td>\n",
       "      <td>1</td>\n",
       "      <td>NaN</td>\n",
       "      <td>N</td>\n",
       "      <td>Intake</td>\n",
       "      <td>TMS INTAKE DR. BRENNER</td>\n",
       "      <td>EMILY</td>\n",
       "      <td>BRENNER,DANIEL A</td>\n",
       "      <td>CAMBRIDGE</td>\n",
       "      <td>Other</td>\n",
       "      <td>DR. BRENNER</td>\n",
       "      <td>2</td>\n",
       "      <td>1</td>\n",
       "      <td>5,283</td>\n",
       "    </tr>\n",
       "    <tr>\n",
       "      <th>2</th>\n",
       "      <td>239</td>\n",
       "      <td>Seen</td>\n",
       "      <td>01/22/18</td>\n",
       "      <td>2</td>\n",
       "      <td>NaN</td>\n",
       "      <td>N</td>\n",
       "      <td>MH Infusion</td>\n",
       "      <td>KETAMINE MH -INFUSION ONLY</td>\n",
       "      <td>EMILY</td>\n",
       "      <td>BRENNER,DANIEL A</td>\n",
       "      <td>CAMBRIDGE</td>\n",
       "      <td>Other</td>\n",
       "      <td>2C</td>\n",
       "      <td>3</td>\n",
       "      <td>1</td>\n",
       "      <td>5,286</td>\n",
       "    </tr>\n",
       "    <tr>\n",
       "      <th>3</th>\n",
       "      <td>240</td>\n",
       "      <td>Made</td>\n",
       "      <td>01/22/18</td>\n",
       "      <td>9</td>\n",
       "      <td>NaN</td>\n",
       "      <td>N</td>\n",
       "      <td>Intake</td>\n",
       "      <td>TMS INTAKE DR. BRENNER</td>\n",
       "      <td>EMILY</td>\n",
       "      <td>BRENNER,DANIEL A</td>\n",
       "      <td>CAMBRIDGE</td>\n",
       "      <td>Other</td>\n",
       "      <td>DR. BRENNER</td>\n",
       "      <td>4</td>\n",
       "      <td>1</td>\n",
       "      <td>5,351</td>\n",
       "    </tr>\n",
       "    <tr>\n",
       "      <th>4</th>\n",
       "      <td>241</td>\n",
       "      <td>Made</td>\n",
       "      <td>02/02/18</td>\n",
       "      <td>6</td>\n",
       "      <td>NaN</td>\n",
       "      <td>N</td>\n",
       "      <td>Intake</td>\n",
       "      <td>KETAMINE INTAKE DR. BRENNER</td>\n",
       "      <td>EMILY</td>\n",
       "      <td>BRENNER,DANIEL A</td>\n",
       "      <td>CAMBRIDGE</td>\n",
       "      <td>Other</td>\n",
       "      <td>DR. BRENNER</td>\n",
       "      <td>5</td>\n",
       "      <td>1</td>\n",
       "      <td>5,348</td>\n",
       "    </tr>\n",
       "  </tbody>\n",
       "</table>\n",
       "</div>"
      ],
      "text/plain": [
       "  Appointment UID Appt Status Description Date Of Service Chartnumber  \\\n",
       "0               1                    Made        01/01/00         NaN   \n",
       "1             109                    Seen        01/22/18           1   \n",
       "2             239                    Seen        01/22/18           2   \n",
       "3             240                    Made        01/22/18           9   \n",
       "4             241                    Made        02/02/18           6   \n",
       "\n",
       "  NurseName FirstTreatmentApptInd Appt Type Group  \\\n",
       "0       NaN                     N         Default   \n",
       "1       NaN                     N          Intake   \n",
       "2       NaN                     N     MH Infusion   \n",
       "3       NaN                     N          Intake   \n",
       "4       NaN                     N          Intake   \n",
       "\n",
       "                     Appt Type Created By          Provider Facility City  \\\n",
       "0                          NaN     system                 ,           NaN   \n",
       "1       TMS INTAKE DR. BRENNER      EMILY  BRENNER,DANIEL A     CAMBRIDGE   \n",
       "2   KETAMINE MH -INFUSION ONLY      EMILY  BRENNER,DANIEL A     CAMBRIDGE   \n",
       "3       TMS INTAKE DR. BRENNER      EMILY  BRENNER,DANIEL A     CAMBRIDGE   \n",
       "4  KETAMINE INTAKE DR. BRENNER      EMILY  BRENNER,DANIEL A     CAMBRIDGE   \n",
       "\n",
       "    Room Column Heading  # Count of tblAppointments Patient FID  \n",
       "0  Other            NaN  1                        1           1  \n",
       "1  Other    DR. BRENNER  2                        1       5,283  \n",
       "2  Other             2C  3                        1       5,286  \n",
       "3  Other    DR. BRENNER  4                        1       5,351  \n",
       "4  Other    DR. BRENNER  5                        1       5,348  "
      ]
     },
     "execution_count": 8,
     "metadata": {},
     "output_type": "execute_result"
    }
   ],
   "source": [
    "# Drop the first row of the data frame\n",
    "appointment_df.drop(index=0, inplace=True)\n",
    "appointment_df.reset_index(drop=True, inplace=True)\n",
    "\n",
    "# Confirm \n",
    "appointment_df.head()"
   ]
  },
  {
   "cell_type": "code",
   "execution_count": 9,
   "id": "8fd61a3f",
   "metadata": {},
   "outputs": [
    {
     "data": {
      "text/plain": [
       "array(['Seen', 'Cancelled', 'No Show', 'Other', 'Arrived', 'Moved'],\n",
       "      dtype=object)"
      ]
     },
     "execution_count": 9,
     "metadata": {},
     "output_type": "execute_result"
    }
   ],
   "source": [
    "# Replace \"Made\" to \"Seen\" and \"Deleted\" to \"Cancelled\"\n",
    "appointment_df[\"Appt Status Description\"].replace({\n",
    "    \"Made\":\"Seen\",\n",
    "    \"Deleted\": \"Cancelled\"\n",
    "}, inplace=True)\n",
    "\n",
    "\n",
    "appointment_df[\"Appt Status Description\"].unique()"
   ]
  },
  {
   "cell_type": "markdown",
   "id": "8718853c",
   "metadata": {},
   "source": [
    "## Data Visualization"
   ]
  },
  {
   "cell_type": "code",
   "execution_count": 10,
   "id": "67cb55f1",
   "metadata": {},
   "outputs": [
    {
     "data": {
      "text/plain": [
       "Text(0.5, 1.0, 'Appointment Status')"
      ]
     },
     "execution_count": 10,
     "metadata": {},
     "output_type": "execute_result"
    },
    {
     "data": {
      "image/png": "[encoded data removed]",
      "text/plain": [
       "<Figure size 1200x700 with 1 Axes>"
      ]
     },
     "metadata": {},
     "output_type": "display_data"
    }
   ],
   "source": [
    "# Compare the appointments with bar chart\n",
    "%matplotlib inline \n",
    "sns.set()\n",
    "\n",
    "appointment_df[\"Appt Status Description\"].value_counts().plot(\n",
    "    kind=\"bar\", rot=45, figsize=(12, 7)\n",
    ")\n",
    "plt.xlabel(\"Number of Patients\")\n",
    "plt.title(\"Appointment Status\")"
   ]
  },
  {
   "cell_type": "code",
   "execution_count": 11,
   "id": "7963fee8",
   "metadata": {},
   "outputs": [
    {
     "data": {
      "text/plain": [
       "(40985, 16)"
      ]
     },
     "execution_count": 11,
     "metadata": {},
     "output_type": "execute_result"
    }
   ],
   "source": [
    "# Get the patients who had a successfull appointment\n",
    "seen_df = appointment_df[appointment_df[\"Appt Status Description\"]==\"Seen\"].reset_index(drop=True)\n",
    "\n",
    "seen_df.shape"
   ]
  },
  {
   "cell_type": "markdown",
   "id": "470124b1",
   "metadata": {},
   "source": [
    "**Are there 'returning' patients in the appointments?**"
   ]
  },
  {
   "cell_type": "code",
   "execution_count": 12,
   "id": "ef19ae89",
   "metadata": {},
   "outputs": [
    {
     "name": "stdout",
     "output_type": "stream",
     "text": [
      "There is a 4.34% unique patients among all the total appointments\n"
     ]
    }
   ],
   "source": [
    "uniqueness = seen_df[\"Patient FID\"].nunique()/seen_df.shape[0] * 100\n",
    "\n",
    "print(f\"There is a {round(uniqueness, 2)}% unique patients among all the total appointments\")"
   ]
  },
  {
   "cell_type": "markdown",
   "id": "be9491d3",
   "metadata": {},
   "source": [
    "Most the patients have visited the facilities severally, lets find how frequenctly the patients make appointments"
   ]
  },
  {
   "cell_type": "code",
   "execution_count": 13,
   "id": "a92cae06",
   "metadata": {},
   "outputs": [
    {
     "data": {
      "text/plain": [
       "Text(0, 0.5, 'Frequency')"
      ]
     },
     "execution_count": 13,
     "metadata": {},
     "output_type": "execute_result"
    },
    {
     "data": {
      "image/png": "[encoded data removed]",
      "text/plain": [
       "<Figure size 1200x700 with 1 Axes>"
      ]
     },
     "metadata": {},
     "output_type": "display_data"
    }
   ],
   "source": [
    "# seen_df[seen_df[\"Patient FID\"]].groupby(\"Patient FID\").count()\n",
    "appointment_frequency = seen_df[\"Patient FID\"].value_counts().values\n",
    "\n",
    "# Plot on a histogram \n",
    "%matplotlib inline\n",
    "sns.set()\n",
    "\n",
    "plt.figure(figsize=(12, 7))\n",
    "plt.hist(appointment_frequency, bins=50)\n",
    "plt.title(\"Appointment Frequency\")\n",
    "plt.xlabel(\"No# of Appointments\")\n",
    "plt.ylabel(\"Frequency\")"
   ]
  },
  {
   "cell_type": "markdown",
   "id": "8bb92e19",
   "metadata": {},
   "source": [
    "**How many amongst the seen was their first appointment?**"
   ]
  },
  {
   "cell_type": "code",
   "execution_count": 14,
   "id": "e277338f",
   "metadata": {
    "scrolled": true
   },
   "outputs": [
    {
     "data": {
      "text/plain": [
       "array(['N', 'Y', nan], dtype=object)"
      ]
     },
     "execution_count": 14,
     "metadata": {},
     "output_type": "execute_result"
    }
   ],
   "source": [
    "seen_df[\"FirstTreatmentApptInd\"].unique()"
   ]
  },
  {
   "cell_type": "code",
   "execution_count": 15,
   "id": "0e985b62",
   "metadata": {},
   "outputs": [
    {
     "data": {
      "text/plain": [
       "<Axes: ylabel='count'>"
      ]
     },
     "execution_count": 15,
     "metadata": {},
     "output_type": "execute_result"
    },
    {
     "data": {
      "image/png": "[encoded data removed]",
      "text/plain": [
       "<Figure size 640x480 with 1 Axes>"
      ]
     },
     "metadata": {},
     "output_type": "display_data"
    }
   ],
   "source": [
    "# Plot the data  \n",
    "seen_df[\"FirstTreatmentApptInd\"].value_counts().plot(kind=\"pie\")"
   ]
  },
  {
   "cell_type": "markdown",
   "id": "78f75660",
   "metadata": {},
   "source": [
    "Most of them it was not their first time to visit the health center. Lets find out among the first timers if they had an intake"
   ]
  },
  {
   "cell_type": "code",
   "execution_count": 16,
   "id": "27859f01",
   "metadata": {},
   "outputs": [
    {
     "data": {
      "text/plain": [
       "Appt Type Group\n",
       "MH Infusion        395\n",
       "TMS                330\n",
       "KAP Integration     49\n",
       "Intake               3\n",
       "Name: count, dtype: int64"
      ]
     },
     "execution_count": 16,
     "metadata": {},
     "output_type": "execute_result"
    }
   ],
   "source": [
    "first_timer_df = seen_df[seen_df[\"FirstTreatmentApptInd\"]==\"Y\"].reset_index(drop=True)\n",
    "\n",
    "# Who had an intake? \n",
    "first_timer_df[\"Appt Type Group\"].value_counts()"
   ]
  },
  {
   "cell_type": "markdown",
   "id": "93f53ed5",
   "metadata": {},
   "source": [
    "**A funnel Chart that will narrow down the number of appointments at each stage**"
   ]
  },
  {
   "cell_type": "code",
   "execution_count": 17,
   "id": "09a926c4",
   "metadata": {},
   "outputs": [],
   "source": [
    "import plotly.express as px"
   ]
  },
  {
   "cell_type": "code",
   "execution_count": 18,
   "id": "ab09929c",
   "metadata": {},
   "outputs": [
    {
     "data": {
      "text/html": [
       "<div>\n",
       "<style scoped>\n",
       "    .dataframe tbody tr th:only-of-type {\n",
       "        vertical-align: middle;\n",
       "    }\n",
       "\n",
       "    .dataframe tbody tr th {\n",
       "        vertical-align: top;\n",
       "    }\n",
       "\n",
       "    .dataframe thead th {\n",
       "        text-align: right;\n",
       "    }\n",
       "</style>\n",
       "<table border=\"1\" class=\"dataframe\">\n",
       "  <thead>\n",
       "    <tr style=\"text-align: right;\">\n",
       "      <th></th>\n",
       "      <th>Stage</th>\n",
       "      <th>Count</th>\n",
       "    </tr>\n",
       "  </thead>\n",
       "  <tbody>\n",
       "    <tr>\n",
       "      <th>0</th>\n",
       "      <td>Total Appointments</td>\n",
       "      <td>55975</td>\n",
       "    </tr>\n",
       "    <tr>\n",
       "      <th>1</th>\n",
       "      <td>Successfull Appointments</td>\n",
       "      <td>40985</td>\n",
       "    </tr>\n",
       "    <tr>\n",
       "      <th>2</th>\n",
       "      <td>First-time Visitors</td>\n",
       "      <td>777</td>\n",
       "    </tr>\n",
       "    <tr>\n",
       "      <th>3</th>\n",
       "      <td>Intakes</td>\n",
       "      <td>3</td>\n",
       "    </tr>\n",
       "  </tbody>\n",
       "</table>\n",
       "</div>"
      ],
      "text/plain": [
       "                      Stage  Count\n",
       "0        Total Appointments  55975\n",
       "1  Successfull Appointments  40985\n",
       "2       First-time Visitors    777\n",
       "3                   Intakes      3"
      ]
     },
     "execution_count": 18,
     "metadata": {},
     "output_type": "execute_result"
    }
   ],
   "source": [
    "# Count the total appointments\n",
    "total_appointments = appointment_df.shape[0]\n",
    "\n",
    "# Count successful appointments \n",
    "successful_appnts = appointment_df[appointment_df[\"Appt Status Description\"]==\"Seen\"].shape[0]\n",
    "\n",
    "# Count First time visitors therein\n",
    "first_time_visitors = seen_df[seen_df[\"FirstTreatmentApptInd\"]==\"Y\"].shape[0]\n",
    "\n",
    "# First time visitors with intake \n",
    "intakes = first_timer_df[first_timer_df[\"Appt Type Group\"]==\"Intake\"].shape[0]\n",
    "\n",
    "# Prepare the funnel\n",
    "## funnel data \n",
    "funnel_data = {\n",
    "    \"Stage\":[\"Total Appointments\",\n",
    "            \"Successfull Appointments\", \n",
    "            \"First-time Visitors\",\n",
    "            \"Intakes\"],\n",
    "    \"Count\":[total_appointments,\n",
    "            successful_appnts,\n",
    "            first_time_visitors,\n",
    "            intakes]\n",
    "}\n",
    "\n",
    "funnel_df = pd.DataFrame(funnel_data)\n",
    "funnel_df"
   ]
  },
  {
   "cell_type": "code",
   "execution_count": 19,
   "id": "c3457c71",
   "metadata": {},
   "outputs": [],
   "source": [
    "# fig = px.funnel(funnel_df, x = \"Count\", \n",
    "#                y=\"Stage\", title = \"Appointment Funnel Analysis\")\n",
    "# fig.show()"
   ]
  },
  {
   "cell_type": "code",
   "execution_count": null,
   "id": "3d9a1600",
   "metadata": {},
   "outputs": [],
   "source": []
  }
 ],
 "metadata": {
  "kernelspec": {
   "display_name": "Python 3 (ipykernel)",
   "language": "python",
   "name": "python3"
  },
  "language_info": {
   "codemirror_mode": {
    "name": "ipython",
    "version": 3
   },
   "file_extension": ".py",
   "mimetype": "text/x-python",
   "name": "python",
   "nbconvert_exporter": "python",
   "pygments_lexer": "ipython3",
   "version": "3.11.5"
  }
 },
 "nbformat": 4,
 "nbformat_minor": 5
}
