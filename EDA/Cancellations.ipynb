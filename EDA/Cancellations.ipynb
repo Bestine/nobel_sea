{
 "cells": [
  {
   "cell_type": "markdown",
   "id": "bf9137e9",
   "metadata": {},
   "source": [
    "**Load the required libraries and packages**"
   ]
  },
  {
   "cell_type": "code",
   "execution_count": 1,
   "id": "fef92107",
   "metadata": {},
   "outputs": [],
   "source": [
    "# libraries \n",
    "import pandas as pd \n",
    "import numpy as np\n",
    "from matplotlib import pyplot as plt \n",
    "import seaborn as sns "
   ]
  },
  {
   "cell_type": "code",
   "execution_count": 2,
   "id": "f7dc628c",
   "metadata": {},
   "outputs": [
    {
     "name": "stderr",
     "output_type": "stream",
     "text": [
      "/tmp/ipykernel_20737/1529740636.py:2: DtypeWarning: Columns (0,3,14) have mixed types. Specify dtype option on import or set low_memory=False.\n",
      "  appointment_df = pd.read_csv(\"../data/Appointments List.csv\",\n"
     ]
    }
   ],
   "source": [
    "# Data \n",
    "appointment_df = pd.read_csv(\"../data/Appointments List.csv\", \n",
    "                             encoding='UTF-16', delimiter=\"\\t\")"
   ]
  },
  {
   "cell_type": "markdown",
   "id": "5b8b0778",
   "metadata": {},
   "source": [
    "**Objectives**\n",
    "\n",
    "- rate of cancelled MH infusion appointments with time\n",
    "- Compare ration of cancelled appointments with successfull ones over time\n",
    "- if cancellation increased (skyrocketed) what may have led. If that is the case - book a call with COO and look into the process of booking appointments \n",
    "- Is cancelled appointment (MH infusion) the first one "
   ]
  },
  {
   "cell_type": "markdown",
   "id": "cd574560",
   "metadata": {},
   "source": [
    "# Explanatory Data Analysis\n",
    "## Data Assessment and Preparation"
   ]
  },
  {
   "cell_type": "code",
   "execution_count": 3,
   "id": "7a89f681",
   "metadata": {},
   "outputs": [
    {
     "data": {
      "text/html": [
       "<div>\n",
       "<style scoped>\n",
       "    .dataframe tbody tr th:only-of-type {\n",
       "        vertical-align: middle;\n",
       "    }\n",
       "\n",
       "    .dataframe tbody tr th {\n",
       "        vertical-align: top;\n",
       "    }\n",
       "\n",
       "    .dataframe thead th {\n",
       "        text-align: right;\n",
       "    }\n",
       "</style>\n",
       "<table border=\"1\" class=\"dataframe\">\n",
       "  <thead>\n",
       "    <tr style=\"text-align: right;\">\n",
       "      <th></th>\n",
       "      <th>Appointment UID</th>\n",
       "      <th>Appt Status Description</th>\n",
       "      <th>Date Of Service</th>\n",
       "      <th>Chartnumber</th>\n",
       "      <th>NurseName</th>\n",
       "      <th>FirstTreatmentApptInd</th>\n",
       "      <th>Appt Type Group</th>\n",
       "      <th>Appt Type</th>\n",
       "      <th>Created By</th>\n",
       "      <th>Provider</th>\n",
       "      <th>Facility City</th>\n",
       "      <th>Room</th>\n",
       "      <th>Column Heading</th>\n",
       "      <th>#</th>\n",
       "      <th>Count of tblAppointments</th>\n",
       "      <th>Patient FID</th>\n",
       "    </tr>\n",
       "  </thead>\n",
       "  <tbody>\n",
       "    <tr>\n",
       "      <th>0</th>\n",
       "      <td>Grand Total</td>\n",
       "      <td>Total</td>\n",
       "      <td>Total</td>\n",
       "      <td>Total</td>\n",
       "      <td>Total</td>\n",
       "      <td>Total</td>\n",
       "      <td>Total</td>\n",
       "      <td>Total</td>\n",
       "      <td>Total</td>\n",
       "      <td>Total</td>\n",
       "      <td>Total</td>\n",
       "      <td>Total</td>\n",
       "      <td>Total</td>\n",
       "      <td>Total</td>\n",
       "      <td>55,975</td>\n",
       "      <td>*</td>\n",
       "    </tr>\n",
       "    <tr>\n",
       "      <th>1</th>\n",
       "      <td>1</td>\n",
       "      <td>Made</td>\n",
       "      <td>01/01/00</td>\n",
       "      <td>NaN</td>\n",
       "      <td>NaN</td>\n",
       "      <td>N</td>\n",
       "      <td>Default</td>\n",
       "      <td>NaN</td>\n",
       "      <td>system</td>\n",
       "      <td>,</td>\n",
       "      <td>NaN</td>\n",
       "      <td>Other</td>\n",
       "      <td>NaN</td>\n",
       "      <td>1</td>\n",
       "      <td>1</td>\n",
       "      <td>1</td>\n",
       "    </tr>\n",
       "    <tr>\n",
       "      <th>2</th>\n",
       "      <td>109</td>\n",
       "      <td>Seen</td>\n",
       "      <td>01/22/18</td>\n",
       "      <td>1</td>\n",
       "      <td>NaN</td>\n",
       "      <td>N</td>\n",
       "      <td>Intake</td>\n",
       "      <td>TMS INTAKE DR. BRENNER</td>\n",
       "      <td>EMILY</td>\n",
       "      <td>BRENNER,DANIEL A</td>\n",
       "      <td>CAMBRIDGE</td>\n",
       "      <td>Other</td>\n",
       "      <td>DR. BRENNER</td>\n",
       "      <td>2</td>\n",
       "      <td>1</td>\n",
       "      <td>5,283</td>\n",
       "    </tr>\n",
       "    <tr>\n",
       "      <th>3</th>\n",
       "      <td>239</td>\n",
       "      <td>Seen</td>\n",
       "      <td>01/22/18</td>\n",
       "      <td>2</td>\n",
       "      <td>NaN</td>\n",
       "      <td>N</td>\n",
       "      <td>MH Infusion</td>\n",
       "      <td>KETAMINE MH -INFUSION ONLY</td>\n",
       "      <td>EMILY</td>\n",
       "      <td>BRENNER,DANIEL A</td>\n",
       "      <td>CAMBRIDGE</td>\n",
       "      <td>Other</td>\n",
       "      <td>2C</td>\n",
       "      <td>3</td>\n",
       "      <td>1</td>\n",
       "      <td>5,286</td>\n",
       "    </tr>\n",
       "    <tr>\n",
       "      <th>4</th>\n",
       "      <td>240</td>\n",
       "      <td>Made</td>\n",
       "      <td>01/22/18</td>\n",
       "      <td>9</td>\n",
       "      <td>NaN</td>\n",
       "      <td>N</td>\n",
       "      <td>Intake</td>\n",
       "      <td>TMS INTAKE DR. BRENNER</td>\n",
       "      <td>EMILY</td>\n",
       "      <td>BRENNER,DANIEL A</td>\n",
       "      <td>CAMBRIDGE</td>\n",
       "      <td>Other</td>\n",
       "      <td>DR. BRENNER</td>\n",
       "      <td>4</td>\n",
       "      <td>1</td>\n",
       "      <td>5,351</td>\n",
       "    </tr>\n",
       "  </tbody>\n",
       "</table>\n",
       "</div>"
      ],
      "text/plain": [
       "  Appointment UID Appt Status Description Date Of Service Chartnumber  \\\n",
       "0     Grand Total                   Total           Total       Total   \n",
       "1               1                    Made        01/01/00         NaN   \n",
       "2             109                    Seen        01/22/18           1   \n",
       "3             239                    Seen        01/22/18           2   \n",
       "4             240                    Made        01/22/18           9   \n",
       "\n",
       "  NurseName FirstTreatmentApptInd Appt Type Group                   Appt Type  \\\n",
       "0     Total                 Total           Total                       Total   \n",
       "1       NaN                     N         Default                         NaN   \n",
       "2       NaN                     N          Intake      TMS INTAKE DR. BRENNER   \n",
       "3       NaN                     N     MH Infusion  KETAMINE MH -INFUSION ONLY   \n",
       "4       NaN                     N          Intake      TMS INTAKE DR. BRENNER   \n",
       "\n",
       "  Created By          Provider Facility City   Room Column Heading      #  \\\n",
       "0      Total             Total         Total  Total          Total  Total   \n",
       "1     system                 ,           NaN  Other            NaN      1   \n",
       "2      EMILY  BRENNER,DANIEL A     CAMBRIDGE  Other    DR. BRENNER      2   \n",
       "3      EMILY  BRENNER,DANIEL A     CAMBRIDGE  Other             2C      3   \n",
       "4      EMILY  BRENNER,DANIEL A     CAMBRIDGE  Other    DR. BRENNER      4   \n",
       "\n",
       "  Count of tblAppointments Patient FID  \n",
       "0                   55,975           *  \n",
       "1                        1           1  \n",
       "2                        1       5,283  \n",
       "3                        1       5,286  \n",
       "4                        1       5,351  "
      ]
     },
     "execution_count": 3,
     "metadata": {},
     "output_type": "execute_result"
    }
   ],
   "source": [
    "appointment_df.head()"
   ]
  },
  {
   "cell_type": "code",
   "execution_count": 4,
   "id": "c16b9b80",
   "metadata": {},
   "outputs": [
    {
     "name": "stdout",
     "output_type": "stream",
     "text": [
      "<class 'pandas.core.frame.DataFrame'>\n",
      "RangeIndex: 55976 entries, 0 to 55975\n",
      "Data columns (total 16 columns):\n",
      " #   Column                    Non-Null Count  Dtype \n",
      "---  ------                    --------------  ----- \n",
      " 0   Appointment UID           55976 non-null  object\n",
      " 1   Appt Status Description   55976 non-null  object\n",
      " 2   Date Of Service           37250 non-null  object\n",
      " 3   Chartnumber               55975 non-null  object\n",
      " 4   NurseName                 19321 non-null  object\n",
      " 5   FirstTreatmentApptInd     54678 non-null  object\n",
      " 6   Appt Type Group           54678 non-null  object\n",
      " 7   Appt Type                 54677 non-null  object\n",
      " 8   Created By                55976 non-null  object\n",
      " 9   Provider                  55976 non-null  object\n",
      " 10  Facility City             51738 non-null  object\n",
      " 11  Room                      55976 non-null  object\n",
      " 12  Column Heading            54697 non-null  object\n",
      " 13  #                         55976 non-null  object\n",
      " 14  Count of tblAppointments  55976 non-null  object\n",
      " 15  Patient FID               55976 non-null  object\n",
      "dtypes: object(16)\n",
      "memory usage: 6.8+ MB\n"
     ]
    }
   ],
   "source": [
    "appointment_df.info()"
   ]
  },
  {
   "cell_type": "code",
   "execution_count": 5,
   "id": "2b232c5f",
   "metadata": {},
   "outputs": [],
   "source": [
    "# Drop the first two rows\n",
    "appointment_df.drop(index=[0, 1], inplace=True)\n",
    "appointment_df.reset_index(drop=True, inplace=True)"
   ]
  },
  {
   "cell_type": "markdown",
   "id": "b8ac711b",
   "metadata": {},
   "source": [
    "## Data Analysis and Visualization"
   ]
  },
  {
   "cell_type": "code",
   "execution_count": 6,
   "id": "c7adebf8",
   "metadata": {},
   "outputs": [
    {
     "data": {
      "text/plain": [
       "<Axes: xlabel='Appt Status Description'>"
      ]
     },
     "execution_count": 6,
     "metadata": {},
     "output_type": "execute_result"
    },
    {
     "data": {
      "image/png": "[encoded data removed]",
      "text/plain": [
       "<Figure size 640x480 with 1 Axes>"
      ]
     },
     "metadata": {},
     "output_type": "display_data"
    }
   ],
   "source": [
    "# Replace \"Made\" to \"Seen\" and \"Deleted\" to \"Cancelled\"\n",
    "appointment_df[\"Appt Status Description\"].replace({\n",
    "    \"Made\":\"Seen\",\n",
    "    \"Deleted\": \"Cancelled\"\n",
    "}, inplace=True)\n",
    "\n",
    "appointment_df[\"Appt Status Description\"].value_counts().plot(kind = \"bar\")"
   ]
  },
  {
   "cell_type": "markdown",
   "id": "736d5b6c",
   "metadata": {},
   "source": [
    "There was a total of approximately 12000 appointments which is nearly a fifth of the total appointments, therefore cancellations is crucial factor for inspecting why the MH infusion rate dropped. \n",
    "\n",
    "Lets compare the cancelled appointments with the other types particularly for MH infusion"
   ]
  },
  {
   "cell_type": "code",
   "execution_count": 7,
   "id": "8c02e1dc",
   "metadata": {},
   "outputs": [
    {
     "data": {
      "text/plain": [
       "<Axes: xlabel='Appt Status Description'>"
      ]
     },
     "execution_count": 7,
     "metadata": {},
     "output_type": "execute_result"
    },
    {
     "data": {
      "image/png": "[encoded data removed]",
      "text/plain": [
       "<Figure size 640x480 with 1 Axes>"
      ]
     },
     "metadata": {},
     "output_type": "display_data"
    }
   ],
   "source": [
    "mh_infusion_df = appointment_df[appointment_df[\"Appt Type Group\"]=='MH Infusion'].reset_index(drop=True)\n",
    "mh_infusion_df[\"Appt Status Description\"].value_counts().plot(kind = \"bar\")"
   ]
  },
  {
   "cell_type": "markdown",
   "id": "19f7fd8e",
   "metadata": {},
   "source": [
    "There was a total of approximately 5000 cancelled appointments on MH infusion only which is nearly a quarter of the total cancelled appointments"
   ]
  },
  {
   "cell_type": "markdown",
   "id": "cbf944f2",
   "metadata": {},
   "source": [
    "### Cancellation of MH infusion with time"
   ]
  },
  {
   "cell_type": "code",
   "execution_count": 8,
   "id": "71e5d4ba",
   "metadata": {
    "scrolled": true
   },
   "outputs": [
    {
     "data": {
      "text/html": [
       "<div>\n",
       "<style scoped>\n",
       "    .dataframe tbody tr th:only-of-type {\n",
       "        vertical-align: middle;\n",
       "    }\n",
       "\n",
       "    .dataframe tbody tr th {\n",
       "        vertical-align: top;\n",
       "    }\n",
       "\n",
       "    .dataframe thead th {\n",
       "        text-align: right;\n",
       "    }\n",
       "</style>\n",
       "<table border=\"1\" class=\"dataframe\">\n",
       "  <thead>\n",
       "    <tr style=\"text-align: right;\">\n",
       "      <th></th>\n",
       "      <th>Appointment UID</th>\n",
       "      <th>Appt Status Description</th>\n",
       "      <th>Date Of Service</th>\n",
       "      <th>Chartnumber</th>\n",
       "      <th>NurseName</th>\n",
       "      <th>FirstTreatmentApptInd</th>\n",
       "      <th>Appt Type Group</th>\n",
       "      <th>Appt Type</th>\n",
       "      <th>Created By</th>\n",
       "      <th>Provider</th>\n",
       "      <th>Facility City</th>\n",
       "      <th>Room</th>\n",
       "      <th>Column Heading</th>\n",
       "      <th>#</th>\n",
       "      <th>Count of tblAppointments</th>\n",
       "      <th>Patient FID</th>\n",
       "    </tr>\n",
       "  </thead>\n",
       "  <tbody>\n",
       "    <tr>\n",
       "      <th>0</th>\n",
       "      <td>256</td>\n",
       "      <td>Cancelled</td>\n",
       "      <td>02/02/18</td>\n",
       "      <td>2</td>\n",
       "      <td>NaN</td>\n",
       "      <td>N</td>\n",
       "      <td>MH Infusion</td>\n",
       "      <td>KETAMINE MH -INFUSION ONLY</td>\n",
       "      <td>EMILY</td>\n",
       "      <td>BRENNER,DANIEL A</td>\n",
       "      <td>CAMBRIDGE</td>\n",
       "      <td>Other</td>\n",
       "      <td>2C</td>\n",
       "      <td>19</td>\n",
       "      <td>1</td>\n",
       "      <td>5,286</td>\n",
       "    </tr>\n",
       "    <tr>\n",
       "      <th>1</th>\n",
       "      <td>377</td>\n",
       "      <td>Cancelled</td>\n",
       "      <td>NaN</td>\n",
       "      <td>31</td>\n",
       "      <td>NaN</td>\n",
       "      <td>N</td>\n",
       "      <td>MH Infusion</td>\n",
       "      <td>KETAMINE MH -INFUSION ONLY</td>\n",
       "      <td>EMILY</td>\n",
       "      <td>BRENNER,DANIEL A</td>\n",
       "      <td>CAMBRIDGE</td>\n",
       "      <td>Other</td>\n",
       "      <td>2C</td>\n",
       "      <td>46</td>\n",
       "      <td>1</td>\n",
       "      <td>5,420</td>\n",
       "    </tr>\n",
       "    <tr>\n",
       "      <th>2</th>\n",
       "      <td>384</td>\n",
       "      <td>Cancelled</td>\n",
       "      <td>NaN</td>\n",
       "      <td>72</td>\n",
       "      <td>NaN</td>\n",
       "      <td>N</td>\n",
       "      <td>MH Infusion</td>\n",
       "      <td>KETAMINE MH -INFUSION ONLY</td>\n",
       "      <td>EMILY</td>\n",
       "      <td>BRENNER,DANIEL A</td>\n",
       "      <td>CAMBRIDGE</td>\n",
       "      <td>Other</td>\n",
       "      <td>2C</td>\n",
       "      <td>52</td>\n",
       "      <td>1</td>\n",
       "      <td>5,378</td>\n",
       "    </tr>\n",
       "    <tr>\n",
       "      <th>3</th>\n",
       "      <td>385</td>\n",
       "      <td>Cancelled</td>\n",
       "      <td>NaN</td>\n",
       "      <td>83</td>\n",
       "      <td>NaN</td>\n",
       "      <td>N</td>\n",
       "      <td>MH Infusion</td>\n",
       "      <td>KETAMINE MH -INFUSION ONLY</td>\n",
       "      <td>EMILY</td>\n",
       "      <td>BRENNER,DANIEL A</td>\n",
       "      <td>CAMBRIDGE</td>\n",
       "      <td>Other</td>\n",
       "      <td>2C</td>\n",
       "      <td>53</td>\n",
       "      <td>1</td>\n",
       "      <td>5,371</td>\n",
       "    </tr>\n",
       "    <tr>\n",
       "      <th>4</th>\n",
       "      <td>386</td>\n",
       "      <td>Cancelled</td>\n",
       "      <td>NaN</td>\n",
       "      <td>45</td>\n",
       "      <td>NaN</td>\n",
       "      <td>N</td>\n",
       "      <td>MH Infusion</td>\n",
       "      <td>KETAMINE MH -INFUSION ONLY</td>\n",
       "      <td>EMILY</td>\n",
       "      <td>BRENNER,DANIEL A</td>\n",
       "      <td>CAMBRIDGE</td>\n",
       "      <td>Other</td>\n",
       "      <td>2C</td>\n",
       "      <td>54</td>\n",
       "      <td>1</td>\n",
       "      <td>5,409</td>\n",
       "    </tr>\n",
       "  </tbody>\n",
       "</table>\n",
       "</div>"
      ],
      "text/plain": [
       "  Appointment UID Appt Status Description Date Of Service Chartnumber  \\\n",
       "0             256               Cancelled        02/02/18           2   \n",
       "1             377               Cancelled             NaN          31   \n",
       "2             384               Cancelled             NaN          72   \n",
       "3             385               Cancelled             NaN          83   \n",
       "4             386               Cancelled             NaN          45   \n",
       "\n",
       "  NurseName FirstTreatmentApptInd Appt Type Group                   Appt Type  \\\n",
       "0       NaN                     N     MH Infusion  KETAMINE MH -INFUSION ONLY   \n",
       "1       NaN                     N     MH Infusion  KETAMINE MH -INFUSION ONLY   \n",
       "2       NaN                     N     MH Infusion  KETAMINE MH -INFUSION ONLY   \n",
       "3       NaN                     N     MH Infusion  KETAMINE MH -INFUSION ONLY   \n",
       "4       NaN                     N     MH Infusion  KETAMINE MH -INFUSION ONLY   \n",
       "\n",
       "  Created By          Provider Facility City   Room Column Heading   #  \\\n",
       "0      EMILY  BRENNER,DANIEL A     CAMBRIDGE  Other             2C  19   \n",
       "1      EMILY  BRENNER,DANIEL A     CAMBRIDGE  Other             2C  46   \n",
       "2      EMILY  BRENNER,DANIEL A     CAMBRIDGE  Other             2C  52   \n",
       "3      EMILY  BRENNER,DANIEL A     CAMBRIDGE  Other             2C  53   \n",
       "4      EMILY  BRENNER,DANIEL A     CAMBRIDGE  Other             2C  54   \n",
       "\n",
       "  Count of tblAppointments Patient FID  \n",
       "0                        1       5,286  \n",
       "1                        1       5,420  \n",
       "2                        1       5,378  \n",
       "3                        1       5,371  \n",
       "4                        1       5,409  "
      ]
     },
     "execution_count": 8,
     "metadata": {},
     "output_type": "execute_result"
    }
   ],
   "source": [
    "cancelled_mhInfusion_df = mh_infusion_df[mh_infusion_df[\"Appt Status Description\"]==\"Cancelled\"].reset_index(drop=True)\n",
    "cancelled_mhInfusion_df.head()"
   ]
  },
  {
   "cell_type": "code",
   "execution_count": 9,
   "id": "d71096de",
   "metadata": {},
   "outputs": [
    {
     "data": {
      "text/plain": [
       "0.9567851373182552"
      ]
     },
     "execution_count": 9,
     "metadata": {},
     "output_type": "execute_result"
    }
   ],
   "source": [
    "cancelled_mhInfusion_df[\"Date Of Service\"].isna().sum()/cancelled_mhInfusion_df.shape[0]"
   ]
  },
  {
   "cell_type": "markdown",
   "id": "34c8249f",
   "metadata": {},
   "source": [
    "More than 95% of cancelled MH infusion appointments have missing dates therefore this analysis is aborted"
   ]
  },
  {
   "cell_type": "code",
   "execution_count": 10,
   "id": "19d265c9",
   "metadata": {},
   "outputs": [
    {
     "data": {
      "text/plain": [
       "Count of tblAppointments\n",
       "1    3058\n",
       "1    1894\n",
       "Name: count, dtype: int64"
      ]
     },
     "execution_count": 10,
     "metadata": {},
     "output_type": "execute_result"
    }
   ],
   "source": [
    "cancelled_mhInfusion_df[\"Count of tblAppointments\"].value_counts()"
   ]
  },
  {
   "cell_type": "code",
   "execution_count": 11,
   "id": "049daca6",
   "metadata": {},
   "outputs": [
    {
     "data": {
      "text/plain": [
       "Count of tblAppointments\n",
       "1    13766\n",
       "1     9589\n",
       "Name: count, dtype: int64"
      ]
     },
     "execution_count": 11,
     "metadata": {},
     "output_type": "execute_result"
    }
   ],
   "source": [
    "mh_infusion_df[\"Count of tblAppointments\"].value_counts()"
   ]
  },
  {
   "cell_type": "code",
   "execution_count": null,
   "id": "702a6e46",
   "metadata": {},
   "outputs": [],
   "source": []
  }
 ],
 "metadata": {
  "kernelspec": {
   "display_name": "Python 3 (ipykernel)",
   "language": "python",
   "name": "python3"
  },
  "language_info": {
   "codemirror_mode": {
    "name": "ipython",
    "version": 3
   },
   "file_extension": ".py",
   "mimetype": "text/x-python",
   "name": "python",
   "nbconvert_exporter": "python",
   "pygments_lexer": "ipython3",
   "version": "3.11.5"
  }
 },
 "nbformat": 4,
 "nbformat_minor": 5
}
