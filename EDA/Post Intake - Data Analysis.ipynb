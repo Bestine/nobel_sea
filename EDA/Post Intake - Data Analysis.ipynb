{
 "cells": [
  {
   "cell_type": "markdown",
   "id": "ea186940",
   "metadata": {},
   "source": [
    "**Load the required libraries and datasets**"
   ]
  },
  {
   "cell_type": "code",
   "execution_count": 1,
   "id": "104aef8d",
   "metadata": {},
   "outputs": [],
   "source": [
    "# Libraries\n",
    "import pandas as pd \n",
    "import numpy as np\n",
    "from matplotlib import pyplot as plt \n",
    "import seaborn as sns "
   ]
  },
  {
   "cell_type": "code",
   "execution_count": 2,
   "id": "049b8fbb",
   "metadata": {},
   "outputs": [
    {
     "data": {
      "text/html": [
       "<div>\n",
       "<style scoped>\n",
       "    .dataframe tbody tr th:only-of-type {\n",
       "        vertical-align: middle;\n",
       "    }\n",
       "\n",
       "    .dataframe tbody tr th {\n",
       "        vertical-align: top;\n",
       "    }\n",
       "\n",
       "    .dataframe thead th {\n",
       "        text-align: right;\n",
       "    }\n",
       "</style>\n",
       "<table border=\"1\" class=\"dataframe\">\n",
       "  <thead>\n",
       "    <tr style=\"text-align: right;\">\n",
       "      <th></th>\n",
       "      <th>Chartnumber</th>\n",
       "      <th>First post-enrollment service</th>\n",
       "      <th>First post-intake service</th>\n",
       "      <th>Post-intake days</th>\n",
       "      <th>Days btn MHinfusion and Intake</th>\n",
       "      <th>Visits</th>\n",
       "      <th>MH infusions</th>\n",
       "      <th>infusions outside Cambridge</th>\n",
       "      <th>Visits outside Cambridge</th>\n",
       "      <th>Intake Facility City</th>\n",
       "      <th>Patient category</th>\n",
       "    </tr>\n",
       "  </thead>\n",
       "  <tbody>\n",
       "    <tr>\n",
       "      <th>0</th>\n",
       "      <td>1</td>\n",
       "      <td>Intake</td>\n",
       "      <td>TMS</td>\n",
       "      <td>14.0</td>\n",
       "      <td>NaN</td>\n",
       "      <td>49</td>\n",
       "      <td>0</td>\n",
       "      <td>0</td>\n",
       "      <td>0</td>\n",
       "      <td>CAMBRIDGE</td>\n",
       "      <td>before mid-2023</td>\n",
       "    </tr>\n",
       "    <tr>\n",
       "      <th>1</th>\n",
       "      <td>2</td>\n",
       "      <td>MH Infusion</td>\n",
       "      <td>NaN</td>\n",
       "      <td>NaN</td>\n",
       "      <td>NaN</td>\n",
       "      <td>8</td>\n",
       "      <td>8</td>\n",
       "      <td>0</td>\n",
       "      <td>0</td>\n",
       "      <td>CAMBRIDGE</td>\n",
       "      <td>before mid-2023</td>\n",
       "    </tr>\n",
       "    <tr>\n",
       "      <th>2</th>\n",
       "      <td>9</td>\n",
       "      <td>Intake</td>\n",
       "      <td>TMS</td>\n",
       "      <td>9.0</td>\n",
       "      <td>66.0</td>\n",
       "      <td>68</td>\n",
       "      <td>30</td>\n",
       "      <td>0</td>\n",
       "      <td>0</td>\n",
       "      <td>CAMBRIDGE</td>\n",
       "      <td>before mid-2023</td>\n",
       "    </tr>\n",
       "    <tr>\n",
       "      <th>3</th>\n",
       "      <td>6</td>\n",
       "      <td>Intake</td>\n",
       "      <td>MH Infusion</td>\n",
       "      <td>0.0</td>\n",
       "      <td>0.0</td>\n",
       "      <td>16</td>\n",
       "      <td>13</td>\n",
       "      <td>0</td>\n",
       "      <td>0</td>\n",
       "      <td>CAMBRIDGE</td>\n",
       "      <td>before mid-2023</td>\n",
       "    </tr>\n",
       "    <tr>\n",
       "      <th>4</th>\n",
       "      <td>12</td>\n",
       "      <td>Intake</td>\n",
       "      <td>NaN</td>\n",
       "      <td>NaN</td>\n",
       "      <td>NaN</td>\n",
       "      <td>1</td>\n",
       "      <td>0</td>\n",
       "      <td>0</td>\n",
       "      <td>0</td>\n",
       "      <td>CAMBRIDGE</td>\n",
       "      <td>before mid-2023</td>\n",
       "    </tr>\n",
       "  </tbody>\n",
       "</table>\n",
       "</div>"
      ],
      "text/plain": [
       "   Chartnumber First post-enrollment service First post-intake service  \\\n",
       "0            1                        Intake                       TMS   \n",
       "1            2                   MH Infusion                       NaN   \n",
       "2            9                        Intake                       TMS   \n",
       "3            6                        Intake               MH Infusion   \n",
       "4           12                        Intake                       NaN   \n",
       "\n",
       "   Post-intake days  Days btn MHinfusion and Intake  Visits  MH infusions  \\\n",
       "0              14.0                             NaN      49             0   \n",
       "1               NaN                             NaN       8             8   \n",
       "2               9.0                            66.0      68            30   \n",
       "3               0.0                             0.0      16            13   \n",
       "4               NaN                             NaN       1             0   \n",
       "\n",
       "   infusions outside Cambridge  Visits outside Cambridge Intake Facility City  \\\n",
       "0                            0                         0            CAMBRIDGE   \n",
       "1                            0                         0            CAMBRIDGE   \n",
       "2                            0                         0            CAMBRIDGE   \n",
       "3                            0                         0            CAMBRIDGE   \n",
       "4                            0                         0            CAMBRIDGE   \n",
       "\n",
       "  Patient category  \n",
       "0  before mid-2023  \n",
       "1  before mid-2023  \n",
       "2  before mid-2023  \n",
       "3  before mid-2023  \n",
       "4  before mid-2023  "
      ]
     },
     "execution_count": 2,
     "metadata": {},
     "output_type": "execute_result"
    }
   ],
   "source": [
    "# Data \n",
    "df = pd.read_csv(\"../data/post-intake.csv\")\n",
    "df.head()"
   ]
  },
  {
   "cell_type": "markdown",
   "id": "0aadd83b",
   "metadata": {},
   "source": [
    "# Data analysis "
   ]
  },
  {
   "cell_type": "markdown",
   "id": "2e3c0bd4",
   "metadata": {},
   "source": [
    "## Step 1: Formulate and Test Hypotheses\n",
    "Here are some potential areas to investigate:\n",
    "\n",
    "**Post-Intake Service Delays:**\n",
    "\n",
    "- *Hypothesis:* Longer delays in receiving the first post-intake service could lead to fewer MH infusions.\n",
    "- *Visualization Idea:* Boxplot or histogram showing Post-intake days by Intake Facility City and Patient Category.\n",
    "\n",
    "**Service Accessibility:**\n",
    "\n",
    "- *Hypothesis:* Patients requiring MH infusions outside Cambridge may have been impacted by logistical challenges or resource limitations.\n",
    "- *Visualization Idea:* Bar chart comparing the count of Infusions outside Cambridge and Visits outside Cambridge across patient categories.\n",
    "\n",
    "**Visit Patterns:**\n",
    "\n",
    "- *Hypothesis:* A decline in Number of Visits correlates with fewer MH infusions.\n",
    "- *Visualization Idea:* Scatterplot with Number of Visits on the x-axis and Number of MH infusions on the y-axis, color-coded by Intake Facility City.\n",
    "\n",
    "**Intake-to-Infusion Time:**\n",
    "\n",
    "- *Hypothesis:* Longer gaps between intake and the first MH infusion discourage subsequent infusions.\n",
    "- *Visualization Idea:* Line plot showing the average Days btn MHinfusion and Intake over time (by patient category)."
   ]
  },
  {
   "cell_type": "code",
   "execution_count": null,
   "id": "109a58d0",
   "metadata": {},
   "outputs": [],
   "source": []
  },
  {
   "cell_type": "code",
   "execution_count": null,
   "id": "60db4e95",
   "metadata": {},
   "outputs": [],
   "source": []
  },
  {
   "cell_type": "code",
   "execution_count": null,
   "id": "d43244ef",
   "metadata": {},
   "outputs": [],
   "source": []
  },
  {
   "cell_type": "markdown",
   "id": "6b8168ab",
   "metadata": {},
   "source": [
    "## Step 2: Compare Cambridge vs. Other Cities\n",
    "\n",
    "**Comparison of Metrics:**\n",
    "\n",
    "- Use pivot tables to summarize metrics (e.g., mean Number of MH infusions, Post-intake days) for Cambridge vs. other cities.\n",
    "\n",
    "**Drop Analysis:**\n",
    "\n",
    "- Quantify the drop in MH infusions in Cambridge between different time periods (e.g., mid-2023 vs. late 2023, late 2023 vs. 2024).\n",
    "\n",
    "**Visualization Ideas:**\n",
    "\n",
    "- *Stacked Bar Chart:* Breakdown of Patient Category for Cambridge and other cities.\n",
    "- *Heatmap:* Correlation matrix to identify relationships between variables (e.g., delays, visits, and infusions)."
   ]
  },
  {
   "cell_type": "code",
   "execution_count": null,
   "id": "4da2e3af",
   "metadata": {},
   "outputs": [],
   "source": []
  },
  {
   "cell_type": "code",
   "execution_count": null,
   "id": "f856afef",
   "metadata": {},
   "outputs": [],
   "source": []
  },
  {
   "cell_type": "code",
   "execution_count": null,
   "id": "1ceb1dc5",
   "metadata": {},
   "outputs": [],
   "source": []
  },
  {
   "cell_type": "markdown",
   "id": "839ad203",
   "metadata": {},
   "source": [
    "## Step 3: Drill Down into Specific Factors\n",
    "\n",
    "**Investigate outliers or anomalies in the dataset.**\n",
    "\n",
    "- For example, were there patients with exceptionally high delays or very few visits? What patterns emerge?\n",
    "\n",
    "**Conduct subgroup analysis:**\n",
    "\n",
    "- Compare patients with and without Infusions outside Cambridge.\n",
    "- Analyze patients who received MH infusions in 2024 to identify distinguishing factors."
   ]
  },
  {
   "cell_type": "code",
   "execution_count": null,
   "id": "5f887eda",
   "metadata": {},
   "outputs": [],
   "source": []
  },
  {
   "cell_type": "code",
   "execution_count": null,
   "id": "561dba14",
   "metadata": {},
   "outputs": [],
   "source": []
  },
  {
   "cell_type": "code",
   "execution_count": null,
   "id": "24d94d40",
   "metadata": {},
   "outputs": [],
   "source": []
  },
  {
   "cell_type": "markdown",
   "id": "0960067b",
   "metadata": {},
   "source": [
    "**Step 4: Synthesize Findings**\n",
    "\n",
    "- Summarize your results with tables and visualizations.\n",
    "- Provide actionable insights based on the findings (e.g., \"Resource constraints in Cambridge caused delays in post-intake services leading to fewer MH infusions.\")."
   ]
  },
  {
   "cell_type": "code",
   "execution_count": null,
   "id": "5c7d2612",
   "metadata": {},
   "outputs": [],
   "source": []
  },
  {
   "cell_type": "code",
   "execution_count": null,
   "id": "5f5520c8",
   "metadata": {},
   "outputs": [],
   "source": []
  },
  {
   "cell_type": "code",
   "execution_count": null,
   "id": "5221d234",
   "metadata": {},
   "outputs": [],
   "source": []
  },
  {
   "cell_type": "markdown",
   "id": "536ef5f4",
   "metadata": {},
   "source": [
    "### Recommended Visualizations and Tables:\n",
    "\n",
    "- **Boxplots:** Compare delays and infusions across categories.\n",
    "- **Bar Charts:** Compare counts (e.g., visits, infusions) between Cambridge and other cities.\n",
    "- **Scatterplots:** Correlations between visits and infusions.\n",
    "- **Pivot Tables:** Summary of metrics segmented by facility and category.\n",
    "- **Heatmaps:** Highlight correlations between variables."
   ]
  }
 ],
 "metadata": {
  "kernelspec": {
   "display_name": "Python 3 (ipykernel)",
   "language": "python",
   "name": "python3"
  },
  "language_info": {
   "codemirror_mode": {
    "name": "ipython",
    "version": 3
   },
   "file_extension": ".py",
   "mimetype": "text/x-python",
   "name": "python",
   "nbconvert_exporter": "python",
   "pygments_lexer": "ipython3",
   "version": "3.11.5"
  }
 },
 "nbformat": 4,
 "nbformat_minor": 5
}
