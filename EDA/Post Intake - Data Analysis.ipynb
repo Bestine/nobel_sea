{
 "cells": [
  {
   "cell_type": "markdown",
   "id": "b91a3c4c",
   "metadata": {},
   "source": [
    "**Load the required libraries and datasets**"
   ]
  },
  {
   "cell_type": "code",
   "execution_count": 1,
   "id": "3ed3f205",
   "metadata": {},
   "outputs": [],
   "source": [
    "# Libraries\n",
    "import pandas as pd \n",
    "import numpy as np\n",
    "from matplotlib import pyplot as plt \n",
    "import seaborn as sns "
   ]
  },
  {
   "cell_type": "code",
   "execution_count": 2,
   "id": "75f9c205",
   "metadata": {},
   "outputs": [
    {
     "data": {
      "text/html": [
       "<div>\n",
       "<style scoped>\n",
       "    .dataframe tbody tr th:only-of-type {\n",
       "        vertical-align: middle;\n",
       "    }\n",
       "\n",
       "    .dataframe tbody tr th {\n",
       "        vertical-align: top;\n",
       "    }\n",
       "\n",
       "    .dataframe thead th {\n",
       "        text-align: right;\n",
       "    }\n",
       "</style>\n",
       "<table border=\"1\" class=\"dataframe\">\n",
       "  <thead>\n",
       "    <tr style=\"text-align: right;\">\n",
       "      <th></th>\n",
       "      <th>Chartnumber</th>\n",
       "      <th>First post-enrollment service</th>\n",
       "      <th>First post-intake service</th>\n",
       "      <th>Post-intake days</th>\n",
       "      <th>Days btn MHinfusion and Intake</th>\n",
       "      <th>Visits</th>\n",
       "      <th>MH infusions</th>\n",
       "      <th>infusions outside Cambridge</th>\n",
       "      <th>Visits outside Cambridge</th>\n",
       "      <th>Intake Facility City</th>\n",
       "      <th>Patient category</th>\n",
       "    </tr>\n",
       "  </thead>\n",
       "  <tbody>\n",
       "    <tr>\n",
       "      <th>0</th>\n",
       "      <td>1</td>\n",
       "      <td>Intake</td>\n",
       "      <td>TMS</td>\n",
       "      <td>14.0</td>\n",
       "      <td>NaN</td>\n",
       "      <td>49</td>\n",
       "      <td>0</td>\n",
       "      <td>0</td>\n",
       "      <td>0</td>\n",
       "      <td>CAMBRIDGE</td>\n",
       "      <td>before mid-2023</td>\n",
       "    </tr>\n",
       "    <tr>\n",
       "      <th>1</th>\n",
       "      <td>2</td>\n",
       "      <td>MH Infusion</td>\n",
       "      <td>NaN</td>\n",
       "      <td>NaN</td>\n",
       "      <td>NaN</td>\n",
       "      <td>8</td>\n",
       "      <td>8</td>\n",
       "      <td>0</td>\n",
       "      <td>0</td>\n",
       "      <td>CAMBRIDGE</td>\n",
       "      <td>before mid-2023</td>\n",
       "    </tr>\n",
       "    <tr>\n",
       "      <th>2</th>\n",
       "      <td>9</td>\n",
       "      <td>Intake</td>\n",
       "      <td>TMS</td>\n",
       "      <td>9.0</td>\n",
       "      <td>66.0</td>\n",
       "      <td>68</td>\n",
       "      <td>30</td>\n",
       "      <td>0</td>\n",
       "      <td>0</td>\n",
       "      <td>CAMBRIDGE</td>\n",
       "      <td>before mid-2023</td>\n",
       "    </tr>\n",
       "    <tr>\n",
       "      <th>3</th>\n",
       "      <td>6</td>\n",
       "      <td>Intake</td>\n",
       "      <td>MH Infusion</td>\n",
       "      <td>0.0</td>\n",
       "      <td>0.0</td>\n",
       "      <td>16</td>\n",
       "      <td>13</td>\n",
       "      <td>0</td>\n",
       "      <td>0</td>\n",
       "      <td>CAMBRIDGE</td>\n",
       "      <td>before mid-2023</td>\n",
       "    </tr>\n",
       "    <tr>\n",
       "      <th>4</th>\n",
       "      <td>12</td>\n",
       "      <td>Intake</td>\n",
       "      <td>NaN</td>\n",
       "      <td>NaN</td>\n",
       "      <td>NaN</td>\n",
       "      <td>1</td>\n",
       "      <td>0</td>\n",
       "      <td>0</td>\n",
       "      <td>0</td>\n",
       "      <td>CAMBRIDGE</td>\n",
       "      <td>before mid-2023</td>\n",
       "    </tr>\n",
       "  </tbody>\n",
       "</table>\n",
       "</div>"
      ],
      "text/plain": [
       "   Chartnumber First post-enrollment service First post-intake service  \\\n",
       "0            1                        Intake                       TMS   \n",
       "1            2                   MH Infusion                       NaN   \n",
       "2            9                        Intake                       TMS   \n",
       "3            6                        Intake               MH Infusion   \n",
       "4           12                        Intake                       NaN   \n",
       "\n",
       "   Post-intake days  Days btn MHinfusion and Intake  Visits  MH infusions  \\\n",
       "0              14.0                             NaN      49             0   \n",
       "1               NaN                             NaN       8             8   \n",
       "2               9.0                            66.0      68            30   \n",
       "3               0.0                             0.0      16            13   \n",
       "4               NaN                             NaN       1             0   \n",
       "\n",
       "   infusions outside Cambridge  Visits outside Cambridge Intake Facility City  \\\n",
       "0                            0                         0            CAMBRIDGE   \n",
       "1                            0                         0            CAMBRIDGE   \n",
       "2                            0                         0            CAMBRIDGE   \n",
       "3                            0                         0            CAMBRIDGE   \n",
       "4                            0                         0            CAMBRIDGE   \n",
       "\n",
       "  Patient category  \n",
       "0  before mid-2023  \n",
       "1  before mid-2023  \n",
       "2  before mid-2023  \n",
       "3  before mid-2023  \n",
       "4  before mid-2023  "
      ]
     },
     "execution_count": 2,
     "metadata": {},
     "output_type": "execute_result"
    }
   ],
   "source": [
    "# Data\n",
    "## Successfull appointment data \n",
    "seen_df = pd.read_csv(\"../data/exports/successfull-appointments.csv\")\n",
    "\n",
    "## Post intake data \n",
    "df = pd.read_csv(\"../data/exports/post-intake.csv\")\n",
    "df.head()"
   ]
  },
  {
   "cell_type": "code",
   "execution_count": 3,
   "id": "e7c3ba73",
   "metadata": {},
   "outputs": [],
   "source": [
    "# Convert appointment date to datetime \n",
    "seen_df[\"Date\"] = pd.to_datetime(seen_df[\"Date\"])"
   ]
  },
  {
   "cell_type": "markdown",
   "id": "e9dd8417",
   "metadata": {},
   "source": [
    "# Data analysis "
   ]
  },
  {
   "cell_type": "code",
   "execution_count": 4,
   "id": "6b5a899b",
   "metadata": {},
   "outputs": [],
   "source": [
    "def remove_outliers(df, variable):\n",
    "    \"\"\"\n",
    "    Docstring\n",
    "    This function will remove the outliers from the variable in the data set\n",
    "    - Uses the IQR method \n",
    "    \"\"\"\n",
    "    # Calculate Q1, Q3, and IQR\n",
    "    Q1 = df[variable].quantile(0.25)  # 25th percentile\n",
    "    Q3 = df[variable].quantile(0.75)  # 75th percentile\n",
    "    IQR = Q3 - Q1\n",
    "\n",
    "    # Define lower and upper bounds\n",
    "    lower_bound = Q1 - 1.5 * IQR\n",
    "    upper_bound = Q3 + 1.5 * IQR\n",
    "\n",
    "    # Filter data to remove outliers\n",
    "    df_no_outliers = df[(df[variable] >= lower_bound) & (df[variable] <= upper_bound)]\n",
    "\n",
    "    return df_no_outliers"
   ]
  },
  {
   "cell_type": "markdown",
   "id": "c5fc57aa",
   "metadata": {},
   "source": [
    "## Step 1: Formulate and Test Hypotheses\n",
    "Here are some potential areas to investigate:\n",
    "\n",
    "**Post-Intake Service Delays:**\n",
    "\n",
    "- *Hypothesis:* Longer delays in receiving the first post-intake service could lead to fewer MH infusions.\n",
    "- *Visualization Idea:* Boxplot or histogram showing Post-intake days by Intake Facility City and Patient Category.\n",
    "\n",
    "**Service Accessibility:**\n",
    "\n",
    "- *Hypothesis:* Patients requiring MH infusions outside Cambridge may have been impacted by logistical challenges or resource limitations.\n",
    "- *Visualization Idea:* Bar chart comparing the count of Infusions outside Cambridge and Visits outside Cambridge across patient categories.\n",
    "\n",
    "**Visit Patterns:**\n",
    "\n",
    "- *Hypothesis:* A decline in Number of Visits correlates with fewer MH infusions.\n",
    "- *Visualization Idea:* Scatterplot with Number of Visits on the x-axis and Number of MH infusions on the y-axis, color-coded by Intake Facility City.\n",
    "\n",
    "**Intake-to-Infusion Time:**\n",
    "\n",
    "- *Hypothesis:* Longer gaps between intake and the first MH infusion discourage subsequent infusions.\n",
    "- *Visualization Idea:* Line plot showing the average Days btn MHinfusion and Intake over time (by patient category)."
   ]
  },
  {
   "cell_type": "code",
   "execution_count": 5,
   "id": "f3fa0943",
   "metadata": {},
   "outputs": [
    {
     "data": {
      "text/plain": [
       "<Axes: xlabel='Patient category', ylabel='Post-intake days'>"
      ]
     },
     "execution_count": 5,
     "metadata": {},
     "output_type": "execute_result"
    },
    {
     "data": {
      "image/png": "[encoded data removed]",
      "text/plain": [
       "<Figure size 640x480 with 1 Axes>"
      ]
     },
     "metadata": {},
     "output_type": "display_data"
    }
   ],
   "source": [
    "# Post-intake Service Delays\n",
    "## Select the required columns \n",
    "selected_columns = [\"Patient category\", \"Post-intake days\", \"Intake Facility City\"]\n",
    "select_df = df[selected_columns]\n",
    "\n",
    "## Remove outliers\n",
    "select_df = remove_outliers(select_df, \"Post-intake days\")\n",
    "\n",
    "## Plotting \n",
    "sns.boxplot(x=\"Patient category\", y=\"Post-intake days\", \n",
    "            hue=\"Intake Facility City\", data=select_df)"
   ]
  },
  {
   "cell_type": "code",
   "execution_count": 6,
   "id": "cee4eced",
   "metadata": {},
   "outputs": [
    {
     "data": {
      "text/plain": [
       "<Axes: xlabel='Patient category', ylabel='Days btn MHinfusion and Intake'>"
      ]
     },
     "execution_count": 6,
     "metadata": {},
     "output_type": "execute_result"
    },
    {
     "data": {
      "image/png": "[encoded data removed]",
      "text/plain": [
       "<Figure size 640x480 with 1 Axes>"
      ]
     },
     "metadata": {},
     "output_type": "display_data"
    }
   ],
   "source": [
    "# Post-intake Service Delays\n",
    "## Select the required columns \n",
    "selected_columns = [\"Patient category\", \"Days btn MHinfusion and Intake\", \"Intake Facility City\"]\n",
    "select_df = df[selected_columns]\n",
    "\n",
    "## Remove outliers\n",
    "select_df = remove_outliers(select_df, \"Days btn MHinfusion and Intake\")\n",
    "\n",
    "## Plotting \n",
    "sns.boxplot(x=\"Patient category\", y=\"Days btn MHinfusion and Intake\", \n",
    "            hue=\"Intake Facility City\", data=select_df)"
   ]
  },
  {
   "cell_type": "markdown",
   "id": "a6bfc57d",
   "metadata": {},
   "source": [
    "- Patients that had intake from Cambridge had to wait relatively longer to get their first service after intake compared to facilities in other cities\n",
    "- Patients who joined in 2024 waited longer to have their first MH infusion than all time patients and the ones before mid 2023. \n",
    "- Patients in late 2023 waited the least. It is practically imposible for them to have longer waiting period since they are the segments that had their first and last service in a span of 6 months (From beginning of July to the end-year). "
   ]
  },
  {
   "cell_type": "code",
   "execution_count": 7,
   "id": "de8d84b9",
   "metadata": {},
   "outputs": [
    {
     "data": {
      "text/plain": [
       "First post-intake service\n",
       "MH Infusion        0.545455\n",
       "TMS                0.120210\n",
       "Follow-Up          0.039820\n",
       "KAP Integration    0.019534\n",
       "Med Management     0.006762\n",
       "Intake             0.004508\n",
       "Misc.              0.003757\n",
       "KAP Infusion       0.002254\n",
       "KSS                0.000751\n",
       "Name: count, dtype: float64"
      ]
     },
     "execution_count": 7,
     "metadata": {},
     "output_type": "execute_result"
    }
   ],
   "source": [
    "cambridge_df = df[df[\"Intake Facility City\"]==\"CAMBRIDGE\"]\n",
    "\n",
    "cambridge_df[\"First post-intake service\"].value_counts()/len(cambridge_df)"
   ]
  },
  {
   "cell_type": "code",
   "execution_count": 8,
   "id": "d8ce799c",
   "metadata": {},
   "outputs": [
    {
     "data": {
      "text/plain": [
       "First post-intake service\n",
       "MH Infusion        0.437956\n",
       "TMS                0.029197\n",
       "KAP Integration    0.029197\n",
       "Follow-Up          0.014599\n",
       "Pain Infusion      0.007299\n",
       "Name: count, dtype: float64"
      ]
     },
     "execution_count": 8,
     "metadata": {},
     "output_type": "execute_result"
    }
   ],
   "source": [
    "other_df = df[df[\"Intake Facility City\"]!=\"CAMBRIDGE\"]\n",
    "\n",
    "other_df[\"First post-intake service\"].value_counts()/len(other_df)"
   ]
  },
  {
   "cell_type": "code",
   "execution_count": 9,
   "id": "7ffd1b05",
   "metadata": {},
   "outputs": [
    {
     "data": {
      "text/plain": [
       "408"
      ]
     },
     "execution_count": 9,
     "metadata": {},
     "output_type": "execute_result"
    }
   ],
   "source": [
    "df[\"First post-intake service\"].isna().sum()"
   ]
  },
  {
   "cell_type": "markdown",
   "id": "90548007",
   "metadata": {},
   "source": [
    "## <span style=\"color: orange;\">**Bonus Idea**</span>\n",
    "\n",
    "What if I check the span(days) between successive appointments over time? \n",
    "\n",
    "*Hypothesis*: Patients are made to wait more in Cambridge for their next appointment. That is the cause of the drop of MH infusions. \n",
    "\n",
    "I wanna analyze get the date of the most recent visit and MH infusion over time. Line chart for Cambridge and facilities in other cities to see how it compares with other cities its changes over time"
   ]
  },
  {
   "cell_type": "code",
   "execution_count": 10,
   "id": "b8e7dc01",
   "metadata": {},
   "outputs": [],
   "source": [
    "# Will be required to have the appointment data "
   ]
  },
  {
   "cell_type": "markdown",
   "id": "f8c33bf4",
   "metadata": {},
   "source": [
    "**Blueprint**\n",
    "\n",
    "Columns required; \n",
    "\n",
    "- date of service, \n",
    "- facility city \n",
    "- Appointment Type group\n",
    "- Chart number\n",
    "\n",
    "All appointments must be successfull(\"Seen\") \n",
    "\n",
    "How I will get this done; \n",
    "\n",
    "* Get the successfull appointment data \n",
    "* Loop through every record\n",
    "* If record is intake just \"pass\" record zero otherwise use the chart number to backcheck its recent appointment\n",
    "    - Backchecking will be done by slicing the data set till the current index(one row behind)\n",
    "    - Filter to get the very chart number\n",
    "    - Check the date of the last service \n",
    "    - Calculate the difference in days \n",
    "    \n",
    "* Add the day difference to a list\n",
    "\n",
    "\n",
    "**Repeat the same for MH infusion**\n",
    "\n",
    "Columns to added - \"days since last visit\" and \"days since last MH infusion\" "
   ]
  },
  {
   "cell_type": "code",
   "execution_count": 11,
   "id": "7dbc5721",
   "metadata": {},
   "outputs": [
    {
     "data": {
      "text/html": [
       "<div>\n",
       "<style scoped>\n",
       "    .dataframe tbody tr th:only-of-type {\n",
       "        vertical-align: middle;\n",
       "    }\n",
       "\n",
       "    .dataframe tbody tr th {\n",
       "        vertical-align: top;\n",
       "    }\n",
       "\n",
       "    .dataframe thead th {\n",
       "        text-align: right;\n",
       "    }\n",
       "</style>\n",
       "<table border=\"1\" class=\"dataframe\">\n",
       "  <thead>\n",
       "    <tr style=\"text-align: right;\">\n",
       "      <th></th>\n",
       "      <th>Date</th>\n",
       "      <th>Chartnumber</th>\n",
       "      <th>Appt Type Group</th>\n",
       "      <th>Facility City</th>\n",
       "    </tr>\n",
       "  </thead>\n",
       "  <tbody>\n",
       "    <tr>\n",
       "      <th>0</th>\n",
       "      <td>2018-01-22</td>\n",
       "      <td>1</td>\n",
       "      <td>Intake</td>\n",
       "      <td>CAMBRIDGE</td>\n",
       "    </tr>\n",
       "    <tr>\n",
       "      <th>1</th>\n",
       "      <td>2018-01-22</td>\n",
       "      <td>2</td>\n",
       "      <td>MH Infusion</td>\n",
       "      <td>CAMBRIDGE</td>\n",
       "    </tr>\n",
       "    <tr>\n",
       "      <th>2</th>\n",
       "      <td>2018-01-22</td>\n",
       "      <td>9</td>\n",
       "      <td>Intake</td>\n",
       "      <td>CAMBRIDGE</td>\n",
       "    </tr>\n",
       "    <tr>\n",
       "      <th>3</th>\n",
       "      <td>2018-02-02</td>\n",
       "      <td>6</td>\n",
       "      <td>Intake</td>\n",
       "      <td>CAMBRIDGE</td>\n",
       "    </tr>\n",
       "    <tr>\n",
       "      <th>4</th>\n",
       "      <td>2018-02-02</td>\n",
       "      <td>6</td>\n",
       "      <td>MH Infusion</td>\n",
       "      <td>CAMBRIDGE</td>\n",
       "    </tr>\n",
       "    <tr>\n",
       "      <th>...</th>\n",
       "      <td>...</td>\n",
       "      <td>...</td>\n",
       "      <td>...</td>\n",
       "      <td>...</td>\n",
       "    </tr>\n",
       "    <tr>\n",
       "      <th>33189</th>\n",
       "      <td>2024-11-15</td>\n",
       "      <td>2076</td>\n",
       "      <td>MH Infusion</td>\n",
       "      <td>CAMBRIDGE</td>\n",
       "    </tr>\n",
       "    <tr>\n",
       "      <th>33190</th>\n",
       "      <td>2024-11-13</td>\n",
       "      <td>1380</td>\n",
       "      <td>Follow-Up</td>\n",
       "      <td>CAMBRIDGE</td>\n",
       "    </tr>\n",
       "    <tr>\n",
       "      <th>33191</th>\n",
       "      <td>2024-11-14</td>\n",
       "      <td>2619</td>\n",
       "      <td>KSS</td>\n",
       "      <td>CAMBRIDGE</td>\n",
       "    </tr>\n",
       "    <tr>\n",
       "      <th>33192</th>\n",
       "      <td>2024-11-15</td>\n",
       "      <td>2594</td>\n",
       "      <td>Follow-Up</td>\n",
       "      <td>CAMBRIDGE</td>\n",
       "    </tr>\n",
       "    <tr>\n",
       "      <th>33193</th>\n",
       "      <td>2024-11-15</td>\n",
       "      <td>1837</td>\n",
       "      <td>MH Infusion</td>\n",
       "      <td>CAMBRIDGE</td>\n",
       "    </tr>\n",
       "  </tbody>\n",
       "</table>\n",
       "<p>33194 rows × 4 columns</p>\n",
       "</div>"
      ],
      "text/plain": [
       "            Date  Chartnumber Appt Type Group Facility City\n",
       "0     2018-01-22            1          Intake     CAMBRIDGE\n",
       "1     2018-01-22            2     MH Infusion     CAMBRIDGE\n",
       "2     2018-01-22            9          Intake     CAMBRIDGE\n",
       "3     2018-02-02            6          Intake     CAMBRIDGE\n",
       "4     2018-02-02            6     MH Infusion     CAMBRIDGE\n",
       "...          ...          ...             ...           ...\n",
       "33189 2024-11-15         2076     MH Infusion     CAMBRIDGE\n",
       "33190 2024-11-13         1380       Follow-Up     CAMBRIDGE\n",
       "33191 2024-11-14         2619             KSS     CAMBRIDGE\n",
       "33192 2024-11-15         2594       Follow-Up     CAMBRIDGE\n",
       "33193 2024-11-15         1837     MH Infusion     CAMBRIDGE\n",
       "\n",
       "[33194 rows x 4 columns]"
      ]
     },
     "execution_count": 11,
     "metadata": {},
     "output_type": "execute_result"
    }
   ],
   "source": [
    "seen_df.iloc[0:-1]"
   ]
  },
  {
   "cell_type": "code",
   "execution_count": 12,
   "id": "e17639c5",
   "metadata": {
    "scrolled": true
   },
   "outputs": [
    {
     "name": "stdout",
     "output_type": "stream",
     "text": [
      "0\n",
      "1\n",
      "2\n",
      "3\n",
      "4\n",
      "5\n",
      "6\n",
      "7\n"
     ]
    },
    {
     "ename": "AttributeError",
     "evalue": "'numpy.timedelta64' object has no attribute 'days'",
     "output_type": "error",
     "traceback": [
      "\u001b[0;31m---------------------------------------------------------------------------\u001b[0m",
      "\u001b[0;31mAttributeError\u001b[0m                            Traceback (most recent call last)",
      "Cell \u001b[0;32mIn[12], line 34\u001b[0m\n\u001b[1;32m     31\u001b[0m previous_records \u001b[38;5;241m=\u001b[39m d1_filtered\u001b[38;5;241m.\u001b[39mto_records()\n\u001b[1;32m     32\u001b[0m most_recent_date \u001b[38;5;241m=\u001b[39m previous_records[\u001b[38;5;241m-\u001b[39m\u001b[38;5;241m1\u001b[39m][\u001b[38;5;241m1\u001b[39m]\n\u001b[0;32m---> 34\u001b[0m \u001b[38;5;28mprint\u001b[39m((current_date\u001b[38;5;241m-\u001b[39mmost_recent_date)\u001b[38;5;241m.\u001b[39mdays)\n\u001b[1;32m     36\u001b[0m \u001b[38;5;66;03m# Calculate days since last visit \u001b[39;00m\n\u001b[1;32m     37\u001b[0m days_since_last_visit\u001b[38;5;241m.\u001b[39mappend((current_date\u001b[38;5;241m-\u001b[39mmost_recent_date)\u001b[38;5;241m.\u001b[39mdays)\n",
      "\u001b[0;31mAttributeError\u001b[0m: 'numpy.timedelta64' object has no attribute 'days'"
     ]
    }
   ],
   "source": [
    "seen_records = seen_df.to_records()\n",
    "\n",
    "# Features to be added \n",
    "days_since_last_visit = []\n",
    "days_since_last_MHinfusion = []\n",
    "\n",
    "for record in seen_records:\n",
    "    index = record[0]\n",
    "    print(index)\n",
    "    # If record is intake add a null value\n",
    "    if record[3] == \"Intake\":\n",
    "        days_since_last_visit.append(np.nan)\n",
    "        days_since_last_MHinfusion.append(np.nan)\n",
    "    \n",
    "    # Otherwise add the value \n",
    "    else:\n",
    "        if index>1:\n",
    "            # Slice the dataframe from the last index\n",
    "            d1 = seen_df.iloc[0:index-1]\n",
    "            \n",
    "            # Filter to get the required chart number \n",
    "            current_chart_number = record[2]\n",
    "            current_date = record[1]\n",
    "            d1_filtered = d1[d1[\"Chartnumber\"]==current_chart_number]\n",
    "            \n",
    "            # if no previous record pass\n",
    "            if d1_filtered.shape[0]==0:\n",
    "                pass\n",
    "            # Previos records exists \n",
    "            else: \n",
    "                previous_records = d1_filtered.to_records()\n",
    "                most_recent_date = previous_records[-1][1]\n",
    "                \n",
    "                print((current_date-most_recent_date).days)\n",
    "                \n",
    "                # Calculate days since last visit \n",
    "                days_since_last_visit.append((current_date-most_recent_date).days)\n",
    "                \n",
    "            \n",
    "        else:\n",
    "            pass\n",
    "        \n",
    "    # Move to the next record"
   ]
  },
  {
   "cell_type": "code",
   "execution_count": null,
   "id": "cf49b6d6",
   "metadata": {},
   "outputs": [],
   "source": []
  },
  {
   "cell_type": "code",
   "execution_count": null,
   "id": "ac8441da",
   "metadata": {},
   "outputs": [],
   "source": [
    "seen_df.dtypes"
   ]
  },
  {
   "cell_type": "code",
   "execution_count": 20,
   "id": "976ae413",
   "metadata": {},
   "outputs": [
    {
     "data": {
      "text/plain": [
       "962.0"
      ]
     },
     "execution_count": 20,
     "metadata": {},
     "output_type": "execute_result"
    }
   ],
   "source": [
    "day_difference = seen_records[10000][1] - seen_records[99][1]\n",
    "day_difference.astype('timedelta64[D]')/np.timedelta64(1, 'D')"
   ]
  },
  {
   "cell_type": "code",
   "execution_count": null,
   "id": "d202d9dd",
   "metadata": {},
   "outputs": [],
   "source": [
    "seen_df.head()"
   ]
  },
  {
   "cell_type": "markdown",
   "id": "b6af49c9",
   "metadata": {},
   "source": [
    "## Step 2: Compare Cambridge vs. Other Cities\n",
    "\n",
    "**Comparison of Metrics:**\n",
    "\n",
    "- Use pivot tables to summarize metrics (e.g., mean Number of MH infusions, Post-intake days) for Cambridge vs. other cities.\n",
    "\n",
    "**Drop Analysis:**\n",
    "\n",
    "- Quantify the drop in MH infusions in Cambridge between different time periods (e.g., mid-2023 vs. late 2023, late 2023 vs. 2024).\n",
    "\n",
    "**Visualization Ideas:**\n",
    "\n",
    "- *Stacked Bar Chart:* Breakdown of Patient Category for Cambridge and other cities.\n",
    "- *Heatmap:* Correlation matrix to identify relationships between variables (e.g., delays, visits, and infusions)."
   ]
  },
  {
   "cell_type": "code",
   "execution_count": null,
   "id": "8ffa9abf",
   "metadata": {},
   "outputs": [],
   "source": []
  },
  {
   "cell_type": "code",
   "execution_count": null,
   "id": "45368253",
   "metadata": {},
   "outputs": [],
   "source": []
  },
  {
   "cell_type": "code",
   "execution_count": null,
   "id": "15de924e",
   "metadata": {},
   "outputs": [],
   "source": []
  },
  {
   "cell_type": "markdown",
   "id": "f8ea0158",
   "metadata": {},
   "source": [
    "## Step 3: Drill Down into Specific Factors\n",
    "\n",
    "**Investigate outliers or anomalies in the dataset.**\n",
    "\n",
    "- For example, were there patients with exceptionally high delays or very few visits? What patterns emerge?\n",
    "\n",
    "**Conduct subgroup analysis:**\n",
    "\n",
    "- Compare patients with and without Infusions outside Cambridge.\n",
    "- Analyze patients who received MH infusions in 2024 to identify distinguishing factors."
   ]
  },
  {
   "cell_type": "code",
   "execution_count": null,
   "id": "befd2655",
   "metadata": {},
   "outputs": [],
   "source": []
  },
  {
   "cell_type": "code",
   "execution_count": null,
   "id": "778186d2",
   "metadata": {},
   "outputs": [],
   "source": []
  },
  {
   "cell_type": "code",
   "execution_count": null,
   "id": "9e5ed21d",
   "metadata": {},
   "outputs": [],
   "source": []
  },
  {
   "cell_type": "markdown",
   "id": "3f2144ac",
   "metadata": {},
   "source": [
    "## Step 4: Synthesize Findings*\n",
    "\n",
    "- Summarize your results with tables and visualizations.\n",
    "- Provide actionable insights based on the findings (e.g., \"Resource constraints in Cambridge caused delays in post-intake services leading to fewer MH infusions.\")."
   ]
  },
  {
   "cell_type": "code",
   "execution_count": null,
   "id": "29a59e8d",
   "metadata": {},
   "outputs": [],
   "source": []
  },
  {
   "cell_type": "code",
   "execution_count": null,
   "id": "f9f3a1fa",
   "metadata": {},
   "outputs": [],
   "source": []
  },
  {
   "cell_type": "code",
   "execution_count": null,
   "id": "f5367a5d",
   "metadata": {},
   "outputs": [],
   "source": []
  },
  {
   "cell_type": "markdown",
   "id": "c75fcc79",
   "metadata": {},
   "source": [
    "### Recommended Visualizations and Tables:\n",
    "\n",
    "- **Boxplots:** Compare delays and infusions across categories.\n",
    "- **Bar Charts:** Compare counts (e.g., visits, infusions) between Cambridge and other cities.\n",
    "- **Scatterplots:** Correlations between visits and infusions.\n",
    "- **Pivot Tables:** Summary of metrics segmented by facility and category.\n",
    "- **Heatmaps:** Highlight correlations between variables."
   ]
  }
 ],
 "metadata": {
  "kernelspec": {
   "display_name": "Python 3 (ipykernel)",
   "language": "python",
   "name": "python3"
  },
  "language_info": {
   "codemirror_mode": {
    "name": "ipython",
    "version": 3
   },
   "file_extension": ".py",
   "mimetype": "text/x-python",
   "name": "python",
   "nbconvert_exporter": "python",
   "pygments_lexer": "ipython3",
   "version": "3.11.5"
  }
 },
 "nbformat": 4,
 "nbformat_minor": 5
}
