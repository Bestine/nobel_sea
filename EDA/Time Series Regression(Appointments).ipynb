{
 "cells": [
  {
   "cell_type": "markdown",
   "id": "d76280f0",
   "metadata": {},
   "source": [
    "# INTRODUCTION"
   ]
  },
  {
   "cell_type": "markdown",
   "id": "f502c34b",
   "metadata": {},
   "source": [
    "- What is are the objectives of the time series regression in this project? \n",
    "- How will you arrive at the results \n",
    "- Why did you use python\n",
    "- What is the way forward after the regression analysis"
   ]
  },
  {
   "cell_type": "markdown",
   "id": "91ae47f5",
   "metadata": {},
   "source": [
    "**Load the required libraries** "
   ]
  },
  {
   "cell_type": "code",
   "execution_count": null,
   "id": "bce37c77",
   "metadata": {},
   "outputs": [],
   "source": [
    "import pandas as pd \n",
    "import numpy as np\n",
    "from matplotlib import pyplot as plt \n",
    "import seaborn as sns \n",
    "import statsmodels.api as sm\n",
    "from statsmodels.tsa.seasonal import seasonal_decompose \n",
    "import warnings\n",
    "\n",
    "warnings.filterwarnings(\"ignore\")"
   ]
  },
  {
   "cell_type": "code",
   "execution_count": null,
   "id": "78aa4915",
   "metadata": {},
   "outputs": [],
   "source": [
    "# Load the required data\n",
    "appointment_df = pd.read_csv(\"../data/Appointments List.csv\", \n",
    "                             encoding='UTF-16', delimiter=\"\\t\")\n",
    "appointment_df.head()"
   ]
  },
  {
   "cell_type": "markdown",
   "id": "cc8fe467",
   "metadata": {},
   "source": [
    "## Data Wrangling "
   ]
  },
  {
   "cell_type": "markdown",
   "id": "4b237a32",
   "metadata": {},
   "source": [
    "What is data wrangling? \n",
    "\n"
   ]
  },
  {
   "cell_type": "code",
   "execution_count": null,
   "id": "5d3dbeb4",
   "metadata": {},
   "outputs": [],
   "source": [
    "# Drop the first row of the data frame\n",
    "appointment_df.drop(index=0, inplace=True)\n",
    "appointment_df.reset_index(drop=True, inplace=True)\n",
    "\n",
    "# Convert to time series data\n",
    "appointment_df[\"Date\"] = pd.to_datetime(appointment_df[\"Date Of Service\"], errors=\"coerce\")\n",
    "\n",
    "# Replace \"Made\" to \"Seen\" and \"Deleted\" to \"Cancelled\"\n",
    "appointment_df[\"Appt Status Description\"].replace({\n",
    "    \"Made\":\"Seen\",\n",
    "    \"Deleted\": \"Cancelled\"\n",
    "}, inplace=True)\n",
    "\n",
    "appointment_ts = appointment_df[[\"Date\",\"Appointment UID\"]]\n",
    "\n",
    "# Count null values \n",
    "null_values = appointment_ts.isna().sum()\n",
    "print(\"Rows with null values: \", null_values)\n",
    "del null_values # for memory management\n",
    "\n",
    "# Count duplicated records \n",
    "duplicated_records = appointment_ts.duplicated().sum()\n",
    "print(\"Duplicated records: \", duplicated_records)\n",
    "del duplicated_records\n",
    "\n",
    "\n",
    "# Remove all the null values  \n",
    "appointment_ts.dropna(how=\"any\", inplace=True)\n",
    "appointment_ts.reset_index(drop=True)\n",
    "\n",
    "# Count the null values to confirm the operation \n",
    "null_values = appointment_ts.isna().sum()\n",
    "print(\"Rows with null values after cleaning: \", null_values)\n",
    "del null_values # for memory management\n",
    "\n",
    "# Group the data by date  \n",
    "daily_appointments_ts = appointment_ts.groupby(\"Date\").count().reset_index()\n",
    "daily_appointments_ts.rename({\"Appointment UID\":\"appointment_count\"}, \n",
    "                            axis=1, inplace=True)\n",
    "\n",
    "daily_appointments_ts.head()"
   ]
  },
  {
   "cell_type": "markdown",
   "id": "cb7b9e5b",
   "metadata": {},
   "source": [
    "Here is what I did to make the appointment data ready for analysis; \n",
    "\n",
    "* Dropped the first row since it had irrelvant values\n",
    "* Converted the date column to a recognizable format by python for better time series analysis\n",
    "* Renamed all the appointment status that were labelled as \"Made\" and \"Deleted\" to \"Seen\" and \"Cancelled\" respectively. \n",
    "* Select the Date and appointment UID. \n",
    "* Count and dropped all the records with the null values in the selected data. \n",
    "* Calculated the number of appointments by date. \n",
    "\n",
    "**Note:** More data wrangling will be performed based on the status of the analysis. "
   ]
  },
  {
   "cell_type": "code",
   "execution_count": null,
   "id": "4cae278e",
   "metadata": {},
   "outputs": [],
   "source": [
    "# Unique days \n",
    "appointment_ts[\"Date\"].nunique()"
   ]
  },
  {
   "cell_type": "markdown",
   "id": "b0a91a2e",
   "metadata": {},
   "source": [
    "## Time Series Regression\n",
    "### Regression Analysis"
   ]
  },
  {
   "cell_type": "code",
   "execution_count": null,
   "id": "923123aa",
   "metadata": {},
   "outputs": [],
   "source": [
    "# Ensure the date column is sorted \n",
    "daily_appointments_ts = daily_appointments_ts.sort_values(\"Date\").reset_index(drop=True)\n",
    "daily_appointments_ts\n",
    "\n",
    "# Drop the first column it might be an error. No possible appointment was in 2000 the next one in 2017\n",
    "daily_appointments_ts.drop(index=0, inplace=True)\n",
    "daily_appointments_ts.reset_index(drop=True, inplace=True)\n",
    "\n",
    "daily_appointments_ts.head()\n",
    "\n",
    "# Add a numeric time variable that counts days since the start \n",
    "daily_appointments_ts[\"Time\"]  = (daily_appointments_ts[\"Date\"] - \n",
    "                                  daily_appointments_ts[\"Date\"].min()).dt.days\n",
    "\n",
    "daily_appointments_ts\n",
    "\n",
    "# Define the independent(Y) and dependent variables(X)\n",
    "X = sm.add_constant(daily_appointments_ts[\"Time\"]) # Add a constant for intercept\n",
    "y = daily_appointments_ts[\"appointment_count\"]\n",
    "\n",
    "# Create the model \n",
    "model = sm.OLS(y, X).fit()\n",
    "print(model.summary())\n",
    "\n",
    "# Predicted Counts\n",
    "predicted_counts = model.predict(X)"
   ]
  },
  {
   "cell_type": "code",
   "execution_count": null,
   "id": "40458100",
   "metadata": {},
   "outputs": [],
   "source": [
    "%matplotlib inline \n",
    "sns.set()\n",
    "\n",
    "# Plot the results \n",
    "plt.figure(figsize = (12, 7))\n",
    "plt.plot(daily_appointments_ts[\"Date\"], daily_appointments_ts[\"appointment_count\"],\n",
    "        label = \"Actual Counts\", color = \"blue\")\n",
    "plt.plot(daily_appointments_ts[\"Date\"], predicted_counts,\n",
    "        label = \"Regression line\", color = \"red\")\n",
    "plt.xlabel(\"Date\")\n",
    "plt.ylabel(\"Count\")\n",
    "plt.legend()\n",
    "plt.grid(True)\n",
    "plt.show()"
   ]
  },
  {
   "cell_type": "markdown",
   "id": "336e1f83",
   "metadata": {},
   "source": [
    "### Time series Decompisition \n",
    "\n",
    "This was done to refine the analysis and find the details of the appointments over time. Like:\n",
    "\n",
    "* Calculate seasonal trends\n",
    "* Visualize the annual cycles \n",
    "* Visualize the daily fluctuations in the number of appointments "
   ]
  },
  {
   "cell_type": "code",
   "execution_count": null,
   "id": "66d80814",
   "metadata": {},
   "outputs": [],
   "source": [
    "# Set the date as index \n",
    "daily_appointments_ts.set_index(\"Date\", inplace=True)\n",
    "\n",
    "# Perform decomposition\n",
    "result = seasonal_decompose(daily_appointments_ts[\"appointment_count\"], \n",
    "                           model = \"additive\", period=7)\n",
    "\n",
    "# Plot the result \n",
    "result.plot()\n",
    "plt.show()"
   ]
  },
  {
   "cell_type": "markdown",
   "id": "28d51fd1",
   "metadata": {},
   "source": [
    "Findings;\n",
    "\n",
    "* There is an upward trend of the daily number of appointments\n",
    "* daily fluctuations of the number of appointments range from 0 to 25"
   ]
  },
  {
   "cell_type": "markdown",
   "id": "2e047dd4",
   "metadata": {},
   "source": [
    "### Moving average\n",
    "\n",
    "Lets smoothen the curves by calculating 7-day, 30-day and 90-day moving averages. \n",
    "\n",
    "What is the importance of moving averages? \n"
   ]
  },
  {
   "cell_type": "code",
   "execution_count": null,
   "id": "1a62ac1a",
   "metadata": {},
   "outputs": [],
   "source": [
    "# 7 days moving average \n",
    "daily_appointments_ts[\"7_day_MA\"] = daily_appointments_ts[\"appointment_count\"].rolling(window=7).mean()\n",
    "\n",
    "# Plot the data  \n",
    "plt.figure(figsize=(12, 7))\n",
    "plt.plot(daily_appointments_ts.index, daily_appointments_ts[\"appointment_count\"],\n",
    "        label = \"Daily Count\", color=\"white\")\n",
    "plt.plot(daily_appointments_ts.index, daily_appointments_ts[\"7_day_MA\"],\n",
    "        label = \"7-day Moving average\", color=\"blue\")\n",
    "plt.xlabel(\"Date\")\n",
    "plt.ylabel(\"Count\")\n",
    "\n",
    "plt.title(\"7-day Moving Averages\")\n",
    "plt.legend()\n",
    "plt.grid()\n",
    "plt.show()"
   ]
  },
  {
   "cell_type": "code",
   "execution_count": null,
   "id": "93ff0e74",
   "metadata": {},
   "outputs": [],
   "source": [
    "# 30 days moving average \n",
    "daily_appointments_ts[\"30_day_MA\"] = daily_appointments_ts[\"appointment_count\"].rolling(window=30).mean()\n",
    "\n",
    "# Plot the data  \n",
    "plt.figure(figsize=(12, 7))\n",
    "plt.plot(daily_appointments_ts.index, daily_appointments_ts[\"appointment_count\"],\n",
    "        label = \"Daily Count\", color=\"white\")\n",
    "plt.plot(daily_appointments_ts.index, daily_appointments_ts[\"30_day_MA\"],\n",
    "        label = \"30-day Moving average\", color=\"blue\")\n",
    "plt.xlabel(\"Date\")\n",
    "plt.ylabel(\"Count\")\n",
    "\n",
    "plt.title(\"30-day Moving Averages\")\n",
    "plt.legend()\n",
    "plt.grid()\n",
    "plt.show()"
   ]
  },
  {
   "cell_type": "code",
   "execution_count": null,
   "id": "bd0bd226",
   "metadata": {},
   "outputs": [],
   "source": [
    "# 90 days moving average \n",
    "daily_appointments_ts[\"90_day_MA\"] = daily_appointments_ts[\"appointment_count\"].rolling(window=90).mean()\n",
    "\n",
    "# Plot the data  \n",
    "plt.figure(figsize=(12, 7))\n",
    "plt.plot(daily_appointments_ts.index, daily_appointments_ts[\"appointment_count\"],\n",
    "        label = \"Daily Count\", color=\"white\")\n",
    "plt.plot(daily_appointments_ts.index, daily_appointments_ts[\"90_day_MA\"],\n",
    "        label = \"90-day Moving average\", color=\"blue\")\n",
    "plt.xlabel(\"Date\")\n",
    "plt.ylabel(\"Count\")\n",
    "\n",
    "plt.title(\"90-day Moving Averages\")\n",
    "plt.legend()\n",
    "plt.grid()\n",
    "plt.show()"
   ]
  },
  {
   "cell_type": "markdown",
   "id": "052d9155",
   "metadata": {},
   "source": [
    "## Cambridge Time Series\n",
    "I will narrow down to the successfull appointments with MH Infusion at cambridge all time and visualize the trend. \n"
   ]
  },
  {
   "cell_type": "markdown",
   "id": "32e7343a",
   "metadata": {},
   "source": [
    "First I prepared the data by: \n",
    "\n",
    "* Filtering to get the appointments that were successful, involved MH infusion and were held in the Cambridge facility. \n",
    "* Dropped the first record that had an appointment held in the year 2000 which was irrelevant in the analysis(this might be an error during data collection)"
   ]
  },
  {
   "cell_type": "code",
   "execution_count": null,
   "id": "b664e6e0",
   "metadata": {},
   "outputs": [],
   "source": [
    "# Filter the data \n",
    "cambridge_mh_success = appointment_df[(appointment_df[\"Appt Status Description\"]==\"Seen\")\\\n",
    "               &(appointment_df[\"Facility City\"]==\"CAMBRIDGE\")\\\n",
    "               &(appointment_df[\"Appt Type Group\"]==\"MH Infusion\")].reset_index(drop=True)\n",
    "\n",
    "\n",
    "# Clean the data\n",
    "## Get the required columns \n",
    "cambridge_mh_success = cambridge_mh_success[[\"Date\", \"Appointment UID\"]]\n",
    "\n",
    "## remove the null values  \n",
    "cambridge_mh_success.dropna(how=\"any\", inplace=True)\n",
    "cambridge_mh_success.reset_index(drop=True, inplace=True)\n",
    "\n",
    "## Sort values by data \n",
    "cambridge_mh_success.sort_values(\"Date\").reset_index(drop=True)\n",
    "\n",
    "## Group the data by date  \n",
    "cambridge_mh_success = cambridge_mh_success.groupby(\"Date\").count().reset_index()\n",
    "cambridge_mh_success.rename({\"Appointment UID\":\"appointment_count\"}, \n",
    "                            axis=1, inplace=True)\n",
    "\n",
    "## Drop the first row \n",
    "cambridge_mh_success.drop(index=0, inplace=True)\n",
    "cambridge_mh_success.reset_index(drop=True)\n",
    "\n",
    "## Set date as index\n",
    "cambridge_mh_success.set_index(\"Date\", inplace=True)\n",
    "\n",
    "cambridge_mh_success.head()"
   ]
  },
  {
   "cell_type": "code",
   "execution_count": null,
   "id": "c70ccbf9",
   "metadata": {},
   "outputs": [],
   "source": [
    "# 7 days moving average \n",
    "cambridge_mh_success[\"7_day_MA\"] = cambridge_mh_success[\"appointment_count\"].rolling(window=7).mean()\n",
    "\n",
    "# Plot the data  \n",
    "plt.figure(figsize=(12, 7))\n",
    "plt.plot(cambridge_mh_success.index, cambridge_mh_success[\"appointment_count\"],\n",
    "        label = \"Daily Count\", color=\"white\")\n",
    "plt.plot(cambridge_mh_success.index, cambridge_mh_success[\"7_day_MA\"],\n",
    "        label = \"7-day Moving average\", color=\"green\")\n",
    "plt.xlabel(\"Date\")\n",
    "plt.ylabel(\"Count\")\n",
    "\n",
    "plt.title(\"7-day Moving Averages\")\n",
    "plt.legend()\n",
    "plt.grid()\n",
    "plt.show()"
   ]
  },
  {
   "cell_type": "code",
   "execution_count": null,
   "id": "4ed145fd",
   "metadata": {},
   "outputs": [],
   "source": [
    "# 30 days moving average \n",
    "cambridge_mh_success[\"30_day_MA\"] = cambridge_mh_success[\"appointment_count\"].rolling(window=30).mean()\n",
    "\n",
    "# Plot the data  \n",
    "plt.figure(figsize=(12, 7))\n",
    "plt.plot(cambridge_mh_success.index, cambridge_mh_success[\"appointment_count\"],\n",
    "        label = \"Daily Count\", color=\"white\")\n",
    "plt.plot(cambridge_mh_success.index, cambridge_mh_success[\"30_day_MA\"],\n",
    "        label = \"30-day Moving average\", color=\"green\")\n",
    "plt.xlabel(\"Date\")\n",
    "plt.ylabel(\"Count\")\n",
    "\n",
    "plt.title(\"30-day Moving Averages\")\n",
    "plt.legend()\n",
    "plt.grid()\n",
    "plt.show()"
   ]
  },
  {
   "cell_type": "code",
   "execution_count": null,
   "id": "564dd749",
   "metadata": {},
   "outputs": [],
   "source": [
    "# 90 days moving average \n",
    "cambridge_mh_success[\"90_day_MA\"] = cambridge_mh_success[\"appointment_count\"].rolling(window=90).mean()\n",
    "\n",
    "# Plot the data  \n",
    "plt.figure(figsize=(12, 7))\n",
    "plt.plot(cambridge_mh_success.index, cambridge_mh_success[\"appointment_count\"],\n",
    "        label = \"Daily Count\", color=\"white\")\n",
    "plt.plot(cambridge_mh_success.index, cambridge_mh_success[\"90_day_MA\"],\n",
    "        label = \"90-day Moving average\", color=\"green\")\n",
    "plt.xlabel(\"Date\")\n",
    "plt.ylabel(\"Count\")\n",
    "\n",
    "plt.title(\"90-day Moving Averages\")\n",
    "plt.legend()\n",
    "plt.grid()\n",
    "plt.show()"
   ]
  },
  {
   "cell_type": "markdown",
   "id": "712956ae",
   "metadata": {},
   "source": [
    "From the analysis of the number of daily appointments that involved MH infusion in the camridge facility, it is evident; \n",
    "\n",
    "* There is a general rise in the number of appointments from the year 2018 to early 2023\n",
    "* After mid-2023, the number of appointments start to experience a drop."
   ]
  },
  {
   "cell_type": "markdown",
   "id": "62ac4022",
   "metadata": {},
   "source": [
    "## Other locations Moving Averages "
   ]
  },
  {
   "cell_type": "markdown",
   "id": "11f884fe",
   "metadata": {},
   "source": [
    "I will put all other facilities from the other locations other than Cambridge, analyze the successfull appointments that involve MH infusion and see how they compare with Camdrige. This is what I will do; \n",
    "\n",
    "* Filter out Cambridge facilities. \n",
    "* Get the successfull appointments that involve MH infusion \n",
    "* Clean and organize the data as required "
   ]
  },
  {
   "cell_type": "code",
   "execution_count": null,
   "id": "2c696bfa",
   "metadata": {},
   "outputs": [],
   "source": [
    "# Filter the data  \n",
    "other_mh_success = appointment_df[(appointment_df[\"Appt Status Description\"]==\"Seen\")\\\n",
    "               &(appointment_df[\"Facility City\"]!=\"CAMBRIDGE\")\\\n",
    "               &(appointment_df[\"Appt Type Group\"]==\"MH Infusion\")].reset_index(drop=True)\n",
    "\n",
    "\n",
    "\n",
    "# Clean the data\n",
    "## Get the required columns \n",
    "other_mh_success = other_mh_success[[\"Date\", \"Appointment UID\", \"Facility City\"]]\n",
    "\n",
    "## remove the null values  \n",
    "other_mh_success.dropna(how=\"any\", inplace=True)\n",
    "other_mh_success.reset_index(drop=True, inplace=True)\n",
    "\n",
    "# Drop the facility city column\n",
    "other_mh_success.drop(\"Facility City\", axis=1, inplace=True)\n",
    "\n",
    "## Sort values by data \n",
    "other_mh_success.sort_values(\"Date\").reset_index(drop=True)\n",
    "\n",
    "## Group the data by date  \n",
    "other_mh_success = other_mh_success.groupby(\"Date\").count().reset_index()\n",
    "other_mh_success.rename({\"Appointment UID\":\"appointment_count\"}, \n",
    "                            axis=1, inplace=True)\n",
    "\n",
    "## Drop the first row \n",
    "other_mh_success.drop(index=0, inplace=True)\n",
    "other_mh_success.reset_index(drop=True)\n",
    "\n",
    "## Set date as index\n",
    "other_mh_success.set_index(\"Date\", inplace=True)\n",
    "\n",
    "other_mh_success.head()"
   ]
  },
  {
   "cell_type": "code",
   "execution_count": null,
   "id": "43de6450",
   "metadata": {},
   "outputs": [],
   "source": [
    "# 7 days moving average \n",
    "other_mh_success[\"7_day_MA\"] = other_mh_success[\"appointment_count\"].rolling(window=7).mean()\n",
    "\n",
    "# Plot the data  \n",
    "plt.figure(figsize=(12, 7))\n",
    "plt.plot(other_mh_success.index, other_mh_success[\"appointment_count\"],\n",
    "        label = \"Daily Count\", color=\"white\")\n",
    "plt.plot(other_mh_success.index, other_mh_success[\"7_day_MA\"],\n",
    "        label = \"7-day Moving average\", color=\"purple\")\n",
    "plt.xlabel(\"Date\")\n",
    "plt.ylabel(\"Count\")\n",
    "\n",
    "plt.title(\"7-day Moving Averages\")\n",
    "plt.legend()\n",
    "plt.grid()\n",
    "plt.show()"
   ]
  },
  {
   "cell_type": "code",
   "execution_count": null,
   "id": "262f47fa",
   "metadata": {},
   "outputs": [],
   "source": [
    "# 30 days moving average \n",
    "other_mh_success[\"30_day_MA\"] = other_mh_success[\"appointment_count\"].rolling(window=30).mean()\n",
    "\n",
    "# Plot the data  \n",
    "plt.figure(figsize=(12, 7))\n",
    "plt.plot(other_mh_success.index, other_mh_success[\"appointment_count\"],\n",
    "        label = \"Daily Count\", color=\"white\")\n",
    "plt.plot(other_mh_success.index, other_mh_success[\"30_day_MA\"],\n",
    "        label = \"30-day Moving average\", color=\"purple\")\n",
    "plt.xlabel(\"Date\")\n",
    "plt.ylabel(\"Count\")\n",
    "\n",
    "plt.title(\"30-day Moving Averages\")\n",
    "plt.legend()\n",
    "plt.grid()\n",
    "plt.show()"
   ]
  },
  {
   "cell_type": "code",
   "execution_count": null,
   "id": "a52ecc2f",
   "metadata": {},
   "outputs": [],
   "source": [
    "# 90 days moving average \n",
    "other_mh_success[\"90_day_MA\"] = other_mh_success[\"appointment_count\"].rolling(window=90).mean()\n",
    "\n",
    "# Plot the data  \n",
    "plt.figure(figsize=(12, 7))\n",
    "plt.plot(other_mh_success.index, other_mh_success[\"appointment_count\"],\n",
    "        label = \"Daily Count\", color=\"white\")\n",
    "plt.plot(other_mh_success.index, other_mh_success[\"90_day_MA\"],\n",
    "        label = \"90-day Moving average\", color=\"purple\")\n",
    "plt.xlabel(\"Date\")\n",
    "plt.ylabel(\"Count\")\n",
    "\n",
    "plt.title(\"90-day Moving Averages\")\n",
    "plt.legend()\n",
    "plt.grid()\n",
    "plt.show()"
   ]
  },
  {
   "cell_type": "markdown",
   "id": "6eda79b8",
   "metadata": {},
   "source": [
    "From the analysis above that concerns the all the other facilities apart from Cambridge, it is evident that "
   ]
  },
  {
   "cell_type": "markdown",
   "id": "03c36afe",
   "metadata": {},
   "source": [
    "### Successfull MH Infusion - mid 2023 onwards\n",
    "Since there has been a drop in MH infusion from mid 2023 to 2024 in Cambridge Facility, we will explore the data from 2023 and find where did the fall exactly begin. "
   ]
  },
  {
   "cell_type": "code",
   "execution_count": null,
   "id": "9bd7a77d",
   "metadata": {},
   "outputs": [],
   "source": [
    "# Filter the data \n",
    "decided_date = pd.to_datetime(\"2023-06-01\")\n",
    "cambridge_mh_success_2023 = cambridge_mh_success[cambridge_mh_success.index>=decided_date]\n",
    "cambridge_mh_success_2023.head()"
   ]
  },
  {
   "cell_type": "code",
   "execution_count": null,
   "id": "3d90d131",
   "metadata": {},
   "outputs": [],
   "source": [
    "# 7 days moving average \n",
    "cambridge_mh_success_2023[\"7_day_MA\"] = cambridge_mh_success_2023[\"appointment_count\"].rolling(window=7).mean()\n",
    "\n",
    "# Plot the data  \n",
    "plt.figure(figsize=(12, 7))\n",
    "plt.plot(cambridge_mh_success_2023.index, cambridge_mh_success_2023[\"appointment_count\"],\n",
    "        label = \"Daily Count\", color=\"white\")\n",
    "plt.plot(cambridge_mh_success_2023.index, cambridge_mh_success_2023[\"7_day_MA\"],\n",
    "        label = \"7-day Moving average\", color=\"black\")\n",
    "plt.xlabel(\"Date\")\n",
    "plt.ylabel(\"Count\")\n",
    "\n",
    "plt.title(\"7-day Moving Averages\")\n",
    "plt.legend()\n",
    "plt.grid()\n",
    "plt.show()"
   ]
  },
  {
   "cell_type": "code",
   "execution_count": null,
   "id": "627f31ff",
   "metadata": {},
   "outputs": [],
   "source": [
    "# 30 days moving average \n",
    "cambridge_mh_success_2023[\"30_day_MA\"] = cambridge_mh_success_2023[\"appointment_count\"].rolling(window=30).mean()\n",
    "\n",
    "# Plot the data  \n",
    "plt.figure(figsize=(12, 7))\n",
    "plt.plot(cambridge_mh_success_2023.index, cambridge_mh_success_2023[\"appointment_count\"],\n",
    "        label = \"Daily Count\", color=\"white\")\n",
    "plt.plot(cambridge_mh_success_2023.index, cambridge_mh_success_2023[\"30_day_MA\"],\n",
    "        label = \"30-day Moving average\", color=\"black\")\n",
    "plt.xlabel(\"Date\")\n",
    "plt.ylabel(\"Count\")\n",
    "\n",
    "plt.title(\"30-day Moving Averages\")\n",
    "plt.legend()\n",
    "plt.grid()\n",
    "plt.show()"
   ]
  },
  {
   "cell_type": "code",
   "execution_count": null,
   "id": "e9192be1",
   "metadata": {},
   "outputs": [],
   "source": [
    "# 90 days moving average \n",
    "cambridge_mh_success_2023[\"90_day_MA\"] = cambridge_mh_success_2023[\"appointment_count\"].rolling(window=90).mean()\n",
    "\n",
    "# Plot the data  \n",
    "plt.figure(figsize=(12, 7))\n",
    "plt.plot(cambridge_mh_success_2023.index, cambridge_mh_success_2023[\"appointment_count\"],\n",
    "        label = \"Daily Count\", color=\"white\")\n",
    "plt.plot(cambridge_mh_success_2023.index, cambridge_mh_success_2023[\"90_day_MA\"],\n",
    "        label = \"90-day Moving average\", color=\"black\")\n",
    "plt.xlabel(\"Date\")\n",
    "plt.ylabel(\"Count\")\n",
    "\n",
    "plt.title(\"90-day Moving Averages\")\n",
    "plt.legend()\n",
    "plt.grid()\n",
    "plt.show()"
   ]
  },
  {
   "cell_type": "code",
   "execution_count": null,
   "id": "a363db51",
   "metadata": {},
   "outputs": [],
   "source": [
    "# Calculate the appointment count difference \n",
    "cambridge_mh_success_2023[\"appointment_count\"].max() - cambridge_mh_success_2023[\"appointment_count\"].min()"
   ]
  },
  {
   "cell_type": "code",
   "execution_count": null,
   "id": "bde6c7a5",
   "metadata": {},
   "outputs": [],
   "source": [
    "# Moving average range\n",
    "## 7 day MA\n",
    "range1 = cambridge_mh_success_2023[\"7_day_MA\"].max() - cambridge_mh_success_2023[\"7_day_MA\"].min()\n",
    "print(f\"Cambridge 7 day moving average range: {range1}\")\n",
    "\n",
    "## 30 day MA\n",
    "range2 = cambridge_mh_success_2023[\"30_day_MA\"].max() - cambridge_mh_success_2023[\"30_day_MA\"].min()\n",
    "print(f\"Cambridge 30 day moving average range: {range2}\")\n",
    "\n",
    "## 90 day MA\n",
    "range3 = cambridge_mh_success_2023[\"90_day_MA\"].max() - cambridge_mh_success_2023[\"90_day_MA\"].min()\n",
    "print(f\"Cambridge 90 day moving average range: {range3}\")"
   ]
  },
  {
   "cell_type": "code",
   "execution_count": null,
   "id": "0470df25",
   "metadata": {},
   "outputs": [],
   "source": []
  }
 ],
 "metadata": {
  "kernelspec": {
   "display_name": "Python 3 (ipykernel)",
   "language": "python",
   "name": "python3"
  },
  "language_info": {
   "codemirror_mode": {
    "name": "ipython",
    "version": 3
   },
   "file_extension": ".py",
   "mimetype": "text/x-python",
   "name": "python",
   "nbconvert_exporter": "python",
   "pygments_lexer": "ipython3",
   "version": "3.11.5"
  }
 },
 "nbformat": 4,
 "nbformat_minor": 5
}
