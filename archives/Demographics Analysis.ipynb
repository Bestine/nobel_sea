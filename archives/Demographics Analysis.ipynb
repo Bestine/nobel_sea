{
 "cells": [
  {
   "cell_type": "markdown",
   "id": "bf0edd0d",
   "metadata": {},
   "source": [
    "**Load the required libraries and data**"
   ]
  },
  {
   "cell_type": "code",
   "execution_count": 1,
   "id": "411da295",
   "metadata": {},
   "outputs": [],
   "source": [
    "# Libraries \n",
    "import pandas as pd \n",
    "import numpy as np\n",
    "from matplotlib import pyplot as plt \n",
    "import seaborn as sns"
   ]
  },
  {
   "cell_type": "code",
   "execution_count": 2,
   "id": "f9a78557",
   "metadata": {},
   "outputs": [],
   "source": [
    "# Data  \n",
    "demographics = pd.read_csv(\"../data/Demographic Data.csv\", \n",
    "                             encoding='UTF-16', delimiter=\"\\t\")"
   ]
  },
  {
   "cell_type": "markdown",
   "id": "2daaa275",
   "metadata": {},
   "source": [
    "# EXPLANATORY DATA ANALYSIS \n",
    "## Data Assessment"
   ]
  },
  {
   "cell_type": "code",
   "execution_count": 3,
   "id": "70d9465d",
   "metadata": {},
   "outputs": [
    {
     "data": {
      "text/html": [
       "<div>\n",
       "<style scoped>\n",
       "    .dataframe tbody tr th:only-of-type {\n",
       "        vertical-align: middle;\n",
       "    }\n",
       "\n",
       "    .dataframe tbody tr th {\n",
       "        vertical-align: top;\n",
       "    }\n",
       "\n",
       "    .dataframe thead th {\n",
       "        text-align: right;\n",
       "    }\n",
       "</style>\n",
       "<table border=\"1\" class=\"dataframe\">\n",
       "  <thead>\n",
       "    <tr style=\"text-align: right;\">\n",
       "      <th></th>\n",
       "      <th>Chart#</th>\n",
       "      <th>Ethnicity</th>\n",
       "      <th>Race</th>\n",
       "      <th>Gender</th>\n",
       "      <th>Address</th>\n",
       "      <th>City</th>\n",
       "      <th>State</th>\n",
       "      <th>Zipcode</th>\n",
       "      <th>Intake Education Degree</th>\n",
       "      <th>Intake Employment Current Employer</th>\n",
       "      <th>...</th>\n",
       "      <th>Intake Employment Retired</th>\n",
       "      <th>Intake Employment Student</th>\n",
       "      <th>Intake Employment Unemployed</th>\n",
       "      <th>Intake Employment Working</th>\n",
       "      <th>Intake Family Divorced</th>\n",
       "      <th>Intake Family Married</th>\n",
       "      <th>Intake Family Partnered</th>\n",
       "      <th>Intake Family Single</th>\n",
       "      <th>Intake Family Widowed</th>\n",
       "      <th>Unnamed: 21</th>\n",
       "    </tr>\n",
       "  </thead>\n",
       "  <tbody>\n",
       "    <tr>\n",
       "      <th>0</th>\n",
       "      <td>NaN</td>\n",
       "      <td></td>\n",
       "      <td></td>\n",
       "      <td>NaN</td>\n",
       "      <td>NaN</td>\n",
       "      <td>NaN</td>\n",
       "      <td>NaN</td>\n",
       "      <td>NaN</td>\n",
       "      <td></td>\n",
       "      <td></td>\n",
       "      <td>...</td>\n",
       "      <td></td>\n",
       "      <td></td>\n",
       "      <td></td>\n",
       "      <td></td>\n",
       "      <td></td>\n",
       "      <td></td>\n",
       "      <td></td>\n",
       "      <td></td>\n",
       "      <td></td>\n",
       "      <td>NaN</td>\n",
       "    </tr>\n",
       "    <tr>\n",
       "      <th>1</th>\n",
       "      <td>1.0</td>\n",
       "      <td></td>\n",
       "      <td></td>\n",
       "      <td>F</td>\n",
       "      <td>253 NORFOLK STREET</td>\n",
       "      <td>CAMBRIDGE</td>\n",
       "      <td>MA</td>\n",
       "      <td>02139</td>\n",
       "      <td></td>\n",
       "      <td></td>\n",
       "      <td>...</td>\n",
       "      <td></td>\n",
       "      <td></td>\n",
       "      <td></td>\n",
       "      <td></td>\n",
       "      <td></td>\n",
       "      <td></td>\n",
       "      <td></td>\n",
       "      <td></td>\n",
       "      <td></td>\n",
       "      <td>NaN</td>\n",
       "    </tr>\n",
       "    <tr>\n",
       "      <th>2</th>\n",
       "      <td>2.0</td>\n",
       "      <td></td>\n",
       "      <td></td>\n",
       "      <td>F</td>\n",
       "      <td>48 UNION PARK</td>\n",
       "      <td>BOSTON</td>\n",
       "      <td>MA</td>\n",
       "      <td>02118</td>\n",
       "      <td></td>\n",
       "      <td></td>\n",
       "      <td>...</td>\n",
       "      <td></td>\n",
       "      <td></td>\n",
       "      <td></td>\n",
       "      <td></td>\n",
       "      <td></td>\n",
       "      <td></td>\n",
       "      <td></td>\n",
       "      <td></td>\n",
       "      <td></td>\n",
       "      <td>NaN</td>\n",
       "    </tr>\n",
       "    <tr>\n",
       "      <th>3</th>\n",
       "      <td>3.0</td>\n",
       "      <td></td>\n",
       "      <td></td>\n",
       "      <td>M</td>\n",
       "      <td>164 PALMER STREET</td>\n",
       "      <td>ARLINGTON</td>\n",
       "      <td>MA</td>\n",
       "      <td>02474</td>\n",
       "      <td></td>\n",
       "      <td></td>\n",
       "      <td>...</td>\n",
       "      <td></td>\n",
       "      <td></td>\n",
       "      <td></td>\n",
       "      <td></td>\n",
       "      <td></td>\n",
       "      <td></td>\n",
       "      <td></td>\n",
       "      <td></td>\n",
       "      <td></td>\n",
       "      <td>NaN</td>\n",
       "    </tr>\n",
       "    <tr>\n",
       "      <th>4</th>\n",
       "      <td>4.0</td>\n",
       "      <td></td>\n",
       "      <td></td>\n",
       "      <td>F</td>\n",
       "      <td>110 HARTWELL ROAD</td>\n",
       "      <td>BEDFORD</td>\n",
       "      <td>MA</td>\n",
       "      <td>01730</td>\n",
       "      <td></td>\n",
       "      <td></td>\n",
       "      <td>...</td>\n",
       "      <td></td>\n",
       "      <td></td>\n",
       "      <td></td>\n",
       "      <td></td>\n",
       "      <td></td>\n",
       "      <td></td>\n",
       "      <td></td>\n",
       "      <td></td>\n",
       "      <td></td>\n",
       "      <td>NaN</td>\n",
       "    </tr>\n",
       "  </tbody>\n",
       "</table>\n",
       "<p>5 rows × 22 columns</p>\n",
       "</div>"
      ],
      "text/plain": [
       "   Chart# Ethnicity Race Gender             Address       City State Zipcode  \\\n",
       "0     NaN                   NaN                 NaN        NaN   NaN     NaN   \n",
       "1     1.0                     F  253 NORFOLK STREET  CAMBRIDGE    MA   02139   \n",
       "2     2.0                     F       48 UNION PARK     BOSTON    MA   02118   \n",
       "3     3.0                     M   164 PALMER STREET  ARLINGTON    MA   02474   \n",
       "4     4.0                     F   110 HARTWELL ROAD    BEDFORD    MA   01730   \n",
       "\n",
       "  Intake Education Degree Intake Employment Current Employer  ...  \\\n",
       "0                                                             ...   \n",
       "1                                                             ...   \n",
       "2                                                             ...   \n",
       "3                                                             ...   \n",
       "4                                                             ...   \n",
       "\n",
       "  Intake Employment Retired Intake Employment Student  \\\n",
       "0                                                       \n",
       "1                                                       \n",
       "2                                                       \n",
       "3                                                       \n",
       "4                                                       \n",
       "\n",
       "  Intake Employment Unemployed Intake Employment Working  \\\n",
       "0                                                          \n",
       "1                                                          \n",
       "2                                                          \n",
       "3                                                          \n",
       "4                                                          \n",
       "\n",
       "  Intake Family Divorced Intake Family Married Intake Family Partnered  \\\n",
       "0                                                                        \n",
       "1                                                                        \n",
       "2                                                                        \n",
       "3                                                                        \n",
       "4                                                                        \n",
       "\n",
       "  Intake Family Single Intake Family Widowed Unnamed: 21  \n",
       "0                                                    NaN  \n",
       "1                                                    NaN  \n",
       "2                                                    NaN  \n",
       "3                                                    NaN  \n",
       "4                                                    NaN  \n",
       "\n",
       "[5 rows x 22 columns]"
      ]
     },
     "execution_count": 3,
     "metadata": {},
     "output_type": "execute_result"
    }
   ],
   "source": [
    "demographics.head()"
   ]
  },
  {
   "cell_type": "code",
   "execution_count": 4,
   "id": "bdd6afed",
   "metadata": {},
   "outputs": [
    {
     "name": "stdout",
     "output_type": "stream",
     "text": [
      "<class 'pandas.core.frame.DataFrame'>\n",
      "RangeIndex: 2686 entries, 0 to 2685\n",
      "Data columns (total 22 columns):\n",
      " #   Column                              Non-Null Count  Dtype  \n",
      "---  ------                              --------------  -----  \n",
      " 0   Chart#                              2685 non-null   float64\n",
      " 1   Ethnicity                           2686 non-null   object \n",
      " 2   Race                                2686 non-null   object \n",
      " 3   Gender                              2685 non-null   object \n",
      " 4   Address                             2666 non-null   object \n",
      " 5   City                                2663 non-null   object \n",
      " 6   State                               2661 non-null   object \n",
      " 7   Zipcode                             2665 non-null   object \n",
      " 8   Intake Education Degree             2684 non-null   object \n",
      " 9   Intake Employment Current Employer  2580 non-null   object \n",
      " 10  Intake Employment Disabled          2412 non-null   object \n",
      " 11  Intake Employment Occupation        2632 non-null   object \n",
      " 12  Intake Employment Retired           2430 non-null   object \n",
      " 13  Intake Employment Student           2457 non-null   object \n",
      " 14  Intake Employment Unemployed        2438 non-null   object \n",
      " 15  Intake Employment Working           2565 non-null   object \n",
      " 16  Intake Family Divorced              2412 non-null   object \n",
      " 17  Intake Family Married               2507 non-null   object \n",
      " 18  Intake Family Partnered             2425 non-null   object \n",
      " 19  Intake Family Single                2526 non-null   object \n",
      " 20  Intake Family Widowed               2402 non-null   object \n",
      " 21  Unnamed: 21                         0 non-null      float64\n",
      "dtypes: float64(2), object(20)\n",
      "memory usage: 461.8+ KB\n"
     ]
    }
   ],
   "source": [
    "demographics.info()"
   ]
  },
  {
   "cell_type": "code",
   "execution_count": 5,
   "id": "3777e2f5",
   "metadata": {},
   "outputs": [
    {
     "data": {
      "text/plain": [
       "array([' ', 'Not Hispanic or Latino', 'Hispanic or Latino',\n",
       "       'Declined to Specify', 'Unknown'], dtype=object)"
      ]
     },
     "execution_count": 5,
     "metadata": {},
     "output_type": "execute_result"
    }
   ],
   "source": [
    "demographics[\"Ethnicity\"].unique()"
   ]
  },
  {
   "cell_type": "code",
   "execution_count": 6,
   "id": "d69aac4a",
   "metadata": {},
   "outputs": [
    {
     "data": {
      "text/plain": [
       "2685"
      ]
     },
     "execution_count": 6,
     "metadata": {},
     "output_type": "execute_result"
    }
   ],
   "source": [
    "demographics[\"Chart#\"].nunique()"
   ]
  },
  {
   "cell_type": "markdown",
   "id": "3f6c83dd",
   "metadata": {},
   "source": [
    "## Data Wrangling "
   ]
  },
  {
   "cell_type": "code",
   "execution_count": 7,
   "id": "f96b4ac5",
   "metadata": {},
   "outputs": [],
   "source": [
    "# Replace blank values with nan\n",
    "demographics.replace({' ':np.NaN}, inplace=True)"
   ]
  },
  {
   "cell_type": "code",
   "execution_count": 8,
   "id": "4192407c",
   "metadata": {},
   "outputs": [],
   "source": [
    "threshold = 0.5 * demographics.shape[0]\n",
    "\n",
    "# Drops columns with more than 50% null values \n",
    "demographics = demographics.loc[:, demographics.isna().sum() < threshold]"
   ]
  },
  {
   "cell_type": "code",
   "execution_count": 9,
   "id": "ad8054a8",
   "metadata": {},
   "outputs": [
    {
     "data": {
      "text/plain": [
       "(2686, 6)"
      ]
     },
     "execution_count": 9,
     "metadata": {},
     "output_type": "execute_result"
    }
   ],
   "source": [
    "demographics.shape"
   ]
  },
  {
   "cell_type": "code",
   "execution_count": 10,
   "id": "73f0cce4",
   "metadata": {},
   "outputs": [
    {
     "name": "stdout",
     "output_type": "stream",
     "text": [
      "<class 'pandas.core.frame.DataFrame'>\n",
      "RangeIndex: 2686 entries, 0 to 2685\n",
      "Data columns (total 6 columns):\n",
      " #   Column   Non-Null Count  Dtype  \n",
      "---  ------   --------------  -----  \n",
      " 0   Chart#   2685 non-null   float64\n",
      " 1   Gender   2685 non-null   object \n",
      " 2   Address  2666 non-null   object \n",
      " 3   City     2663 non-null   object \n",
      " 4   State    2661 non-null   object \n",
      " 5   Zipcode  2665 non-null   object \n",
      "dtypes: float64(1), object(5)\n",
      "memory usage: 126.0+ KB\n"
     ]
    }
   ],
   "source": [
    "demographics.info()"
   ]
  },
  {
   "cell_type": "code",
   "execution_count": 11,
   "id": "fe302437",
   "metadata": {},
   "outputs": [],
   "source": [
    "# Drop the first row  \n",
    "demographics.drop(index=0, inplace=True)"
   ]
  },
  {
   "cell_type": "code",
   "execution_count": 12,
   "id": "fbe5481c",
   "metadata": {},
   "outputs": [],
   "source": [
    "demographics[\"City\"] = demographics[\"City\"].str.upper()"
   ]
  },
  {
   "cell_type": "markdown",
   "id": "82f1d39d",
   "metadata": {},
   "source": [
    "## Data Analysis and Visualization"
   ]
  },
  {
   "cell_type": "code",
   "execution_count": 13,
   "id": "23bd57f8",
   "metadata": {},
   "outputs": [
    {
     "data": {
      "text/html": [
       "<div>\n",
       "<style scoped>\n",
       "    .dataframe tbody tr th:only-of-type {\n",
       "        vertical-align: middle;\n",
       "    }\n",
       "\n",
       "    .dataframe tbody tr th {\n",
       "        vertical-align: top;\n",
       "    }\n",
       "\n",
       "    .dataframe thead th {\n",
       "        text-align: right;\n",
       "    }\n",
       "</style>\n",
       "<table border=\"1\" class=\"dataframe\">\n",
       "  <thead>\n",
       "    <tr style=\"text-align: right;\">\n",
       "      <th></th>\n",
       "      <th>Chart#</th>\n",
       "      <th>Gender</th>\n",
       "      <th>Address</th>\n",
       "      <th>City</th>\n",
       "      <th>State</th>\n",
       "      <th>Zipcode</th>\n",
       "    </tr>\n",
       "  </thead>\n",
       "  <tbody>\n",
       "    <tr>\n",
       "      <th>1</th>\n",
       "      <td>1.0</td>\n",
       "      <td>F</td>\n",
       "      <td>253 NORFOLK STREET</td>\n",
       "      <td>CAMBRIDGE</td>\n",
       "      <td>MA</td>\n",
       "      <td>02139</td>\n",
       "    </tr>\n",
       "    <tr>\n",
       "      <th>2</th>\n",
       "      <td>2.0</td>\n",
       "      <td>F</td>\n",
       "      <td>48 UNION PARK</td>\n",
       "      <td>BOSTON</td>\n",
       "      <td>MA</td>\n",
       "      <td>02118</td>\n",
       "    </tr>\n",
       "    <tr>\n",
       "      <th>3</th>\n",
       "      <td>3.0</td>\n",
       "      <td>M</td>\n",
       "      <td>164 PALMER STREET</td>\n",
       "      <td>ARLINGTON</td>\n",
       "      <td>MA</td>\n",
       "      <td>02474</td>\n",
       "    </tr>\n",
       "    <tr>\n",
       "      <th>4</th>\n",
       "      <td>4.0</td>\n",
       "      <td>F</td>\n",
       "      <td>110 HARTWELL ROAD</td>\n",
       "      <td>BEDFORD</td>\n",
       "      <td>MA</td>\n",
       "      <td>01730</td>\n",
       "    </tr>\n",
       "    <tr>\n",
       "      <th>5</th>\n",
       "      <td>5.0</td>\n",
       "      <td>M</td>\n",
       "      <td>613A EAST 8TH STREET</td>\n",
       "      <td>BOSTON</td>\n",
       "      <td>MA</td>\n",
       "      <td>02127</td>\n",
       "    </tr>\n",
       "  </tbody>\n",
       "</table>\n",
       "</div>"
      ],
      "text/plain": [
       "   Chart# Gender               Address       City State Zipcode\n",
       "1     1.0      F    253 NORFOLK STREET  CAMBRIDGE    MA   02139\n",
       "2     2.0      F         48 UNION PARK     BOSTON    MA   02118\n",
       "3     3.0      M     164 PALMER STREET  ARLINGTON    MA   02474\n",
       "4     4.0      F     110 HARTWELL ROAD    BEDFORD    MA   01730\n",
       "5     5.0      M  613A EAST 8TH STREET     BOSTON    MA   02127"
      ]
     },
     "execution_count": 13,
     "metadata": {},
     "output_type": "execute_result"
    }
   ],
   "source": [
    "demographics.head()"
   ]
  },
  {
   "cell_type": "code",
   "execution_count": 14,
   "id": "288ef9ce",
   "metadata": {},
   "outputs": [
    {
     "data": {
      "text/plain": [
       "State\n",
       "MA    2373\n",
       "NH      51\n",
       "NY      44\n",
       "RI      36\n",
       "CT      20\n",
       "CA      19\n",
       "VT      17\n",
       "ME      16\n",
       "NJ      12\n",
       "PA      11\n",
       "MD       7\n",
       "TX       6\n",
       "FL       6\n",
       "VA       5\n",
       "UT       4\n",
       "TN       3\n",
       "NC       3\n",
       "OH       3\n",
       "MI       2\n",
       "PR       2\n",
       "ON       2\n",
       "WA       2\n",
       "MO       2\n",
       "CO       2\n",
       "IL       2\n",
       "MN       2\n",
       "PO       1\n",
       "NM       1\n",
       "KS       1\n",
       "IN       1\n",
       "DV       1\n",
       "SC       1\n",
       "GU       1\n",
       "WY       1\n",
       "LA       1\n",
       "Name: count, dtype: int64"
      ]
     },
     "execution_count": 14,
     "metadata": {},
     "output_type": "execute_result"
    }
   ],
   "source": [
    "demographics[\"State\"].value_counts()"
   ]
  },
  {
   "cell_type": "code",
   "execution_count": 15,
   "id": "96eb6635",
   "metadata": {},
   "outputs": [
    {
     "data": {
      "text/plain": [
       "City\n",
       "CAMBRIDGE         328\n",
       "BOSTON            255\n",
       "SOMERVILLE        166\n",
       "ARLINGTON          65\n",
       "JAMAICA PLAIN      61\n",
       "                 ... \n",
       "EAST GREENWICH      1\n",
       "MATTAPOISETT        1\n",
       "ROSLYN              1\n",
       "MENLO PARK          1\n",
       "WEST DOVER          1\n",
       "Name: count, Length: 477, dtype: int64"
      ]
     },
     "execution_count": 15,
     "metadata": {},
     "output_type": "execute_result"
    }
   ],
   "source": [
    "demographics[\"City\"].value_counts()"
   ]
  },
  {
   "cell_type": "markdown",
   "id": "7d4cff9d",
   "metadata": {},
   "source": [
    "Most of the patients come from Cambridge, SomerVille and Boston. Lets find out what before mid-2023 what cities patients came from in Cambridge facilities "
   ]
  },
  {
   "cell_type": "code",
   "execution_count": 16,
   "id": "36b0d829",
   "metadata": {},
   "outputs": [
    {
     "name": "stderr",
     "output_type": "stream",
     "text": [
      "/tmp/ipykernel_35361/2565336536.py:4: DtypeWarning: Columns (3) have mixed types. Specify dtype option on import or set low_memory=False.\n",
      "  appointments = pd.read_csv(\"../data/Appointments List.csv\",\n",
      "/tmp/ipykernel_35361/2565336536.py:15: UserWarning: Could not infer format, so each element will be parsed individually, falling back to `dateutil`. To ensure parsing is consistent and as-expected, please specify a format.\n",
      "  appointments[\"Date\"] = pd.to_datetime(appointments[\"Date Of Service\"], errors=\"coerce\")\n"
     ]
    }
   ],
   "source": [
    "# Load the appointment data \n",
    "required_columns = ['Date Of Service', 'Appt Status Description','Chartnumber', 'Appt Type Group', 'Facility City']\n",
    "\n",
    "appointments = pd.read_csv(\"../data/Appointments List.csv\",\n",
    "                          encoding='UTF-16', delimiter=\"\\t\",\n",
    "                          usecols=required_columns)\n",
    "\n",
    "# Remove the first row\n",
    "appointments.drop(index=0, inplace=True)\n",
    "\n",
    "# Convert the chart number in appointments to numeric \n",
    "appointments[\"Chartnumber\"] = pd.to_numeric(appointments[\"Chartnumber\"], errors='coerce')\n",
    "\n",
    "# Convert date of appointment to datetime object\n",
    "appointments[\"Date\"] = pd.to_datetime(appointments[\"Date Of Service\"], errors=\"coerce\")\n",
    "\n",
    "\n",
    "# join with the demographics data \n",
    "df = pd.merge(left=appointments, right=demographics, \n",
    "             left_on=\"Chartnumber\", right_on=\"Chart#\")\n"
   ]
  },
  {
   "cell_type": "code",
   "execution_count": 17,
   "id": "4d2c5978",
   "metadata": {},
   "outputs": [],
   "source": [
    "assert df[\"Chartnumber\"].equals(df[\"Chart#\"])\n",
    "df.drop([\"Chartnumber\",\"Date Of Service\"], axis=1, inplace=True)"
   ]
  },
  {
   "cell_type": "code",
   "execution_count": 18,
   "id": "5038a3a9",
   "metadata": {},
   "outputs": [
    {
     "data": {
      "text/html": [
       "<div>\n",
       "<style scoped>\n",
       "    .dataframe tbody tr th:only-of-type {\n",
       "        vertical-align: middle;\n",
       "    }\n",
       "\n",
       "    .dataframe tbody tr th {\n",
       "        vertical-align: top;\n",
       "    }\n",
       "\n",
       "    .dataframe thead th {\n",
       "        text-align: right;\n",
       "    }\n",
       "</style>\n",
       "<table border=\"1\" class=\"dataframe\">\n",
       "  <thead>\n",
       "    <tr style=\"text-align: right;\">\n",
       "      <th></th>\n",
       "      <th>Appt Status Description</th>\n",
       "      <th>Appt Type Group</th>\n",
       "      <th>Facility City</th>\n",
       "      <th>Date</th>\n",
       "      <th>Chart#</th>\n",
       "      <th>Gender</th>\n",
       "      <th>Address</th>\n",
       "      <th>City</th>\n",
       "      <th>State</th>\n",
       "      <th>Zipcode</th>\n",
       "    </tr>\n",
       "  </thead>\n",
       "  <tbody>\n",
       "    <tr>\n",
       "      <th>0</th>\n",
       "      <td>Seen</td>\n",
       "      <td>Intake</td>\n",
       "      <td>CAMBRIDGE</td>\n",
       "      <td>2018-01-22</td>\n",
       "      <td>1.0</td>\n",
       "      <td>F</td>\n",
       "      <td>253 NORFOLK STREET</td>\n",
       "      <td>CAMBRIDGE</td>\n",
       "      <td>MA</td>\n",
       "      <td>02139</td>\n",
       "    </tr>\n",
       "    <tr>\n",
       "      <th>1</th>\n",
       "      <td>Seen</td>\n",
       "      <td>TMS</td>\n",
       "      <td>CAMBRIDGE</td>\n",
       "      <td>2018-02-05</td>\n",
       "      <td>1.0</td>\n",
       "      <td>F</td>\n",
       "      <td>253 NORFOLK STREET</td>\n",
       "      <td>CAMBRIDGE</td>\n",
       "      <td>MA</td>\n",
       "      <td>02139</td>\n",
       "    </tr>\n",
       "    <tr>\n",
       "      <th>2</th>\n",
       "      <td>Seen</td>\n",
       "      <td>TMS</td>\n",
       "      <td>CAMBRIDGE</td>\n",
       "      <td>2018-02-06</td>\n",
       "      <td>1.0</td>\n",
       "      <td>F</td>\n",
       "      <td>253 NORFOLK STREET</td>\n",
       "      <td>CAMBRIDGE</td>\n",
       "      <td>MA</td>\n",
       "      <td>02139</td>\n",
       "    </tr>\n",
       "    <tr>\n",
       "      <th>3</th>\n",
       "      <td>Seen</td>\n",
       "      <td>TMS</td>\n",
       "      <td>CAMBRIDGE</td>\n",
       "      <td>2018-02-07</td>\n",
       "      <td>1.0</td>\n",
       "      <td>F</td>\n",
       "      <td>253 NORFOLK STREET</td>\n",
       "      <td>CAMBRIDGE</td>\n",
       "      <td>MA</td>\n",
       "      <td>02139</td>\n",
       "    </tr>\n",
       "    <tr>\n",
       "      <th>4</th>\n",
       "      <td>Seen</td>\n",
       "      <td>TMS</td>\n",
       "      <td>CAMBRIDGE</td>\n",
       "      <td>2018-02-08</td>\n",
       "      <td>1.0</td>\n",
       "      <td>F</td>\n",
       "      <td>253 NORFOLK STREET</td>\n",
       "      <td>CAMBRIDGE</td>\n",
       "      <td>MA</td>\n",
       "      <td>02139</td>\n",
       "    </tr>\n",
       "  </tbody>\n",
       "</table>\n",
       "</div>"
      ],
      "text/plain": [
       "  Appt Status Description Appt Type Group Facility City       Date  Chart#  \\\n",
       "0                    Seen          Intake     CAMBRIDGE 2018-01-22     1.0   \n",
       "1                    Seen             TMS     CAMBRIDGE 2018-02-05     1.0   \n",
       "2                    Seen             TMS     CAMBRIDGE 2018-02-06     1.0   \n",
       "3                    Seen             TMS     CAMBRIDGE 2018-02-07     1.0   \n",
       "4                    Seen             TMS     CAMBRIDGE 2018-02-08     1.0   \n",
       "\n",
       "  Gender             Address       City State Zipcode  \n",
       "0      F  253 NORFOLK STREET  CAMBRIDGE    MA   02139  \n",
       "1      F  253 NORFOLK STREET  CAMBRIDGE    MA   02139  \n",
       "2      F  253 NORFOLK STREET  CAMBRIDGE    MA   02139  \n",
       "3      F  253 NORFOLK STREET  CAMBRIDGE    MA   02139  \n",
       "4      F  253 NORFOLK STREET  CAMBRIDGE    MA   02139  "
      ]
     },
     "execution_count": 18,
     "metadata": {},
     "output_type": "execute_result"
    }
   ],
   "source": [
    "df.head()"
   ]
  },
  {
   "cell_type": "code",
   "execution_count": 19,
   "id": "56a7adb6",
   "metadata": {},
   "outputs": [
    {
     "data": {
      "text/html": [
       "<div>\n",
       "<style scoped>\n",
       "    .dataframe tbody tr th:only-of-type {\n",
       "        vertical-align: middle;\n",
       "    }\n",
       "\n",
       "    .dataframe tbody tr th {\n",
       "        vertical-align: top;\n",
       "    }\n",
       "\n",
       "    .dataframe thead th {\n",
       "        text-align: right;\n",
       "    }\n",
       "</style>\n",
       "<table border=\"1\" class=\"dataframe\">\n",
       "  <thead>\n",
       "    <tr style=\"text-align: right;\">\n",
       "      <th></th>\n",
       "      <th>Appt Status Description</th>\n",
       "      <th>Appt Type Group</th>\n",
       "      <th>Facility City</th>\n",
       "      <th>Date</th>\n",
       "      <th>Chart#</th>\n",
       "      <th>Gender</th>\n",
       "      <th>Address</th>\n",
       "      <th>City</th>\n",
       "      <th>State</th>\n",
       "      <th>Zipcode</th>\n",
       "    </tr>\n",
       "  </thead>\n",
       "  <tbody>\n",
       "    <tr>\n",
       "      <th>0</th>\n",
       "      <td>Seen</td>\n",
       "      <td>MH Infusion</td>\n",
       "      <td>CAMBRIDGE</td>\n",
       "      <td>2018-01-22</td>\n",
       "      <td>2.0</td>\n",
       "      <td>F</td>\n",
       "      <td>48 UNION PARK</td>\n",
       "      <td>BOSTON</td>\n",
       "      <td>MA</td>\n",
       "      <td>02118</td>\n",
       "    </tr>\n",
       "    <tr>\n",
       "      <th>1</th>\n",
       "      <td>Seen</td>\n",
       "      <td>MH Infusion</td>\n",
       "      <td>CAMBRIDGE</td>\n",
       "      <td>2018-02-02</td>\n",
       "      <td>2.0</td>\n",
       "      <td>F</td>\n",
       "      <td>48 UNION PARK</td>\n",
       "      <td>BOSTON</td>\n",
       "      <td>MA</td>\n",
       "      <td>02118</td>\n",
       "    </tr>\n",
       "    <tr>\n",
       "      <th>2</th>\n",
       "      <td>Seen</td>\n",
       "      <td>MH Infusion</td>\n",
       "      <td>CAMBRIDGE</td>\n",
       "      <td>2018-02-02</td>\n",
       "      <td>2.0</td>\n",
       "      <td>F</td>\n",
       "      <td>48 UNION PARK</td>\n",
       "      <td>BOSTON</td>\n",
       "      <td>MA</td>\n",
       "      <td>02118</td>\n",
       "    </tr>\n",
       "    <tr>\n",
       "      <th>3</th>\n",
       "      <td>Seen</td>\n",
       "      <td>MH Infusion</td>\n",
       "      <td>CAMBRIDGE</td>\n",
       "      <td>2018-02-02</td>\n",
       "      <td>2.0</td>\n",
       "      <td>F</td>\n",
       "      <td>48 UNION PARK</td>\n",
       "      <td>BOSTON</td>\n",
       "      <td>MA</td>\n",
       "      <td>02118</td>\n",
       "    </tr>\n",
       "    <tr>\n",
       "      <th>4</th>\n",
       "      <td>Seen</td>\n",
       "      <td>MH Infusion</td>\n",
       "      <td>CAMBRIDGE</td>\n",
       "      <td>2018-02-05</td>\n",
       "      <td>2.0</td>\n",
       "      <td>F</td>\n",
       "      <td>48 UNION PARK</td>\n",
       "      <td>BOSTON</td>\n",
       "      <td>MA</td>\n",
       "      <td>02118</td>\n",
       "    </tr>\n",
       "  </tbody>\n",
       "</table>\n",
       "</div>"
      ],
      "text/plain": [
       "  Appt Status Description Appt Type Group Facility City       Date  Chart#  \\\n",
       "0                    Seen     MH Infusion     CAMBRIDGE 2018-01-22     2.0   \n",
       "1                    Seen     MH Infusion     CAMBRIDGE 2018-02-02     2.0   \n",
       "2                    Seen     MH Infusion     CAMBRIDGE 2018-02-02     2.0   \n",
       "3                    Seen     MH Infusion     CAMBRIDGE 2018-02-02     2.0   \n",
       "4                    Seen     MH Infusion     CAMBRIDGE 2018-02-05     2.0   \n",
       "\n",
       "  Gender        Address    City State Zipcode  \n",
       "0      F  48 UNION PARK  BOSTON    MA   02118  \n",
       "1      F  48 UNION PARK  BOSTON    MA   02118  \n",
       "2      F  48 UNION PARK  BOSTON    MA   02118  \n",
       "3      F  48 UNION PARK  BOSTON    MA   02118  \n",
       "4      F  48 UNION PARK  BOSTON    MA   02118  "
      ]
     },
     "execution_count": 19,
     "metadata": {},
     "output_type": "execute_result"
    }
   ],
   "source": [
    "# Get the appointments in cambridge with a successfull MH infusions \n",
    "cambridge_mh_success = df[(df[\"Appt Status Description\"]==\"Seen\")\\\n",
    "               &(df[\"Facility City\"]==\"CAMBRIDGE\")\\\n",
    "               &(df[\"Appt Type Group\"]==\"MH Infusion\")].reset_index(drop=True)\n",
    "cambridge_mh_success.head()"
   ]
  },
  {
   "cell_type": "code",
   "execution_count": 20,
   "id": "54365485",
   "metadata": {},
   "outputs": [],
   "source": [
    "# get the data before and after mid-2023\n",
    "decided_date = pd.to_datetime(\"2023-06-01\")\n",
    "\n",
    "cambridge_mh_success_before_mid_2023 = cambridge_mh_success[cambridge_mh_success[\"Date\"]<decided_date].reset_index(drop=True)\n",
    "cambridge_mh_success_after_mid_2023 = cambridge_mh_success[cambridge_mh_success[\"Date\"]>=decided_date].reset_index(drop=True)"
   ]
  },
  {
   "cell_type": "code",
   "execution_count": 22,
   "id": "9a0e8b76",
   "metadata": {},
   "outputs": [
    {
     "data": {
      "text/html": [
       "<div>\n",
       "<style scoped>\n",
       "    .dataframe tbody tr th:only-of-type {\n",
       "        vertical-align: middle;\n",
       "    }\n",
       "\n",
       "    .dataframe tbody tr th {\n",
       "        vertical-align: top;\n",
       "    }\n",
       "\n",
       "    .dataframe thead th {\n",
       "        text-align: right;\n",
       "    }\n",
       "</style>\n",
       "<table border=\"1\" class=\"dataframe\">\n",
       "  <thead>\n",
       "    <tr style=\"text-align: right;\">\n",
       "      <th></th>\n",
       "      <th>Appt Status Description</th>\n",
       "      <th>Appt Type Group</th>\n",
       "      <th>Facility City</th>\n",
       "      <th>Date</th>\n",
       "      <th>Chart#</th>\n",
       "      <th>Gender</th>\n",
       "      <th>Address</th>\n",
       "      <th>City</th>\n",
       "      <th>State</th>\n",
       "      <th>Zipcode</th>\n",
       "    </tr>\n",
       "  </thead>\n",
       "  <tbody>\n",
       "    <tr>\n",
       "      <th>0</th>\n",
       "      <td>Seen</td>\n",
       "      <td>MH Infusion</td>\n",
       "      <td>CAMBRIDGE</td>\n",
       "      <td>2023-09-12</td>\n",
       "      <td>59.0</td>\n",
       "      <td>M</td>\n",
       "      <td>8 WHITTIER PLACE UNIT15D</td>\n",
       "      <td>BOSTON</td>\n",
       "      <td>MA</td>\n",
       "      <td>02114</td>\n",
       "    </tr>\n",
       "    <tr>\n",
       "      <th>1</th>\n",
       "      <td>Seen</td>\n",
       "      <td>MH Infusion</td>\n",
       "      <td>CAMBRIDGE</td>\n",
       "      <td>2023-09-15</td>\n",
       "      <td>59.0</td>\n",
       "      <td>M</td>\n",
       "      <td>8 WHITTIER PLACE UNIT15D</td>\n",
       "      <td>BOSTON</td>\n",
       "      <td>MA</td>\n",
       "      <td>02114</td>\n",
       "    </tr>\n",
       "    <tr>\n",
       "      <th>2</th>\n",
       "      <td>Seen</td>\n",
       "      <td>MH Infusion</td>\n",
       "      <td>CAMBRIDGE</td>\n",
       "      <td>2023-09-18</td>\n",
       "      <td>59.0</td>\n",
       "      <td>M</td>\n",
       "      <td>8 WHITTIER PLACE UNIT15D</td>\n",
       "      <td>BOSTON</td>\n",
       "      <td>MA</td>\n",
       "      <td>02114</td>\n",
       "    </tr>\n",
       "    <tr>\n",
       "      <th>3</th>\n",
       "      <td>Seen</td>\n",
       "      <td>MH Infusion</td>\n",
       "      <td>CAMBRIDGE</td>\n",
       "      <td>2023-09-20</td>\n",
       "      <td>59.0</td>\n",
       "      <td>M</td>\n",
       "      <td>8 WHITTIER PLACE UNIT15D</td>\n",
       "      <td>BOSTON</td>\n",
       "      <td>MA</td>\n",
       "      <td>02114</td>\n",
       "    </tr>\n",
       "    <tr>\n",
       "      <th>4</th>\n",
       "      <td>Seen</td>\n",
       "      <td>MH Infusion</td>\n",
       "      <td>CAMBRIDGE</td>\n",
       "      <td>2023-09-25</td>\n",
       "      <td>59.0</td>\n",
       "      <td>M</td>\n",
       "      <td>8 WHITTIER PLACE UNIT15D</td>\n",
       "      <td>BOSTON</td>\n",
       "      <td>MA</td>\n",
       "      <td>02114</td>\n",
       "    </tr>\n",
       "    <tr>\n",
       "      <th>...</th>\n",
       "      <td>...</td>\n",
       "      <td>...</td>\n",
       "      <td>...</td>\n",
       "      <td>...</td>\n",
       "      <td>...</td>\n",
       "      <td>...</td>\n",
       "      <td>...</td>\n",
       "      <td>...</td>\n",
       "      <td>...</td>\n",
       "      <td>...</td>\n",
       "    </tr>\n",
       "    <tr>\n",
       "      <th>3716</th>\n",
       "      <td>Seen</td>\n",
       "      <td>MH Infusion</td>\n",
       "      <td>CAMBRIDGE</td>\n",
       "      <td>2024-11-08</td>\n",
       "      <td>2647.0</td>\n",
       "      <td>M</td>\n",
       "      <td>45 Burnett St</td>\n",
       "      <td>JAMAICA PLAIN</td>\n",
       "      <td>MA</td>\n",
       "      <td>02130</td>\n",
       "    </tr>\n",
       "    <tr>\n",
       "      <th>3717</th>\n",
       "      <td>Seen</td>\n",
       "      <td>MH Infusion</td>\n",
       "      <td>CAMBRIDGE</td>\n",
       "      <td>2024-11-11</td>\n",
       "      <td>2647.0</td>\n",
       "      <td>M</td>\n",
       "      <td>45 Burnett St</td>\n",
       "      <td>JAMAICA PLAIN</td>\n",
       "      <td>MA</td>\n",
       "      <td>02130</td>\n",
       "    </tr>\n",
       "    <tr>\n",
       "      <th>3718</th>\n",
       "      <td>Seen</td>\n",
       "      <td>MH Infusion</td>\n",
       "      <td>CAMBRIDGE</td>\n",
       "      <td>2024-11-14</td>\n",
       "      <td>2647.0</td>\n",
       "      <td>M</td>\n",
       "      <td>45 Burnett St</td>\n",
       "      <td>JAMAICA PLAIN</td>\n",
       "      <td>MA</td>\n",
       "      <td>02130</td>\n",
       "    </tr>\n",
       "    <tr>\n",
       "      <th>3719</th>\n",
       "      <td>Seen</td>\n",
       "      <td>MH Infusion</td>\n",
       "      <td>CAMBRIDGE</td>\n",
       "      <td>2024-11-08</td>\n",
       "      <td>2661.0</td>\n",
       "      <td>F</td>\n",
       "      <td>46 Black Burnian Road</td>\n",
       "      <td>WESTON</td>\n",
       "      <td>MA</td>\n",
       "      <td>02493</td>\n",
       "    </tr>\n",
       "    <tr>\n",
       "      <th>3720</th>\n",
       "      <td>Seen</td>\n",
       "      <td>MH Infusion</td>\n",
       "      <td>CAMBRIDGE</td>\n",
       "      <td>2024-11-14</td>\n",
       "      <td>2661.0</td>\n",
       "      <td>F</td>\n",
       "      <td>46 Black Burnian Road</td>\n",
       "      <td>WESTON</td>\n",
       "      <td>MA</td>\n",
       "      <td>02493</td>\n",
       "    </tr>\n",
       "  </tbody>\n",
       "</table>\n",
       "<p>3721 rows × 10 columns</p>\n",
       "</div>"
      ],
      "text/plain": [
       "     Appt Status Description Appt Type Group Facility City       Date  Chart#  \\\n",
       "0                       Seen     MH Infusion     CAMBRIDGE 2023-09-12    59.0   \n",
       "1                       Seen     MH Infusion     CAMBRIDGE 2023-09-15    59.0   \n",
       "2                       Seen     MH Infusion     CAMBRIDGE 2023-09-18    59.0   \n",
       "3                       Seen     MH Infusion     CAMBRIDGE 2023-09-20    59.0   \n",
       "4                       Seen     MH Infusion     CAMBRIDGE 2023-09-25    59.0   \n",
       "...                      ...             ...           ...        ...     ...   \n",
       "3716                    Seen     MH Infusion     CAMBRIDGE 2024-11-08  2647.0   \n",
       "3717                    Seen     MH Infusion     CAMBRIDGE 2024-11-11  2647.0   \n",
       "3718                    Seen     MH Infusion     CAMBRIDGE 2024-11-14  2647.0   \n",
       "3719                    Seen     MH Infusion     CAMBRIDGE 2024-11-08  2661.0   \n",
       "3720                    Seen     MH Infusion     CAMBRIDGE 2024-11-14  2661.0   \n",
       "\n",
       "     Gender                   Address           City State Zipcode  \n",
       "0         M  8 WHITTIER PLACE UNIT15D         BOSTON    MA   02114  \n",
       "1         M  8 WHITTIER PLACE UNIT15D         BOSTON    MA   02114  \n",
       "2         M  8 WHITTIER PLACE UNIT15D         BOSTON    MA   02114  \n",
       "3         M  8 WHITTIER PLACE UNIT15D         BOSTON    MA   02114  \n",
       "4         M  8 WHITTIER PLACE UNIT15D         BOSTON    MA   02114  \n",
       "...     ...                       ...            ...   ...     ...  \n",
       "3716      M             45 Burnett St  JAMAICA PLAIN    MA   02130  \n",
       "3717      M             45 Burnett St  JAMAICA PLAIN    MA   02130  \n",
       "3718      M             45 Burnett St  JAMAICA PLAIN    MA   02130  \n",
       "3719      F     46 Black Burnian Road         WESTON    MA   02493  \n",
       "3720      F     46 Black Burnian Road         WESTON    MA   02493  \n",
       "\n",
       "[3721 rows x 10 columns]"
      ]
     },
     "execution_count": 22,
     "metadata": {},
     "output_type": "execute_result"
    }
   ],
   "source": [
    "cambridge_mh_success_after_mid_2023"
   ]
  },
  {
   "cell_type": "markdown",
   "id": "d1c11a93",
   "metadata": {},
   "source": [
    "## Data Visualization"
   ]
  },
  {
   "cell_type": "code",
   "execution_count": 31,
   "id": "dffcefb7",
   "metadata": {},
   "outputs": [
    {
     "data": {
      "text/plain": [
       "<Axes: xlabel='City'>"
      ]
     },
     "execution_count": 31,
     "metadata": {},
     "output_type": "execute_result"
    },
    {
     "data": {
      "image/png": "[encoded data removed]",
      "text/plain": [
       "<Figure size 640x480 with 1 Axes>"
      ]
     },
     "metadata": {},
     "output_type": "display_data"
    }
   ],
   "source": [
    "cambridge_mh_success_after_mid_2023[\"City\"].value_counts()[:10].plot(kind=\"bar\")"
   ]
  },
  {
   "cell_type": "code",
   "execution_count": 30,
   "id": "b150ffe5",
   "metadata": {
    "scrolled": true
   },
   "outputs": [
    {
     "data": {
      "text/plain": [
       "<Axes: xlabel='City'>"
      ]
     },
     "execution_count": 30,
     "metadata": {},
     "output_type": "execute_result"
    },
    {
     "data": {
      "image/png": "[encoded data removed]",
      "text/plain": [
       "<Figure size 640x480 with 1 Axes>"
      ]
     },
     "metadata": {},
     "output_type": "display_data"
    }
   ],
   "source": [
    "cambridge_mh_success_before_mid_2023[\"City\"].value_counts()[:10].plot(kind=\"bar\")"
   ]
  },
  {
   "cell_type": "code",
   "execution_count": null,
   "id": "76ce2b16",
   "metadata": {},
   "outputs": [],
   "source": []
  }
 ],
 "metadata": {
  "kernelspec": {
   "display_name": "Python 3 (ipykernel)",
   "language": "python",
   "name": "python3"
  },
  "language_info": {
   "codemirror_mode": {
    "name": "ipython",
    "version": 3
   },
   "file_extension": ".py",
   "mimetype": "text/x-python",
   "name": "python",
   "nbconvert_exporter": "python",
   "pygments_lexer": "ipython3",
   "version": "3.11.5"
  }
 },
 "nbformat": 4,
 "nbformat_minor": 5
}
