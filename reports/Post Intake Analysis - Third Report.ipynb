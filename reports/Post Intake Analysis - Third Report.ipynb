{
 "cells": [
  {
   "cell_type": "markdown",
   "id": "e09b4719",
   "metadata": {},
   "source": [
    "# INTRODUCTION "
   ]
  },
  {
   "cell_type": "markdown",
   "id": "202f6ac8",
   "metadata": {},
   "source": [
    "Recently we did the regression analysis on MH infusion and overall appointment trends, and payment analysis. We noticed that one of the issues that led to the drop of MH infusion was increase in the pricing of services. This time we are focusing on what happened after intake(post-intake) and the intake process itself.\n",
    "\n",
    "The aim of this project is to find how the patients and the facilities interacted after intake like the frequency of visiting, delay of services and change of health facility. Also, the results will be checked against time. All these, will enable to find patterns that can explain a steep decline of MH infusion and provide actionable insights\n",
    "\n",
    "**Objectives**\n",
    "\n",
    "Here are the questions that were asked before conducting the analysis; \n",
    "\n",
    "- How the long did it take the patients to receive their first service after intake?\n",
    "- How the long did it take the patients to receive their first MH infusion after intake?\n",
    "- How many days did it take to get the succeeding service? Are there any delays that are connected with MH infusion drop? (Delays increasing or reducing rapidly since mid of 2023). \n",
    "- Are patients preferring other facilities outside Cambridge after their intake?\n",
    "- Are there enough campaigns and conversions? This will be determine by the number of intakes over time. \n",
    "- How many MH infusions do patients take? Compare by their segments and facility city\n"
   ]
  },
  {
   "cell_type": "markdown",
   "id": "a99ba7e3",
   "metadata": {},
   "source": [
    "# EXPLANATORY DATA ANALYSIS \n",
    "## Data Preparation "
   ]
  },
  {
   "cell_type": "markdown",
   "id": "62916983",
   "metadata": {},
   "source": [
    "There were two data sets used to make this project a success, they were `seen_df` and post intake data. The following steps were therefore taken in data preparation;\n",
    "\n",
    "- The first data set, `seen_df` was prepared by selecting only the successfull appointments. \n",
    "- Extracted the following features from the previous data sets to include in the post intake data\n",
    "\n",
    "    * First Service after enrollment\n",
    "    * First Service after intake\n",
    "    * Days after intake\n",
    "    * Days between MH Infusion and Intake \n",
    "    * Number of visits\n",
    "    * Number of MH infusions\n",
    "    * Number of MH infusions outside cambridge \n",
    "    * Number of visits outside cambridge\n",
    "    \n",
    "- Removed records with null values and duplicates where necessary.\n",
    "- Segmented the patients as before, `all-time`, `before_mid2023`, `late-2023` and `2024` patients. "
   ]
  },
  {
   "cell_type": "markdown",
   "id": "584a33a6",
   "metadata": {},
   "source": [
    "## Data Analysis\n",
    "### Post-Intake Delays"
   ]
  },
  {
   "cell_type": "markdown",
   "id": "107e356e",
   "metadata": {},
   "source": [
    "The length of time(in days) that it took the patients to receive their first service was to be investigated. Spread and disitribution of days were plotted on a boxplots and compared among the patients' segments. Also, they were compared between those patients that had their intake(admitted) in and outside Cambridge facilities. \n",
    "\n",
    "![image](/home/the-ape/CurrentProjects/upwork/CambridgeBiotherapies/infusion-volume-analysis/images/post-intake-services-boxplot.png)\n",
    "![](../images/post-intake-services-boxplot.png)\n",
    "\n",
    "Lets compute the average and standard deviation and compare again ...\n",
    "\n",
    "![image](/home/the-ape/CurrentProjects/upwork/CambridgeBiotherapies/infusion-volume-analysis/images/post-intake-services-barplot.png)\n",
    "![](../images/post-intake-services-barplot.png)"
   ]
  },
  {
   "cell_type": "markdown",
   "id": "a71ae5cc",
   "metadata": {},
   "source": [
    "We understand from the first time series analysis, MH infusions started dropping in mid 2023 the situation worsened in 2024 especially in the Cambridge facility. Therefore the findings, insights and recommendations are based on that context\n",
    "\n",
    "**Findings**\n",
    "\n",
    "- Patients in the late 2023 category had the least post-intake service delays. This might have been attributed due to the short timeframe - note that these patients received their services in a span of only six months. \n",
    "- The 2024 category had a higher delay periods than the before mid-2023 patients(Outside Cambridge). Keep in mind that the patients from the former category had barely received the services for a year while the later category received services for more than 5 years.\n",
    "- \"All time\" patients in all facilities had delayed most before receiving their first service after intake. \n",
    "\n",
    "### Post-intake MH Infusion Delays\n",
    "\n",
    "Before providing insights based on these findings, the same analysis was repeated for the delay (in days) between first MH infusion and Intake for the patients. \n",
    "\n",
    "![image](/home/the-ape/CurrentProjects/upwork/CambridgeBiotherapies/infusion-volume-analysis/images/post-intake-MHinfusion-boxplot.png)\n",
    "![](../images/post-intake-MHinfusion-boxplot.png)\n",
    "\n",
    "Lets repeat the same with bar\n",
    "\n",
    "![image](/home/the-ape/CurrentProjects/upwork/CambridgeBiotherapies/infusion-volume-analysis/images/post-intake-MHinfusion-barplot.png)\n",
    "![](../images/post-intake-MHinfusion-barplot.png)\n",
    "\n",
    "**Findings**\n",
    "\n",
    "- Patients that had intake from Cambridge had to wait relatively longer to get their first MH infusion after intake compared to facilities in other cities\n",
    "- Patients who joined in 2024 waited longer to have their first MH infusion than all time patients and the ones before mid 2023. \n",
    "- Patients in late 2023 waited the least. It is practically imposible for them to have longer waiting period since they are the segments that had their first and last service in a span of 6 months (From beginning of July to the end-year).\n",
    "\n",
    "In Overall, the number of days for patients to get their first MH infusion is almost the same in comparison to their number of days to receive the first service(any). Lets just crosscheck if most of the services the patients received after intake consisted of MH infusion\n",
    "\n",
    "![image](/home/the-ape/CurrentProjects/upwork/CambridgeBiotherapies/infusion-volume-analysis/images/post-intake-services-piechart.png)\n",
    "![image](../images/post-intake-services-piechart.png)\n",
    "\n",
    "The chart above explains why the data of first post-intake service and MH infusions are the same. MH infusion comprises of approximately 74% of the total services after intake.\n",
    "\n",
    "<span style=\"color: orange;\">**Insight**</span>: Patients need to be given more time after intake before receiving their first service. This may be as a result of \n",
    "\n",
    "* insufficient funds that make the patients shy away from the services. This might be improved by discussion from within. Like how you can provide discounts, offers and coupons. \n",
    "* Patients who receive their first service quickly might not have enough time to build trust with the hospital or fully understand the value of MH infusions.\n",
    "* Those who take longer before the first service may have a stronger commitment to the treatment plan, possibly due to pre-existing relationships or extended education on the importance of the therapy. \n",
    "* Patients who take longer to get their first service may have more severe or complex conditions, requiring ongoing attention and more MH infusions.\n",
    "* Patients with delayed first services might have proactively worked around scheduling constraints, showing a higher level of personal initiative to stay engaged. This is mainly for the all-time patients who have built a rapport with the hospital/facility.\n",
    "* Patients receiving prompt first services may not experience sufficient follow-up or reminders to continue care.(**This is an idea that I will investigate later**- number of follow-ups over time)\n",
    "\n",
    "<span style=\"color: orange;\">**Recomendations**</span> \n",
    "\n",
    "- Will provide recommendations later "
   ]
  },
  {
   "cell_type": "markdown",
   "id": "6182b7b2",
   "metadata": {},
   "source": [
    "The days between successive visits and MHinfusions were also analyzed.\n",
    "\n",
    "![image](/home/the-ape/CurrentProjects/upwork/CambridgeBiotherapies/infusion-volume-analysis/images/overall_MHinfusions_delays_trend.png)\n",
    "![image](../images/overall_MHinfusions_delays_trend.png)\n",
    "\n",
    "There was a gradual increase in delays between MH infusions. The situation became more clear in the beginning of 2024. MH infusions were delayed below 10 days in the beginning (2017-2018) and it increased to approximately 30 days on average in 2024. Before we dig into insights and provide recommendations, we should ask, \"Did this happen in Cambridge alone or the situation went across all facilities? **What if we compared Cambridge and other facilities?**\n",
    "\n",
    "Lets focus this on Cambridge facilities\n",
    "\n",
    "![image](/home/the-ape/CurrentProjects/upwork/CambridgeBiotherapies/infusion-volume-analysis/images/cambridge_MHinfusions_delays_trend.png)\n",
    "![image](../images/cambridge_MHinfusions_delays_trend.png)\n",
    "\n",
    "In the beginning of 2024 there is a sharp notable increase in successive MH infusion delays. The was flat(constant) with seasonal oscillations but in 2024 it started increasing in Cambridge. Lets check the performance in other facilities. \n",
    "\n",
    "![image](/home/the-ape/CurrentProjects/upwork/CambridgeBiotherapies/infusion-volume-analysis/images/other_MHinfusions_delays_trend.png)\n",
    "![image](../images/other_MHinfusions_delays_trend.png)\n",
    "\n",
    "There is a flat trend before 2024 and the situation becomes unstable at the onset of 2024 with very high delays and low delays (as beginning)\n",
    "\n",
    "Lets not now focus on MH infusions alone. We will check how the situation goes across all the services offered. Are the delays increasing or decreasing between all successive services?\n",
    "\n",
    "![image](/home/the-ape/CurrentProjects/upwork/CambridgeBiotherapies/infusion-volume-analysis/images/days_since_last_visit_trend.png)\n",
    "![image](../images/days_since_last_visit_trend.png)\n",
    "\n",
    "From the line chart above there is a flat trend with a gradual increase  in delays over time. Unlike the MH infusions, the situation here is stable. \n",
    "\n",
    "- Cause --> increase in people who need services has affected scheduling of appointments. Therefore is increase in the overall delay thereby reduction of MH infusions over time. \n",
    "\n",
    "**Questions to ask**\n",
    "Following this analysis of delay days since intake and successive services(especially between MHinfusion and other services). We need to get this points clear. \n",
    "\n",
    "* Are the increasing costs(results from previous analysis) driving away patients? \n",
    "* Are there no enough expertise to work on MH infusions. \n",
    "* Are there any follow-ups for patients to check on their progress? (**to be investigated**)\n",
    "* Are there any ethical standards breached. \n",
    "* Did the patients understand the importance of Infusions \n",
    "* Are there any negative side effects after the services(due to inexpertise) that make the patients consider fewer infusions. \n",
    "* Has the MH infusions become more effective that the patients need less and less to be effective? (which is positive)"
   ]
  },
  {
   "cell_type": "markdown",
   "id": "c9c935aa",
   "metadata": {},
   "source": [
    "### Visits outside Cambridge\n",
    "\n",
    "Lets focus on those who had their intake in Cambridge\n",
    "\n",
    "![image](/home/the-ape/CurrentProjects/upwork/CambridgeBiotherapies/infusion-volume-analysis/images/cambridge_visits_outside_cambridge.png)\n",
    "![image](../images/cambridge_visits_outside_cambridge.png)\n",
    "\n",
    "It is evident from the bar chart that there is a general increase in number of patients who received services outside Cambridge after mid 2023. 2024 patients(Cambridge intakes) took the lead(an average of atleast 1 MH infusion) while late 2023 patients took the lead in number of overall services(an average of aproximately 2 services). Lets find how it differs with the non Cambridge intakes.  \n",
    "\n",
    "![image](/home/the-ape/CurrentProjects/upwork/CambridgeBiotherapies/infusion-volume-analysis/images/other_visits_outside_cambridge.png)\n",
    "![image](../images/other_visits_outside_cambridge.png)\n",
    "\n",
    "For those patients who enrolled in the facilities outside Cambridge had an increasing number of MH infusion and services in general in their facilities. \"All-time\" patients took the lead followed by late 2023, 2024 patients wile before mid-2023 was the least. The patients after 2023 took at least 3 MH infusions on average outside Cambridge. "
   ]
  },
  {
   "cell_type": "markdown",
   "id": "3ab3c285",
   "metadata": {},
   "source": [
    "### Campaigns and Conversions trends\n",
    "\n"
   ]
  },
  {
   "cell_type": "code",
   "execution_count": null,
   "id": "4e1b2619",
   "metadata": {},
   "outputs": [],
   "source": []
  },
  {
   "cell_type": "markdown",
   "id": "20a6cd13",
   "metadata": {},
   "source": [
    "# CONCLUSION"
   ]
  },
  {
   "cell_type": "code",
   "execution_count": null,
   "id": "9bf0bcce",
   "metadata": {},
   "outputs": [],
   "source": [
    "**Remember to do percentage of visits outside Cambridge**"
   ]
  }
 ],
 "metadata": {
  "kernelspec": {
   "display_name": "Python 3 (ipykernel)",
   "language": "python",
   "name": "python3"
  },
  "language_info": {
   "codemirror_mode": {
    "name": "ipython",
    "version": 3
   },
   "file_extension": ".py",
   "mimetype": "text/x-python",
   "name": "python",
   "nbconvert_exporter": "python",
   "pygments_lexer": "ipython3",
   "version": "3.11.5"
  }
 },
 "nbformat": 4,
 "nbformat_minor": 5
}
