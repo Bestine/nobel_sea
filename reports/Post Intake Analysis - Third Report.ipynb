{
 "cells": [
  {
   "cell_type": "markdown",
   "id": "65d28e40",
   "metadata": {},
   "source": [
    "# **INTRODUCTION**"
   ]
  },
  {
   "cell_type": "markdown",
   "id": "ca41c4f0",
   "metadata": {},
   "source": [
    "Previously, we conducted a regression analysis on MH infusion trends, overall appointments, and payment patterns. One key finding was that rising service costs contributed to the decline in MH infusions. This time, we’re shifting our focus to what happens after intake (post-intake) and the intake process itself.\n",
    "\n",
    "The goal of this analysis is to understand how patients and facilities interact after intake, including visit frequency, service delays, and facility changes. We’ll also examine these trends over time. By identifying patterns, we aim to uncover the factors behind the steep decline in MH infusions and provide actionable insights for improvement.\n",
    "\n",
    "**Objectives**\n",
    "\n",
    "Before diving into the analysis, here are the key questions we sought to answer:\n",
    "\n",
    "- How long does it take patients to receive their first service after intake?\n",
    "- What’s the waiting time for patients to receive their first MH infusion post-intake?\n",
    "- How frequent are follow-up services, and are there any delays contributing to the MH infusion decline, especially since mid-2023?\n",
    "- Are patients opting for facilities outside Cambridge after intake?\n",
    "- Are campaigns and conversions effective, as indicated by the number of intakes over time?\n",
    "- How many MH infusions do patients undergo, and how do these figures vary across segments and facility locations?\n",
    "- Are doctors or staff following up with patients to monitor progress or remind them about medication?"
   ]
  },
  {
   "cell_type": "markdown",
   "id": "c4cf372c",
   "metadata": {},
   "source": [
    "# **EXPLANATORY DATA ANALYSIS**\n",
    "## **Data Preparation**"
   ]
  },
  {
   "cell_type": "markdown",
   "id": "5cc5d6a8",
   "metadata": {},
   "source": [
    "To ensure the success of this project, we utilized two datasets: `seen_df` and post-intake data. The following steps were taken during the data preparation process:\n",
    "\n",
    "- **Refining** `seen_df`**:** This dataset was filtered to include only successful appointments.\n",
    "- **Feature Extraction:** Key features from the datasets were used to build the post-intake data, including:\n",
    "\n",
    "    - First service after enrollment\n",
    "    - First service after intake\n",
    "    - Days after intake\n",
    "    - Days between MH infusion and intake\n",
    "    - Number of visits\n",
    "    - Number of MH infusions\n",
    "    - Number of MH infusions outside Cambridge\n",
    "    - Number of visits outside Cambridge\n",
    "    \n",
    "- **Cleaning the Data:** Records with missing values or duplicates were removed where necessary.\n",
    "- **Patient Segmentation:** Patients were categorized into four segments: `all-time`, `before_mid2023`, `late-2023`, and `2024` patients."
   ]
  },
  {
   "cell_type": "markdown",
   "id": "d2ffd6ec",
   "metadata": {},
   "source": [
    "## **Data Analysis**\n",
    "### *Post-intake Delays*"
   ]
  },
  {
   "cell_type": "markdown",
   "id": "b5f778d6",
   "metadata": {},
   "source": [
    "We examined the time (in days) it took for patients to receive their first service after intake. To uncover trends, the spread and distribution of these delays were visualized using boxplots, which were further broken down by patient segments and compared between patients admitted to facilities inside and outside Cambridge.\n",
    "\n",
    "![](/home/the-ape/CurrentProjects/upwork/CambridgeBiotherapies/infusion-volume-analysis/images/post-intake/services-boxplot.png)\n",
    "![](../images/post-intake/services-boxplot.png)\n",
    "\n",
    "Lets compute the average and standard deviation and compare again ...\n",
    "\n",
    "![](/home/the-ape/CurrentProjects/upwork/CambridgeBiotherapies/infusion-volume-analysis/images/post-intake/services-barplot.png)\n",
    "![](../images/post-intake/services-barplot.png)\n",
    "\n",
    "Building on earlier time series analyses, we noted a sharp decline in MH infusions starting mid-2023, with the situation deteriorating further in 2024, particularly at Cambridge facilities. The findings, insights, and recommendations are therefore centered around this timeframe.\n",
    "\n",
    "**Findings**\n",
    "\n",
    "- Patients in the late 2023 category experienced the shortest delays post-intake. This is likely because their observation period only spanned six months.\n",
    "- Patients in the 2024 category had longer delays compared to those in the \"before mid-2023\" category (for facilities outside Cambridge). It's important to note that 2024 patients were observed for less than a year, whereas the earlier category spanned over five years.\n",
    "- Among Cambridge intakes, the \"all-time\" category exhibited the longest delays, followed by the \"before mid-2023\" and \"2024\" categories.\n",
    "Across all facilities, the \"all-time\" patients faced the most significant delays before receiving their first post-intake service."
   ]
  },
  {
   "cell_type": "markdown",
   "id": "cbde816f",
   "metadata": {},
   "source": [
    "### *Post Intake MH Infusion Delays*"
   ]
  },
  {
   "cell_type": "markdown",
   "id": "5963f8fa",
   "metadata": {},
   "source": [
    "The earlier analysis was extended to explore the delay (in days) between a patient's intake and their first MH infusion.\n",
    "\n",
    "![](/home/the-ape/CurrentProjects/upwork/CambridgeBiotherapies/infusion-volume-analysis/images/post-intake/MHinfusion-boxplot.png)\n",
    "![](../images/post-intake/MHinfusion-boxplot.png)\n",
    "\n",
    "Lets repeat the same with bar\n",
    "\n",
    "![](/home/the-ape/CurrentProjects/upwork/CambridgeBiotherapies/infusion-volume-analysis/images/post-intake/MHinfusion-barplot.png)\n",
    "![](../images/post-intake/MHinfusion-barplot.png)\n",
    "\n",
    "**Findings**\n",
    "\n",
    "- Patients admitted at Cambridge facilities experienced significantly longer waiting periods for their first MH infusion compared to those at facilities in other cities.\n",
    "- Among all categories, patients who joined in 2024 (Cambridge intake) had the longest delays in receiving their first MH infusion.\n",
    "- Late 2023 patients had the shortest waiting period. Given their service span of only six months (from July to December), it is unlikely for them to have experienced longer delays.\n",
    "\n",
    "Overall, the time patients waited for their first MH infusion after intake is almost identical to the time taken for their first post-intake service of any kind. To confirm this, we examined whether MH infusions constituted the majority of post-intake services.\n",
    "\n",
    "![](/home/the-ape/CurrentProjects/upwork/CambridgeBiotherapies/infusion-volume-analysis/images/post-intake/services-piechart.png)\n",
    "![](../images/post-intake/services-piechart.png)\n",
    "\n",
    "The pie chart illustrates that MH infusions accounted for approximately 74% of all services delivered after intake. This explains why the patterns for delays in first post-intake services and MH infusions are nearly identical."
   ]
  },
  {
   "cell_type": "markdown",
   "id": "f66d5dcd",
   "metadata": {},
   "source": [
    "### **Service Delay Dynamics**"
   ]
  },
  {
   "cell_type": "markdown",
   "id": "fb6f4ab3",
   "metadata": {},
   "source": [
    "We took a closer look at the time gaps between patients' successive visits and MH infusions, and here’s what stood out:\n",
    "\n",
    "![](/home/the-ape/CurrentProjects/upwork/CambridgeBiotherapies/infusion-volume-analysis/images/post-intake/overall_MHinfusions_delays_trend.png)\n",
    "![](../images/post-intake/overall_MHinfusions_delays_trend.png)\n",
    "\n",
    "Over time, delays between MH infusions have gradually increased. Back in 2017-2018, these delays averaged under 10 days, but by 2024, the wait time had jumped to around 30 days. The trend became particularly clear starting in early 2024.\n",
    "\n",
    "This raised the question: *Was this just happening in Cambridge facilities, or was it a trend across all locations?*\n",
    "\n",
    "Lets focus on the Cambridge facilities first \n",
    "\n",
    "![](/home/the-ape/CurrentProjects/upwork/CambridgeBiotherapies/infusion-volume-analysis/images/post-intake/cambridge_MHinfusions_delays_trend.png)\n",
    "![](../images/post-intake/cambridge_MHinfusions_delays_trend.png)\n",
    "\n",
    "In Cambridge, there was a significant spike in delays at the beginning of 2024. Before this, delays were relatively stable with minor seasonal variations. Interestingly, the trend for Cambridge facilities mirrors the overall trend in appointments.\n",
    "\n",
    "Now lets how other facilities performed;\n",
    "\n",
    "![](/home/the-ape/CurrentProjects/upwork/CambridgeBiotherapies/infusion-volume-analysis/images/post-intake/other_MHinfusions_delays_trend.png)\n",
    "![](../images/post-intake/other_MHinfusions_delays_trend.png)\n",
    "\n",
    "Outside Cambridge, the delays showed a flatter trend before 2024. However, once 2024 began, the delays became unpredictable, swinging between unusually high and low intervals.\n",
    "\n",
    "We also examined delays across all types of services to see if the trend was specific to MH infusions or a broader issue.\n",
    "\n",
    "![](/home/the-ape/CurrentProjects/upwork/CambridgeBiotherapies/infusion-volume-analysis/images/post-intake/days_since_last_visit_trend.png)\n",
    "![](../images/post-intake/days_since_last_visit_trend.png)\n",
    "\n",
    "For all services combined, delays showed a steady increase over time but remained relatively stable compared to MH infusions.\n",
    "\n",
    "<span style=\"color: orange;\">**Insight:**</span> An increase in demand for services seems to have strained appointment scheduling, leading to longer wait times for MH infusions and other services.\n",
    "\n",
    "This very analysis raised important questions;\n",
    "\n",
    "- Are rising service costs discouraging patients from seeking care?\n",
    "- Is there a shortage of staff skilled in providing MH infusions?\n",
    "- Are there follow-up systems in place to ensure patients stick to their treatment plans?(will investigate this later on the analysis)\n",
    "- Do patients fully understand the benefits of MH infusions?\n",
    "- Could there be side effects or inadequate care impacting patient confidence in the service?\n",
    "- Could it be that MH infusions are now more effective, requiring fewer sessions to achieve the desired results?(positive on the long-term)"
   ]
  },
  {
   "cell_type": "markdown",
   "id": "ba399c2e",
   "metadata": {},
   "source": [
    "### *Visits and MH Infusions Outside Cambridge*"
   ]
  },
  {
   "cell_type": "markdown",
   "id": "6437c61d",
   "metadata": {},
   "source": [
    "Let’s dive into the trends for patients who had their intake in Cambridge.\n",
    "\n",
    "![](/home/the-ape/CurrentProjects/upwork/CambridgeBiotherapies/infusion-volume-analysis/images/post-intake/cambridge_visits_outside_cambridge.png)\n",
    "![](../images/post-intake/cambridge_visits_outside_cambridge.png)\n",
    "\n",
    "The bar chart reveals a notable rise in the number of patients seeking services outside Cambridge after mid-2023. Among these, patients from 2024 led the pack, averaging at least one MH infusion outside Cambridge. Meanwhile, late 2023 patients stood out in terms of overall services, averaging approximately two services. Now, let’s see how this compares to those who had their intake outside Cambridge.\n",
    "\n",
    "![](/home/the-ape/CurrentProjects/upwork/CambridgeBiotherapies/infusion-volume-analysis/images/post-intake/other_visits_outside_cambridge.png)\n",
    "![](../images/post-intake/other_visits_outside_cambridge.png)\n",
    "\n",
    "For patients who enrolled in facilities outside Cambridge, there was a steady increase in both MH infusions and overall services within their respective facilities. \"All-time\" patients topped the chart, followed by late 2023 and 2024 patients, with the \"before mid-2023\" category trailing behind. Notably, post-2023 patients averaged at least three MH infusions outside Cambridge."
   ]
  },
  {
   "cell_type": "markdown",
   "id": "0a68f6fd",
   "metadata": {},
   "source": [
    "### *Campaigns and Conversion Trends*"
   ]
  },
  {
   "cell_type": "markdown",
   "id": "5f8c0414",
   "metadata": {},
   "source": [
    "**Are the campaigns working?**\n",
    "\n",
    "To figure out if the campaigns are attracting new patients, we looked at the number of intakes over time.\n",
    "\n",
    "![](/home/the-ape/CurrentProjects/upwork/CambridgeBiotherapies/infusion-volume-analysis/images/post-intake/cambridge-daily-intakes-trend.png)\n",
    "![](../images/post-intake/cambridge-daily-intakes-trend.png)\n",
    "\n",
    "From the data, Cambridge facilities showed a steady climb in daily intakes over time, starting from none and reaching a healthy flow of patients each day. Unfortunately, this promising growth hit a wall in late 2023. Intakes began declining, and the once-positive trend reversed.\n",
    "\n",
    "Here are some things that might need a closer look:\n",
    "\n",
    "- How consistent are the campaigns? Are they happening often enough?\n",
    "- Is the team responsible for outreach (perhaps a health-focused name like \"Wellness Advisors\") skilled and experienced?\n",
    "- Did competitors establish their presence around the same time the trend slowed?\n",
    "- Are there incentives like coupons or referral bonuses for new and returning patients? (Though we’d need to confirm this aligns with medical ethics.)\n",
    "- Are there sufficient mental health awareness initiatives targeting the Cambridge area?\n",
    "\n",
    "**What about facilities outside Cambridge?**\n",
    "\n",
    "Let’s shift focus to how non-Cambridge facilities compare.\n",
    "\n",
    "![](/home/the-ape/CurrentProjects/upwork/CambridgeBiotherapies/infusion-volume-analysis/images/post-intake/non-cambridge-daily-intakes-trend.png)\n",
    "![](../images/post-intake/non-cambridge-daily-intakes-trend.png)\n",
    "\n",
    "Here, the trend is a lot less predictable. Intakes seem to fluctuate, sometimes hitting zero and bouncing between one or two patients. It’s possible these facilities primarily handle referrals when Cambridge has challenges like transportation issues, flooding, or a lack of specialists.\n",
    "\n",
    "**Questions Worth Asking**\n",
    "\n",
    "- Have there been changes to how patients learn about your services?\n",
    "- Is the website’s SEO optimized to reach the right audience? If yes, is it actually working? Geo-targeting might help.\n",
    "- Are referral programs in place? Conducting a Pirate Metrics (AARRR) analysis for both the website and facilities might uncover gaps.\n",
    "- Was there a change in consultation or admission fees that could impact intakes?\n",
    "- Are patients leaning more toward insurance due to rising healthcare costs? If so, are there restrictions on using insurance at these facilities that could be driving patients away?\n"
   ]
  },
  {
   "cell_type": "markdown",
   "id": "d46053b0",
   "metadata": {},
   "source": [
    "### *Follow-Up Trends*"
   ]
  },
  {
   "cell_type": "markdown",
   "id": "7ef582de",
   "metadata": {},
   "source": [
    "We analyzed the average daily follow-ups over time, and here’s what we found:\n",
    "\n",
    "![](/home/the-ape/CurrentProjects/upwork/CambridgeBiotherapies/infusion-volume-analysis/images/post-intake/cambridge-follow-ups-trend.png)\n",
    "![](../images/post-intake/cambridge-follow-ups-trend.png)\n",
    "\n",
    "In Cambridge, follow-ups gradually increased until mid-2023 when there was a slight dip, followed by a flat trend. However, things took a sharp turn in mid-2024, with follow-ups rapidly decreasing.\n",
    "\n",
    "How does this compare to facilities outside Cambridge?\n",
    "\n",
    "![](/home/the-ape/CurrentProjects/upwork/CambridgeBiotherapies/infusion-volume-analysis/images/non-cambridge-follow-ups-trend.png)\n",
    "![](../images/non-cambridge-follow-ups-trend.png)\n",
    "\n",
    "**Questions worth asking**\n",
    "\n",
    "- Are staff losing motivation to follow up due to poor or no response from patients?\n",
    "- Does the facility still maintain accurate and up-to-date contact information for patients?\n",
    "- Have there been any staffing changes that might have disrupted the follow-up process?\n",
    "\n",
    "These points need further investigation to understand and address the decline in follow-ups."
   ]
  },
  {
   "cell_type": "markdown",
   "id": "2d6582b0",
   "metadata": {},
   "source": [
    "# **EXECUTIVE SUMMARY**"
   ]
  },
  {
   "cell_type": "markdown",
   "id": "77f79ce8",
   "metadata": {},
   "source": [
    "This report dives into the trends and challenges surrounding post-intake service delivery, patient engagement, and operational dynamics across Cambridge and non-Cambridge facilities. By analyzing intake patterns, service trends, and follow-up consistency, we’ve uncovered key insights that highlight areas of concern and opportunities for growth.\n",
    "\n",
    "<span style=\"color: orange;\">**Key Insights**</span>\n",
    "\n",
    "**Delays in Service Delivery:**\n",
    "\n",
    "Cambridge facilities are grappling with prolonged post-intake delays, especially for MH infusions. The 2024 cohort faced the brunt of these delays, contributing to dissatisfaction and a notable drop in service rates.\n",
    "\n",
    "**Reliance on MH Infusions:**\n",
    "\n",
    "MH infusions dominate post-intake services, making up 74% of all services. This underscores their central role in patient care but also reveals potential over-reliance on a single service type.\n",
    "\n",
    "**Shifts to Non-Cambridge Facilities:**\n",
    "\n",
    "Since mid-2023, there has been an increasing trend of patients seeking MH infusions and other services outside Cambridge. This shift could indicate growing dissatisfaction with Cambridge facilities due to delays, costs, or perceived quality issues.\n",
    "\n",
    "**Decline in Intakes and Follow-Ups:** Intake trends in Cambridge, which once showed steady growth, began to stagnate and decline in late 2023. Additionally, follow-up rates dropped sharply in mid-2024, signaling a breakdown in patient engagement and operational consistency.\n",
    "\n",
    "<span style=\"color: orange;\">**Recommendations**</span>\n",
    "\n",
    "**Streamline Cambridge Operations:** Investigate and resolve operational bottlenecks contributing to delays, particularly in MH infusions. Enhance resource allocation and staffing levels to ensure timely service delivery.\n",
    "\n",
    "**Boost Patient Engagement and Retention:** Launch targeted campaigns emphasizing service quality and addressing patient concerns. Consider transportation support, financial incentives, or awareness programs to build trust and loyalty.\n",
    "\n",
    "**Address Shifts to Non-Cambridge Facilities:** Survey patients to understand their reasons for seeking services elsewhere. Optimize appointment scheduling and service delivery to make Cambridge a more attractive option.\n",
    "\n",
    "**Strengthen Follow-Up Processes:** Train staff and introduce morale-boosting incentives to ensure proactive and effective follow-ups. Audit patient data to maintain accurate contact details and establish standardized follow-up protocols.\n",
    "\n",
    "**Leverage Digital Strategies:** Enhance SEO and implement geo-targeted campaigns to attract the right audience.\n",
    "Introduce referral or incentive programs to drive engagement, adhering to ethical guidelines.\n",
    "\n",
    "By addressing these challenges and leveraging the outlined recommendations, the Cambridge facilities can not only improve patient satisfaction and retention but also position themselves as leaders in mental health service delivery.\n",
    "\n"
   ]
  }
 ],
 "metadata": {
  "kernelspec": {
   "display_name": "Python 3 (ipykernel)",
   "language": "python",
   "name": "python3"
  },
  "language_info": {
   "codemirror_mode": {
    "name": "ipython",
    "version": 3
   },
   "file_extension": ".py",
   "mimetype": "text/x-python",
   "name": "python",
   "nbconvert_exporter": "python",
   "pygments_lexer": "ipython3",
   "version": "3.11.5"
  }
 },
 "nbformat": 4,
 "nbformat_minor": 5
}
