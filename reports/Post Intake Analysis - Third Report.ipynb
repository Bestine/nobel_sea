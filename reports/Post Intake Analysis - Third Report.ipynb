{
 "cells": [
  {
   "cell_type": "markdown",
   "id": "8f1f1df2",
   "metadata": {},
   "source": [
    "# INTRODUCTION "
   ]
  },
  {
   "cell_type": "markdown",
   "id": "fcfaccdc",
   "metadata": {},
   "source": [
    "Recently we did the regression analysis on MH infusion and overall appointment trends, and payment analysis. We noticed that one of the issues that led to the drop of MH infusion was increase in the pricing of services. This time we are focusing on what happened after intake(post-intake) and the intake process itself.\n",
    "\n",
    "The aim of this project is to find how the patients and the facilities interacted after intake like the frequency of visiting, delay of services and change of health facility. Also, the results will be checked against time. All these, will enable to find patterns that can explain a steep decline of MH infusion and provide actionable insights\n",
    "\n",
    "**Objectives**\n",
    "\n",
    "Here are the questions that were asked before conducting the analysis; \n",
    "\n",
    "- How the long did it take the patients to receive their first service after intake?\n",
    "- How the long did it take the patients to receive their first MH infusion after intake?\n",
    "- How many days did it take to get the succeeding service? Are there any delays that are connected with MH infusion drop? (Delays increasing or reducing rapidly since mid of 2023). \n",
    "- Are patients preferring other facilities outside Cambridge after their intake?\n",
    "- Are there enough campaigns and conversions? This will be determine by the number of intakes over time. \n",
    "- How many MH infusions do patients take? Compare by their segments and facility city\n"
   ]
  },
  {
   "cell_type": "markdown",
   "id": "98372f87",
   "metadata": {},
   "source": [
    "# EXPLANATORY DATA ANALYSIS \n",
    "## Data Preparation "
   ]
  },
  {
   "cell_type": "code",
   "execution_count": null,
   "id": "12af01d5",
   "metadata": {},
   "outputs": [],
   "source": []
  },
  {
   "cell_type": "markdown",
   "id": "1fd03d5a",
   "metadata": {},
   "source": [
    "## Data Visualization"
   ]
  },
  {
   "cell_type": "code",
   "execution_count": null,
   "id": "73a15d01",
   "metadata": {},
   "outputs": [],
   "source": []
  },
  {
   "cell_type": "code",
   "execution_count": null,
   "id": "be80ca9d",
   "metadata": {},
   "outputs": [],
   "source": []
  },
  {
   "cell_type": "markdown",
   "id": "74038b7e",
   "metadata": {},
   "source": [
    "# CONCLUSION"
   ]
  },
  {
   "cell_type": "code",
   "execution_count": null,
   "id": "c7f2da31",
   "metadata": {},
   "outputs": [],
   "source": []
  }
 ],
 "metadata": {
  "kernelspec": {
   "display_name": "Python 3 (ipykernel)",
   "language": "python",
   "name": "python3"
  },
  "language_info": {
   "codemirror_mode": {
    "name": "ipython",
    "version": 3
   },
   "file_extension": ".py",
   "mimetype": "text/x-python",
   "name": "python",
   "nbconvert_exporter": "python",
   "pygments_lexer": "ipython3",
   "version": "3.11.5"
  }
 },
 "nbformat": 4,
 "nbformat_minor": 5
}
