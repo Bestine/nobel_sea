{
 "cells": [
  {
   "cell_type": "markdown",
   "id": "a01c87f3",
   "metadata": {},
   "source": [
    "# INTRODUCTION"
   ]
  },
  {
   "cell_type": "markdown",
   "id": "7d3922ec",
   "metadata": {},
   "source": [
    "In recent times, a detailed regression analysis on appointment trends revealed a significant drop in the rate of MH infusion appointments starting from mid-2023, with the decline becoming more pronounced by early 2024. This observation raised concerns about the potential causes of this trend, particularly whether pricing changes might have contributed to patients discontinuing their services.\n",
    "\n",
    "The primary goal of this project was to investigate the relationship between payments and patient retention to determine if changes in cost played a role in patient churn. By analyzing patient payment data and appointment records, we aimed to identify patterns that could explain the steep decline in MH infusion rates and provide actionable insights.\n",
    "\n",
    "**Objectives**\n",
    "\n",
    "This project sought to address the following specific questions:\n",
    "\n",
    "- Did the cost of services directly contribute to patient churn?\n",
    "- What was the rate of patient retention over time, and how did it vary across different patient groups?\n",
    "- Was the increase in service costs the primary driver of patient churn?\n",
    "\n",
    "The findings from this analysis will help uncover the underlying factors influencing patient behavior and provide recommendations for addressing any pricing-related issues that may be affecting retention. Additionally, the insights will guide further exploration into broader economic and operational factors impacting service delivery and patient satisfaction."
   ]
  },
  {
   "cell_type": "markdown",
   "id": "4d1e66df",
   "metadata": {},
   "source": [
    "# EXPLANATORY DATA ANALYSIS "
   ]
  },
  {
   "cell_type": "markdown",
   "id": "b39b4a87",
   "metadata": {},
   "source": [
    "## Data Preparation"
   ]
  },
  {
   "cell_type": "markdown",
   "id": "06889fef",
   "metadata": {},
   "source": [
    "Before diving into the analysis, the data underwent some careful cleaning and organization to ensure accuracy. Here’s what was done:\n",
    "\n",
    "1. **Removed an irrelevant record:** The very first record was inaccurate and unnecessary, so it was excluded from the analysis.\n",
    "2. **Standardized appointment statuses:** To keep things consistent, all \"Made\" appointments were categorized as \"Seen,\" focusing only on successful appointments for analysis.\n",
    "3. **Cleaned up patient IDs:** Any extra spaces in chart numbers were removed, and all IDs were converted to a consistent format for easy comparison between the appointments and patient lifetime datasets.\n",
    "4. **Formatted dates:** Dates across the datasets were standardized into a recognizable format for smoother processing.\n",
    "\n",
    "With these steps, the data was ready for the next stage—analyzing patient payments over time. Additional adjustments may be made as needed during the analysis process."
   ]
  },
  {
   "cell_type": "markdown",
   "id": "c2b0a878",
   "metadata": {},
   "source": [
    "## Data Analysis and Visualization"
   ]
  },
  {
   "cell_type": "markdown",
   "id": "840e49b4",
   "metadata": {},
   "source": [
    "**Ideas for Analysis**\n",
    "\n",
    "To uncover meaningful insights, the data was segmented into the following patient groups:\n",
    "\n",
    "- **Patients Before Mid-2023:** Those who concluded their services before mid-2023 (`patients_before_mid2023`).\n",
    "- **Late 2023 Patients:** Those who began their services after mid-2023 but concluded before 2024 (`patients_late_2023`).\n",
    "- **All-Time Patients:** Those whose services spanned from before mid-2023 and continued into 2024 (`all_time_patients`).\n",
    "- **2024 Patients**: Those whose services occurred exclusively in 2024 (`patients_2024`). This group is especially crucial as the MH infusion drop was observed to steepen in 2024.\n",
    "\n",
    "The analysis aims to explore the following areas:\n",
    "\n",
    "- The role of insurance and its offerings to patients.\n",
    "- The proportion of expenses covered by insurance versus the amount paid out-of-pocket by patients.\n",
    "- The total cost incurred by patients for their services.\n",
    "- Pay-per-visit trends, focusing specifically on successful appointments.\n",
    "\n",
    "By breaking down the data in this way, the goal is to identify patterns and uncover any potential links between costs and patient behavior."
   ]
  },
  {
   "cell_type": "markdown",
   "id": "b8816df8",
   "metadata": {},
   "source": [
    "### Insurance Analysis "
   ]
  },
  {
   "cell_type": "markdown",
   "id": "fbd7cf84",
   "metadata": {},
   "source": [
    "Upon reviewing the insurance data, it was found that approximately 80% of the entries were missing. Due to this significant gap, a meaningful analysis of insurance contributions was not possible.\n",
    "\n",
    "As a result, the focus has shifted to analyzing the amount paid directly by each patient, which provides a clearer and more complete picture of the financial aspect of the services."
   ]
  },
  {
   "cell_type": "markdown",
   "id": "acb8da86",
   "metadata": {},
   "source": [
    "### Payment Analysis"
   ]
  },
  {
   "cell_type": "markdown",
   "id": "738d049b",
   "metadata": {},
   "source": [
    "This phase focused on uncovering meaningful insights into the amounts paid by patients, looking for trends, patterns, and any potential impact on customer retention.\n",
    "\n",
    "The goal was to understand if payment structures or costs may have contributed to the changes observed in MH infusion rates. \n",
    "\n",
    "To ensure a clear approach, a few assumptions were made:\n",
    "\n",
    "- All services were charged at the same rate(Including MH infusion).\n",
    "- Canceled appointments were not invoiced, so they are excluded from the payment analysis.\n"
   ]
  },
  {
   "cell_type": "markdown",
   "id": "0b24d7ab",
   "metadata": {},
   "source": [
    "After inspecting the completeness of the total payment variable in the PLP data set, only 3% of the patient payment data is missing, allowing us to proceed with the analysis."
   ]
  },
  {
   "cell_type": "markdown",
   "id": "baccbd57",
   "metadata": {},
   "source": [
    "**Distribution of payments**"
   ]
  },
  {
   "cell_type": "markdown",
   "id": "fb5df07a",
   "metadata": {},
   "source": [
    "A distribution in data refers to how values are spread or arranged within a dataset. It provides insight into the frequency or likelihood of different outcomes or measurements occurring.\n",
    "\n",
    "In this analysis, we plotted distribution plot(blend of histogram and density plot) to show the distribution of the total payment per patients in each category. "
   ]
  },
  {
   "cell_type": "markdown",
   "id": "6834183b",
   "metadata": {},
   "source": [
    "![image](/home/the-ape/CurrentProjects/upwork/CambridgeBiotherapies/infusion-volume-analysis/images/total_payment_histogram.png)\n",
    "![](../images/total_payment_histogram.png)"
   ]
  },
  {
   "cell_type": "markdown",
   "id": "41ea1607",
   "metadata": {},
   "source": [
    "From the distribution plot above, we can draw the following conclusions:\n",
    "\n",
    "* While all categories exhibit a similar shape of distribution, all-time patients (those who have been receiving services since before mid-2023 and continued through 2024) recorded the highest total payments for their services.\n",
    "* The majority of `all-time patients` made total payments ranging between $10,000 and $20,000.\n",
    "* Patients in all other categories predominantly paid below 5,000 dollars for their services.\n",
    "\n",
    "\n",
    "The dataset spans data from as far back as 2018. As a result, it can be inferred that all-time patients and those in the `before mid-2023` category have had longer service periods (up to five years), while patients in the `late mid-2023` and `2024` categories have had much shorter periods of service—approximately six months to one year. This disparity in service duration could explain why `all-time patients` had significantly higher total payments compared to the more recent patient categories. This prompted the need to delve deeper into payment patterns, leading to the idea of analyzing pay per visit(successful appointments)."
   ]
  },
  {
   "cell_type": "markdown",
   "id": "2477b409",
   "metadata": {},
   "source": [
    "The following steps will be taken to further investigate the issue of payments and uncover differences between the categories:\n",
    "\n",
    "* **Preprocess the data** to determine the actual number of visits for each patient.\n",
    "* **Calculate the pay-per-appointment** for each patient to gain a clearer understanding of individual payment patterns.\n",
    "* **Analyze the distribution** of pay-per-appointment values across all categories to identify any notable differences.\n",
    "\n",
    "<span style=\"color: orange;\">**Note:**</span> It is assumed that each successful appointment was billed at a uniform rate."
   ]
  },
  {
   "cell_type": "markdown",
   "id": "b064ec16",
   "metadata": {},
   "source": [
    "### Breakdown to pay per visit"
   ]
  },
  {
   "cell_type": "markdown",
   "id": "df599ea2",
   "metadata": {},
   "source": [
    "Before calculating pay per visit, the following preprocessing steps were performed:\n",
    "\n",
    "- Selected all successful appointments to ensure only valid data is included.\n",
    "- Aggregated the total count of successful appointments for each patient.\n",
    "- Calculated the pay per visit for each patient by dividing the total payment by the number of successful appointments.\n",
    "\n",
    "This process ensures that the pay per visit is accurately calculated for each patient."
   ]
  },
  {
   "cell_type": "markdown",
   "id": "e540f0f2",
   "metadata": {},
   "source": [
    "The chart below represents the distribution of pay per visit for patients in different times(categories)\n",
    "\n",
    "![image](/home/the-ape/CurrentProjects/upwork/CambridgeBiotherapies/infusion-volume-analysis/images/pay_per_visit_histogram.png)\n",
    "\n",
    "![](../images/pay_per_visit_histogram.png)"
   ]
  },
  {
   "cell_type": "markdown",
   "id": "f3c7e494",
   "metadata": {},
   "source": [
    "The histograms above illustrate the distribution of pay per visit for all categories. All the categories follow a normal distribution, with a slight left skew. However, most patients before 2023 paid the least. The distribution shows that patients in the \"late 2023\" and \"2024\" categories generally paid more than $600 per visit."
   ]
  },
  {
   "cell_type": "markdown",
   "id": "995f446c",
   "metadata": {},
   "source": [
    "### Summary Statistics for the payments "
   ]
  },
  {
   "cell_type": "markdown",
   "id": "f7da22e8",
   "metadata": {},
   "source": [
    "To gain a clearer understanding of the payment trends across each category, let's calculate both the median and the mean (average) pay per visit for each group"
   ]
  },
  {
   "cell_type": "markdown",
   "id": "1202fede",
   "metadata": {},
   "source": [
    "![image](/home/the-ape/CurrentProjects/upwork/CambridgeBiotherapies/infusion-volume-analysis/images/summary_bar_chart.png)\n",
    "\n",
    "![](../images/summary_bar_chart.png)"
   ]
  },
  {
   "cell_type": "markdown",
   "id": "f6021423",
   "metadata": {},
   "source": [
    "\n",
    "As evident from the bar chart, `2024 patients` had the highest pay per visit, followed by `late-2023 patients`. `Before mid-2023 patients` paid the least per visit, while `all-time patients` fell in the middle range. This can be attributed to the fact that `all-time patients` experienced both lower initial expenses and the impact of rising prices over time."
   ]
  },
  {
   "cell_type": "markdown",
   "id": "f1e35514",
   "metadata": {},
   "source": [
    "# CONCLUSION "
   ]
  },
  {
   "cell_type": "markdown",
   "id": "0638beb1",
   "metadata": {},
   "source": [
    "This analysis offers a detailed look at the changes in payments charged to different categories of patients over time, revealing important trends and insights. After careful examination of the data, the following findings were made:\n",
    "\n",
    "* Patients who visited before mid-2023 tended to pay the least per visit, with their payment amounts generally staying within a lower range.\n",
    "* Patients in the late 2023 and 2024 categories paid significantly higher amounts per visit. This indicates a clear shift in pricing over time.\n",
    "* A gradual increase in prices was observed starting from mid-2023, signaling potential changes in pricing policies or external factors that affected the cost of services.\n",
    "\n",
    "Given these findings, here are a few key areas I recommend exploring further:\n",
    "\n",
    "- Are there any hidden or additional charges that may have been introduced to patients, which might explain the increase in payments?\n",
    "- Could inflation have played a role in driving up the cost of services for patients in the later periods?\n",
    "- Were there any internal factors, such as the provision of services becoming more expensive, that contributed to the rise in payments?\n",
    "\n",
    "I also suggest investigating why 188 patients(`all-time patients`) continued to undergo treatments despite the rising costs. There could be something unique about these patients or their situations that warrants further exploration.\n",
    "\n",
    "While I have worked diligently to provide a comprehensive analysis, there were some challenges along the way. One key issue was the inability to obtain specific payment data for MH Infusion, which meant I had to assume it was priced similarly to other services in the analysis. This assumption could affect the accuracy of the findings, especially if the payment structure for MH Infusion differs.\n",
    "\n",
    "Moving forward, I will continue to refine the analysis, particularly around the MH Infusion data, and will keep you updated on any new insights that emerge. I am confident that this analysis, with a bit more data, will provide even deeper insights into the trends shaping the patient payment experience."
   ]
  }
 ],
 "metadata": {
  "kernelspec": {
   "display_name": "Python 3 (ipykernel)",
   "language": "python",
   "name": "python3"
  },
  "language_info": {
   "codemirror_mode": {
    "name": "ipython",
    "version": 3
   },
   "file_extension": ".py",
   "mimetype": "text/x-python",
   "name": "python",
   "nbconvert_exporter": "python",
   "pygments_lexer": "ipython3",
   "version": "3.11.5"
  }
 },
 "nbformat": 4,
 "nbformat_minor": 5
}
